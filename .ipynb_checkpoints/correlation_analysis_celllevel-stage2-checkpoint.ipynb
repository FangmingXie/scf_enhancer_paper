{
 "cells": [
  {
   "cell_type": "code",
   "execution_count": 1,
   "metadata": {},
   "outputs": [],
   "source": [
    "import sys\n",
    "sys.path.insert(0, \"/cndd/fangming/CEMBA/snmcseq_dev\")\n",
    "\n",
    "from multiprocessing import Pool,cpu_count\n",
    "from functools import partial\n",
    "\n",
    "from scipy import sparse\n",
    "import importlib\n",
    "from __init__ import *\n",
    "from __init__jupyterlab import *\n",
    "import snmcseq_utils\n",
    "importlib.reload(snmcseq_utils)\n",
    "\n",
    "import pickle\n",
    "import datetime"
   ]
  },
  {
   "cell_type": "markdown",
   "metadata": {},
   "source": [
    "- read enhancer-cell-matrix (mcg)\n",
    "- read gene-cell matrix (rna)\n",
    "- read kNN matrix (from previous files)\n",
    "- read enhancer-gene linkage files (from previous files)\n",
    "\n",
    "- do the analysis"
   ]
  },
  {
   "cell_type": "markdown",
   "metadata": {},
   "source": [
    "# Todo\n",
    "\n",
    "- figure out the best matrix multiplications to do\n",
    "\n",
    "- make sure the enhancer-gene linkage file match"
   ]
  },
  {
   "cell_type": "code",
   "execution_count": 21,
   "metadata": {},
   "outputs": [
    {
     "name": "stdout",
     "output_type": "stream",
     "text": [
      "2020-07-28\n"
     ]
    }
   ],
   "source": [
    "today = datetime.date.today()\n",
    "print(today)"
   ]
  },
  {
   "cell_type": "markdown",
   "metadata": {},
   "source": [
    "# correlate enhancer and gene (a new notebook)"
   ]
  },
  {
   "cell_type": "code",
   "execution_count": 3,
   "metadata": {},
   "outputs": [
    {
     "name": "stdout",
     "output_type": "stream",
     "text": [
      "1.4697158336639404\n",
      "0.8443310260772705\n",
      "(87943, 6244) (32324, 6244)\n"
     ]
    }
   ],
   "source": [
    "# load from file\n",
    "\n",
    "# save ec_mccg and gc_rna\n",
    "ti = time.time()\n",
    "f = '/cndd2/fangming/projects/scf_enhancers/results/ec_mccg_test1.pkl'\n",
    "with open(f, 'rb') as fh:\n",
    "    ec_mccg = pickle.load(fh)\n",
    "print(time.time()-ti)\n",
    "    \n",
    "ti = time.time()\n",
    "f = '/cndd2/fangming/projects/scf_enhancers/results/gc_rna_test1.pkl'\n",
    "with open(f, 'rb') as fh:\n",
    "    gc_rna = pickle.load(fh).todense()\n",
    "print(time.time()-ti)\n",
    "\n",
    "print(ec_mccg.shape, gc_rna.shape)"
   ]
  },
  {
   "cell_type": "code",
   "execution_count": 4,
   "metadata": {},
   "outputs": [
    {
     "name": "stdout",
     "output_type": "stream",
     "text": [
      "(32324, 6244)\n",
      "9.623728036880493\n"
     ]
    }
   ],
   "source": [
    "# gene-cell matrix (rna)\n",
    "\n",
    "ti = time.time()\n",
    "f = '/cndd/fangming/CEMBA/data/MOp_all/data_freeze_neurons/smarter_cells_features.npz'\n",
    "fgene = '/cndd/fangming/CEMBA/data/MOp_all/data_freeze_neurons/smarter_cells_features.gene'\n",
    "fcell = '/cndd/fangming/CEMBA/data/MOp_all/data_freeze_neurons/smarter_cells_features.cell'\n",
    "\n",
    "gene_cell_rna_mat = snmcseq_utils.load_gc_matrix(fgene, fcell, f)\n",
    "\n",
    "print(gene_cell_rna_mat.data.shape)\n",
    "print(time.time()-ti)\n"
   ]
  },
  {
   "cell_type": "code",
   "execution_count": 5,
   "metadata": {},
   "outputs": [
    {
     "name": "stdout",
     "output_type": "stream",
     "text": [
      "(2589994, 18)\n",
      "8.262771606445312\n"
     ]
    },
    {
     "data": {
      "text/html": [
       "<div>\n",
       "<style scoped>\n",
       "    .dataframe tbody tr th:only-of-type {\n",
       "        vertical-align: middle;\n",
       "    }\n",
       "\n",
       "    .dataframe tbody tr th {\n",
       "        vertical-align: top;\n",
       "    }\n",
       "\n",
       "    .dataframe thead th {\n",
       "        text-align: right;\n",
       "    }\n",
       "</style>\n",
       "<table border=\"1\" class=\"dataframe\">\n",
       "  <thead>\n",
       "    <tr style=\"text-align: right;\">\n",
       "      <th></th>\n",
       "      <th>gene</th>\n",
       "      <th>ens</th>\n",
       "      <th>val</th>\n",
       "      <th>val2</th>\n",
       "      <th>val_clustershuffled</th>\n",
       "      <th>val2_clustershuffled</th>\n",
       "      <th>dist</th>\n",
       "      <th>pvalues</th>\n",
       "      <th>fdr&lt;100kb</th>\n",
       "      <th>fdr&lt;200kb</th>\n",
       "      <th>fdr&lt;500kb</th>\n",
       "      <th>fdr&lt;100kb shuffled (cluster label)</th>\n",
       "      <th>pvalues2</th>\n",
       "      <th>fdr2&lt;100kb</th>\n",
       "      <th>fdr2&lt;200kb</th>\n",
       "      <th>fdr2&lt;500kb</th>\n",
       "      <th>fdr2&lt;100kb shuffled (cluster label)</th>\n",
       "      <th>val_both</th>\n",
       "    </tr>\n",
       "  </thead>\n",
       "  <tbody>\n",
       "    <tr>\n",
       "      <th>0</th>\n",
       "      <td>ENSMUSG00000000001</td>\n",
       "      <td>147520</td>\n",
       "      <td>-0.157895</td>\n",
       "      <td>0.127913</td>\n",
       "      <td>-0.169712</td>\n",
       "      <td>-0.049349</td>\n",
       "      <td>995118</td>\n",
       "      <td>0.288079</td>\n",
       "      <td>0.674683</td>\n",
       "      <td>0.736811</td>\n",
       "      <td>0.827139</td>\n",
       "      <td>1.647931</td>\n",
       "      <td>0.383141</td>\n",
       "      <td>0.745977</td>\n",
       "      <td>0.797076</td>\n",
       "      <td>0.872822</td>\n",
       "      <td>1.955898</td>\n",
       "      <td>-0.285808</td>\n",
       "    </tr>\n",
       "    <tr>\n",
       "      <th>1</th>\n",
       "      <td>ENSMUSG00000000001</td>\n",
       "      <td>147522</td>\n",
       "      <td>0.027465</td>\n",
       "      <td>-0.307145</td>\n",
       "      <td>0.064887</td>\n",
       "      <td>0.105591</td>\n",
       "      <td>985740</td>\n",
       "      <td>0.561881</td>\n",
       "      <td>0.830849</td>\n",
       "      <td>0.867082</td>\n",
       "      <td>0.917381</td>\n",
       "      <td>0.958300</td>\n",
       "      <td>0.935264</td>\n",
       "      <td>0.973809</td>\n",
       "      <td>0.979844</td>\n",
       "      <td>0.987476</td>\n",
       "      <td>0.959470</td>\n",
       "      <td>0.334610</td>\n",
       "    </tr>\n",
       "    <tr>\n",
       "      <th>2</th>\n",
       "      <td>ENSMUSG00000000001</td>\n",
       "      <td>147523</td>\n",
       "      <td>-0.040376</td>\n",
       "      <td>0.011489</td>\n",
       "      <td>-0.155487</td>\n",
       "      <td>0.014772</td>\n",
       "      <td>983725</td>\n",
       "      <td>0.457686</td>\n",
       "      <td>0.780196</td>\n",
       "      <td>0.825259</td>\n",
       "      <td>0.889141</td>\n",
       "      <td>1.089312</td>\n",
       "      <td>0.580703</td>\n",
       "      <td>0.841673</td>\n",
       "      <td>0.874844</td>\n",
       "      <td>0.922832</td>\n",
       "      <td>1.273339</td>\n",
       "      <td>-0.051866</td>\n",
       "    </tr>\n",
       "    <tr>\n",
       "      <th>3</th>\n",
       "      <td>ENSMUSG00000000001</td>\n",
       "      <td>147527</td>\n",
       "      <td>-0.070795</td>\n",
       "      <td>0.111719</td>\n",
       "      <td>-0.088084</td>\n",
       "      <td>0.184594</td>\n",
       "      <td>970444</td>\n",
       "      <td>0.411564</td>\n",
       "      <td>0.755088</td>\n",
       "      <td>0.804341</td>\n",
       "      <td>0.874375</td>\n",
       "      <td>1.183332</td>\n",
       "      <td>0.410358</td>\n",
       "      <td>0.761056</td>\n",
       "      <td>0.809464</td>\n",
       "      <td>0.880982</td>\n",
       "      <td>1.812516</td>\n",
       "      <td>-0.182514</td>\n",
       "    </tr>\n",
       "    <tr>\n",
       "      <th>4</th>\n",
       "      <td>ENSMUSG00000000001</td>\n",
       "      <td>147528</td>\n",
       "      <td>0.012583</td>\n",
       "      <td>0.150673</td>\n",
       "      <td>-0.036218</td>\n",
       "      <td>0.147609</td>\n",
       "      <td>969372</td>\n",
       "      <td>0.539123</td>\n",
       "      <td>0.819981</td>\n",
       "      <td>0.858026</td>\n",
       "      <td>0.911467</td>\n",
       "      <td>0.979843</td>\n",
       "      <td>0.345993</td>\n",
       "      <td>0.725803</td>\n",
       "      <td>0.780447</td>\n",
       "      <td>0.862033</td>\n",
       "      <td>2.191506</td>\n",
       "      <td>-0.138090</td>\n",
       "    </tr>\n",
       "  </tbody>\n",
       "</table>\n",
       "</div>"
      ],
      "text/plain": [
       "                 gene     ens       val      val2  val_clustershuffled  \\\n",
       "0  ENSMUSG00000000001  147520 -0.157895  0.127913            -0.169712   \n",
       "1  ENSMUSG00000000001  147522  0.027465 -0.307145             0.064887   \n",
       "2  ENSMUSG00000000001  147523 -0.040376  0.011489            -0.155487   \n",
       "3  ENSMUSG00000000001  147527 -0.070795  0.111719            -0.088084   \n",
       "4  ENSMUSG00000000001  147528  0.012583  0.150673            -0.036218   \n",
       "\n",
       "   val2_clustershuffled    dist   pvalues  fdr<100kb  fdr<200kb  fdr<500kb  \\\n",
       "0             -0.049349  995118  0.288079   0.674683   0.736811   0.827139   \n",
       "1              0.105591  985740  0.561881   0.830849   0.867082   0.917381   \n",
       "2              0.014772  983725  0.457686   0.780196   0.825259   0.889141   \n",
       "3              0.184594  970444  0.411564   0.755088   0.804341   0.874375   \n",
       "4              0.147609  969372  0.539123   0.819981   0.858026   0.911467   \n",
       "\n",
       "   fdr<100kb shuffled (cluster label)  pvalues2  fdr2<100kb  fdr2<200kb  \\\n",
       "0                            1.647931  0.383141    0.745977    0.797076   \n",
       "1                            0.958300  0.935264    0.973809    0.979844   \n",
       "2                            1.089312  0.580703    0.841673    0.874844   \n",
       "3                            1.183332  0.410358    0.761056    0.809464   \n",
       "4                            0.979843  0.345993    0.725803    0.780447   \n",
       "\n",
       "   fdr2<500kb  fdr2<100kb shuffled (cluster label)  val_both  \n",
       "0    0.872822                             1.955898 -0.285808  \n",
       "1    0.987476                             0.959470  0.334610  \n",
       "2    0.922832                             1.273339 -0.051866  \n",
       "3    0.880982                             1.812516 -0.182514  \n",
       "4    0.862033                             2.191506 -0.138090  "
      ]
     },
     "execution_count": 5,
     "metadata": {},
     "output_type": "execute_result"
    }
   ],
   "source": [
    "# enhancer-gene linkage\n",
    "ti = time.time()\n",
    "f = '/cndd2/fangming/projects/scf_enhancers/results/200521_to_evals.tsv'\n",
    "enhancer_gene_to_eval = pd.read_csv(f, sep='\\t')\n",
    "f = '/cndd2/fangming/projects/scf_enhancers/results/200521_to_evals_shuffled.tsv'\n",
    "enhancer_gene_to_eval_shuffled = pd.read_csv(f, sep='\\t')\n",
    "\n",
    "print(enhancer_gene_to_eval.shape)\n",
    "print(time.time()-ti)\n",
    "enhancer_gene_to_eval.head()"
   ]
  },
  {
   "cell_type": "code",
   "execution_count": 6,
   "metadata": {},
   "outputs": [
    {
     "name": "stdout",
     "output_type": "stream",
     "text": [
      "(1543535,) (1543535,)\n"
     ]
    }
   ],
   "source": [
    "# use ec_mccg and gc_rna\n",
    "# correlate e-g according to a e-g table\n",
    "# do the same to a shuffled e-g table\n",
    "\n",
    "gene_idx = snmcseq_utils.get_index_from_array(gene_cell_rna_mat.gene, enhancer_gene_to_eval['gene'])\n",
    "enh_idx = snmcseq_utils.get_index_from_array(ec_mccg.index.values, enhancer_gene_to_eval['ens']) # be careful here!\n",
    "\n",
    "to_correlate = ~np.logical_or(gene_idx==-1, enh_idx==-1)\n",
    "gene_idx = gene_idx[to_correlate]\n",
    "enh_idx = enh_idx[to_correlate]\n",
    "print(gene_idx.shape, enh_idx.shape)"
   ]
  },
  {
   "cell_type": "code",
   "execution_count": null,
   "metadata": {},
   "outputs": [],
   "source": [
    "# running time (45 mins)\n",
    "\n",
    "# uses large amount of memory for some reason\n",
    "ti = time.time()\n",
    "corrs = snmcseq_utils.pearsonr_paired_rows_fast(gc_rna[gene_idx], ec_mccg.values[enh_idx])\n",
    "print(time.time()-ti)"
   ]
  },
  {
   "cell_type": "markdown",
   "metadata": {},
   "source": [
    "## shuffled genes"
   ]
  },
  {
   "cell_type": "code",
   "execution_count": null,
   "metadata": {},
   "outputs": [],
   "source": [
    "gene_idx = snmcseq_utils.get_index_from_array(gene_cell_rna_mat.gene, enhancer_gene_to_eval_shuffled['gene'])\n",
    "enh_idx = snmcseq_utils.get_index_from_array(ec_mccg.index.values, enhancer_gene_to_eval_shuffled['ens']) # be careful here!\n",
    "\n",
    "to_correlate = ~np.logical_or(gene_idx==-1, enh_idx==-1)\n",
    "gene_idx = gene_idx[to_correlate]\n",
    "enh_idx = enh_idx[to_correlate]\n",
    "print(gene_idx.shape, enh_idx.shape)"
   ]
  },
  {
   "cell_type": "code",
   "execution_count": null,
   "metadata": {},
   "outputs": [],
   "source": [
    "# running time (45 mins)\n",
    "\n",
    "# uses large amount of memory for some reason\n",
    "ti = time.time()\n",
    "corrs_shuffled = snmcseq_utils.pearsonr_paired_rows_fast(gc_rna[gene_idx], ec_mccg.values[enh_idx])\n",
    "print(time.time()-ti)"
   ]
  },
  {
   "cell_type": "markdown",
   "metadata": {},
   "source": [
    "## shuffled cells (todo)"
   ]
  },
  {
   "cell_type": "code",
   "execution_count": 58,
   "metadata": {},
   "outputs": [
    {
     "name": "stdout",
     "output_type": "stream",
     "text": [
      "(1543535,) (1543535,)\n"
     ]
    }
   ],
   "source": [
    "gene_idx = snmcseq_utils.get_index_from_array(gene_cell_rna_mat.gene, enhancer_gene_to_eval['gene'])\n",
    "enh_idx = snmcseq_utils.get_index_from_array(ec_mccg.index.values, enhancer_gene_to_eval['ens']) # be careful here!\n",
    "\n",
    "to_correlate = ~np.logical_or(gene_idx==-1, enh_idx==-1)\n",
    "gene_idx = gene_idx[to_correlate]\n",
    "enh_idx = enh_idx[to_correlate]\n",
    "print(gene_idx.shape, enh_idx.shape)"
   ]
  },
  {
   "cell_type": "code",
   "execution_count": null,
   "metadata": {},
   "outputs": [],
   "source": [
    "# running time (45 mins)\n",
    "\n",
    "# uses large amount of memory for some reason\n",
    "ti = time.time()\n",
    "corrs_shuffled_cells = snmcseq_utils.pearsonr_paired_rows_fast(gc_rna[gene_idx][:,np.permutation(gc_rna.shape[1])], \n",
    "                                                         ec_mccg.values[enh_idx])\n",
    "print(time.time()-ti)"
   ]
  },
  {
   "cell_type": "code",
   "execution_count": 27,
   "metadata": {},
   "outputs": [
    {
     "name": "stdout",
     "output_type": "stream",
     "text": [
      "0.08222198486328125\n"
     ]
    }
   ],
   "source": [
    "# save ec_mccg and gc_rna\n",
    "ti = time.time()\n",
    "f = '/cndd2/fangming/projects/scf_enhancers/results/{}_corrs_test1.pkl'.format(today)\n",
    "with open(f, 'wb') as fh:\n",
    "    pickle.dump((corrs, corrs_shuffled, corrs_shuffled_cells), fh)\n",
    "print(time.time()-ti)"
   ]
  },
  {
   "cell_type": "code",
   "execution_count": null,
   "metadata": {},
   "outputs": [],
   "source": []
  },
  {
   "cell_type": "markdown",
   "metadata": {},
   "source": [
    "# plotting results\n",
    "- different k"
   ]
  },
  {
   "cell_type": "code",
   "execution_count": 29,
   "metadata": {},
   "outputs": [
    {
     "name": "stdout",
     "output_type": "stream",
     "text": [
      "(1543535,) (1543535,)\n"
     ]
    }
   ],
   "source": [
    "f = '/cndd2/fangming/projects/scf_enhancers/results/2020-07-28_corrs_test1.pkl'\n",
    "with open(f, 'rb') as fh:\n",
    "    a, b = pickle.load(fh)\n",
    "print(a.shape, b.shape)"
   ]
  },
  {
   "cell_type": "code",
   "execution_count": 57,
   "metadata": {},
   "outputs": [
    {
     "data": {
      "image/png": "[encoded data removed]",
      "text/plain": [
       "<Figure size 864x576 with 3 Axes>"
      ]
     },
     "metadata": {},
     "output_type": "display_data"
    }
   ],
   "source": [
    "config = {\n",
    "    'kde': False,\n",
    "    \"hist_kws\": {\n",
    "                'histtype': 'step', \n",
    "#                 'edgecolor': 'none',\n",
    "                'alpha': 1, \n",
    "                'density': True, \n",
    "                },\n",
    "}\n",
    "\n",
    "hist, _ = np.histogram(corrs, bins=bins)\n",
    "hist_shuff, _ = np.histogram(corrs_shuffled, bins=bins)\n",
    "\n",
    "fig, axs = plt.subplots(3, 1, figsize=(4*3,8), sharex=True)\n",
    "num_bins = 200\n",
    "bins = np.linspace(-0.3, 0.3, num_bins)\n",
    "\n",
    "ax = axs[0]\n",
    "sns.distplot(corrs, \n",
    "             bins=bins, ax=ax, label='linked pairs (<500kb)', **config)\n",
    "sns.distplot(corrs_shuffled, \n",
    "             bins=bins, ax=ax, label='shuffled pairs', **config)\n",
    "ax.legend(bbox_to_anchor=(1,1))\n",
    "ax.set_ylabel('fraction of pairs')\n",
    "\n",
    "ax = axs[1]\n",
    "ax.plot(bins[1:], hist/hist_shuff, label='data/shuffled', color='k')\n",
    "ax.axhline(1, linestyle='--', color='gray')\n",
    "ax.legend(bbox_to_anchor=(1,1))\n",
    "ax.set_ylabel('ratio')\n",
    "\n",
    "ax = axs[2]\n",
    "# _, _y = snmcseq_utils.gen_cdf(corrs, ax, x_range=bins)\n",
    "# _, _yshuff = snmcseq_utils.gen_cdf(corrs_shuffled, ax, x_range=bins)\n",
    "ax.plot(bins[1:], np.cumsum(hist)/len(corrs))\n",
    "ax.plot(bins[1:], np.cumsum(hist_shuff)/len(corrs))\n",
    "ax.set_ylabel('cumulative fraction')\n",
    "ax.set_xlabel('Pearson r')\n",
    "\n",
    "\n",
    "output = '/cndd2/fangming/projects/scf_enhancers/results/figures/{}_cell_level_mc_rna_corr.pdf'.format(today)\n",
    "plt.show()"
   ]
  },
  {
   "cell_type": "code",
   "execution_count": 37,
   "metadata": {},
   "outputs": [],
   "source": []
  },
  {
   "cell_type": "code",
   "execution_count": null,
   "metadata": {},
   "outputs": [],
   "source": []
  }
 ],
 "metadata": {
  "kernelspec": {
   "display_name": "Python 3",
   "language": "python",
   "name": "python3"
  },
  "language_info": {
   "codemirror_mode": {
    "name": "ipython",
    "version": 3
   },
   "file_extension": ".py",
   "mimetype": "text/x-python",
   "name": "python",
   "nbconvert_exporter": "python",
   "pygments_lexer": "ipython3",
   "version": "3.6.6"
  }
 },
 "nbformat": 4,
 "nbformat_minor": 2
}
