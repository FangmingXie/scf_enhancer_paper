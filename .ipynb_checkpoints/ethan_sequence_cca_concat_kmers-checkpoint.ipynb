{
 "cells": [
  {
   "cell_type": "code",
   "execution_count": 172,
   "metadata": {},
   "outputs": [],
   "source": [
    "import pandas as pd\n",
    "import numpy as np\n",
    "import matplotlib.pyplot as plt"
   ]
  },
  {
   "cell_type": "code",
   "execution_count": 173,
   "metadata": {},
   "outputs": [],
   "source": [
    "from sklearn.cross_decomposition import CCA"
   ]
  },
  {
   "cell_type": "markdown",
   "metadata": {},
   "source": [
    "# indexing workflow:\n",
    "- for each correlated enhancer, use fangming's indexes to get the corresponding gene name\n",
    "- my enhancer index matches fangming's\n",
    "\n",
    "# difficult part is getting promoter kmers"
   ]
  },
  {
   "cell_type": "markdown",
   "metadata": {},
   "source": [
    "# Import kmers"
   ]
  },
  {
   "cell_type": "code",
   "execution_count": 174,
   "metadata": {},
   "outputs": [],
   "source": [
    "kmer_nums = [2, 3, 4, 5]\n",
    "\n",
    "enhancer_kmer_list =[]\n",
    "promoter_kmer_list = []\n",
    "data_path_enh = 'data/enhancers_chromsort_kmer_{}_bases_1000.tsv'\n",
    "data_path_prom = 'data/promoter_sort_kmer_{}_bases_1000.tsv'\n",
    "\n",
    "for k in kmer_nums:\n",
    "    en = pd.read_csv(data_path_enh.format(k), sep='\\t').set_index('0')\n",
    "    prom = pd.read_csv(data_path_prom.format(k), sep='\\t').set_index('0')\n",
    "    enhancer_kmer_list.append(en)\n",
    "    promoter_kmer_list.append(prom)\n",
    "    "
   ]
  },
  {
   "cell_type": "code",
   "execution_count": 175,
   "metadata": {},
   "outputs": [],
   "source": [
    "enhancer_kmers = pd.concat(enhancer_kmer_list, axis=1)\n",
    "promoter_kmers = pd.concat(promoter_kmer_list, axis=1)"
   ]
  },
  {
   "cell_type": "code",
   "execution_count": 176,
   "metadata": {},
   "outputs": [
    {
     "data": {
      "text/html": [
       "<div>\n",
       "<style scoped>\n",
       "    .dataframe tbody tr th:only-of-type {\n",
       "        vertical-align: middle;\n",
       "    }\n",
       "\n",
       "    .dataframe tbody tr th {\n",
       "        vertical-align: top;\n",
       "    }\n",
       "\n",
       "    .dataframe thead th {\n",
       "        text-align: right;\n",
       "    }\n",
       "</style>\n",
       "<table border=\"1\" class=\"dataframe\">\n",
       "  <thead>\n",
       "    <tr style=\"text-align: right;\">\n",
       "      <th></th>\n",
       "      <th>AA</th>\n",
       "      <th>AC</th>\n",
       "      <th>AG</th>\n",
       "      <th>AT</th>\n",
       "      <th>CA</th>\n",
       "      <th>CC</th>\n",
       "      <th>CG</th>\n",
       "      <th>CT</th>\n",
       "      <th>GA</th>\n",
       "      <th>GC</th>\n",
       "      <th>...</th>\n",
       "      <th>TTTCG</th>\n",
       "      <th>TTTCT</th>\n",
       "      <th>TTTGA</th>\n",
       "      <th>TTTGC</th>\n",
       "      <th>TTTGG</th>\n",
       "      <th>TTTGT</th>\n",
       "      <th>TTTTA</th>\n",
       "      <th>TTTTC</th>\n",
       "      <th>TTTTG</th>\n",
       "      <th>TTTTT</th>\n",
       "    </tr>\n",
       "    <tr>\n",
       "      <th>0</th>\n",
       "      <th></th>\n",
       "      <th></th>\n",
       "      <th></th>\n",
       "      <th></th>\n",
       "      <th></th>\n",
       "      <th></th>\n",
       "      <th></th>\n",
       "      <th></th>\n",
       "      <th></th>\n",
       "      <th></th>\n",
       "      <th></th>\n",
       "      <th></th>\n",
       "      <th></th>\n",
       "      <th></th>\n",
       "      <th></th>\n",
       "      <th></th>\n",
       "      <th></th>\n",
       "      <th></th>\n",
       "      <th></th>\n",
       "      <th></th>\n",
       "      <th></th>\n",
       "    </tr>\n",
       "  </thead>\n",
       "  <tbody>\n",
       "    <tr>\n",
       "      <th>&gt;chr10:100009350-100011350</th>\n",
       "      <td>335</td>\n",
       "      <td>246</td>\n",
       "      <td>281</td>\n",
       "      <td>131</td>\n",
       "      <td>327</td>\n",
       "      <td>194</td>\n",
       "      <td>37</td>\n",
       "      <td>281</td>\n",
       "      <td>225</td>\n",
       "      <td>105</td>\n",
       "      <td>...</td>\n",
       "      <td>1.0</td>\n",
       "      <td>5.0</td>\n",
       "      <td>6.0</td>\n",
       "      <td>11.0</td>\n",
       "      <td>5.0</td>\n",
       "      <td>7.0</td>\n",
       "      <td>7.0</td>\n",
       "      <td>6.0</td>\n",
       "      <td>9.0</td>\n",
       "      <td>19.0</td>\n",
       "    </tr>\n",
       "    <tr>\n",
       "      <th>&gt;chr10:100018062-100020062</th>\n",
       "      <td>447</td>\n",
       "      <td>208</td>\n",
       "      <td>269</td>\n",
       "      <td>141</td>\n",
       "      <td>280</td>\n",
       "      <td>193</td>\n",
       "      <td>26</td>\n",
       "      <td>269</td>\n",
       "      <td>231</td>\n",
       "      <td>80</td>\n",
       "      <td>...</td>\n",
       "      <td>1.0</td>\n",
       "      <td>13.0</td>\n",
       "      <td>10.0</td>\n",
       "      <td>7.0</td>\n",
       "      <td>6.0</td>\n",
       "      <td>12.0</td>\n",
       "      <td>17.0</td>\n",
       "      <td>12.0</td>\n",
       "      <td>9.0</td>\n",
       "      <td>46.0</td>\n",
       "    </tr>\n",
       "    <tr>\n",
       "      <th>&gt;chr10:100018734-100020734</th>\n",
       "      <td>404</td>\n",
       "      <td>229</td>\n",
       "      <td>300</td>\n",
       "      <td>116</td>\n",
       "      <td>284</td>\n",
       "      <td>189</td>\n",
       "      <td>31</td>\n",
       "      <td>300</td>\n",
       "      <td>247</td>\n",
       "      <td>85</td>\n",
       "      <td>...</td>\n",
       "      <td>2.0</td>\n",
       "      <td>13.0</td>\n",
       "      <td>6.0</td>\n",
       "      <td>4.0</td>\n",
       "      <td>8.0</td>\n",
       "      <td>12.0</td>\n",
       "      <td>13.0</td>\n",
       "      <td>9.0</td>\n",
       "      <td>5.0</td>\n",
       "      <td>44.0</td>\n",
       "    </tr>\n",
       "    <tr>\n",
       "      <th>&gt;chr10:100019262-100021262</th>\n",
       "      <td>419</td>\n",
       "      <td>232</td>\n",
       "      <td>289</td>\n",
       "      <td>107</td>\n",
       "      <td>289</td>\n",
       "      <td>205</td>\n",
       "      <td>31</td>\n",
       "      <td>289</td>\n",
       "      <td>242</td>\n",
       "      <td>83</td>\n",
       "      <td>...</td>\n",
       "      <td>3.0</td>\n",
       "      <td>11.0</td>\n",
       "      <td>6.0</td>\n",
       "      <td>5.0</td>\n",
       "      <td>10.0</td>\n",
       "      <td>21.0</td>\n",
       "      <td>8.0</td>\n",
       "      <td>10.0</td>\n",
       "      <td>13.0</td>\n",
       "      <td>34.0</td>\n",
       "    </tr>\n",
       "    <tr>\n",
       "      <th>&gt;chr10:100021578-100023578</th>\n",
       "      <td>275</td>\n",
       "      <td>236</td>\n",
       "      <td>323</td>\n",
       "      <td>96</td>\n",
       "      <td>339</td>\n",
       "      <td>265</td>\n",
       "      <td>23</td>\n",
       "      <td>323</td>\n",
       "      <td>250</td>\n",
       "      <td>111</td>\n",
       "      <td>...</td>\n",
       "      <td>1.0</td>\n",
       "      <td>9.0</td>\n",
       "      <td>4.0</td>\n",
       "      <td>9.0</td>\n",
       "      <td>3.0</td>\n",
       "      <td>10.0</td>\n",
       "      <td>2.0</td>\n",
       "      <td>7.0</td>\n",
       "      <td>9.0</td>\n",
       "      <td>7.0</td>\n",
       "    </tr>\n",
       "  </tbody>\n",
       "</table>\n",
       "<p>5 rows × 1360 columns</p>\n",
       "</div>"
      ],
      "text/plain": [
       "                             AA   AC   AG   AT   CA   CC  CG   CT   GA   GC  \\\n",
       "0                                                                             \n",
       ">chr10:100009350-100011350  335  246  281  131  327  194  37  281  225  105   \n",
       ">chr10:100018062-100020062  447  208  269  141  280  193  26  269  231   80   \n",
       ">chr10:100018734-100020734  404  229  300  116  284  189  31  300  247   85   \n",
       ">chr10:100019262-100021262  419  232  289  107  289  205  31  289  242   83   \n",
       ">chr10:100021578-100023578  275  236  323   96  339  265  23  323  250  111   \n",
       "\n",
       "                            ...  TTTCG  TTTCT  TTTGA  TTTGC  TTTGG  TTTGT  \\\n",
       "0                           ...                                             \n",
       ">chr10:100009350-100011350  ...    1.0    5.0    6.0   11.0    5.0    7.0   \n",
       ">chr10:100018062-100020062  ...    1.0   13.0   10.0    7.0    6.0   12.0   \n",
       ">chr10:100018734-100020734  ...    2.0   13.0    6.0    4.0    8.0   12.0   \n",
       ">chr10:100019262-100021262  ...    3.0   11.0    6.0    5.0   10.0   21.0   \n",
       ">chr10:100021578-100023578  ...    1.0    9.0    4.0    9.0    3.0   10.0   \n",
       "\n",
       "                            TTTTA  TTTTC  TTTTG  TTTTT  \n",
       "0                                                       \n",
       ">chr10:100009350-100011350    7.0    6.0    9.0   19.0  \n",
       ">chr10:100018062-100020062   17.0   12.0    9.0   46.0  \n",
       ">chr10:100018734-100020734   13.0    9.0    5.0   44.0  \n",
       ">chr10:100019262-100021262    8.0   10.0   13.0   34.0  \n",
       ">chr10:100021578-100023578    2.0    7.0    9.0    7.0  \n",
       "\n",
       "[5 rows x 1360 columns]"
      ]
     },
     "execution_count": 176,
     "metadata": {},
     "output_type": "execute_result"
    }
   ],
   "source": [
    "enhancer_kmers.head()"
   ]
  },
  {
   "cell_type": "code",
   "execution_count": 177,
   "metadata": {},
   "outputs": [
    {
     "data": {
      "text/html": [
       "<div>\n",
       "<style scoped>\n",
       "    .dataframe tbody tr th:only-of-type {\n",
       "        vertical-align: middle;\n",
       "    }\n",
       "\n",
       "    .dataframe tbody tr th {\n",
       "        vertical-align: top;\n",
       "    }\n",
       "\n",
       "    .dataframe thead th {\n",
       "        text-align: right;\n",
       "    }\n",
       "</style>\n",
       "<table border=\"1\" class=\"dataframe\">\n",
       "  <thead>\n",
       "    <tr style=\"text-align: right;\">\n",
       "      <th></th>\n",
       "      <th>AA</th>\n",
       "      <th>AC</th>\n",
       "      <th>AG</th>\n",
       "      <th>AT</th>\n",
       "      <th>CA</th>\n",
       "      <th>CC</th>\n",
       "      <th>CG</th>\n",
       "      <th>CT</th>\n",
       "      <th>GA</th>\n",
       "      <th>GC</th>\n",
       "      <th>...</th>\n",
       "      <th>TTTCG</th>\n",
       "      <th>TTTCT</th>\n",
       "      <th>TTTGA</th>\n",
       "      <th>TTTGC</th>\n",
       "      <th>TTTGG</th>\n",
       "      <th>TTTGT</th>\n",
       "      <th>TTTTA</th>\n",
       "      <th>TTTTC</th>\n",
       "      <th>TTTTG</th>\n",
       "      <th>TTTTT</th>\n",
       "    </tr>\n",
       "    <tr>\n",
       "      <th>0</th>\n",
       "      <th></th>\n",
       "      <th></th>\n",
       "      <th></th>\n",
       "      <th></th>\n",
       "      <th></th>\n",
       "      <th></th>\n",
       "      <th></th>\n",
       "      <th></th>\n",
       "      <th></th>\n",
       "      <th></th>\n",
       "      <th></th>\n",
       "      <th></th>\n",
       "      <th></th>\n",
       "      <th></th>\n",
       "      <th></th>\n",
       "      <th></th>\n",
       "      <th></th>\n",
       "      <th></th>\n",
       "      <th></th>\n",
       "      <th></th>\n",
       "      <th></th>\n",
       "    </tr>\n",
       "  </thead>\n",
       "  <tbody>\n",
       "    <tr>\n",
       "      <th>&gt;chr10:100014631-100016631</th>\n",
       "      <td>303.0</td>\n",
       "      <td>187.0</td>\n",
       "      <td>288.0</td>\n",
       "      <td>72.0</td>\n",
       "      <td>247.0</td>\n",
       "      <td>329.0</td>\n",
       "      <td>107.0</td>\n",
       "      <td>288.0</td>\n",
       "      <td>233.0</td>\n",
       "      <td>164.0</td>\n",
       "      <td>...</td>\n",
       "      <td>1.0</td>\n",
       "      <td>16.0</td>\n",
       "      <td>3.0</td>\n",
       "      <td>4.0</td>\n",
       "      <td>5.0</td>\n",
       "      <td>4.0</td>\n",
       "      <td>7.0</td>\n",
       "      <td>18.0</td>\n",
       "      <td>8.0</td>\n",
       "      <td>24.0</td>\n",
       "    </tr>\n",
       "    <tr>\n",
       "      <th>&gt;chr10:100334677-100336677</th>\n",
       "      <td>323.0</td>\n",
       "      <td>202.0</td>\n",
       "      <td>331.0</td>\n",
       "      <td>119.0</td>\n",
       "      <td>340.0</td>\n",
       "      <td>201.0</td>\n",
       "      <td>17.0</td>\n",
       "      <td>331.0</td>\n",
       "      <td>247.0</td>\n",
       "      <td>128.0</td>\n",
       "      <td>...</td>\n",
       "      <td>0.0</td>\n",
       "      <td>3.0</td>\n",
       "      <td>10.0</td>\n",
       "      <td>7.0</td>\n",
       "      <td>4.0</td>\n",
       "      <td>11.0</td>\n",
       "      <td>13.0</td>\n",
       "      <td>4.0</td>\n",
       "      <td>9.0</td>\n",
       "      <td>12.0</td>\n",
       "    </tr>\n",
       "    <tr>\n",
       "      <th>&gt;chr10:100339837-100341837</th>\n",
       "      <td>320.0</td>\n",
       "      <td>201.0</td>\n",
       "      <td>328.0</td>\n",
       "      <td>122.0</td>\n",
       "      <td>342.0</td>\n",
       "      <td>201.0</td>\n",
       "      <td>18.0</td>\n",
       "      <td>328.0</td>\n",
       "      <td>242.0</td>\n",
       "      <td>131.0</td>\n",
       "      <td>...</td>\n",
       "      <td>0.0</td>\n",
       "      <td>3.0</td>\n",
       "      <td>10.0</td>\n",
       "      <td>6.0</td>\n",
       "      <td>4.0</td>\n",
       "      <td>11.0</td>\n",
       "      <td>13.0</td>\n",
       "      <td>4.0</td>\n",
       "      <td>10.0</td>\n",
       "      <td>12.0</td>\n",
       "    </tr>\n",
       "    <tr>\n",
       "      <th>&gt;chr10:100344973-100346973</th>\n",
       "      <td>333.0</td>\n",
       "      <td>207.0</td>\n",
       "      <td>324.0</td>\n",
       "      <td>119.0</td>\n",
       "      <td>329.0</td>\n",
       "      <td>205.0</td>\n",
       "      <td>20.0</td>\n",
       "      <td>324.0</td>\n",
       "      <td>246.0</td>\n",
       "      <td>120.0</td>\n",
       "      <td>...</td>\n",
       "      <td>0.0</td>\n",
       "      <td>4.0</td>\n",
       "      <td>11.0</td>\n",
       "      <td>6.0</td>\n",
       "      <td>4.0</td>\n",
       "      <td>10.0</td>\n",
       "      <td>12.0</td>\n",
       "      <td>5.0</td>\n",
       "      <td>12.0</td>\n",
       "      <td>12.0</td>\n",
       "    </tr>\n",
       "    <tr>\n",
       "      <th>&gt;chr10:100350094-100352094</th>\n",
       "      <td>333.0</td>\n",
       "      <td>207.0</td>\n",
       "      <td>324.0</td>\n",
       "      <td>119.0</td>\n",
       "      <td>329.0</td>\n",
       "      <td>205.0</td>\n",
       "      <td>20.0</td>\n",
       "      <td>324.0</td>\n",
       "      <td>246.0</td>\n",
       "      <td>120.0</td>\n",
       "      <td>...</td>\n",
       "      <td>0.0</td>\n",
       "      <td>4.0</td>\n",
       "      <td>11.0</td>\n",
       "      <td>6.0</td>\n",
       "      <td>4.0</td>\n",
       "      <td>10.0</td>\n",
       "      <td>12.0</td>\n",
       "      <td>5.0</td>\n",
       "      <td>12.0</td>\n",
       "      <td>12.0</td>\n",
       "    </tr>\n",
       "  </tbody>\n",
       "</table>\n",
       "<p>5 rows × 1360 columns</p>\n",
       "</div>"
      ],
      "text/plain": [
       "                               AA     AC     AG     AT     CA     CC     CG  \\\n",
       "0                                                                             \n",
       ">chr10:100014631-100016631  303.0  187.0  288.0   72.0  247.0  329.0  107.0   \n",
       ">chr10:100334677-100336677  323.0  202.0  331.0  119.0  340.0  201.0   17.0   \n",
       ">chr10:100339837-100341837  320.0  201.0  328.0  122.0  342.0  201.0   18.0   \n",
       ">chr10:100344973-100346973  333.0  207.0  324.0  119.0  329.0  205.0   20.0   \n",
       ">chr10:100350094-100352094  333.0  207.0  324.0  119.0  329.0  205.0   20.0   \n",
       "\n",
       "                               CT     GA     GC  ...  TTTCG  TTTCT  TTTGA  \\\n",
       "0                                                ...                        \n",
       ">chr10:100014631-100016631  288.0  233.0  164.0  ...    1.0   16.0    3.0   \n",
       ">chr10:100334677-100336677  331.0  247.0  128.0  ...    0.0    3.0   10.0   \n",
       ">chr10:100339837-100341837  328.0  242.0  131.0  ...    0.0    3.0   10.0   \n",
       ">chr10:100344973-100346973  324.0  246.0  120.0  ...    0.0    4.0   11.0   \n",
       ">chr10:100350094-100352094  324.0  246.0  120.0  ...    0.0    4.0   11.0   \n",
       "\n",
       "                            TTTGC  TTTGG  TTTGT  TTTTA  TTTTC  TTTTG  TTTTT  \n",
       "0                                                                            \n",
       ">chr10:100014631-100016631    4.0    5.0    4.0    7.0   18.0    8.0   24.0  \n",
       ">chr10:100334677-100336677    7.0    4.0   11.0   13.0    4.0    9.0   12.0  \n",
       ">chr10:100339837-100341837    6.0    4.0   11.0   13.0    4.0   10.0   12.0  \n",
       ">chr10:100344973-100346973    6.0    4.0   10.0   12.0    5.0   12.0   12.0  \n",
       ">chr10:100350094-100352094    6.0    4.0   10.0   12.0    5.0   12.0   12.0  \n",
       "\n",
       "[5 rows x 1360 columns]"
      ]
     },
     "execution_count": 177,
     "metadata": {},
     "output_type": "execute_result"
    }
   ],
   "source": [
    "promoter_kmers.head()"
   ]
  },
  {
   "cell_type": "markdown",
   "metadata": {},
   "source": [
    "# import genes"
   ]
  },
  {
   "cell_type": "code",
   "execution_count": 178,
   "metadata": {},
   "outputs": [],
   "source": [
    "ref_path =  '/cndd2/ethan/projects/scf_paper/modeling/working_data/promoter/mm10_promoter{}.{}'\n",
    "genes=pd.read_csv(ref_path.format('', 'bed'), sep='\\t', header=None)"
   ]
  },
  {
   "cell_type": "code",
   "execution_count": 179,
   "metadata": {},
   "outputs": [],
   "source": [
    "enhs_list = pd.read_csv('/cndd2/ethan/projects/enh_gene_linkage/enhancer_sequence/data/enhancers_chromsort_center_1000.bed', sep='\\t', header=None)"
   ]
  },
  {
   "cell_type": "code",
   "execution_count": 180,
   "metadata": {},
   "outputs": [],
   "source": [
    "genes['kmer_format'] = '>' +  genes[0] + ':' + genes[1].astype(str) + '-' + genes[2].astype(str) + '\\n'"
   ]
  },
  {
   "cell_type": "code",
   "execution_count": 181,
   "metadata": {},
   "outputs": [],
   "source": [
    "enhs_list['kmer_format'] = '>' +  enhs_list[0] + ':' + enhs_list[1].astype(str) + '-' + enhs_list[2].astype(str)"
   ]
  },
  {
   "cell_type": "markdown",
   "metadata": {},
   "source": [
    "# get sig pairs"
   ]
  },
  {
   "cell_type": "code",
   "execution_count": 182,
   "metadata": {},
   "outputs": [],
   "source": [
    "import pickle\n",
    "sig_pairs = pickle.load(open('/cndd2/ethan/projects/enh_gene_linkage/epigenetic_uncorrelation/sig_pairs.pkl', 'rb'))"
   ]
  },
  {
   "cell_type": "code",
   "execution_count": 183,
   "metadata": {},
   "outputs": [],
   "source": [
    "mcg = sig_pairs['mCG']\n",
    "atac= sig_pairs['Open Chromatin']"
   ]
  },
  {
   "cell_type": "code",
   "execution_count": 184,
   "metadata": {},
   "outputs": [],
   "source": [
    "gene_mcg = []\n",
    "enh_mcg = []\n",
    "for i in mcg:\n",
    "    tmp = i.split(':')\n",
    "    gene_mcg.append(tmp[0])\n",
    "    enh_mcg.append(tmp[1])"
   ]
  },
  {
   "cell_type": "code",
   "execution_count": 185,
   "metadata": {},
   "outputs": [
    {
     "data": {
      "text/html": [
       "<div>\n",
       "<style scoped>\n",
       "    .dataframe tbody tr th:only-of-type {\n",
       "        vertical-align: middle;\n",
       "    }\n",
       "\n",
       "    .dataframe tbody tr th {\n",
       "        vertical-align: top;\n",
       "    }\n",
       "\n",
       "    .dataframe thead th {\n",
       "        text-align: right;\n",
       "    }\n",
       "</style>\n",
       "<table border=\"1\" class=\"dataframe\">\n",
       "  <thead>\n",
       "    <tr style=\"text-align: right;\">\n",
       "      <th></th>\n",
       "      <th>0</th>\n",
       "      <th>1</th>\n",
       "      <th>2</th>\n",
       "      <th>3</th>\n",
       "      <th>kmer_format</th>\n",
       "    </tr>\n",
       "  </thead>\n",
       "  <tbody>\n",
       "    <tr>\n",
       "      <th>0</th>\n",
       "      <td>chr1</td>\n",
       "      <td>3082793</td>\n",
       "      <td>3084793</td>\n",
       "      <td>NaN</td>\n",
       "      <td>&gt;chr1:3082793-3084793</td>\n",
       "    </tr>\n",
       "    <tr>\n",
       "      <th>1</th>\n",
       "      <td>chr1</td>\n",
       "      <td>3111351</td>\n",
       "      <td>3113351</td>\n",
       "      <td>NaN</td>\n",
       "      <td>&gt;chr1:3111351-3113351</td>\n",
       "    </tr>\n",
       "    <tr>\n",
       "      <th>2</th>\n",
       "      <td>chr1</td>\n",
       "      <td>3111878</td>\n",
       "      <td>3113878</td>\n",
       "      <td>NaN</td>\n",
       "      <td>&gt;chr1:3111878-3113878</td>\n",
       "    </tr>\n",
       "    <tr>\n",
       "      <th>3</th>\n",
       "      <td>chr1</td>\n",
       "      <td>3112876</td>\n",
       "      <td>3114876</td>\n",
       "      <td>NaN</td>\n",
       "      <td>&gt;chr1:3112876-3114876</td>\n",
       "    </tr>\n",
       "    <tr>\n",
       "      <th>4</th>\n",
       "      <td>chr1</td>\n",
       "      <td>3117863</td>\n",
       "      <td>3119863</td>\n",
       "      <td>NaN</td>\n",
       "      <td>&gt;chr1:3117863-3119863</td>\n",
       "    </tr>\n",
       "  </tbody>\n",
       "</table>\n",
       "</div>"
      ],
      "text/plain": [
       "      0        1        2   3            kmer_format\n",
       "0  chr1  3082793  3084793 NaN  >chr1:3082793-3084793\n",
       "1  chr1  3111351  3113351 NaN  >chr1:3111351-3113351\n",
       "2  chr1  3111878  3113878 NaN  >chr1:3111878-3113878\n",
       "3  chr1  3112876  3114876 NaN  >chr1:3112876-3114876\n",
       "4  chr1  3117863  3119863 NaN  >chr1:3117863-3119863"
      ]
     },
     "execution_count": 185,
     "metadata": {},
     "output_type": "execute_result"
    }
   ],
   "source": [
    "enhs_list.head()"
   ]
  },
  {
   "cell_type": "code",
   "execution_count": 186,
   "metadata": {},
   "outputs": [],
   "source": [
    "use_enhs = enhs_list.loc[np.array(enh_mcg).astype(int)]"
   ]
  },
  {
   "cell_type": "code",
   "execution_count": 187,
   "metadata": {},
   "outputs": [
    {
     "data": {
      "text/plain": [
       "(10696, 5)"
      ]
     },
     "execution_count": 187,
     "metadata": {},
     "output_type": "execute_result"
    }
   ],
   "source": [
    "use_enhs.shape"
   ]
  },
  {
   "cell_type": "code",
   "execution_count": 188,
   "metadata": {},
   "outputs": [
    {
     "data": {
      "text/html": [
       "<div>\n",
       "<style scoped>\n",
       "    .dataframe tbody tr th:only-of-type {\n",
       "        vertical-align: middle;\n",
       "    }\n",
       "\n",
       "    .dataframe tbody tr th {\n",
       "        vertical-align: top;\n",
       "    }\n",
       "\n",
       "    .dataframe thead th {\n",
       "        text-align: right;\n",
       "    }\n",
       "</style>\n",
       "<table border=\"1\" class=\"dataframe\">\n",
       "  <thead>\n",
       "    <tr style=\"text-align: right;\">\n",
       "      <th></th>\n",
       "      <th>0</th>\n",
       "      <th>1</th>\n",
       "      <th>2</th>\n",
       "      <th>3</th>\n",
       "      <th>kmer_format</th>\n",
       "    </tr>\n",
       "  </thead>\n",
       "  <tbody>\n",
       "    <tr>\n",
       "      <th>4988</th>\n",
       "      <td>chr1</td>\n",
       "      <td>60580317</td>\n",
       "      <td>60582317</td>\n",
       "      <td>NaN</td>\n",
       "      <td>&gt;chr1:60580317-60582317</td>\n",
       "    </tr>\n",
       "    <tr>\n",
       "      <th>4595</th>\n",
       "      <td>chr1</td>\n",
       "      <td>56923214</td>\n",
       "      <td>56925214</td>\n",
       "      <td>NaN</td>\n",
       "      <td>&gt;chr1:56923214-56925214</td>\n",
       "    </tr>\n",
       "    <tr>\n",
       "      <th>152172</th>\n",
       "      <td>chr3</td>\n",
       "      <td>154171659</td>\n",
       "      <td>154173659</td>\n",
       "      <td>NaN</td>\n",
       "      <td>&gt;chr3:154171659-154173659</td>\n",
       "    </tr>\n",
       "    <tr>\n",
       "      <th>78537</th>\n",
       "      <td>chr15</td>\n",
       "      <td>27612937</td>\n",
       "      <td>27614937</td>\n",
       "      <td>NaN</td>\n",
       "      <td>&gt;chr15:27612937-27614937</td>\n",
       "    </tr>\n",
       "    <tr>\n",
       "      <th>130920</th>\n",
       "      <td>chr2</td>\n",
       "      <td>104392943</td>\n",
       "      <td>104394943</td>\n",
       "      <td>NaN</td>\n",
       "      <td>&gt;chr2:104392943-104394943</td>\n",
       "    </tr>\n",
       "  </tbody>\n",
       "</table>\n",
       "</div>"
      ],
      "text/plain": [
       "            0          1          2   3                kmer_format\n",
       "4988     chr1   60580317   60582317 NaN    >chr1:60580317-60582317\n",
       "4595     chr1   56923214   56925214 NaN    >chr1:56923214-56925214\n",
       "152172   chr3  154171659  154173659 NaN  >chr3:154171659-154173659\n",
       "78537   chr15   27612937   27614937 NaN   >chr15:27612937-27614937\n",
       "130920   chr2  104392943  104394943 NaN  >chr2:104392943-104394943"
      ]
     },
     "execution_count": 188,
     "metadata": {},
     "output_type": "execute_result"
    }
   ],
   "source": [
    "use_enhs.head()"
   ]
  },
  {
   "cell_type": "code",
   "execution_count": 189,
   "metadata": {},
   "outputs": [],
   "source": [
    "use_enhs['paired_gene'] = gene_mcg"
   ]
  },
  {
   "cell_type": "code",
   "execution_count": 190,
   "metadata": {},
   "outputs": [
    {
     "data": {
      "text/html": [
       "<div>\n",
       "<style scoped>\n",
       "    .dataframe tbody tr th:only-of-type {\n",
       "        vertical-align: middle;\n",
       "    }\n",
       "\n",
       "    .dataframe tbody tr th {\n",
       "        vertical-align: top;\n",
       "    }\n",
       "\n",
       "    .dataframe thead th {\n",
       "        text-align: right;\n",
       "    }\n",
       "</style>\n",
       "<table border=\"1\" class=\"dataframe\">\n",
       "  <thead>\n",
       "    <tr style=\"text-align: right;\">\n",
       "      <th></th>\n",
       "      <th>0</th>\n",
       "      <th>1</th>\n",
       "      <th>2</th>\n",
       "      <th>3</th>\n",
       "      <th>kmer_format</th>\n",
       "      <th>paired_gene</th>\n",
       "    </tr>\n",
       "  </thead>\n",
       "  <tbody>\n",
       "    <tr>\n",
       "      <th>4988</th>\n",
       "      <td>chr1</td>\n",
       "      <td>60580317</td>\n",
       "      <td>60582317</td>\n",
       "      <td>NaN</td>\n",
       "      <td>&gt;chr1:60580317-60582317</td>\n",
       "      <td>ENSMUSG00000026782</td>\n",
       "    </tr>\n",
       "    <tr>\n",
       "      <th>4595</th>\n",
       "      <td>chr1</td>\n",
       "      <td>56923214</td>\n",
       "      <td>56925214</td>\n",
       "      <td>NaN</td>\n",
       "      <td>&gt;chr1:56923214-56925214</td>\n",
       "      <td>ENSMUSG00000087022</td>\n",
       "    </tr>\n",
       "    <tr>\n",
       "      <th>152172</th>\n",
       "      <td>chr3</td>\n",
       "      <td>154171659</td>\n",
       "      <td>154173659</td>\n",
       "      <td>NaN</td>\n",
       "      <td>&gt;chr3:154171659-154173659</td>\n",
       "      <td>ENSMUSG00000028360</td>\n",
       "    </tr>\n",
       "    <tr>\n",
       "      <th>78537</th>\n",
       "      <td>chr15</td>\n",
       "      <td>27612937</td>\n",
       "      <td>27614937</td>\n",
       "      <td>NaN</td>\n",
       "      <td>&gt;chr15:27612937-27614937</td>\n",
       "      <td>ENSMUSG00000056069</td>\n",
       "    </tr>\n",
       "    <tr>\n",
       "      <th>130920</th>\n",
       "      <td>chr2</td>\n",
       "      <td>104392943</td>\n",
       "      <td>104394943</td>\n",
       "      <td>NaN</td>\n",
       "      <td>&gt;chr2:104392943-104394943</td>\n",
       "      <td>ENSMUSG00000068373</td>\n",
       "    </tr>\n",
       "  </tbody>\n",
       "</table>\n",
       "</div>"
      ],
      "text/plain": [
       "            0          1          2   3                kmer_format  \\\n",
       "4988     chr1   60580317   60582317 NaN    >chr1:60580317-60582317   \n",
       "4595     chr1   56923214   56925214 NaN    >chr1:56923214-56925214   \n",
       "152172   chr3  154171659  154173659 NaN  >chr3:154171659-154173659   \n",
       "78537   chr15   27612937   27614937 NaN   >chr15:27612937-27614937   \n",
       "130920   chr2  104392943  104394943 NaN  >chr2:104392943-104394943   \n",
       "\n",
       "               paired_gene  \n",
       "4988    ENSMUSG00000026782  \n",
       "4595    ENSMUSG00000087022  \n",
       "152172  ENSMUSG00000028360  \n",
       "78537   ENSMUSG00000056069  \n",
       "130920  ENSMUSG00000068373  "
      ]
     },
     "execution_count": 190,
     "metadata": {},
     "output_type": "execute_result"
    }
   ],
   "source": [
    "use_enhs.head()"
   ]
  },
  {
   "cell_type": "code",
   "execution_count": 191,
   "metadata": {},
   "outputs": [],
   "source": [
    "my_gene_list = pd.read_csv('/cndd2/ethan/projects/enh_gene_linkage/enhancer_sequence/data/promoter_sort_center_1000.bed', sep='\\t', header=None)"
   ]
  },
  {
   "cell_type": "code",
   "execution_count": 192,
   "metadata": {},
   "outputs": [
    {
     "data": {
      "text/html": [
       "<div>\n",
       "<style scoped>\n",
       "    .dataframe tbody tr th:only-of-type {\n",
       "        vertical-align: middle;\n",
       "    }\n",
       "\n",
       "    .dataframe tbody tr th {\n",
       "        vertical-align: top;\n",
       "    }\n",
       "\n",
       "    .dataframe thead th {\n",
       "        text-align: right;\n",
       "    }\n",
       "</style>\n",
       "<table border=\"1\" class=\"dataframe\">\n",
       "  <thead>\n",
       "    <tr style=\"text-align: right;\">\n",
       "      <th></th>\n",
       "      <th>0</th>\n",
       "      <th>1</th>\n",
       "      <th>2</th>\n",
       "      <th>3</th>\n",
       "      <th>4</th>\n",
       "    </tr>\n",
       "  </thead>\n",
       "  <tbody>\n",
       "    <tr>\n",
       "      <th>0</th>\n",
       "      <td>chr1</td>\n",
       "      <td>3670499</td>\n",
       "      <td>3672499</td>\n",
       "      <td>ENSMUSG00000051951.5</td>\n",
       "      <td>Xkr4</td>\n",
       "    </tr>\n",
       "    <tr>\n",
       "      <th>1</th>\n",
       "      <td>chr1</td>\n",
       "      <td>4408242</td>\n",
       "      <td>4410242</td>\n",
       "      <td>ENSMUSG00000025900.12</td>\n",
       "      <td>Rp1</td>\n",
       "    </tr>\n",
       "    <tr>\n",
       "      <th>2</th>\n",
       "      <td>chr1</td>\n",
       "      <td>4496355</td>\n",
       "      <td>4498355</td>\n",
       "      <td>ENSMUSG00000025902.13</td>\n",
       "      <td>Sox17</td>\n",
       "    </tr>\n",
       "    <tr>\n",
       "      <th>3</th>\n",
       "      <td>chr1</td>\n",
       "      <td>4784740</td>\n",
       "      <td>4786740</td>\n",
       "      <td>ENSMUSG00000033845.13</td>\n",
       "      <td>Mrpl15</td>\n",
       "    </tr>\n",
       "    <tr>\n",
       "      <th>4</th>\n",
       "      <td>chr1</td>\n",
       "      <td>4806789</td>\n",
       "      <td>4808789</td>\n",
       "      <td>ENSMUSG00000025903.14</td>\n",
       "      <td>Lypla1</td>\n",
       "    </tr>\n",
       "  </tbody>\n",
       "</table>\n",
       "</div>"
      ],
      "text/plain": [
       "      0        1        2                      3       4\n",
       "0  chr1  3670499  3672499   ENSMUSG00000051951.5    Xkr4\n",
       "1  chr1  4408242  4410242  ENSMUSG00000025900.12     Rp1\n",
       "2  chr1  4496355  4498355  ENSMUSG00000025902.13   Sox17\n",
       "3  chr1  4784740  4786740  ENSMUSG00000033845.13  Mrpl15\n",
       "4  chr1  4806789  4808789  ENSMUSG00000025903.14  Lypla1"
      ]
     },
     "execution_count": 192,
     "metadata": {},
     "output_type": "execute_result"
    }
   ],
   "source": [
    "my_gene_list.head()"
   ]
  },
  {
   "cell_type": "code",
   "execution_count": 193,
   "metadata": {},
   "outputs": [],
   "source": [
    "my_gene_list[3] = [i.split('.')[0] for i in my_gene_list[3]]"
   ]
  },
  {
   "cell_type": "code",
   "execution_count": 194,
   "metadata": {},
   "outputs": [],
   "source": [
    "genes = my_gene_list"
   ]
  },
  {
   "cell_type": "code",
   "execution_count": 195,
   "metadata": {},
   "outputs": [],
   "source": [
    "genes['kmer_format'] = '>' +  genes[0] + ':' + genes[1].astype(str) + '-' + genes[2].astype(str)"
   ]
  },
  {
   "cell_type": "code",
   "execution_count": 196,
   "metadata": {},
   "outputs": [],
   "source": [
    "use_genes = genes.loc[genes['kmer_format'].isin(promoter_kmers.index)]"
   ]
  },
  {
   "cell_type": "code",
   "execution_count": 197,
   "metadata": {},
   "outputs": [],
   "source": [
    "use_genes = use_genes.set_index('kmer_format').loc[promoter_kmers.index]"
   ]
  },
  {
   "cell_type": "code",
   "execution_count": 198,
   "metadata": {},
   "outputs": [
    {
     "data": {
      "text/html": [
       "<div>\n",
       "<style scoped>\n",
       "    .dataframe tbody tr th:only-of-type {\n",
       "        vertical-align: middle;\n",
       "    }\n",
       "\n",
       "    .dataframe tbody tr th {\n",
       "        vertical-align: top;\n",
       "    }\n",
       "\n",
       "    .dataframe thead th {\n",
       "        text-align: right;\n",
       "    }\n",
       "</style>\n",
       "<table border=\"1\" class=\"dataframe\">\n",
       "  <thead>\n",
       "    <tr style=\"text-align: right;\">\n",
       "      <th></th>\n",
       "      <th>0</th>\n",
       "      <th>1</th>\n",
       "      <th>2</th>\n",
       "      <th>3</th>\n",
       "      <th>4</th>\n",
       "    </tr>\n",
       "    <tr>\n",
       "      <th>kmer_format</th>\n",
       "      <th></th>\n",
       "      <th></th>\n",
       "      <th></th>\n",
       "      <th></th>\n",
       "      <th></th>\n",
       "    </tr>\n",
       "  </thead>\n",
       "  <tbody>\n",
       "    <tr>\n",
       "      <th>&gt;chr10:100014631-100016631</th>\n",
       "      <td>chr10</td>\n",
       "      <td>100014631</td>\n",
       "      <td>100016631</td>\n",
       "      <td>ENSMUSG00000019966</td>\n",
       "      <td>Kitl</td>\n",
       "    </tr>\n",
       "    <tr>\n",
       "      <th>&gt;chr10:100334677-100336677</th>\n",
       "      <td>chr10</td>\n",
       "      <td>100334677</td>\n",
       "      <td>100336677</td>\n",
       "      <td>ENSMUSG00000094314</td>\n",
       "      <td>Gm4301</td>\n",
       "    </tr>\n",
       "    <tr>\n",
       "      <th>&gt;chr10:100339837-100341837</th>\n",
       "      <td>chr10</td>\n",
       "      <td>100339837</td>\n",
       "      <td>100341837</td>\n",
       "      <td>ENSMUSG00000091101</td>\n",
       "      <td>Gm4302</td>\n",
       "    </tr>\n",
       "    <tr>\n",
       "      <th>&gt;chr10:100344973-100346973</th>\n",
       "      <td>chr10</td>\n",
       "      <td>100344973</td>\n",
       "      <td>100346973</td>\n",
       "      <td>ENSMUSG00000112931</td>\n",
       "      <td>Gm4303</td>\n",
       "    </tr>\n",
       "    <tr>\n",
       "      <th>&gt;chr10:100350094-100352094</th>\n",
       "      <td>chr10</td>\n",
       "      <td>100350094</td>\n",
       "      <td>100352094</td>\n",
       "      <td>ENSMUSG00000112856</td>\n",
       "      <td>Gm4305</td>\n",
       "    </tr>\n",
       "  </tbody>\n",
       "</table>\n",
       "</div>"
      ],
      "text/plain": [
       "                                0          1          2                   3  \\\n",
       "kmer_format                                                                   \n",
       ">chr10:100014631-100016631  chr10  100014631  100016631  ENSMUSG00000019966   \n",
       ">chr10:100334677-100336677  chr10  100334677  100336677  ENSMUSG00000094314   \n",
       ">chr10:100339837-100341837  chr10  100339837  100341837  ENSMUSG00000091101   \n",
       ">chr10:100344973-100346973  chr10  100344973  100346973  ENSMUSG00000112931   \n",
       ">chr10:100350094-100352094  chr10  100350094  100352094  ENSMUSG00000112856   \n",
       "\n",
       "                                 4  \n",
       "kmer_format                         \n",
       ">chr10:100014631-100016631    Kitl  \n",
       ">chr10:100334677-100336677  Gm4301  \n",
       ">chr10:100339837-100341837  Gm4302  \n",
       ">chr10:100344973-100346973  Gm4303  \n",
       ">chr10:100350094-100352094  Gm4305  "
      ]
     },
     "execution_count": 198,
     "metadata": {},
     "output_type": "execute_result"
    }
   ],
   "source": [
    "use_genes.head()"
   ]
  },
  {
   "cell_type": "code",
   "execution_count": 199,
   "metadata": {},
   "outputs": [
    {
     "data": {
      "text/plain": [
       "(21767, 5)"
      ]
     },
     "execution_count": 199,
     "metadata": {},
     "output_type": "execute_result"
    }
   ],
   "source": [
    "use_genes.shape"
   ]
  },
  {
   "cell_type": "code",
   "execution_count": 200,
   "metadata": {},
   "outputs": [
    {
     "data": {
      "text/plain": [
       "(21755, 1360)"
      ]
     },
     "execution_count": 200,
     "metadata": {},
     "output_type": "execute_result"
    }
   ],
   "source": [
    "promoter_kmers.shape"
   ]
  },
  {
   "cell_type": "code",
   "execution_count": 201,
   "metadata": {},
   "outputs": [
    {
     "data": {
      "text/plain": [
       "21767"
      ]
     },
     "execution_count": 201,
     "metadata": {},
     "output_type": "execute_result"
    }
   ],
   "source": [
    "np.sum(use_genes.index.isin(promoter_kmers.index))"
   ]
  },
  {
   "cell_type": "code",
   "execution_count": 202,
   "metadata": {},
   "outputs": [],
   "source": [
    "use_genes = use_genes[~use_genes.index.duplicated()]"
   ]
  },
  {
   "cell_type": "code",
   "execution_count": 203,
   "metadata": {},
   "outputs": [],
   "source": [
    "promoter_kmers['gene'] = use_genes[3].values"
   ]
  },
  {
   "cell_type": "code",
   "execution_count": 204,
   "metadata": {},
   "outputs": [
    {
     "data": {
      "text/html": [
       "<div>\n",
       "<style scoped>\n",
       "    .dataframe tbody tr th:only-of-type {\n",
       "        vertical-align: middle;\n",
       "    }\n",
       "\n",
       "    .dataframe tbody tr th {\n",
       "        vertical-align: top;\n",
       "    }\n",
       "\n",
       "    .dataframe thead th {\n",
       "        text-align: right;\n",
       "    }\n",
       "</style>\n",
       "<table border=\"1\" class=\"dataframe\">\n",
       "  <thead>\n",
       "    <tr style=\"text-align: right;\">\n",
       "      <th></th>\n",
       "      <th>AA</th>\n",
       "      <th>AC</th>\n",
       "      <th>AG</th>\n",
       "      <th>AT</th>\n",
       "      <th>CA</th>\n",
       "      <th>CC</th>\n",
       "      <th>CG</th>\n",
       "      <th>CT</th>\n",
       "      <th>GA</th>\n",
       "      <th>GC</th>\n",
       "      <th>...</th>\n",
       "      <th>TTTCT</th>\n",
       "      <th>TTTGA</th>\n",
       "      <th>TTTGC</th>\n",
       "      <th>TTTGG</th>\n",
       "      <th>TTTGT</th>\n",
       "      <th>TTTTA</th>\n",
       "      <th>TTTTC</th>\n",
       "      <th>TTTTG</th>\n",
       "      <th>TTTTT</th>\n",
       "      <th>gene</th>\n",
       "    </tr>\n",
       "    <tr>\n",
       "      <th>0</th>\n",
       "      <th></th>\n",
       "      <th></th>\n",
       "      <th></th>\n",
       "      <th></th>\n",
       "      <th></th>\n",
       "      <th></th>\n",
       "      <th></th>\n",
       "      <th></th>\n",
       "      <th></th>\n",
       "      <th></th>\n",
       "      <th></th>\n",
       "      <th></th>\n",
       "      <th></th>\n",
       "      <th></th>\n",
       "      <th></th>\n",
       "      <th></th>\n",
       "      <th></th>\n",
       "      <th></th>\n",
       "      <th></th>\n",
       "      <th></th>\n",
       "      <th></th>\n",
       "    </tr>\n",
       "  </thead>\n",
       "  <tbody>\n",
       "    <tr>\n",
       "      <th>&gt;chr10:100014631-100016631</th>\n",
       "      <td>303.0</td>\n",
       "      <td>187.0</td>\n",
       "      <td>288.0</td>\n",
       "      <td>72.0</td>\n",
       "      <td>247.0</td>\n",
       "      <td>329.0</td>\n",
       "      <td>107.0</td>\n",
       "      <td>288.0</td>\n",
       "      <td>233.0</td>\n",
       "      <td>164.0</td>\n",
       "      <td>...</td>\n",
       "      <td>16.0</td>\n",
       "      <td>3.0</td>\n",
       "      <td>4.0</td>\n",
       "      <td>5.0</td>\n",
       "      <td>4.0</td>\n",
       "      <td>7.0</td>\n",
       "      <td>18.0</td>\n",
       "      <td>8.0</td>\n",
       "      <td>24.0</td>\n",
       "      <td>ENSMUSG00000019966</td>\n",
       "    </tr>\n",
       "    <tr>\n",
       "      <th>&gt;chr10:100334677-100336677</th>\n",
       "      <td>323.0</td>\n",
       "      <td>202.0</td>\n",
       "      <td>331.0</td>\n",
       "      <td>119.0</td>\n",
       "      <td>340.0</td>\n",
       "      <td>201.0</td>\n",
       "      <td>17.0</td>\n",
       "      <td>331.0</td>\n",
       "      <td>247.0</td>\n",
       "      <td>128.0</td>\n",
       "      <td>...</td>\n",
       "      <td>3.0</td>\n",
       "      <td>10.0</td>\n",
       "      <td>7.0</td>\n",
       "      <td>4.0</td>\n",
       "      <td>11.0</td>\n",
       "      <td>13.0</td>\n",
       "      <td>4.0</td>\n",
       "      <td>9.0</td>\n",
       "      <td>12.0</td>\n",
       "      <td>ENSMUSG00000094314</td>\n",
       "    </tr>\n",
       "    <tr>\n",
       "      <th>&gt;chr10:100339837-100341837</th>\n",
       "      <td>320.0</td>\n",
       "      <td>201.0</td>\n",
       "      <td>328.0</td>\n",
       "      <td>122.0</td>\n",
       "      <td>342.0</td>\n",
       "      <td>201.0</td>\n",
       "      <td>18.0</td>\n",
       "      <td>328.0</td>\n",
       "      <td>242.0</td>\n",
       "      <td>131.0</td>\n",
       "      <td>...</td>\n",
       "      <td>3.0</td>\n",
       "      <td>10.0</td>\n",
       "      <td>6.0</td>\n",
       "      <td>4.0</td>\n",
       "      <td>11.0</td>\n",
       "      <td>13.0</td>\n",
       "      <td>4.0</td>\n",
       "      <td>10.0</td>\n",
       "      <td>12.0</td>\n",
       "      <td>ENSMUSG00000091101</td>\n",
       "    </tr>\n",
       "    <tr>\n",
       "      <th>&gt;chr10:100344973-100346973</th>\n",
       "      <td>333.0</td>\n",
       "      <td>207.0</td>\n",
       "      <td>324.0</td>\n",
       "      <td>119.0</td>\n",
       "      <td>329.0</td>\n",
       "      <td>205.0</td>\n",
       "      <td>20.0</td>\n",
       "      <td>324.0</td>\n",
       "      <td>246.0</td>\n",
       "      <td>120.0</td>\n",
       "      <td>...</td>\n",
       "      <td>4.0</td>\n",
       "      <td>11.0</td>\n",
       "      <td>6.0</td>\n",
       "      <td>4.0</td>\n",
       "      <td>10.0</td>\n",
       "      <td>12.0</td>\n",
       "      <td>5.0</td>\n",
       "      <td>12.0</td>\n",
       "      <td>12.0</td>\n",
       "      <td>ENSMUSG00000112931</td>\n",
       "    </tr>\n",
       "    <tr>\n",
       "      <th>&gt;chr10:100350094-100352094</th>\n",
       "      <td>333.0</td>\n",
       "      <td>207.0</td>\n",
       "      <td>324.0</td>\n",
       "      <td>119.0</td>\n",
       "      <td>329.0</td>\n",
       "      <td>205.0</td>\n",
       "      <td>20.0</td>\n",
       "      <td>324.0</td>\n",
       "      <td>246.0</td>\n",
       "      <td>120.0</td>\n",
       "      <td>...</td>\n",
       "      <td>4.0</td>\n",
       "      <td>11.0</td>\n",
       "      <td>6.0</td>\n",
       "      <td>4.0</td>\n",
       "      <td>10.0</td>\n",
       "      <td>12.0</td>\n",
       "      <td>5.0</td>\n",
       "      <td>12.0</td>\n",
       "      <td>12.0</td>\n",
       "      <td>ENSMUSG00000112856</td>\n",
       "    </tr>\n",
       "  </tbody>\n",
       "</table>\n",
       "<p>5 rows × 1361 columns</p>\n",
       "</div>"
      ],
      "text/plain": [
       "                               AA     AC     AG     AT     CA     CC     CG  \\\n",
       "0                                                                             \n",
       ">chr10:100014631-100016631  303.0  187.0  288.0   72.0  247.0  329.0  107.0   \n",
       ">chr10:100334677-100336677  323.0  202.0  331.0  119.0  340.0  201.0   17.0   \n",
       ">chr10:100339837-100341837  320.0  201.0  328.0  122.0  342.0  201.0   18.0   \n",
       ">chr10:100344973-100346973  333.0  207.0  324.0  119.0  329.0  205.0   20.0   \n",
       ">chr10:100350094-100352094  333.0  207.0  324.0  119.0  329.0  205.0   20.0   \n",
       "\n",
       "                               CT     GA     GC  ...  TTTCT  TTTGA  TTTGC  \\\n",
       "0                                                ...                        \n",
       ">chr10:100014631-100016631  288.0  233.0  164.0  ...   16.0    3.0    4.0   \n",
       ">chr10:100334677-100336677  331.0  247.0  128.0  ...    3.0   10.0    7.0   \n",
       ">chr10:100339837-100341837  328.0  242.0  131.0  ...    3.0   10.0    6.0   \n",
       ">chr10:100344973-100346973  324.0  246.0  120.0  ...    4.0   11.0    6.0   \n",
       ">chr10:100350094-100352094  324.0  246.0  120.0  ...    4.0   11.0    6.0   \n",
       "\n",
       "                            TTTGG  TTTGT  TTTTA  TTTTC  TTTTG  TTTTT  \\\n",
       "0                                                                      \n",
       ">chr10:100014631-100016631    5.0    4.0    7.0   18.0    8.0   24.0   \n",
       ">chr10:100334677-100336677    4.0   11.0   13.0    4.0    9.0   12.0   \n",
       ">chr10:100339837-100341837    4.0   11.0   13.0    4.0   10.0   12.0   \n",
       ">chr10:100344973-100346973    4.0   10.0   12.0    5.0   12.0   12.0   \n",
       ">chr10:100350094-100352094    4.0   10.0   12.0    5.0   12.0   12.0   \n",
       "\n",
       "                                          gene  \n",
       "0                                               \n",
       ">chr10:100014631-100016631  ENSMUSG00000019966  \n",
       ">chr10:100334677-100336677  ENSMUSG00000094314  \n",
       ">chr10:100339837-100341837  ENSMUSG00000091101  \n",
       ">chr10:100344973-100346973  ENSMUSG00000112931  \n",
       ">chr10:100350094-100352094  ENSMUSG00000112856  \n",
       "\n",
       "[5 rows x 1361 columns]"
      ]
     },
     "execution_count": 204,
     "metadata": {},
     "output_type": "execute_result"
    }
   ],
   "source": [
    "promoter_kmers.head()"
   ]
  },
  {
   "cell_type": "code",
   "execution_count": 205,
   "metadata": {},
   "outputs": [
    {
     "data": {
      "text/html": [
       "<div>\n",
       "<style scoped>\n",
       "    .dataframe tbody tr th:only-of-type {\n",
       "        vertical-align: middle;\n",
       "    }\n",
       "\n",
       "    .dataframe tbody tr th {\n",
       "        vertical-align: top;\n",
       "    }\n",
       "\n",
       "    .dataframe thead th {\n",
       "        text-align: right;\n",
       "    }\n",
       "</style>\n",
       "<table border=\"1\" class=\"dataframe\">\n",
       "  <thead>\n",
       "    <tr style=\"text-align: right;\">\n",
       "      <th></th>\n",
       "      <th>AA</th>\n",
       "      <th>AC</th>\n",
       "      <th>AG</th>\n",
       "      <th>AT</th>\n",
       "      <th>CA</th>\n",
       "      <th>CC</th>\n",
       "      <th>CG</th>\n",
       "      <th>CT</th>\n",
       "      <th>GA</th>\n",
       "      <th>GC</th>\n",
       "      <th>...</th>\n",
       "      <th>TTTCG</th>\n",
       "      <th>TTTCT</th>\n",
       "      <th>TTTGA</th>\n",
       "      <th>TTTGC</th>\n",
       "      <th>TTTGG</th>\n",
       "      <th>TTTGT</th>\n",
       "      <th>TTTTA</th>\n",
       "      <th>TTTTC</th>\n",
       "      <th>TTTTG</th>\n",
       "      <th>TTTTT</th>\n",
       "    </tr>\n",
       "    <tr>\n",
       "      <th>0</th>\n",
       "      <th></th>\n",
       "      <th></th>\n",
       "      <th></th>\n",
       "      <th></th>\n",
       "      <th></th>\n",
       "      <th></th>\n",
       "      <th></th>\n",
       "      <th></th>\n",
       "      <th></th>\n",
       "      <th></th>\n",
       "      <th></th>\n",
       "      <th></th>\n",
       "      <th></th>\n",
       "      <th></th>\n",
       "      <th></th>\n",
       "      <th></th>\n",
       "      <th></th>\n",
       "      <th></th>\n",
       "      <th></th>\n",
       "      <th></th>\n",
       "      <th></th>\n",
       "    </tr>\n",
       "  </thead>\n",
       "  <tbody>\n",
       "    <tr>\n",
       "      <th>&gt;chr10:100009350-100011350</th>\n",
       "      <td>335</td>\n",
       "      <td>246</td>\n",
       "      <td>281</td>\n",
       "      <td>131</td>\n",
       "      <td>327</td>\n",
       "      <td>194</td>\n",
       "      <td>37</td>\n",
       "      <td>281</td>\n",
       "      <td>225</td>\n",
       "      <td>105</td>\n",
       "      <td>...</td>\n",
       "      <td>1.0</td>\n",
       "      <td>5.0</td>\n",
       "      <td>6.0</td>\n",
       "      <td>11.0</td>\n",
       "      <td>5.0</td>\n",
       "      <td>7.0</td>\n",
       "      <td>7.0</td>\n",
       "      <td>6.0</td>\n",
       "      <td>9.0</td>\n",
       "      <td>19.0</td>\n",
       "    </tr>\n",
       "    <tr>\n",
       "      <th>&gt;chr10:100018062-100020062</th>\n",
       "      <td>447</td>\n",
       "      <td>208</td>\n",
       "      <td>269</td>\n",
       "      <td>141</td>\n",
       "      <td>280</td>\n",
       "      <td>193</td>\n",
       "      <td>26</td>\n",
       "      <td>269</td>\n",
       "      <td>231</td>\n",
       "      <td>80</td>\n",
       "      <td>...</td>\n",
       "      <td>1.0</td>\n",
       "      <td>13.0</td>\n",
       "      <td>10.0</td>\n",
       "      <td>7.0</td>\n",
       "      <td>6.0</td>\n",
       "      <td>12.0</td>\n",
       "      <td>17.0</td>\n",
       "      <td>12.0</td>\n",
       "      <td>9.0</td>\n",
       "      <td>46.0</td>\n",
       "    </tr>\n",
       "    <tr>\n",
       "      <th>&gt;chr10:100018734-100020734</th>\n",
       "      <td>404</td>\n",
       "      <td>229</td>\n",
       "      <td>300</td>\n",
       "      <td>116</td>\n",
       "      <td>284</td>\n",
       "      <td>189</td>\n",
       "      <td>31</td>\n",
       "      <td>300</td>\n",
       "      <td>247</td>\n",
       "      <td>85</td>\n",
       "      <td>...</td>\n",
       "      <td>2.0</td>\n",
       "      <td>13.0</td>\n",
       "      <td>6.0</td>\n",
       "      <td>4.0</td>\n",
       "      <td>8.0</td>\n",
       "      <td>12.0</td>\n",
       "      <td>13.0</td>\n",
       "      <td>9.0</td>\n",
       "      <td>5.0</td>\n",
       "      <td>44.0</td>\n",
       "    </tr>\n",
       "    <tr>\n",
       "      <th>&gt;chr10:100019262-100021262</th>\n",
       "      <td>419</td>\n",
       "      <td>232</td>\n",
       "      <td>289</td>\n",
       "      <td>107</td>\n",
       "      <td>289</td>\n",
       "      <td>205</td>\n",
       "      <td>31</td>\n",
       "      <td>289</td>\n",
       "      <td>242</td>\n",
       "      <td>83</td>\n",
       "      <td>...</td>\n",
       "      <td>3.0</td>\n",
       "      <td>11.0</td>\n",
       "      <td>6.0</td>\n",
       "      <td>5.0</td>\n",
       "      <td>10.0</td>\n",
       "      <td>21.0</td>\n",
       "      <td>8.0</td>\n",
       "      <td>10.0</td>\n",
       "      <td>13.0</td>\n",
       "      <td>34.0</td>\n",
       "    </tr>\n",
       "    <tr>\n",
       "      <th>&gt;chr10:100021578-100023578</th>\n",
       "      <td>275</td>\n",
       "      <td>236</td>\n",
       "      <td>323</td>\n",
       "      <td>96</td>\n",
       "      <td>339</td>\n",
       "      <td>265</td>\n",
       "      <td>23</td>\n",
       "      <td>323</td>\n",
       "      <td>250</td>\n",
       "      <td>111</td>\n",
       "      <td>...</td>\n",
       "      <td>1.0</td>\n",
       "      <td>9.0</td>\n",
       "      <td>4.0</td>\n",
       "      <td>9.0</td>\n",
       "      <td>3.0</td>\n",
       "      <td>10.0</td>\n",
       "      <td>2.0</td>\n",
       "      <td>7.0</td>\n",
       "      <td>9.0</td>\n",
       "      <td>7.0</td>\n",
       "    </tr>\n",
       "  </tbody>\n",
       "</table>\n",
       "<p>5 rows × 1360 columns</p>\n",
       "</div>"
      ],
      "text/plain": [
       "                             AA   AC   AG   AT   CA   CC  CG   CT   GA   GC  \\\n",
       "0                                                                             \n",
       ">chr10:100009350-100011350  335  246  281  131  327  194  37  281  225  105   \n",
       ">chr10:100018062-100020062  447  208  269  141  280  193  26  269  231   80   \n",
       ">chr10:100018734-100020734  404  229  300  116  284  189  31  300  247   85   \n",
       ">chr10:100019262-100021262  419  232  289  107  289  205  31  289  242   83   \n",
       ">chr10:100021578-100023578  275  236  323   96  339  265  23  323  250  111   \n",
       "\n",
       "                            ...  TTTCG  TTTCT  TTTGA  TTTGC  TTTGG  TTTGT  \\\n",
       "0                           ...                                             \n",
       ">chr10:100009350-100011350  ...    1.0    5.0    6.0   11.0    5.0    7.0   \n",
       ">chr10:100018062-100020062  ...    1.0   13.0   10.0    7.0    6.0   12.0   \n",
       ">chr10:100018734-100020734  ...    2.0   13.0    6.0    4.0    8.0   12.0   \n",
       ">chr10:100019262-100021262  ...    3.0   11.0    6.0    5.0   10.0   21.0   \n",
       ">chr10:100021578-100023578  ...    1.0    9.0    4.0    9.0    3.0   10.0   \n",
       "\n",
       "                            TTTTA  TTTTC  TTTTG  TTTTT  \n",
       "0                                                       \n",
       ">chr10:100009350-100011350    7.0    6.0    9.0   19.0  \n",
       ">chr10:100018062-100020062   17.0   12.0    9.0   46.0  \n",
       ">chr10:100018734-100020734   13.0    9.0    5.0   44.0  \n",
       ">chr10:100019262-100021262    8.0   10.0   13.0   34.0  \n",
       ">chr10:100021578-100023578    2.0    7.0    9.0    7.0  \n",
       "\n",
       "[5 rows x 1360 columns]"
      ]
     },
     "execution_count": 205,
     "metadata": {},
     "output_type": "execute_result"
    }
   ],
   "source": [
    "enhancer_kmers.head()"
   ]
  },
  {
   "cell_type": "code",
   "execution_count": 206,
   "metadata": {},
   "outputs": [
    {
     "data": {
      "text/html": [
       "<div>\n",
       "<style scoped>\n",
       "    .dataframe tbody tr th:only-of-type {\n",
       "        vertical-align: middle;\n",
       "    }\n",
       "\n",
       "    .dataframe tbody tr th {\n",
       "        vertical-align: top;\n",
       "    }\n",
       "\n",
       "    .dataframe thead th {\n",
       "        text-align: right;\n",
       "    }\n",
       "</style>\n",
       "<table border=\"1\" class=\"dataframe\">\n",
       "  <thead>\n",
       "    <tr style=\"text-align: right;\">\n",
       "      <th></th>\n",
       "      <th>0</th>\n",
       "      <th>1</th>\n",
       "      <th>2</th>\n",
       "      <th>3</th>\n",
       "      <th>kmer_format</th>\n",
       "      <th>paired_gene</th>\n",
       "    </tr>\n",
       "  </thead>\n",
       "  <tbody>\n",
       "    <tr>\n",
       "      <th>4988</th>\n",
       "      <td>chr1</td>\n",
       "      <td>60580317</td>\n",
       "      <td>60582317</td>\n",
       "      <td>NaN</td>\n",
       "      <td>&gt;chr1:60580317-60582317</td>\n",
       "      <td>ENSMUSG00000026782</td>\n",
       "    </tr>\n",
       "    <tr>\n",
       "      <th>4595</th>\n",
       "      <td>chr1</td>\n",
       "      <td>56923214</td>\n",
       "      <td>56925214</td>\n",
       "      <td>NaN</td>\n",
       "      <td>&gt;chr1:56923214-56925214</td>\n",
       "      <td>ENSMUSG00000087022</td>\n",
       "    </tr>\n",
       "    <tr>\n",
       "      <th>152172</th>\n",
       "      <td>chr3</td>\n",
       "      <td>154171659</td>\n",
       "      <td>154173659</td>\n",
       "      <td>NaN</td>\n",
       "      <td>&gt;chr3:154171659-154173659</td>\n",
       "      <td>ENSMUSG00000028360</td>\n",
       "    </tr>\n",
       "    <tr>\n",
       "      <th>78537</th>\n",
       "      <td>chr15</td>\n",
       "      <td>27612937</td>\n",
       "      <td>27614937</td>\n",
       "      <td>NaN</td>\n",
       "      <td>&gt;chr15:27612937-27614937</td>\n",
       "      <td>ENSMUSG00000056069</td>\n",
       "    </tr>\n",
       "    <tr>\n",
       "      <th>130920</th>\n",
       "      <td>chr2</td>\n",
       "      <td>104392943</td>\n",
       "      <td>104394943</td>\n",
       "      <td>NaN</td>\n",
       "      <td>&gt;chr2:104392943-104394943</td>\n",
       "      <td>ENSMUSG00000068373</td>\n",
       "    </tr>\n",
       "  </tbody>\n",
       "</table>\n",
       "</div>"
      ],
      "text/plain": [
       "            0          1          2   3                kmer_format  \\\n",
       "4988     chr1   60580317   60582317 NaN    >chr1:60580317-60582317   \n",
       "4595     chr1   56923214   56925214 NaN    >chr1:56923214-56925214   \n",
       "152172   chr3  154171659  154173659 NaN  >chr3:154171659-154173659   \n",
       "78537   chr15   27612937   27614937 NaN   >chr15:27612937-27614937   \n",
       "130920   chr2  104392943  104394943 NaN  >chr2:104392943-104394943   \n",
       "\n",
       "               paired_gene  \n",
       "4988    ENSMUSG00000026782  \n",
       "4595    ENSMUSG00000087022  \n",
       "152172  ENSMUSG00000028360  \n",
       "78537   ENSMUSG00000056069  \n",
       "130920  ENSMUSG00000068373  "
      ]
     },
     "execution_count": 206,
     "metadata": {},
     "output_type": "execute_result"
    }
   ],
   "source": [
    "use_enhs.head()"
   ]
  },
  {
   "cell_type": "code",
   "execution_count": 207,
   "metadata": {},
   "outputs": [],
   "source": [
    "use_kmer_enhs = enhancer_kmers.loc[use_enhs.kmer_format]"
   ]
  },
  {
   "cell_type": "code",
   "execution_count": 208,
   "metadata": {},
   "outputs": [
    {
     "data": {
      "text/plain": [
       "(10696, 1360)"
      ]
     },
     "execution_count": 208,
     "metadata": {},
     "output_type": "execute_result"
    }
   ],
   "source": [
    "use_kmer_enhs.shape"
   ]
  },
  {
   "cell_type": "code",
   "execution_count": 209,
   "metadata": {},
   "outputs": [
    {
     "data": {
      "text/plain": [
       "(10696, 6)"
      ]
     },
     "execution_count": 209,
     "metadata": {},
     "output_type": "execute_result"
    }
   ],
   "source": [
    "use_enhs.shape"
   ]
  },
  {
   "cell_type": "code",
   "execution_count": 210,
   "metadata": {},
   "outputs": [],
   "source": [
    "use_kmer_enhs['paired_gene'] = use_enhs['paired_gene'].values"
   ]
  },
  {
   "cell_type": "code",
   "execution_count": 211,
   "metadata": {},
   "outputs": [
    {
     "data": {
      "text/html": [
       "<div>\n",
       "<style scoped>\n",
       "    .dataframe tbody tr th:only-of-type {\n",
       "        vertical-align: middle;\n",
       "    }\n",
       "\n",
       "    .dataframe tbody tr th {\n",
       "        vertical-align: top;\n",
       "    }\n",
       "\n",
       "    .dataframe thead th {\n",
       "        text-align: right;\n",
       "    }\n",
       "</style>\n",
       "<table border=\"1\" class=\"dataframe\">\n",
       "  <thead>\n",
       "    <tr style=\"text-align: right;\">\n",
       "      <th></th>\n",
       "      <th>AA</th>\n",
       "      <th>AC</th>\n",
       "      <th>AG</th>\n",
       "      <th>AT</th>\n",
       "      <th>CA</th>\n",
       "      <th>CC</th>\n",
       "      <th>CG</th>\n",
       "      <th>CT</th>\n",
       "      <th>GA</th>\n",
       "      <th>GC</th>\n",
       "      <th>...</th>\n",
       "      <th>TTTCT</th>\n",
       "      <th>TTTGA</th>\n",
       "      <th>TTTGC</th>\n",
       "      <th>TTTGG</th>\n",
       "      <th>TTTGT</th>\n",
       "      <th>TTTTA</th>\n",
       "      <th>TTTTC</th>\n",
       "      <th>TTTTG</th>\n",
       "      <th>TTTTT</th>\n",
       "      <th>paired_gene</th>\n",
       "    </tr>\n",
       "    <tr>\n",
       "      <th>0</th>\n",
       "      <th></th>\n",
       "      <th></th>\n",
       "      <th></th>\n",
       "      <th></th>\n",
       "      <th></th>\n",
       "      <th></th>\n",
       "      <th></th>\n",
       "      <th></th>\n",
       "      <th></th>\n",
       "      <th></th>\n",
       "      <th></th>\n",
       "      <th></th>\n",
       "      <th></th>\n",
       "      <th></th>\n",
       "      <th></th>\n",
       "      <th></th>\n",
       "      <th></th>\n",
       "      <th></th>\n",
       "      <th></th>\n",
       "      <th></th>\n",
       "      <th></th>\n",
       "    </tr>\n",
       "  </thead>\n",
       "  <tbody>\n",
       "    <tr>\n",
       "      <th>&gt;chr1:60580317-60582317</th>\n",
       "      <td>338</td>\n",
       "      <td>228</td>\n",
       "      <td>340</td>\n",
       "      <td>131</td>\n",
       "      <td>303</td>\n",
       "      <td>150</td>\n",
       "      <td>19</td>\n",
       "      <td>340</td>\n",
       "      <td>294</td>\n",
       "      <td>79</td>\n",
       "      <td>...</td>\n",
       "      <td>11.0</td>\n",
       "      <td>4.0</td>\n",
       "      <td>5.0</td>\n",
       "      <td>5.0</td>\n",
       "      <td>8.0</td>\n",
       "      <td>7.0</td>\n",
       "      <td>12.0</td>\n",
       "      <td>10.0</td>\n",
       "      <td>17.0</td>\n",
       "      <td>ENSMUSG00000026782</td>\n",
       "    </tr>\n",
       "    <tr>\n",
       "      <th>&gt;chr1:56923214-56925214</th>\n",
       "      <td>375</td>\n",
       "      <td>216</td>\n",
       "      <td>302</td>\n",
       "      <td>140</td>\n",
       "      <td>284</td>\n",
       "      <td>211</td>\n",
       "      <td>15</td>\n",
       "      <td>302</td>\n",
       "      <td>247</td>\n",
       "      <td>76</td>\n",
       "      <td>...</td>\n",
       "      <td>10.0</td>\n",
       "      <td>9.0</td>\n",
       "      <td>3.0</td>\n",
       "      <td>8.0</td>\n",
       "      <td>13.0</td>\n",
       "      <td>9.0</td>\n",
       "      <td>7.0</td>\n",
       "      <td>14.0</td>\n",
       "      <td>18.0</td>\n",
       "      <td>ENSMUSG00000087022</td>\n",
       "    </tr>\n",
       "    <tr>\n",
       "      <th>&gt;chr3:154171659-154173659</th>\n",
       "      <td>243</td>\n",
       "      <td>255</td>\n",
       "      <td>285</td>\n",
       "      <td>141</td>\n",
       "      <td>369</td>\n",
       "      <td>229</td>\n",
       "      <td>26</td>\n",
       "      <td>285</td>\n",
       "      <td>244</td>\n",
       "      <td>103</td>\n",
       "      <td>...</td>\n",
       "      <td>7.0</td>\n",
       "      <td>4.0</td>\n",
       "      <td>5.0</td>\n",
       "      <td>6.0</td>\n",
       "      <td>5.0</td>\n",
       "      <td>4.0</td>\n",
       "      <td>1.0</td>\n",
       "      <td>7.0</td>\n",
       "      <td>1.0</td>\n",
       "      <td>ENSMUSG00000028360</td>\n",
       "    </tr>\n",
       "    <tr>\n",
       "      <th>&gt;chr15:27612937-27614937</th>\n",
       "      <td>270</td>\n",
       "      <td>270</td>\n",
       "      <td>355</td>\n",
       "      <td>85</td>\n",
       "      <td>353</td>\n",
       "      <td>188</td>\n",
       "      <td>19</td>\n",
       "      <td>355</td>\n",
       "      <td>258</td>\n",
       "      <td>109</td>\n",
       "      <td>...</td>\n",
       "      <td>17.0</td>\n",
       "      <td>6.0</td>\n",
       "      <td>3.0</td>\n",
       "      <td>5.0</td>\n",
       "      <td>3.0</td>\n",
       "      <td>3.0</td>\n",
       "      <td>10.0</td>\n",
       "      <td>6.0</td>\n",
       "      <td>9.0</td>\n",
       "      <td>ENSMUSG00000056069</td>\n",
       "    </tr>\n",
       "    <tr>\n",
       "      <th>&gt;chr2:104392943-104394943</th>\n",
       "      <td>246</td>\n",
       "      <td>240</td>\n",
       "      <td>278</td>\n",
       "      <td>178</td>\n",
       "      <td>326</td>\n",
       "      <td>227</td>\n",
       "      <td>24</td>\n",
       "      <td>278</td>\n",
       "      <td>228</td>\n",
       "      <td>92</td>\n",
       "      <td>...</td>\n",
       "      <td>2.0</td>\n",
       "      <td>7.0</td>\n",
       "      <td>3.0</td>\n",
       "      <td>7.0</td>\n",
       "      <td>5.0</td>\n",
       "      <td>6.0</td>\n",
       "      <td>4.0</td>\n",
       "      <td>6.0</td>\n",
       "      <td>9.0</td>\n",
       "      <td>ENSMUSG00000068373</td>\n",
       "    </tr>\n",
       "  </tbody>\n",
       "</table>\n",
       "<p>5 rows × 1361 columns</p>\n",
       "</div>"
      ],
      "text/plain": [
       "                            AA   AC   AG   AT   CA   CC  CG   CT   GA   GC  \\\n",
       "0                                                                            \n",
       ">chr1:60580317-60582317    338  228  340  131  303  150  19  340  294   79   \n",
       ">chr1:56923214-56925214    375  216  302  140  284  211  15  302  247   76   \n",
       ">chr3:154171659-154173659  243  255  285  141  369  229  26  285  244  103   \n",
       ">chr15:27612937-27614937   270  270  355   85  353  188  19  355  258  109   \n",
       ">chr2:104392943-104394943  246  240  278  178  326  227  24  278  228   92   \n",
       "\n",
       "                           ...  TTTCT  TTTGA  TTTGC  TTTGG  TTTGT  TTTTA  \\\n",
       "0                          ...                                             \n",
       ">chr1:60580317-60582317    ...   11.0    4.0    5.0    5.0    8.0    7.0   \n",
       ">chr1:56923214-56925214    ...   10.0    9.0    3.0    8.0   13.0    9.0   \n",
       ">chr3:154171659-154173659  ...    7.0    4.0    5.0    6.0    5.0    4.0   \n",
       ">chr15:27612937-27614937   ...   17.0    6.0    3.0    5.0    3.0    3.0   \n",
       ">chr2:104392943-104394943  ...    2.0    7.0    3.0    7.0    5.0    6.0   \n",
       "\n",
       "                           TTTTC  TTTTG  TTTTT         paired_gene  \n",
       "0                                                                   \n",
       ">chr1:60580317-60582317     12.0   10.0   17.0  ENSMUSG00000026782  \n",
       ">chr1:56923214-56925214      7.0   14.0   18.0  ENSMUSG00000087022  \n",
       ">chr3:154171659-154173659    1.0    7.0    1.0  ENSMUSG00000028360  \n",
       ">chr15:27612937-27614937    10.0    6.0    9.0  ENSMUSG00000056069  \n",
       ">chr2:104392943-104394943    4.0    6.0    9.0  ENSMUSG00000068373  \n",
       "\n",
       "[5 rows x 1361 columns]"
      ]
     },
     "execution_count": 211,
     "metadata": {},
     "output_type": "execute_result"
    }
   ],
   "source": [
    "use_kmer_enhs.head()"
   ]
  },
  {
   "cell_type": "code",
   "execution_count": 212,
   "metadata": {},
   "outputs": [],
   "source": [
    "use_kmer_enhs.to_csv('/cndd2/ethan/projects/enh_gene_linkage/promoter_sequence/data/enhancer_kmers_concat_2kb.tsv', sep='\\t')"
   ]
  },
  {
   "cell_type": "code",
   "execution_count": 213,
   "metadata": {},
   "outputs": [],
   "source": [
    "promoter_kmers = promoter_kmers.set_index('gene')"
   ]
  },
  {
   "cell_type": "code",
   "execution_count": 214,
   "metadata": {},
   "outputs": [
    {
     "name": "stderr",
     "output_type": "stream",
     "text": [
      "/cndd/earmand/conda_envs/multiplex/lib/python3.7/site-packages/ipykernel_launcher.py:1: FutureWarning: \n",
      "Passing list-likes to .loc or [] with any missing label will raise\n",
      "KeyError in the future, you can use .reindex() as an alternative.\n",
      "\n",
      "See the documentation here:\n",
      "https://pandas.pydata.org/pandas-docs/stable/indexing.html#deprecate-loc-reindex-listlike\n",
      "  \"\"\"Entry point for launching an IPython kernel.\n"
     ]
    }
   ],
   "source": [
    "gene_pairs = promoter_kmers.loc[use_kmer_enhs.paired_gene]"
   ]
  },
  {
   "cell_type": "code",
   "execution_count": 215,
   "metadata": {},
   "outputs": [],
   "source": [
    "use_promoter_kmers = []\n",
    "missing_genes = []\n",
    "for i in use_kmer_enhs.paired_gene:\n",
    "    if i in promoter_kmers.index.tolist():\n",
    "        use_promoter_kmers.append(promoter_kmers.loc[i])\n",
    "    else: \n",
    "        missing_genes.append(i)"
   ]
  },
  {
   "cell_type": "code",
   "execution_count": 216,
   "metadata": {},
   "outputs": [
    {
     "data": {
      "text/plain": [
       "678"
      ]
     },
     "execution_count": 216,
     "metadata": {},
     "output_type": "execute_result"
    }
   ],
   "source": [
    "len(missing_genes)"
   ]
  },
  {
   "cell_type": "code",
   "execution_count": 217,
   "metadata": {},
   "outputs": [],
   "source": [
    "use_kmer_enhs = use_kmer_enhs.loc[~(use_kmer_enhs.paired_gene.isin(missing_genes))]"
   ]
  },
  {
   "cell_type": "code",
   "execution_count": 218,
   "metadata": {},
   "outputs": [
    {
     "data": {
      "text/plain": [
       "(10018, 1360)"
      ]
     },
     "execution_count": 218,
     "metadata": {},
     "output_type": "execute_result"
    }
   ],
   "source": [
    "use_promoter_kmers= np.array(use_promoter_kmers)\n",
    "use_promoter_kmers.shape"
   ]
  },
  {
   "cell_type": "code",
   "execution_count": 219,
   "metadata": {},
   "outputs": [
    {
     "name": "stdout",
     "output_type": "stream",
     "text": [
      "(10018, 1361)\n"
     ]
    },
    {
     "data": {
      "text/html": [
       "<div>\n",
       "<style scoped>\n",
       "    .dataframe tbody tr th:only-of-type {\n",
       "        vertical-align: middle;\n",
       "    }\n",
       "\n",
       "    .dataframe tbody tr th {\n",
       "        vertical-align: top;\n",
       "    }\n",
       "\n",
       "    .dataframe thead th {\n",
       "        text-align: right;\n",
       "    }\n",
       "</style>\n",
       "<table border=\"1\" class=\"dataframe\">\n",
       "  <thead>\n",
       "    <tr style=\"text-align: right;\">\n",
       "      <th></th>\n",
       "      <th>AA</th>\n",
       "      <th>AC</th>\n",
       "      <th>AG</th>\n",
       "      <th>AT</th>\n",
       "      <th>CA</th>\n",
       "      <th>CC</th>\n",
       "      <th>CG</th>\n",
       "      <th>CT</th>\n",
       "      <th>GA</th>\n",
       "      <th>GC</th>\n",
       "      <th>...</th>\n",
       "      <th>TTTCT</th>\n",
       "      <th>TTTGA</th>\n",
       "      <th>TTTGC</th>\n",
       "      <th>TTTGG</th>\n",
       "      <th>TTTGT</th>\n",
       "      <th>TTTTA</th>\n",
       "      <th>TTTTC</th>\n",
       "      <th>TTTTG</th>\n",
       "      <th>TTTTT</th>\n",
       "      <th>paired_gene</th>\n",
       "    </tr>\n",
       "    <tr>\n",
       "      <th>0</th>\n",
       "      <th></th>\n",
       "      <th></th>\n",
       "      <th></th>\n",
       "      <th></th>\n",
       "      <th></th>\n",
       "      <th></th>\n",
       "      <th></th>\n",
       "      <th></th>\n",
       "      <th></th>\n",
       "      <th></th>\n",
       "      <th></th>\n",
       "      <th></th>\n",
       "      <th></th>\n",
       "      <th></th>\n",
       "      <th></th>\n",
       "      <th></th>\n",
       "      <th></th>\n",
       "      <th></th>\n",
       "      <th></th>\n",
       "      <th></th>\n",
       "      <th></th>\n",
       "    </tr>\n",
       "  </thead>\n",
       "  <tbody>\n",
       "    <tr>\n",
       "      <th>&gt;chr1:60580317-60582317</th>\n",
       "      <td>338</td>\n",
       "      <td>228</td>\n",
       "      <td>340</td>\n",
       "      <td>131</td>\n",
       "      <td>303</td>\n",
       "      <td>150</td>\n",
       "      <td>19</td>\n",
       "      <td>340</td>\n",
       "      <td>294</td>\n",
       "      <td>79</td>\n",
       "      <td>...</td>\n",
       "      <td>11.0</td>\n",
       "      <td>4.0</td>\n",
       "      <td>5.0</td>\n",
       "      <td>5.0</td>\n",
       "      <td>8.0</td>\n",
       "      <td>7.0</td>\n",
       "      <td>12.0</td>\n",
       "      <td>10.0</td>\n",
       "      <td>17.0</td>\n",
       "      <td>ENSMUSG00000026782</td>\n",
       "    </tr>\n",
       "    <tr>\n",
       "      <th>&gt;chr3:154171659-154173659</th>\n",
       "      <td>243</td>\n",
       "      <td>255</td>\n",
       "      <td>285</td>\n",
       "      <td>141</td>\n",
       "      <td>369</td>\n",
       "      <td>229</td>\n",
       "      <td>26</td>\n",
       "      <td>285</td>\n",
       "      <td>244</td>\n",
       "      <td>103</td>\n",
       "      <td>...</td>\n",
       "      <td>7.0</td>\n",
       "      <td>4.0</td>\n",
       "      <td>5.0</td>\n",
       "      <td>6.0</td>\n",
       "      <td>5.0</td>\n",
       "      <td>4.0</td>\n",
       "      <td>1.0</td>\n",
       "      <td>7.0</td>\n",
       "      <td>1.0</td>\n",
       "      <td>ENSMUSG00000028360</td>\n",
       "    </tr>\n",
       "    <tr>\n",
       "      <th>&gt;chr15:27612937-27614937</th>\n",
       "      <td>270</td>\n",
       "      <td>270</td>\n",
       "      <td>355</td>\n",
       "      <td>85</td>\n",
       "      <td>353</td>\n",
       "      <td>188</td>\n",
       "      <td>19</td>\n",
       "      <td>355</td>\n",
       "      <td>258</td>\n",
       "      <td>109</td>\n",
       "      <td>...</td>\n",
       "      <td>17.0</td>\n",
       "      <td>6.0</td>\n",
       "      <td>3.0</td>\n",
       "      <td>5.0</td>\n",
       "      <td>3.0</td>\n",
       "      <td>3.0</td>\n",
       "      <td>10.0</td>\n",
       "      <td>6.0</td>\n",
       "      <td>9.0</td>\n",
       "      <td>ENSMUSG00000056069</td>\n",
       "    </tr>\n",
       "    <tr>\n",
       "      <th>&gt;chr2:104392943-104394943</th>\n",
       "      <td>246</td>\n",
       "      <td>240</td>\n",
       "      <td>278</td>\n",
       "      <td>178</td>\n",
       "      <td>326</td>\n",
       "      <td>227</td>\n",
       "      <td>24</td>\n",
       "      <td>278</td>\n",
       "      <td>228</td>\n",
       "      <td>92</td>\n",
       "      <td>...</td>\n",
       "      <td>2.0</td>\n",
       "      <td>7.0</td>\n",
       "      <td>3.0</td>\n",
       "      <td>7.0</td>\n",
       "      <td>5.0</td>\n",
       "      <td>6.0</td>\n",
       "      <td>4.0</td>\n",
       "      <td>6.0</td>\n",
       "      <td>9.0</td>\n",
       "      <td>ENSMUSG00000068373</td>\n",
       "    </tr>\n",
       "    <tr>\n",
       "      <th>&gt;chr13:92832262-92834262</th>\n",
       "      <td>340</td>\n",
       "      <td>212</td>\n",
       "      <td>289</td>\n",
       "      <td>122</td>\n",
       "      <td>301</td>\n",
       "      <td>247</td>\n",
       "      <td>38</td>\n",
       "      <td>289</td>\n",
       "      <td>245</td>\n",
       "      <td>105</td>\n",
       "      <td>...</td>\n",
       "      <td>7.0</td>\n",
       "      <td>8.0</td>\n",
       "      <td>5.0</td>\n",
       "      <td>10.0</td>\n",
       "      <td>6.0</td>\n",
       "      <td>11.0</td>\n",
       "      <td>8.0</td>\n",
       "      <td>7.0</td>\n",
       "      <td>13.0</td>\n",
       "      <td>ENSMUSG00000007617</td>\n",
       "    </tr>\n",
       "  </tbody>\n",
       "</table>\n",
       "<p>5 rows × 1361 columns</p>\n",
       "</div>"
      ],
      "text/plain": [
       "                            AA   AC   AG   AT   CA   CC  CG   CT   GA   GC  \\\n",
       "0                                                                            \n",
       ">chr1:60580317-60582317    338  228  340  131  303  150  19  340  294   79   \n",
       ">chr3:154171659-154173659  243  255  285  141  369  229  26  285  244  103   \n",
       ">chr15:27612937-27614937   270  270  355   85  353  188  19  355  258  109   \n",
       ">chr2:104392943-104394943  246  240  278  178  326  227  24  278  228   92   \n",
       ">chr13:92832262-92834262   340  212  289  122  301  247  38  289  245  105   \n",
       "\n",
       "                           ...  TTTCT  TTTGA  TTTGC  TTTGG  TTTGT  TTTTA  \\\n",
       "0                          ...                                             \n",
       ">chr1:60580317-60582317    ...   11.0    4.0    5.0    5.0    8.0    7.0   \n",
       ">chr3:154171659-154173659  ...    7.0    4.0    5.0    6.0    5.0    4.0   \n",
       ">chr15:27612937-27614937   ...   17.0    6.0    3.0    5.0    3.0    3.0   \n",
       ">chr2:104392943-104394943  ...    2.0    7.0    3.0    7.0    5.0    6.0   \n",
       ">chr13:92832262-92834262   ...    7.0    8.0    5.0   10.0    6.0   11.0   \n",
       "\n",
       "                           TTTTC  TTTTG  TTTTT         paired_gene  \n",
       "0                                                                   \n",
       ">chr1:60580317-60582317     12.0   10.0   17.0  ENSMUSG00000026782  \n",
       ">chr3:154171659-154173659    1.0    7.0    1.0  ENSMUSG00000028360  \n",
       ">chr15:27612937-27614937    10.0    6.0    9.0  ENSMUSG00000056069  \n",
       ">chr2:104392943-104394943    4.0    6.0    9.0  ENSMUSG00000068373  \n",
       ">chr13:92832262-92834262     8.0    7.0   13.0  ENSMUSG00000007617  \n",
       "\n",
       "[5 rows x 1361 columns]"
      ]
     },
     "execution_count": 219,
     "metadata": {},
     "output_type": "execute_result"
    }
   ],
   "source": [
    "print(use_kmer_enhs.shape)\n",
    "use_kmer_enhs.head()"
   ]
  },
  {
   "cell_type": "code",
   "execution_count": 220,
   "metadata": {},
   "outputs": [
    {
     "data": {
      "text/plain": [
       "(10018, 1361)"
      ]
     },
     "execution_count": 220,
     "metadata": {},
     "output_type": "execute_result"
    }
   ],
   "source": [
    "use_kmer_enhs.shape"
   ]
  },
  {
   "cell_type": "code",
   "execution_count": 221,
   "metadata": {},
   "outputs": [
    {
     "data": {
      "text/html": [
       "<div>\n",
       "<style scoped>\n",
       "    .dataframe tbody tr th:only-of-type {\n",
       "        vertical-align: middle;\n",
       "    }\n",
       "\n",
       "    .dataframe tbody tr th {\n",
       "        vertical-align: top;\n",
       "    }\n",
       "\n",
       "    .dataframe thead th {\n",
       "        text-align: right;\n",
       "    }\n",
       "</style>\n",
       "<table border=\"1\" class=\"dataframe\">\n",
       "  <thead>\n",
       "    <tr style=\"text-align: right;\">\n",
       "      <th></th>\n",
       "      <th>0</th>\n",
       "      <th>1</th>\n",
       "      <th>2</th>\n",
       "      <th>3</th>\n",
       "      <th>kmer_format</th>\n",
       "      <th>paired_gene</th>\n",
       "    </tr>\n",
       "  </thead>\n",
       "  <tbody>\n",
       "    <tr>\n",
       "      <th>4988</th>\n",
       "      <td>chr1</td>\n",
       "      <td>60580317</td>\n",
       "      <td>60582317</td>\n",
       "      <td>NaN</td>\n",
       "      <td>&gt;chr1:60580317-60582317</td>\n",
       "      <td>ENSMUSG00000026782</td>\n",
       "    </tr>\n",
       "    <tr>\n",
       "      <th>4595</th>\n",
       "      <td>chr1</td>\n",
       "      <td>56923214</td>\n",
       "      <td>56925214</td>\n",
       "      <td>NaN</td>\n",
       "      <td>&gt;chr1:56923214-56925214</td>\n",
       "      <td>ENSMUSG00000087022</td>\n",
       "    </tr>\n",
       "    <tr>\n",
       "      <th>152172</th>\n",
       "      <td>chr3</td>\n",
       "      <td>154171659</td>\n",
       "      <td>154173659</td>\n",
       "      <td>NaN</td>\n",
       "      <td>&gt;chr3:154171659-154173659</td>\n",
       "      <td>ENSMUSG00000028360</td>\n",
       "    </tr>\n",
       "    <tr>\n",
       "      <th>78537</th>\n",
       "      <td>chr15</td>\n",
       "      <td>27612937</td>\n",
       "      <td>27614937</td>\n",
       "      <td>NaN</td>\n",
       "      <td>&gt;chr15:27612937-27614937</td>\n",
       "      <td>ENSMUSG00000056069</td>\n",
       "    </tr>\n",
       "    <tr>\n",
       "      <th>130920</th>\n",
       "      <td>chr2</td>\n",
       "      <td>104392943</td>\n",
       "      <td>104394943</td>\n",
       "      <td>NaN</td>\n",
       "      <td>&gt;chr2:104392943-104394943</td>\n",
       "      <td>ENSMUSG00000068373</td>\n",
       "    </tr>\n",
       "  </tbody>\n",
       "</table>\n",
       "</div>"
      ],
      "text/plain": [
       "            0          1          2   3                kmer_format  \\\n",
       "4988     chr1   60580317   60582317 NaN    >chr1:60580317-60582317   \n",
       "4595     chr1   56923214   56925214 NaN    >chr1:56923214-56925214   \n",
       "152172   chr3  154171659  154173659 NaN  >chr3:154171659-154173659   \n",
       "78537   chr15   27612937   27614937 NaN   >chr15:27612937-27614937   \n",
       "130920   chr2  104392943  104394943 NaN  >chr2:104392943-104394943   \n",
       "\n",
       "               paired_gene  \n",
       "4988    ENSMUSG00000026782  \n",
       "4595    ENSMUSG00000087022  \n",
       "152172  ENSMUSG00000028360  \n",
       "78537   ENSMUSG00000056069  \n",
       "130920  ENSMUSG00000068373  "
      ]
     },
     "execution_count": 221,
     "metadata": {},
     "output_type": "execute_result"
    }
   ],
   "source": [
    "use_enhs.head()"
   ]
  },
  {
   "cell_type": "code",
   "execution_count": 222,
   "metadata": {},
   "outputs": [
    {
     "data": {
      "text/plain": [
       "(10696, 6)"
      ]
     },
     "execution_count": 222,
     "metadata": {},
     "output_type": "execute_result"
    }
   ],
   "source": [
    "use_enhs.shape"
   ]
  },
  {
   "cell_type": "code",
   "execution_count": 223,
   "metadata": {},
   "outputs": [],
   "source": [
    "tmp_kmer_enhs = enhancer_kmers.loc[use_enhs.kmer_format]"
   ]
  },
  {
   "cell_type": "code",
   "execution_count": 224,
   "metadata": {},
   "outputs": [],
   "source": [
    "tmp_kmer_enhs['paired_gene'] = use_enhs.paired_gene.values"
   ]
  },
  {
   "cell_type": "code",
   "execution_count": 225,
   "metadata": {},
   "outputs": [
    {
     "data": {
      "text/html": [
       "<div>\n",
       "<style scoped>\n",
       "    .dataframe tbody tr th:only-of-type {\n",
       "        vertical-align: middle;\n",
       "    }\n",
       "\n",
       "    .dataframe tbody tr th {\n",
       "        vertical-align: top;\n",
       "    }\n",
       "\n",
       "    .dataframe thead th {\n",
       "        text-align: right;\n",
       "    }\n",
       "</style>\n",
       "<table border=\"1\" class=\"dataframe\">\n",
       "  <thead>\n",
       "    <tr style=\"text-align: right;\">\n",
       "      <th></th>\n",
       "      <th>AA</th>\n",
       "      <th>AC</th>\n",
       "      <th>AG</th>\n",
       "      <th>AT</th>\n",
       "      <th>CA</th>\n",
       "      <th>CC</th>\n",
       "      <th>CG</th>\n",
       "      <th>CT</th>\n",
       "      <th>GA</th>\n",
       "      <th>GC</th>\n",
       "      <th>...</th>\n",
       "      <th>TTTCT</th>\n",
       "      <th>TTTGA</th>\n",
       "      <th>TTTGC</th>\n",
       "      <th>TTTGG</th>\n",
       "      <th>TTTGT</th>\n",
       "      <th>TTTTA</th>\n",
       "      <th>TTTTC</th>\n",
       "      <th>TTTTG</th>\n",
       "      <th>TTTTT</th>\n",
       "      <th>paired_gene</th>\n",
       "    </tr>\n",
       "    <tr>\n",
       "      <th>0</th>\n",
       "      <th></th>\n",
       "      <th></th>\n",
       "      <th></th>\n",
       "      <th></th>\n",
       "      <th></th>\n",
       "      <th></th>\n",
       "      <th></th>\n",
       "      <th></th>\n",
       "      <th></th>\n",
       "      <th></th>\n",
       "      <th></th>\n",
       "      <th></th>\n",
       "      <th></th>\n",
       "      <th></th>\n",
       "      <th></th>\n",
       "      <th></th>\n",
       "      <th></th>\n",
       "      <th></th>\n",
       "      <th></th>\n",
       "      <th></th>\n",
       "      <th></th>\n",
       "    </tr>\n",
       "  </thead>\n",
       "  <tbody>\n",
       "    <tr>\n",
       "      <th>&gt;chr1:60580317-60582317</th>\n",
       "      <td>338</td>\n",
       "      <td>228</td>\n",
       "      <td>340</td>\n",
       "      <td>131</td>\n",
       "      <td>303</td>\n",
       "      <td>150</td>\n",
       "      <td>19</td>\n",
       "      <td>340</td>\n",
       "      <td>294</td>\n",
       "      <td>79</td>\n",
       "      <td>...</td>\n",
       "      <td>11.0</td>\n",
       "      <td>4.0</td>\n",
       "      <td>5.0</td>\n",
       "      <td>5.0</td>\n",
       "      <td>8.0</td>\n",
       "      <td>7.0</td>\n",
       "      <td>12.0</td>\n",
       "      <td>10.0</td>\n",
       "      <td>17.0</td>\n",
       "      <td>ENSMUSG00000026782</td>\n",
       "    </tr>\n",
       "    <tr>\n",
       "      <th>&gt;chr1:56923214-56925214</th>\n",
       "      <td>375</td>\n",
       "      <td>216</td>\n",
       "      <td>302</td>\n",
       "      <td>140</td>\n",
       "      <td>284</td>\n",
       "      <td>211</td>\n",
       "      <td>15</td>\n",
       "      <td>302</td>\n",
       "      <td>247</td>\n",
       "      <td>76</td>\n",
       "      <td>...</td>\n",
       "      <td>10.0</td>\n",
       "      <td>9.0</td>\n",
       "      <td>3.0</td>\n",
       "      <td>8.0</td>\n",
       "      <td>13.0</td>\n",
       "      <td>9.0</td>\n",
       "      <td>7.0</td>\n",
       "      <td>14.0</td>\n",
       "      <td>18.0</td>\n",
       "      <td>ENSMUSG00000087022</td>\n",
       "    </tr>\n",
       "    <tr>\n",
       "      <th>&gt;chr3:154171659-154173659</th>\n",
       "      <td>243</td>\n",
       "      <td>255</td>\n",
       "      <td>285</td>\n",
       "      <td>141</td>\n",
       "      <td>369</td>\n",
       "      <td>229</td>\n",
       "      <td>26</td>\n",
       "      <td>285</td>\n",
       "      <td>244</td>\n",
       "      <td>103</td>\n",
       "      <td>...</td>\n",
       "      <td>7.0</td>\n",
       "      <td>4.0</td>\n",
       "      <td>5.0</td>\n",
       "      <td>6.0</td>\n",
       "      <td>5.0</td>\n",
       "      <td>4.0</td>\n",
       "      <td>1.0</td>\n",
       "      <td>7.0</td>\n",
       "      <td>1.0</td>\n",
       "      <td>ENSMUSG00000028360</td>\n",
       "    </tr>\n",
       "    <tr>\n",
       "      <th>&gt;chr15:27612937-27614937</th>\n",
       "      <td>270</td>\n",
       "      <td>270</td>\n",
       "      <td>355</td>\n",
       "      <td>85</td>\n",
       "      <td>353</td>\n",
       "      <td>188</td>\n",
       "      <td>19</td>\n",
       "      <td>355</td>\n",
       "      <td>258</td>\n",
       "      <td>109</td>\n",
       "      <td>...</td>\n",
       "      <td>17.0</td>\n",
       "      <td>6.0</td>\n",
       "      <td>3.0</td>\n",
       "      <td>5.0</td>\n",
       "      <td>3.0</td>\n",
       "      <td>3.0</td>\n",
       "      <td>10.0</td>\n",
       "      <td>6.0</td>\n",
       "      <td>9.0</td>\n",
       "      <td>ENSMUSG00000056069</td>\n",
       "    </tr>\n",
       "    <tr>\n",
       "      <th>&gt;chr2:104392943-104394943</th>\n",
       "      <td>246</td>\n",
       "      <td>240</td>\n",
       "      <td>278</td>\n",
       "      <td>178</td>\n",
       "      <td>326</td>\n",
       "      <td>227</td>\n",
       "      <td>24</td>\n",
       "      <td>278</td>\n",
       "      <td>228</td>\n",
       "      <td>92</td>\n",
       "      <td>...</td>\n",
       "      <td>2.0</td>\n",
       "      <td>7.0</td>\n",
       "      <td>3.0</td>\n",
       "      <td>7.0</td>\n",
       "      <td>5.0</td>\n",
       "      <td>6.0</td>\n",
       "      <td>4.0</td>\n",
       "      <td>6.0</td>\n",
       "      <td>9.0</td>\n",
       "      <td>ENSMUSG00000068373</td>\n",
       "    </tr>\n",
       "  </tbody>\n",
       "</table>\n",
       "<p>5 rows × 1361 columns</p>\n",
       "</div>"
      ],
      "text/plain": [
       "                            AA   AC   AG   AT   CA   CC  CG   CT   GA   GC  \\\n",
       "0                                                                            \n",
       ">chr1:60580317-60582317    338  228  340  131  303  150  19  340  294   79   \n",
       ">chr1:56923214-56925214    375  216  302  140  284  211  15  302  247   76   \n",
       ">chr3:154171659-154173659  243  255  285  141  369  229  26  285  244  103   \n",
       ">chr15:27612937-27614937   270  270  355   85  353  188  19  355  258  109   \n",
       ">chr2:104392943-104394943  246  240  278  178  326  227  24  278  228   92   \n",
       "\n",
       "                           ...  TTTCT  TTTGA  TTTGC  TTTGG  TTTGT  TTTTA  \\\n",
       "0                          ...                                             \n",
       ">chr1:60580317-60582317    ...   11.0    4.0    5.0    5.0    8.0    7.0   \n",
       ">chr1:56923214-56925214    ...   10.0    9.0    3.0    8.0   13.0    9.0   \n",
       ">chr3:154171659-154173659  ...    7.0    4.0    5.0    6.0    5.0    4.0   \n",
       ">chr15:27612937-27614937   ...   17.0    6.0    3.0    5.0    3.0    3.0   \n",
       ">chr2:104392943-104394943  ...    2.0    7.0    3.0    7.0    5.0    6.0   \n",
       "\n",
       "                           TTTTC  TTTTG  TTTTT         paired_gene  \n",
       "0                                                                   \n",
       ">chr1:60580317-60582317     12.0   10.0   17.0  ENSMUSG00000026782  \n",
       ">chr1:56923214-56925214      7.0   14.0   18.0  ENSMUSG00000087022  \n",
       ">chr3:154171659-154173659    1.0    7.0    1.0  ENSMUSG00000028360  \n",
       ">chr15:27612937-27614937    10.0    6.0    9.0  ENSMUSG00000056069  \n",
       ">chr2:104392943-104394943    4.0    6.0    9.0  ENSMUSG00000068373  \n",
       "\n",
       "[5 rows x 1361 columns]"
      ]
     },
     "execution_count": 225,
     "metadata": {},
     "output_type": "execute_result"
    }
   ],
   "source": [
    "tmp_kmer_enhs.head()"
   ]
  },
  {
   "cell_type": "code",
   "execution_count": 226,
   "metadata": {},
   "outputs": [
    {
     "data": {
      "text/plain": [
       "(10696, 1361)"
      ]
     },
     "execution_count": 226,
     "metadata": {},
     "output_type": "execute_result"
    }
   ],
   "source": [
    "tmp_kmer_enhs.shape"
   ]
  },
  {
   "cell_type": "code",
   "execution_count": 227,
   "metadata": {},
   "outputs": [],
   "source": [
    "tmp_kmer_enhs.to_csv('/cndd2/ethan/projects/enh_gene_linkage/promoter_sequence/data/enhancer_kmers_concat.tsv', sep='\\t')"
   ]
  },
  {
   "cell_type": "markdown",
   "metadata": {},
   "source": [
    "# try CCA"
   ]
  },
  {
   "cell_type": "code",
   "execution_count": 228,
   "metadata": {},
   "outputs": [],
   "source": [
    "cca = CCA()"
   ]
  },
  {
   "cell_type": "code",
   "execution_count": 229,
   "metadata": {},
   "outputs": [],
   "source": [
    "enh, promoter = cca.fit_transform(use_kmer_enhs.drop('paired_gene', axis=1).values, use_promoter_kmers)"
   ]
  },
  {
   "cell_type": "code",
   "execution_count": 230,
   "metadata": {},
   "outputs": [],
   "source": [
    "import matplotlib.pyplot as plt"
   ]
  },
  {
   "cell_type": "code",
   "execution_count": 231,
   "metadata": {},
   "outputs": [
    {
     "data": {
      "text/plain": [
       "Text(0.5, 1.0, 'second cannonical component')"
      ]
     },
     "execution_count": 231,
     "metadata": {},
     "output_type": "execute_result"
    },
    {
     "data": {
      "image/png": "[encoded data removed]",
      "text/plain": [
       "<Figure size 432x288 with 1 Axes>"
      ]
     },
     "metadata": {
      "needs_background": "light"
     },
     "output_type": "display_data"
    }
   ],
   "source": [
    "plt.scatter(enh[:, 1], promoter[:, 1], s= 1)\n",
    "plt.xlabel('Enhancer 3mers')\n",
    "plt.ylabel('Promoter 3mers')\n",
    "plt.title('second cannonical component')"
   ]
  },
  {
   "cell_type": "code",
   "execution_count": 232,
   "metadata": {},
   "outputs": [
    {
     "data": {
      "text/plain": [
       "{'copy': True, 'max_iter': 500, 'n_components': 2, 'scale': True, 'tol': 1e-06}"
      ]
     },
     "execution_count": 232,
     "metadata": {},
     "output_type": "execute_result"
    }
   ],
   "source": [
    "cca.get_params()"
   ]
  },
  {
   "cell_type": "code",
   "execution_count": 233,
   "metadata": {},
   "outputs": [],
   "source": [
    "#cca.score(use_kmer_enhs.drop('paired_gene', axis=1).values, use_promoter_kmers)"
   ]
  },
  {
   "cell_type": "code",
   "execution_count": 234,
   "metadata": {},
   "outputs": [
    {
     "data": {
      "text/plain": [
       "Text(0.5, 1.0, 'First cannonical component')"
      ]
     },
     "execution_count": 234,
     "metadata": {},
     "output_type": "execute_result"
    },
    {
     "data": {
      "image/png": "[encoded data removed]",
      "text/plain": [
       "<Figure size 432x288 with 1 Axes>"
      ]
     },
     "metadata": {
      "needs_background": "light"
     },
     "output_type": "display_data"
    }
   ],
   "source": [
    "plt.scatter(enh[:, 0], promoter[:, 0], s =1)\n",
    "plt.xlabel('Enhancer 3mers')\n",
    "plt.ylabel('Promoter 3mers')\n",
    "plt.title('First cannonical component')"
   ]
  },
  {
   "cell_type": "code",
   "execution_count": 235,
   "metadata": {},
   "outputs": [],
   "source": [
    "from scipy.stats import spearmanr"
   ]
  },
  {
   "cell_type": "code",
   "execution_count": 236,
   "metadata": {},
   "outputs": [
    {
     "data": {
      "text/plain": [
       "SpearmanrResult(correlation=0.5189600592474855, pvalue=0.0)"
      ]
     },
     "execution_count": 236,
     "metadata": {},
     "output_type": "execute_result"
    }
   ],
   "source": [
    "spearmanr(enh[:, 1], promoter[:, 1])"
   ]
  },
  {
   "cell_type": "code",
   "execution_count": 237,
   "metadata": {},
   "outputs": [
    {
     "data": {
      "text/plain": [
       "SpearmanrResult(correlation=0.7191923347689175, pvalue=0.0)"
      ]
     },
     "execution_count": 237,
     "metadata": {},
     "output_type": "execute_result"
    }
   ],
   "source": [
    "spearmanr(enh[:, 0], promoter[:, 0])"
   ]
  },
  {
   "cell_type": "markdown",
   "metadata": {},
   "source": [
    "# get cannonical loadings"
   ]
  },
  {
   "cell_type": "code",
   "execution_count": 240,
   "metadata": {},
   "outputs": [],
   "source": [
    "use_enh_array = use_kmer_enhs.drop('paired_gene', axis=1).values\n",
    "kmer_names = use_kmer_enhs.columns.to_list()[:-1]\n",
    "promoter_loadings = []\n",
    "enhancer_loadings = []\n",
    "for i in range(use_enh_array.shape[1]):\n",
    "    enhancer_loadings.append(spearmanr(use_enh_array[:, i], enh[:, 0])[0])\n",
    "    promoter_loadings.append(spearmanr(use_promoter_kmers[:, i], promoter[:, 0])[0])\n"
   ]
  },
  {
   "cell_type": "code",
   "execution_count": 241,
   "metadata": {},
   "outputs": [
    {
     "data": {
      "text/plain": [
       "<matplotlib.legend.Legend at 0x7f5a14c406d8>"
      ]
     },
     "execution_count": 241,
     "metadata": {},
     "output_type": "execute_result"
    },
    {
     "data": {
      "image/png": "[encoded data removed]",
      "text/plain": [
       "<Figure size 864x720 with 1 Axes>"
      ]
     },
     "metadata": {
      "needs_background": "light"
     },
     "output_type": "display_data"
    }
   ],
   "source": [
    "fig, ax = plt.subplots(figsize=(12, 10))\n",
    "ax.plot(np.arange(len(kmer_names)), enhancer_loadings/np.mean(np.abs(enhancer_loadings)), '-o', label='Enhancer')\n",
    "ax.plot(np.arange(len(kmer_names)), promoter_loadings/np.mean(np.abs(promoter_loadings)), '-o', label='Promoter')\n",
    "\n",
    "ax.set_xticks(np.arange(len(kmer_names)))\n",
    "ax.set_xticklabels(kmer_names, rotation=90)\n",
    "ax.set_ylabel('Normalized cannonical loading')\n",
    "\n",
    "ax.set_title('Cannonical Loadings')\n",
    "ax.legend()"
   ]
  },
  {
   "cell_type": "code",
   "execution_count": 242,
   "metadata": {},
   "outputs": [
    {
     "data": {
      "text/plain": [
       "<matplotlib.collections.PathCollection at 0x7f5a146a2668>"
      ]
     },
     "execution_count": 242,
     "metadata": {},
     "output_type": "execute_result"
    },
    {
     "data": {
      "image/png": "[encoded data removed]",
      "text/plain": [
       "<Figure size 432x288 with 1 Axes>"
      ]
     },
     "metadata": {
      "needs_background": "light"
     },
     "output_type": "display_data"
    }
   ],
   "source": [
    "plt.scatter(enhancer_loadings, promoter_loadings)"
   ]
  },
  {
   "cell_type": "code",
   "execution_count": 244,
   "metadata": {},
   "outputs": [
    {
     "data": {
      "text/plain": [
       "SpearmanrResult(correlation=0.9193120427861947, pvalue=0.0)"
      ]
     },
     "execution_count": 244,
     "metadata": {},
     "output_type": "execute_result"
    }
   ],
   "source": [
    "spearmanr(enhancer_loadings, promoter_loadings)"
   ]
  },
  {
   "cell_type": "markdown",
   "metadata": {},
   "source": [
    "# get top 10 motifs for each type"
   ]
  },
  {
   "cell_type": "code",
   "execution_count": 245,
   "metadata": {},
   "outputs": [],
   "source": [
    "top_n = 30\n",
    "tmp_enh = enhancer_loadings\n",
    "tmp_prom = promoter_loadings\n",
    "enh_motif = []\n",
    "prom_motif = []\n",
    "for i in range(top_n):\n",
    "    prom_max = np.argmax(np.abs(tmp_prom)) \n",
    "    enh_max = np.argmax(np.abs(tmp_enh))\n",
    "    enh_motif.append(kmer_names[enh_max])\n",
    "    prom_motif.append(kmer_names[prom_max])\n",
    "    tmp_enh[enh_max] = 0\n",
    "    tmp_prom[prom_max] = 0\n",
    "    "
   ]
  },
  {
   "cell_type": "code",
   "execution_count": 246,
   "metadata": {},
   "outputs": [
    {
     "data": {
      "text/plain": [
       "['CC',\n",
       " 'GG',\n",
       " 'AA',\n",
       " 'TT',\n",
       " 'AAT',\n",
       " 'ATT',\n",
       " 'GCC',\n",
       " 'GGC',\n",
       " 'TAA',\n",
       " 'TTA',\n",
       " 'CCAG',\n",
       " 'CTGG',\n",
       " 'CCA',\n",
       " 'TGG',\n",
       " 'CAG',\n",
       " 'CTG',\n",
       " 'TA',\n",
       " 'AT',\n",
       " 'AAAT',\n",
       " 'ATTT',\n",
       " 'CAGG',\n",
       " 'CCTG',\n",
       " 'GC',\n",
       " 'CCC',\n",
       " 'GGG',\n",
       " 'CCCA',\n",
       " 'TGGG',\n",
       " 'AAA',\n",
       " 'TTT',\n",
       " 'AGCC']"
      ]
     },
     "execution_count": 246,
     "metadata": {},
     "output_type": "execute_result"
    }
   ],
   "source": [
    "enh_motif"
   ]
  },
  {
   "cell_type": "code",
   "execution_count": 247,
   "metadata": {},
   "outputs": [
    {
     "data": {
      "text/plain": [
       "['AAA',\n",
       " 'TTT',\n",
       " 'CAGG',\n",
       " 'CCTG',\n",
       " 'AAAT',\n",
       " 'ATTT',\n",
       " 'CCCA',\n",
       " 'TGGG',\n",
       " 'CCA',\n",
       " 'TGG',\n",
       " 'AAAA',\n",
       " 'TTTT',\n",
       " 'GAAAA',\n",
       " 'TTTTC',\n",
       " 'GAAA',\n",
       " 'TTTC',\n",
       " 'AAAAT',\n",
       " 'ATTTT',\n",
       " 'AA',\n",
       " 'TT',\n",
       " 'ACCC',\n",
       " 'GGGT',\n",
       " 'AGG',\n",
       " 'CCT',\n",
       " 'CCAGG',\n",
       " 'CCTGG',\n",
       " 'ACC',\n",
       " 'GGT',\n",
       " 'AAT',\n",
       " 'ATT']"
      ]
     },
     "execution_count": 247,
     "metadata": {},
     "output_type": "execute_result"
    }
   ],
   "source": [
    "prom_motif"
   ]
  },
  {
   "cell_type": "markdown",
   "metadata": {},
   "source": [
    "# shuffle controll"
   ]
  },
  {
   "cell_type": "code",
   "execution_count": 74,
   "metadata": {},
   "outputs": [
    {
     "data": {
      "text/html": [
       "<div>\n",
       "<style scoped>\n",
       "    .dataframe tbody tr th:only-of-type {\n",
       "        vertical-align: middle;\n",
       "    }\n",
       "\n",
       "    .dataframe tbody tr th {\n",
       "        vertical-align: top;\n",
       "    }\n",
       "\n",
       "    .dataframe thead th {\n",
       "        text-align: right;\n",
       "    }\n",
       "</style>\n",
       "<table border=\"1\" class=\"dataframe\">\n",
       "  <thead>\n",
       "    <tr style=\"text-align: right;\">\n",
       "      <th></th>\n",
       "      <th>AA</th>\n",
       "      <th>AC</th>\n",
       "      <th>AG</th>\n",
       "      <th>AT</th>\n",
       "      <th>CA</th>\n",
       "      <th>CC</th>\n",
       "      <th>CG</th>\n",
       "      <th>CT</th>\n",
       "      <th>GA</th>\n",
       "      <th>GC</th>\n",
       "      <th>...</th>\n",
       "      <th>TTTCG</th>\n",
       "      <th>TTTCT</th>\n",
       "      <th>TTTGA</th>\n",
       "      <th>TTTGC</th>\n",
       "      <th>TTTGG</th>\n",
       "      <th>TTTGT</th>\n",
       "      <th>TTTTA</th>\n",
       "      <th>TTTTC</th>\n",
       "      <th>TTTTG</th>\n",
       "      <th>TTTTT</th>\n",
       "    </tr>\n",
       "    <tr>\n",
       "      <th>gene</th>\n",
       "      <th></th>\n",
       "      <th></th>\n",
       "      <th></th>\n",
       "      <th></th>\n",
       "      <th></th>\n",
       "      <th></th>\n",
       "      <th></th>\n",
       "      <th></th>\n",
       "      <th></th>\n",
       "      <th></th>\n",
       "      <th></th>\n",
       "      <th></th>\n",
       "      <th></th>\n",
       "      <th></th>\n",
       "      <th></th>\n",
       "      <th></th>\n",
       "      <th></th>\n",
       "      <th></th>\n",
       "      <th></th>\n",
       "      <th></th>\n",
       "      <th></th>\n",
       "    </tr>\n",
       "  </thead>\n",
       "  <tbody>\n",
       "    <tr>\n",
       "      <th>ENSMUSG00000019966</th>\n",
       "      <td>303.0</td>\n",
       "      <td>187.0</td>\n",
       "      <td>288.0</td>\n",
       "      <td>72.0</td>\n",
       "      <td>247.0</td>\n",
       "      <td>329.0</td>\n",
       "      <td>107.0</td>\n",
       "      <td>288.0</td>\n",
       "      <td>233.0</td>\n",
       "      <td>164.0</td>\n",
       "      <td>...</td>\n",
       "      <td>1.0</td>\n",
       "      <td>16.0</td>\n",
       "      <td>3.0</td>\n",
       "      <td>4.0</td>\n",
       "      <td>5.0</td>\n",
       "      <td>4.0</td>\n",
       "      <td>7.0</td>\n",
       "      <td>18.0</td>\n",
       "      <td>8.0</td>\n",
       "      <td>24.0</td>\n",
       "    </tr>\n",
       "    <tr>\n",
       "      <th>ENSMUSG00000094314</th>\n",
       "      <td>323.0</td>\n",
       "      <td>202.0</td>\n",
       "      <td>331.0</td>\n",
       "      <td>119.0</td>\n",
       "      <td>340.0</td>\n",
       "      <td>201.0</td>\n",
       "      <td>17.0</td>\n",
       "      <td>331.0</td>\n",
       "      <td>247.0</td>\n",
       "      <td>128.0</td>\n",
       "      <td>...</td>\n",
       "      <td>0.0</td>\n",
       "      <td>3.0</td>\n",
       "      <td>10.0</td>\n",
       "      <td>7.0</td>\n",
       "      <td>4.0</td>\n",
       "      <td>11.0</td>\n",
       "      <td>13.0</td>\n",
       "      <td>4.0</td>\n",
       "      <td>9.0</td>\n",
       "      <td>12.0</td>\n",
       "    </tr>\n",
       "    <tr>\n",
       "      <th>ENSMUSG00000091101</th>\n",
       "      <td>320.0</td>\n",
       "      <td>201.0</td>\n",
       "      <td>328.0</td>\n",
       "      <td>122.0</td>\n",
       "      <td>342.0</td>\n",
       "      <td>201.0</td>\n",
       "      <td>18.0</td>\n",
       "      <td>328.0</td>\n",
       "      <td>242.0</td>\n",
       "      <td>131.0</td>\n",
       "      <td>...</td>\n",
       "      <td>0.0</td>\n",
       "      <td>3.0</td>\n",
       "      <td>10.0</td>\n",
       "      <td>6.0</td>\n",
       "      <td>4.0</td>\n",
       "      <td>11.0</td>\n",
       "      <td>13.0</td>\n",
       "      <td>4.0</td>\n",
       "      <td>10.0</td>\n",
       "      <td>12.0</td>\n",
       "    </tr>\n",
       "    <tr>\n",
       "      <th>ENSMUSG00000112931</th>\n",
       "      <td>333.0</td>\n",
       "      <td>207.0</td>\n",
       "      <td>324.0</td>\n",
       "      <td>119.0</td>\n",
       "      <td>329.0</td>\n",
       "      <td>205.0</td>\n",
       "      <td>20.0</td>\n",
       "      <td>324.0</td>\n",
       "      <td>246.0</td>\n",
       "      <td>120.0</td>\n",
       "      <td>...</td>\n",
       "      <td>0.0</td>\n",
       "      <td>4.0</td>\n",
       "      <td>11.0</td>\n",
       "      <td>6.0</td>\n",
       "      <td>4.0</td>\n",
       "      <td>10.0</td>\n",
       "      <td>12.0</td>\n",
       "      <td>5.0</td>\n",
       "      <td>12.0</td>\n",
       "      <td>12.0</td>\n",
       "    </tr>\n",
       "    <tr>\n",
       "      <th>ENSMUSG00000112856</th>\n",
       "      <td>333.0</td>\n",
       "      <td>207.0</td>\n",
       "      <td>324.0</td>\n",
       "      <td>119.0</td>\n",
       "      <td>329.0</td>\n",
       "      <td>205.0</td>\n",
       "      <td>20.0</td>\n",
       "      <td>324.0</td>\n",
       "      <td>246.0</td>\n",
       "      <td>120.0</td>\n",
       "      <td>...</td>\n",
       "      <td>0.0</td>\n",
       "      <td>4.0</td>\n",
       "      <td>11.0</td>\n",
       "      <td>6.0</td>\n",
       "      <td>4.0</td>\n",
       "      <td>10.0</td>\n",
       "      <td>12.0</td>\n",
       "      <td>5.0</td>\n",
       "      <td>12.0</td>\n",
       "      <td>12.0</td>\n",
       "    </tr>\n",
       "  </tbody>\n",
       "</table>\n",
       "<p>5 rows × 1360 columns</p>\n",
       "</div>"
      ],
      "text/plain": [
       "                       AA     AC     AG     AT     CA     CC     CG     CT  \\\n",
       "gene                                                                         \n",
       "ENSMUSG00000019966  303.0  187.0  288.0   72.0  247.0  329.0  107.0  288.0   \n",
       "ENSMUSG00000094314  323.0  202.0  331.0  119.0  340.0  201.0   17.0  331.0   \n",
       "ENSMUSG00000091101  320.0  201.0  328.0  122.0  342.0  201.0   18.0  328.0   \n",
       "ENSMUSG00000112931  333.0  207.0  324.0  119.0  329.0  205.0   20.0  324.0   \n",
       "ENSMUSG00000112856  333.0  207.0  324.0  119.0  329.0  205.0   20.0  324.0   \n",
       "\n",
       "                       GA     GC  ...  TTTCG  TTTCT  TTTGA  TTTGC  TTTGG  \\\n",
       "gene                              ...                                      \n",
       "ENSMUSG00000019966  233.0  164.0  ...    1.0   16.0    3.0    4.0    5.0   \n",
       "ENSMUSG00000094314  247.0  128.0  ...    0.0    3.0   10.0    7.0    4.0   \n",
       "ENSMUSG00000091101  242.0  131.0  ...    0.0    3.0   10.0    6.0    4.0   \n",
       "ENSMUSG00000112931  246.0  120.0  ...    0.0    4.0   11.0    6.0    4.0   \n",
       "ENSMUSG00000112856  246.0  120.0  ...    0.0    4.0   11.0    6.0    4.0   \n",
       "\n",
       "                    TTTGT  TTTTA  TTTTC  TTTTG  TTTTT  \n",
       "gene                                                   \n",
       "ENSMUSG00000019966    4.0    7.0   18.0    8.0   24.0  \n",
       "ENSMUSG00000094314   11.0   13.0    4.0    9.0   12.0  \n",
       "ENSMUSG00000091101   11.0   13.0    4.0   10.0   12.0  \n",
       "ENSMUSG00000112931   10.0   12.0    5.0   12.0   12.0  \n",
       "ENSMUSG00000112856   10.0   12.0    5.0   12.0   12.0  \n",
       "\n",
       "[5 rows x 1360 columns]"
      ]
     },
     "execution_count": 74,
     "metadata": {},
     "output_type": "execute_result"
    }
   ],
   "source": [
    "promoter_kmers.head()"
   ]
  },
  {
   "cell_type": "code",
   "execution_count": 75,
   "metadata": {},
   "outputs": [
    {
     "data": {
      "text/html": [
       "<div>\n",
       "<style scoped>\n",
       "    .dataframe tbody tr th:only-of-type {\n",
       "        vertical-align: middle;\n",
       "    }\n",
       "\n",
       "    .dataframe tbody tr th {\n",
       "        vertical-align: top;\n",
       "    }\n",
       "\n",
       "    .dataframe thead th {\n",
       "        text-align: right;\n",
       "    }\n",
       "</style>\n",
       "<table border=\"1\" class=\"dataframe\">\n",
       "  <thead>\n",
       "    <tr style=\"text-align: right;\">\n",
       "      <th></th>\n",
       "      <th>AA</th>\n",
       "      <th>AC</th>\n",
       "      <th>AG</th>\n",
       "      <th>AT</th>\n",
       "      <th>CA</th>\n",
       "      <th>CC</th>\n",
       "      <th>CG</th>\n",
       "      <th>CT</th>\n",
       "      <th>GA</th>\n",
       "      <th>GC</th>\n",
       "      <th>...</th>\n",
       "      <th>TTTCG</th>\n",
       "      <th>TTTCT</th>\n",
       "      <th>TTTGA</th>\n",
       "      <th>TTTGC</th>\n",
       "      <th>TTTGG</th>\n",
       "      <th>TTTGT</th>\n",
       "      <th>TTTTA</th>\n",
       "      <th>TTTTC</th>\n",
       "      <th>TTTTG</th>\n",
       "      <th>TTTTT</th>\n",
       "    </tr>\n",
       "    <tr>\n",
       "      <th>0</th>\n",
       "      <th></th>\n",
       "      <th></th>\n",
       "      <th></th>\n",
       "      <th></th>\n",
       "      <th></th>\n",
       "      <th></th>\n",
       "      <th></th>\n",
       "      <th></th>\n",
       "      <th></th>\n",
       "      <th></th>\n",
       "      <th></th>\n",
       "      <th></th>\n",
       "      <th></th>\n",
       "      <th></th>\n",
       "      <th></th>\n",
       "      <th></th>\n",
       "      <th></th>\n",
       "      <th></th>\n",
       "      <th></th>\n",
       "      <th></th>\n",
       "      <th></th>\n",
       "    </tr>\n",
       "  </thead>\n",
       "  <tbody>\n",
       "    <tr>\n",
       "      <th>&gt;chr10:100009350-100011350</th>\n",
       "      <td>335</td>\n",
       "      <td>246</td>\n",
       "      <td>281</td>\n",
       "      <td>131</td>\n",
       "      <td>327</td>\n",
       "      <td>194</td>\n",
       "      <td>37</td>\n",
       "      <td>281</td>\n",
       "      <td>225</td>\n",
       "      <td>105</td>\n",
       "      <td>...</td>\n",
       "      <td>1.0</td>\n",
       "      <td>5.0</td>\n",
       "      <td>6.0</td>\n",
       "      <td>11.0</td>\n",
       "      <td>5.0</td>\n",
       "      <td>7.0</td>\n",
       "      <td>7.0</td>\n",
       "      <td>6.0</td>\n",
       "      <td>9.0</td>\n",
       "      <td>19.0</td>\n",
       "    </tr>\n",
       "    <tr>\n",
       "      <th>&gt;chr10:100018062-100020062</th>\n",
       "      <td>447</td>\n",
       "      <td>208</td>\n",
       "      <td>269</td>\n",
       "      <td>141</td>\n",
       "      <td>280</td>\n",
       "      <td>193</td>\n",
       "      <td>26</td>\n",
       "      <td>269</td>\n",
       "      <td>231</td>\n",
       "      <td>80</td>\n",
       "      <td>...</td>\n",
       "      <td>1.0</td>\n",
       "      <td>13.0</td>\n",
       "      <td>10.0</td>\n",
       "      <td>7.0</td>\n",
       "      <td>6.0</td>\n",
       "      <td>12.0</td>\n",
       "      <td>17.0</td>\n",
       "      <td>12.0</td>\n",
       "      <td>9.0</td>\n",
       "      <td>46.0</td>\n",
       "    </tr>\n",
       "    <tr>\n",
       "      <th>&gt;chr10:100018734-100020734</th>\n",
       "      <td>404</td>\n",
       "      <td>229</td>\n",
       "      <td>300</td>\n",
       "      <td>116</td>\n",
       "      <td>284</td>\n",
       "      <td>189</td>\n",
       "      <td>31</td>\n",
       "      <td>300</td>\n",
       "      <td>247</td>\n",
       "      <td>85</td>\n",
       "      <td>...</td>\n",
       "      <td>2.0</td>\n",
       "      <td>13.0</td>\n",
       "      <td>6.0</td>\n",
       "      <td>4.0</td>\n",
       "      <td>8.0</td>\n",
       "      <td>12.0</td>\n",
       "      <td>13.0</td>\n",
       "      <td>9.0</td>\n",
       "      <td>5.0</td>\n",
       "      <td>44.0</td>\n",
       "    </tr>\n",
       "    <tr>\n",
       "      <th>&gt;chr10:100019262-100021262</th>\n",
       "      <td>419</td>\n",
       "      <td>232</td>\n",
       "      <td>289</td>\n",
       "      <td>107</td>\n",
       "      <td>289</td>\n",
       "      <td>205</td>\n",
       "      <td>31</td>\n",
       "      <td>289</td>\n",
       "      <td>242</td>\n",
       "      <td>83</td>\n",
       "      <td>...</td>\n",
       "      <td>3.0</td>\n",
       "      <td>11.0</td>\n",
       "      <td>6.0</td>\n",
       "      <td>5.0</td>\n",
       "      <td>10.0</td>\n",
       "      <td>21.0</td>\n",
       "      <td>8.0</td>\n",
       "      <td>10.0</td>\n",
       "      <td>13.0</td>\n",
       "      <td>34.0</td>\n",
       "    </tr>\n",
       "    <tr>\n",
       "      <th>&gt;chr10:100021578-100023578</th>\n",
       "      <td>275</td>\n",
       "      <td>236</td>\n",
       "      <td>323</td>\n",
       "      <td>96</td>\n",
       "      <td>339</td>\n",
       "      <td>265</td>\n",
       "      <td>23</td>\n",
       "      <td>323</td>\n",
       "      <td>250</td>\n",
       "      <td>111</td>\n",
       "      <td>...</td>\n",
       "      <td>1.0</td>\n",
       "      <td>9.0</td>\n",
       "      <td>4.0</td>\n",
       "      <td>9.0</td>\n",
       "      <td>3.0</td>\n",
       "      <td>10.0</td>\n",
       "      <td>2.0</td>\n",
       "      <td>7.0</td>\n",
       "      <td>9.0</td>\n",
       "      <td>7.0</td>\n",
       "    </tr>\n",
       "  </tbody>\n",
       "</table>\n",
       "<p>5 rows × 1360 columns</p>\n",
       "</div>"
      ],
      "text/plain": [
       "                             AA   AC   AG   AT   CA   CC  CG   CT   GA   GC  \\\n",
       "0                                                                             \n",
       ">chr10:100009350-100011350  335  246  281  131  327  194  37  281  225  105   \n",
       ">chr10:100018062-100020062  447  208  269  141  280  193  26  269  231   80   \n",
       ">chr10:100018734-100020734  404  229  300  116  284  189  31  300  247   85   \n",
       ">chr10:100019262-100021262  419  232  289  107  289  205  31  289  242   83   \n",
       ">chr10:100021578-100023578  275  236  323   96  339  265  23  323  250  111   \n",
       "\n",
       "                            ...  TTTCG  TTTCT  TTTGA  TTTGC  TTTGG  TTTGT  \\\n",
       "0                           ...                                             \n",
       ">chr10:100009350-100011350  ...    1.0    5.0    6.0   11.0    5.0    7.0   \n",
       ">chr10:100018062-100020062  ...    1.0   13.0   10.0    7.0    6.0   12.0   \n",
       ">chr10:100018734-100020734  ...    2.0   13.0    6.0    4.0    8.0   12.0   \n",
       ">chr10:100019262-100021262  ...    3.0   11.0    6.0    5.0   10.0   21.0   \n",
       ">chr10:100021578-100023578  ...    1.0    9.0    4.0    9.0    3.0   10.0   \n",
       "\n",
       "                            TTTTA  TTTTC  TTTTG  TTTTT  \n",
       "0                                                       \n",
       ">chr10:100009350-100011350    7.0    6.0    9.0   19.0  \n",
       ">chr10:100018062-100020062   17.0   12.0    9.0   46.0  \n",
       ">chr10:100018734-100020734   13.0    9.0    5.0   44.0  \n",
       ">chr10:100019262-100021262    8.0   10.0   13.0   34.0  \n",
       ">chr10:100021578-100023578    2.0    7.0    9.0    7.0  \n",
       "\n",
       "[5 rows x 1360 columns]"
      ]
     },
     "execution_count": 75,
     "metadata": {},
     "output_type": "execute_result"
    }
   ],
   "source": [
    "enhancer_kmers.head()"
   ]
  },
  {
   "cell_type": "markdown",
   "metadata": {},
   "source": [
    "# sampling"
   ]
  },
  {
   "cell_type": "code",
   "execution_count": 76,
   "metadata": {},
   "outputs": [],
   "source": [
    "num_samplings = 10\n",
    "sample_pairs = []\n",
    "for i in range(num_samplings):\n",
    "    enh_idx = np.random.randint(0, enhancer_kmers.shape[0], size = 10000)\n",
    "    prom_idx = np.random.randint(0, promoter_kmers.shape[1], size = 10000)\n",
    "    \n",
    "    sample_pairs.append((enh_idx, prom_idx))"
   ]
  },
  {
   "cell_type": "code",
   "execution_count": null,
   "metadata": {},
   "outputs": [],
   "source": []
  },
  {
   "cell_type": "code",
   "execution_count": 77,
   "metadata": {},
   "outputs": [],
   "source": [
    "shuffle_cca = CCA()"
   ]
  },
  {
   "cell_type": "code",
   "execution_count": 78,
   "metadata": {},
   "outputs": [
    {
     "data": {
      "text/plain": [
       "(array([139000, 109677, 229171, ...,  90887, 207543, 130086]),\n",
       " array([ 821, 1014, 1146, ...,  565,  189,  698]))"
      ]
     },
     "execution_count": 78,
     "metadata": {},
     "output_type": "execute_result"
    }
   ],
   "source": [
    "sample_pairs[0]"
   ]
  },
  {
   "cell_type": "code",
   "execution_count": 79,
   "metadata": {},
   "outputs": [
    {
     "data": {
      "text/plain": [
       "(233524, 1360)"
      ]
     },
     "execution_count": 79,
     "metadata": {},
     "output_type": "execute_result"
    }
   ],
   "source": [
    "enhancer_kmers.values.shape"
   ]
  },
  {
   "cell_type": "code",
   "execution_count": 80,
   "metadata": {},
   "outputs": [
    {
     "data": {
      "text/plain": [
       "array([[322., 214., 324., ...,   9.,   4.,   9.],\n",
       "       [400., 192., 287., ...,   9.,   8.,  22.],\n",
       "       [202., 215., 351., ...,   3.,   1.,   2.],\n",
       "       ...,\n",
       "       [451., 220., 260., ...,  11.,  10.,  15.],\n",
       "       [285., 208., 302., ...,   8.,   9.,   7.],\n",
       "       [349., 212., 295., ...,   9.,   7.,  19.]])"
      ]
     },
     "execution_count": 80,
     "metadata": {},
     "output_type": "execute_result"
    }
   ],
   "source": [
    "enhancer_kmers.values[enh_idx, :]"
   ]
  },
  {
   "cell_type": "code",
   "execution_count": 81,
   "metadata": {},
   "outputs": [
    {
     "name": "stderr",
     "output_type": "stream",
     "text": [
      "/cndd/earmand/conda_envs/multiplex/lib/python3.7/site-packages/sklearn/cross_decomposition/pls_.py:79: ConvergenceWarning: Maximum number of iterations reached\n",
      "  ConvergenceWarning)\n"
     ]
    }
   ],
   "source": [
    "cca1_r = []\n",
    "cca2_r = []\n",
    "for i in sample_pairs:\n",
    "    enh_idx = i[0]\n",
    "    prom_idx = i[1]\n",
    "    x, y = shuffle_cca.fit_transform(enhancer_kmers.values[enh_idx, :], promoter_kmers.values[prom_idx, :])\n",
    "    cca1_r.append(spearmanr(x[:, 0], y[:, 0])[0])\n",
    "    cca2_r.append(spearmanr(x[:, 1], y[:, 1])[0])"
   ]
  },
  {
   "cell_type": "code",
   "execution_count": 82,
   "metadata": {},
   "outputs": [
    {
     "name": "stdout",
     "output_type": "stream",
     "text": [
      "[0.46807929169222223, 0.4654063845387298, 0.45810054151858626, 0.47414834612552, 0.4592104090644998, 0.4637554269282549, 0.4635816946551911, 0.46987411666430895, 0.4563289277173372, 0.4712603802524527]\n"
     ]
    }
   ],
   "source": [
    "print(cca1_r)"
   ]
  },
  {
   "cell_type": "code",
   "execution_count": 83,
   "metadata": {},
   "outputs": [
    {
     "name": "stdout",
     "output_type": "stream",
     "text": [
      "[0.4597442211129243, 0.4586924807954931, 0.4601132222638412, 0.456173882955029, 0.45677491977626145, 0.4520220081705516, 0.46523429509647524, 0.4632883586847476, 0.459342227890054, 0.4574524403200059]\n"
     ]
    }
   ],
   "source": [
    "print(cca2_r)"
   ]
  },
  {
   "cell_type": "code",
   "execution_count": 84,
   "metadata": {},
   "outputs": [
    {
     "data": {
      "text/plain": [
       "(0.46497455191571024, 0.45888380570653836)"
      ]
     },
     "execution_count": 84,
     "metadata": {},
     "output_type": "execute_result"
    }
   ],
   "source": [
    "np.mean(cca1_r), np.mean(cca2_r)"
   ]
  },
  {
   "cell_type": "markdown",
   "metadata": {},
   "source": [
    "# try against pairs within a megabase"
   ]
  },
  {
   "cell_type": "markdown",
   "metadata": {},
   "source": [
    "- use fangmings to_evals which represents all pairs in a megabase\n",
    "- draw random pairs from it"
   ]
  },
  {
   "cell_type": "code",
   "execution_count": 85,
   "metadata": {},
   "outputs": [],
   "source": [
    "pairs_in_mb = pd.read_csv('/cndd2/ethan/projects/enh_gene_linkage/non-inear-activation/get_best_gene_in_1mb/evals_in_mb.tsv', sep='\\t')"
   ]
  },
  {
   "cell_type": "code",
   "execution_count": 86,
   "metadata": {},
   "outputs": [
    {
     "data": {
      "text/html": [
       "<div>\n",
       "<style scoped>\n",
       "    .dataframe tbody tr th:only-of-type {\n",
       "        vertical-align: middle;\n",
       "    }\n",
       "\n",
       "    .dataframe tbody tr th {\n",
       "        vertical-align: top;\n",
       "    }\n",
       "\n",
       "    .dataframe thead th {\n",
       "        text-align: right;\n",
       "    }\n",
       "</style>\n",
       "<table border=\"1\" class=\"dataframe\">\n",
       "  <thead>\n",
       "    <tr style=\"text-align: right;\">\n",
       "      <th></th>\n",
       "      <th>Unnamed: 0</th>\n",
       "      <th>gene</th>\n",
       "      <th>ens</th>\n",
       "      <th>dist</th>\n",
       "      <th>val</th>\n",
       "      <th>val2</th>\n",
       "    </tr>\n",
       "  </thead>\n",
       "  <tbody>\n",
       "    <tr>\n",
       "      <th>0</th>\n",
       "      <td>0</td>\n",
       "      <td>ENSMUSG00000000001</td>\n",
       "      <td>147520</td>\n",
       "      <td>995118</td>\n",
       "      <td>-0.157895</td>\n",
       "      <td>0.144327</td>\n",
       "    </tr>\n",
       "    <tr>\n",
       "      <th>1</th>\n",
       "      <td>1</td>\n",
       "      <td>ENSMUSG00000000001</td>\n",
       "      <td>147522</td>\n",
       "      <td>985740</td>\n",
       "      <td>0.027465</td>\n",
       "      <td>-0.322245</td>\n",
       "    </tr>\n",
       "    <tr>\n",
       "      <th>2</th>\n",
       "      <td>2</td>\n",
       "      <td>ENSMUSG00000000001</td>\n",
       "      <td>147523</td>\n",
       "      <td>983725</td>\n",
       "      <td>-0.040376</td>\n",
       "      <td>0.086333</td>\n",
       "    </tr>\n",
       "    <tr>\n",
       "      <th>3</th>\n",
       "      <td>3</td>\n",
       "      <td>ENSMUSG00000000001</td>\n",
       "      <td>147527</td>\n",
       "      <td>970444</td>\n",
       "      <td>-0.070795</td>\n",
       "      <td>0.144108</td>\n",
       "    </tr>\n",
       "    <tr>\n",
       "      <th>4</th>\n",
       "      <td>4</td>\n",
       "      <td>ENSMUSG00000000001</td>\n",
       "      <td>147528</td>\n",
       "      <td>969372</td>\n",
       "      <td>0.012583</td>\n",
       "      <td>0.150892</td>\n",
       "    </tr>\n",
       "  </tbody>\n",
       "</table>\n",
       "</div>"
      ],
      "text/plain": [
       "   Unnamed: 0                gene     ens    dist       val      val2\n",
       "0           0  ENSMUSG00000000001  147520  995118 -0.157895  0.144327\n",
       "1           1  ENSMUSG00000000001  147522  985740  0.027465 -0.322245\n",
       "2           2  ENSMUSG00000000001  147523  983725 -0.040376  0.086333\n",
       "3           3  ENSMUSG00000000001  147527  970444 -0.070795  0.144108\n",
       "4           4  ENSMUSG00000000001  147528  969372  0.012583  0.150892"
      ]
     },
     "execution_count": 86,
     "metadata": {},
     "output_type": "execute_result"
    }
   ],
   "source": [
    "pairs_in_mb.head()"
   ]
  },
  {
   "cell_type": "code",
   "execution_count": 87,
   "metadata": {},
   "outputs": [],
   "source": [
    "shuffle_cca = CCA()"
   ]
  },
  {
   "cell_type": "code",
   "execution_count": 88,
   "metadata": {},
   "outputs": [],
   "source": [
    "num_samplings = 5\n",
    "sample_ids = []\n",
    "for i in range(num_samplings):\n",
    "    sample = np.random.choice(np.arange(pairs_in_mb.shape[0]), size =20000, replace=False)\n",
    "    sample_ids.append(sample)"
   ]
  },
  {
   "cell_type": "code",
   "execution_count": 95,
   "metadata": {},
   "outputs": [
    {
     "name": "stderr",
     "output_type": "stream",
     "text": [
      "/cndd/earmand/conda_envs/multiplex/lib/python3.7/site-packages/ipykernel_launcher.py:8: FutureWarning: \n",
      "Passing list-likes to .loc or [] with any missing label will raise\n",
      "KeyError in the future, you can use .reindex() as an alternative.\n",
      "\n",
      "See the documentation here:\n",
      "https://pandas.pydata.org/pandas-docs/stable/indexing.html#deprecate-loc-reindex-listlike\n",
      "  \n",
      "/cndd/earmand/conda_envs/multiplex/lib/python3.7/site-packages/ipykernel_launcher.py:13: FutureWarning: \n",
      "Passing list-likes to .loc or [] with any missing label will raise\n",
      "KeyError in the future, you can use .reindex() as an alternative.\n",
      "\n",
      "See the documentation here:\n",
      "https://pandas.pydata.org/pandas-docs/stable/indexing.html#deprecate-loc-reindex-listlike\n",
      "  del sys.path[0]\n",
      "/cndd/earmand/conda_envs/multiplex/lib/python3.7/site-packages/ipykernel_launcher.py:8: FutureWarning: \n",
      "Passing list-likes to .loc or [] with any missing label will raise\n",
      "KeyError in the future, you can use .reindex() as an alternative.\n",
      "\n",
      "See the documentation here:\n",
      "https://pandas.pydata.org/pandas-docs/stable/indexing.html#deprecate-loc-reindex-listlike\n",
      "  \n",
      "/cndd/earmand/conda_envs/multiplex/lib/python3.7/site-packages/ipykernel_launcher.py:13: FutureWarning: \n",
      "Passing list-likes to .loc or [] with any missing label will raise\n",
      "KeyError in the future, you can use .reindex() as an alternative.\n",
      "\n",
      "See the documentation here:\n",
      "https://pandas.pydata.org/pandas-docs/stable/indexing.html#deprecate-loc-reindex-listlike\n",
      "  del sys.path[0]\n",
      "/cndd/earmand/conda_envs/multiplex/lib/python3.7/site-packages/ipykernel_launcher.py:8: FutureWarning: \n",
      "Passing list-likes to .loc or [] with any missing label will raise\n",
      "KeyError in the future, you can use .reindex() as an alternative.\n",
      "\n",
      "See the documentation here:\n",
      "https://pandas.pydata.org/pandas-docs/stable/indexing.html#deprecate-loc-reindex-listlike\n",
      "  \n",
      "/cndd/earmand/conda_envs/multiplex/lib/python3.7/site-packages/ipykernel_launcher.py:13: FutureWarning: \n",
      "Passing list-likes to .loc or [] with any missing label will raise\n",
      "KeyError in the future, you can use .reindex() as an alternative.\n",
      "\n",
      "See the documentation here:\n",
      "https://pandas.pydata.org/pandas-docs/stable/indexing.html#deprecate-loc-reindex-listlike\n",
      "  del sys.path[0]\n",
      "/cndd/earmand/conda_envs/multiplex/lib/python3.7/site-packages/ipykernel_launcher.py:8: FutureWarning: \n",
      "Passing list-likes to .loc or [] with any missing label will raise\n",
      "KeyError in the future, you can use .reindex() as an alternative.\n",
      "\n",
      "See the documentation here:\n",
      "https://pandas.pydata.org/pandas-docs/stable/indexing.html#deprecate-loc-reindex-listlike\n",
      "  \n",
      "/cndd/earmand/conda_envs/multiplex/lib/python3.7/site-packages/ipykernel_launcher.py:13: FutureWarning: \n",
      "Passing list-likes to .loc or [] with any missing label will raise\n",
      "KeyError in the future, you can use .reindex() as an alternative.\n",
      "\n",
      "See the documentation here:\n",
      "https://pandas.pydata.org/pandas-docs/stable/indexing.html#deprecate-loc-reindex-listlike\n",
      "  del sys.path[0]\n",
      "/cndd/earmand/conda_envs/multiplex/lib/python3.7/site-packages/ipykernel_launcher.py:8: FutureWarning: \n",
      "Passing list-likes to .loc or [] with any missing label will raise\n",
      "KeyError in the future, you can use .reindex() as an alternative.\n",
      "\n",
      "See the documentation here:\n",
      "https://pandas.pydata.org/pandas-docs/stable/indexing.html#deprecate-loc-reindex-listlike\n",
      "  \n"
     ]
    }
   ],
   "source": [
    "cca1_r = []\n",
    "cca2_r = []\n",
    "for sample in sample_ids:\n",
    "    sample_pairs = pairs_in_mb.loc[sample]\n",
    "    sample_genes = sample_pairs.gene\n",
    "    sample_ens_id = sample_pairs.ens\n",
    "    sample_ens = enhs_list.loc[sample_ens_id]\n",
    "    sample_promoters = genes.set_index(3).loc[sample_genes]\n",
    "    sample_ens = sample_ens.drop(3, axis=1)\n",
    "    bad_ix = sample_promoters.isna().sum(axis=1) > 0\n",
    "    sample_promoters = sample_promoters.loc[~bad_ix.values]\n",
    "    sample_ens = sample_ens.loc[~bad_ix.values]\n",
    "    sample_promoter_kmers = promoter_kmers.loc[sample_promoters.index.values]\n",
    "    sample_enhancer_kmers = enhancer_kmers.loc[sample_ens.kmer_format.values]\n",
    "    bad = sample_promoter_kmers.isna().sum(axis=1)> 0\n",
    "    sample_promoter_kmers = sample_promoter_kmers.loc[~bad.values]\n",
    "    sample_enhancer_kmers = sample_enhancer_kmers.loc[~bad.values]\n",
    "    x, y = shuffle_cca.fit_transform(sample_enhancer_kmers.values, sample_promoter_kmers.values)\n",
    "    cca1_r.append(spearmanr(x[:, 0], y[:, 0])[0])\n",
    "    cca2_r.append(spearmanr(x[:, 1], y[:, 1])[0])"
   ]
  },
  {
   "cell_type": "code",
   "execution_count": 96,
   "metadata": {},
   "outputs": [
    {
     "data": {
      "text/plain": [
       "[0.5024626543381931,\n",
       " 0.49511992406467986,\n",
       " 0.49353311012425916,\n",
       " 0.49569487264959083,\n",
       " 0.4997166020637333]"
      ]
     },
     "execution_count": 96,
     "metadata": {},
     "output_type": "execute_result"
    }
   ],
   "source": [
    "cca1_r"
   ]
  },
  {
   "cell_type": "code",
   "execution_count": 97,
   "metadata": {},
   "outputs": [
    {
     "data": {
      "text/plain": [
       "[0.37030270646939656,\n",
       " 0.3691484944623759,\n",
       " 0.37162224839513275,\n",
       " 0.3709915657844746,\n",
       " 0.36909667318111067]"
      ]
     },
     "execution_count": 97,
     "metadata": {},
     "output_type": "execute_result"
    }
   ],
   "source": [
    "cca2_r"
   ]
  },
  {
   "cell_type": "code",
   "execution_count": 98,
   "metadata": {},
   "outputs": [
    {
     "data": {
      "text/plain": [
       "0.4973054326480913"
      ]
     },
     "execution_count": 98,
     "metadata": {},
     "output_type": "execute_result"
    }
   ],
   "source": [
    "np.mean(cca1_r)"
   ]
  },
  {
   "cell_type": "code",
   "execution_count": 99,
   "metadata": {},
   "outputs": [
    {
     "data": {
      "text/plain": [
       "0.3702323376584981"
      ]
     },
     "execution_count": 99,
     "metadata": {},
     "output_type": "execute_result"
    }
   ],
   "source": [
    "np.mean(cca2_r)"
   ]
  },
  {
   "cell_type": "markdown",
   "metadata": {},
   "source": [
    "# are the features learned different than random features"
   ]
  },
  {
   "cell_type": "code",
   "execution_count": 109,
   "metadata": {},
   "outputs": [],
   "source": [
    "num_samplings = 10\n",
    "sample_pairs = []\n",
    "for i in range(num_samplings):\n",
    "    enh_idx = np.random.randint(0, enhancer_kmers.shape[0], size = 10000)\n",
    "    prom_idx = np.random.randint(0, promoter_kmers.shape[1], size = 10000)\n",
    "    \n",
    "    sample_pairs.append((enh_idx, prom_idx))"
   ]
  },
  {
   "cell_type": "code",
   "execution_count": 110,
   "metadata": {},
   "outputs": [],
   "source": [
    "cca1_r = []\n",
    "cca2_r = []\n",
    "for i in sample_pairs:\n",
    "    enh_idx = i[0]\n",
    "    prom_idx = i[1]\n",
    "    x, y = cca.transform(enhancer_kmers.values[enh_idx, :], promoter_kmers.values[prom_idx, :])\n",
    "    cca1_r.append(spearmanr(x[:, 0], y[:, 0])[0])\n",
    "    cca2_r.append(spearmanr(x[:, 1], y[:, 1])[0])"
   ]
  },
  {
   "cell_type": "code",
   "execution_count": 111,
   "metadata": {},
   "outputs": [
    {
     "data": {
      "text/plain": [
       "[-0.004413664424946821,\n",
       " -0.011777636026839223,\n",
       " 0.023326674010793875,\n",
       " -0.0014081852238717345,\n",
       " 0.012276221111096618,\n",
       " 0.011196180742712957,\n",
       " -0.0137154627292199,\n",
       " 0.004545323251752496,\n",
       " -0.0077759436766042895,\n",
       " -0.008758279589840934]"
      ]
     },
     "execution_count": 111,
     "metadata": {},
     "output_type": "execute_result"
    }
   ],
   "source": [
    "cca1_r"
   ]
  },
  {
   "cell_type": "code",
   "execution_count": 112,
   "metadata": {},
   "outputs": [
    {
     "data": {
      "text/plain": [
       "[-0.002957444545847859,\n",
       " 0.025424064533272003,\n",
       " 0.015977152026808984,\n",
       " -0.004578620170648436,\n",
       " 0.009639821002004086,\n",
       " 0.008927936636353604,\n",
       " -0.005063560174221802,\n",
       " 0.026129515552645463,\n",
       " -0.0031848089464900165,\n",
       " 0.001259212990917877]"
      ]
     },
     "execution_count": 112,
     "metadata": {},
     "output_type": "execute_result"
    }
   ],
   "source": [
    "cca2_r"
   ]
  },
  {
   "cell_type": "code",
   "execution_count": 113,
   "metadata": {},
   "outputs": [
    {
     "data": {
      "text/plain": [
       "0.0003495227445033045"
      ]
     },
     "execution_count": 113,
     "metadata": {},
     "output_type": "execute_result"
    }
   ],
   "source": [
    "np.mean(cca1_r)"
   ]
  },
  {
   "cell_type": "code",
   "execution_count": 114,
   "metadata": {},
   "outputs": [
    {
     "data": {
      "text/plain": [
       "0.00715732689047939"
      ]
     },
     "execution_count": 114,
     "metadata": {},
     "output_type": "execute_result"
    }
   ],
   "source": [
    "np.mean(cca2_r)"
   ]
  },
  {
   "cell_type": "code",
   "execution_count": 115,
   "metadata": {},
   "outputs": [
    {
     "name": "stderr",
     "output_type": "stream",
     "text": [
      "/cndd/earmand/conda_envs/multiplex/lib/python3.7/site-packages/ipykernel_launcher.py:8: FutureWarning: \n",
      "Passing list-likes to .loc or [] with any missing label will raise\n",
      "KeyError in the future, you can use .reindex() as an alternative.\n",
      "\n",
      "See the documentation here:\n",
      "https://pandas.pydata.org/pandas-docs/stable/indexing.html#deprecate-loc-reindex-listlike\n",
      "  \n",
      "/cndd/earmand/conda_envs/multiplex/lib/python3.7/site-packages/ipykernel_launcher.py:13: FutureWarning: \n",
      "Passing list-likes to .loc or [] with any missing label will raise\n",
      "KeyError in the future, you can use .reindex() as an alternative.\n",
      "\n",
      "See the documentation here:\n",
      "https://pandas.pydata.org/pandas-docs/stable/indexing.html#deprecate-loc-reindex-listlike\n",
      "  del sys.path[0]\n",
      "/cndd/earmand/conda_envs/multiplex/lib/python3.7/site-packages/ipykernel_launcher.py:8: FutureWarning: \n",
      "Passing list-likes to .loc or [] with any missing label will raise\n",
      "KeyError in the future, you can use .reindex() as an alternative.\n",
      "\n",
      "See the documentation here:\n",
      "https://pandas.pydata.org/pandas-docs/stable/indexing.html#deprecate-loc-reindex-listlike\n",
      "  \n",
      "/cndd/earmand/conda_envs/multiplex/lib/python3.7/site-packages/ipykernel_launcher.py:13: FutureWarning: \n",
      "Passing list-likes to .loc or [] with any missing label will raise\n",
      "KeyError in the future, you can use .reindex() as an alternative.\n",
      "\n",
      "See the documentation here:\n",
      "https://pandas.pydata.org/pandas-docs/stable/indexing.html#deprecate-loc-reindex-listlike\n",
      "  del sys.path[0]\n",
      "/cndd/earmand/conda_envs/multiplex/lib/python3.7/site-packages/ipykernel_launcher.py:8: FutureWarning: \n",
      "Passing list-likes to .loc or [] with any missing label will raise\n",
      "KeyError in the future, you can use .reindex() as an alternative.\n",
      "\n",
      "See the documentation here:\n",
      "https://pandas.pydata.org/pandas-docs/stable/indexing.html#deprecate-loc-reindex-listlike\n",
      "  \n",
      "/cndd/earmand/conda_envs/multiplex/lib/python3.7/site-packages/ipykernel_launcher.py:13: FutureWarning: \n",
      "Passing list-likes to .loc or [] with any missing label will raise\n",
      "KeyError in the future, you can use .reindex() as an alternative.\n",
      "\n",
      "See the documentation here:\n",
      "https://pandas.pydata.org/pandas-docs/stable/indexing.html#deprecate-loc-reindex-listlike\n",
      "  del sys.path[0]\n",
      "/cndd/earmand/conda_envs/multiplex/lib/python3.7/site-packages/ipykernel_launcher.py:8: FutureWarning: \n",
      "Passing list-likes to .loc or [] with any missing label will raise\n",
      "KeyError in the future, you can use .reindex() as an alternative.\n",
      "\n",
      "See the documentation here:\n",
      "https://pandas.pydata.org/pandas-docs/stable/indexing.html#deprecate-loc-reindex-listlike\n",
      "  \n",
      "/cndd/earmand/conda_envs/multiplex/lib/python3.7/site-packages/ipykernel_launcher.py:13: FutureWarning: \n",
      "Passing list-likes to .loc or [] with any missing label will raise\n",
      "KeyError in the future, you can use .reindex() as an alternative.\n",
      "\n",
      "See the documentation here:\n",
      "https://pandas.pydata.org/pandas-docs/stable/indexing.html#deprecate-loc-reindex-listlike\n",
      "  del sys.path[0]\n",
      "/cndd/earmand/conda_envs/multiplex/lib/python3.7/site-packages/ipykernel_launcher.py:8: FutureWarning: \n",
      "Passing list-likes to .loc or [] with any missing label will raise\n",
      "KeyError in the future, you can use .reindex() as an alternative.\n",
      "\n",
      "See the documentation here:\n",
      "https://pandas.pydata.org/pandas-docs/stable/indexing.html#deprecate-loc-reindex-listlike\n",
      "  \n"
     ]
    }
   ],
   "source": [
    "cca1_r = []\n",
    "cca2_r = []\n",
    "for sample in sample_ids:\n",
    "    sample_pairs = pairs_in_mb.loc[sample]\n",
    "    sample_genes = sample_pairs.gene\n",
    "    sample_ens_id = sample_pairs.ens\n",
    "    sample_ens = enhs_list.loc[sample_ens_id]\n",
    "    sample_promoters = genes.set_index(3).loc[sample_genes]\n",
    "    sample_ens = sample_ens.drop(3, axis=1)\n",
    "    bad_ix = sample_promoters.isna().sum(axis=1) > 0\n",
    "    sample_promoters = sample_promoters.loc[~bad_ix.values]\n",
    "    sample_ens = sample_ens.loc[~bad_ix.values]\n",
    "    sample_promoter_kmers = promoter_kmers.loc[sample_promoters.index.values]\n",
    "    sample_enhancer_kmers = enhancer_kmers.loc[sample_ens.kmer_format.values]\n",
    "    bad = sample_promoter_kmers.isna().sum(axis=1)> 0\n",
    "    sample_promoter_kmers = sample_promoter_kmers.loc[~bad.values]\n",
    "    sample_enhancer_kmers = sample_enhancer_kmers.loc[~bad.values]\n",
    "    x, y = cca.transform(sample_enhancer_kmers.values, sample_promoter_kmers.values)\n",
    "    cca1_r.append(spearmanr(x[:, 0], y[:, 0])[0])\n",
    "    cca2_r.append(spearmanr(x[:, 1], y[:, 1])[0])"
   ]
  },
  {
   "cell_type": "code",
   "execution_count": 116,
   "metadata": {},
   "outputs": [
    {
     "data": {
      "text/plain": [
       "[0.2695583389103341,\n",
       " 0.2680742492349032,\n",
       " 0.2615920512448139,\n",
       " 0.26789392048689087,\n",
       " 0.27068301479622653]"
      ]
     },
     "execution_count": 116,
     "metadata": {},
     "output_type": "execute_result"
    }
   ],
   "source": [
    "cca1_r"
   ]
  },
  {
   "cell_type": "code",
   "execution_count": 117,
   "metadata": {},
   "outputs": [
    {
     "data": {
      "text/plain": [
       "[0.012799418281514404,\n",
       " 0.022223498079102767,\n",
       " 0.026493440868803668,\n",
       " 0.035448458182952114,\n",
       " 0.049639089836808294]"
      ]
     },
     "execution_count": 117,
     "metadata": {},
     "output_type": "execute_result"
    }
   ],
   "source": [
    "cca2_r"
   ]
  },
  {
   "cell_type": "code",
   "execution_count": 118,
   "metadata": {},
   "outputs": [
    {
     "data": {
      "text/plain": [
       "0.26756031493463367"
      ]
     },
     "execution_count": 118,
     "metadata": {},
     "output_type": "execute_result"
    }
   ],
   "source": [
    "np.mean(cca1_r)"
   ]
  },
  {
   "cell_type": "code",
   "execution_count": 119,
   "metadata": {},
   "outputs": [
    {
     "data": {
      "text/plain": [
       "0.029320781049836247"
      ]
     },
     "execution_count": 119,
     "metadata": {},
     "output_type": "execute_result"
    }
   ],
   "source": [
    "np.mean(cca2_r)"
   ]
  },
  {
   "cell_type": "markdown",
   "metadata": {},
   "source": [
    "# validate model on correlated from atac"
   ]
  },
  {
   "cell_type": "code",
   "execution_count": 142,
   "metadata": {},
   "outputs": [],
   "source": [
    "gene_atac = []\n",
    "enh_atac = []\n",
    "for i in atac:\n",
    "    tmp = i.split(':')\n",
    "    gene_atac.append(tmp[0])\n",
    "    enh_atac.append(tmp[1])"
   ]
  },
  {
   "cell_type": "code",
   "execution_count": 143,
   "metadata": {},
   "outputs": [],
   "source": [
    "atac_enhs = enhs_list.loc[np.array(enh_atac).astype(int)]"
   ]
  },
  {
   "cell_type": "code",
   "execution_count": 144,
   "metadata": {},
   "outputs": [],
   "source": [
    "atac_enhs['paired_gene'] = gene_atac"
   ]
  },
  {
   "cell_type": "code",
   "execution_count": 145,
   "metadata": {},
   "outputs": [
    {
     "data": {
      "text/html": [
       "<div>\n",
       "<style scoped>\n",
       "    .dataframe tbody tr th:only-of-type {\n",
       "        vertical-align: middle;\n",
       "    }\n",
       "\n",
       "    .dataframe tbody tr th {\n",
       "        vertical-align: top;\n",
       "    }\n",
       "\n",
       "    .dataframe thead th {\n",
       "        text-align: right;\n",
       "    }\n",
       "</style>\n",
       "<table border=\"1\" class=\"dataframe\">\n",
       "  <thead>\n",
       "    <tr style=\"text-align: right;\">\n",
       "      <th></th>\n",
       "      <th>AA</th>\n",
       "      <th>AC</th>\n",
       "      <th>AG</th>\n",
       "      <th>AT</th>\n",
       "      <th>CA</th>\n",
       "      <th>CC</th>\n",
       "      <th>CG</th>\n",
       "      <th>CT</th>\n",
       "      <th>GA</th>\n",
       "      <th>GC</th>\n",
       "      <th>...</th>\n",
       "      <th>TTTCG</th>\n",
       "      <th>TTTCT</th>\n",
       "      <th>TTTGA</th>\n",
       "      <th>TTTGC</th>\n",
       "      <th>TTTGG</th>\n",
       "      <th>TTTGT</th>\n",
       "      <th>TTTTA</th>\n",
       "      <th>TTTTC</th>\n",
       "      <th>TTTTG</th>\n",
       "      <th>TTTTT</th>\n",
       "    </tr>\n",
       "    <tr>\n",
       "      <th>0</th>\n",
       "      <th></th>\n",
       "      <th></th>\n",
       "      <th></th>\n",
       "      <th></th>\n",
       "      <th></th>\n",
       "      <th></th>\n",
       "      <th></th>\n",
       "      <th></th>\n",
       "      <th></th>\n",
       "      <th></th>\n",
       "      <th></th>\n",
       "      <th></th>\n",
       "      <th></th>\n",
       "      <th></th>\n",
       "      <th></th>\n",
       "      <th></th>\n",
       "      <th></th>\n",
       "      <th></th>\n",
       "      <th></th>\n",
       "      <th></th>\n",
       "      <th></th>\n",
       "    </tr>\n",
       "  </thead>\n",
       "  <tbody>\n",
       "    <tr>\n",
       "      <th>&gt;chr10:100009350-100011350</th>\n",
       "      <td>335</td>\n",
       "      <td>246</td>\n",
       "      <td>281</td>\n",
       "      <td>131</td>\n",
       "      <td>327</td>\n",
       "      <td>194</td>\n",
       "      <td>37</td>\n",
       "      <td>281</td>\n",
       "      <td>225</td>\n",
       "      <td>105</td>\n",
       "      <td>...</td>\n",
       "      <td>1.0</td>\n",
       "      <td>5.0</td>\n",
       "      <td>6.0</td>\n",
       "      <td>11.0</td>\n",
       "      <td>5.0</td>\n",
       "      <td>7.0</td>\n",
       "      <td>7.0</td>\n",
       "      <td>6.0</td>\n",
       "      <td>9.0</td>\n",
       "      <td>19.0</td>\n",
       "    </tr>\n",
       "    <tr>\n",
       "      <th>&gt;chr10:100018062-100020062</th>\n",
       "      <td>447</td>\n",
       "      <td>208</td>\n",
       "      <td>269</td>\n",
       "      <td>141</td>\n",
       "      <td>280</td>\n",
       "      <td>193</td>\n",
       "      <td>26</td>\n",
       "      <td>269</td>\n",
       "      <td>231</td>\n",
       "      <td>80</td>\n",
       "      <td>...</td>\n",
       "      <td>1.0</td>\n",
       "      <td>13.0</td>\n",
       "      <td>10.0</td>\n",
       "      <td>7.0</td>\n",
       "      <td>6.0</td>\n",
       "      <td>12.0</td>\n",
       "      <td>17.0</td>\n",
       "      <td>12.0</td>\n",
       "      <td>9.0</td>\n",
       "      <td>46.0</td>\n",
       "    </tr>\n",
       "    <tr>\n",
       "      <th>&gt;chr10:100018734-100020734</th>\n",
       "      <td>404</td>\n",
       "      <td>229</td>\n",
       "      <td>300</td>\n",
       "      <td>116</td>\n",
       "      <td>284</td>\n",
       "      <td>189</td>\n",
       "      <td>31</td>\n",
       "      <td>300</td>\n",
       "      <td>247</td>\n",
       "      <td>85</td>\n",
       "      <td>...</td>\n",
       "      <td>2.0</td>\n",
       "      <td>13.0</td>\n",
       "      <td>6.0</td>\n",
       "      <td>4.0</td>\n",
       "      <td>8.0</td>\n",
       "      <td>12.0</td>\n",
       "      <td>13.0</td>\n",
       "      <td>9.0</td>\n",
       "      <td>5.0</td>\n",
       "      <td>44.0</td>\n",
       "    </tr>\n",
       "    <tr>\n",
       "      <th>&gt;chr10:100019262-100021262</th>\n",
       "      <td>419</td>\n",
       "      <td>232</td>\n",
       "      <td>289</td>\n",
       "      <td>107</td>\n",
       "      <td>289</td>\n",
       "      <td>205</td>\n",
       "      <td>31</td>\n",
       "      <td>289</td>\n",
       "      <td>242</td>\n",
       "      <td>83</td>\n",
       "      <td>...</td>\n",
       "      <td>3.0</td>\n",
       "      <td>11.0</td>\n",
       "      <td>6.0</td>\n",
       "      <td>5.0</td>\n",
       "      <td>10.0</td>\n",
       "      <td>21.0</td>\n",
       "      <td>8.0</td>\n",
       "      <td>10.0</td>\n",
       "      <td>13.0</td>\n",
       "      <td>34.0</td>\n",
       "    </tr>\n",
       "    <tr>\n",
       "      <th>&gt;chr10:100021578-100023578</th>\n",
       "      <td>275</td>\n",
       "      <td>236</td>\n",
       "      <td>323</td>\n",
       "      <td>96</td>\n",
       "      <td>339</td>\n",
       "      <td>265</td>\n",
       "      <td>23</td>\n",
       "      <td>323</td>\n",
       "      <td>250</td>\n",
       "      <td>111</td>\n",
       "      <td>...</td>\n",
       "      <td>1.0</td>\n",
       "      <td>9.0</td>\n",
       "      <td>4.0</td>\n",
       "      <td>9.0</td>\n",
       "      <td>3.0</td>\n",
       "      <td>10.0</td>\n",
       "      <td>2.0</td>\n",
       "      <td>7.0</td>\n",
       "      <td>9.0</td>\n",
       "      <td>7.0</td>\n",
       "    </tr>\n",
       "  </tbody>\n",
       "</table>\n",
       "<p>5 rows × 1360 columns</p>\n",
       "</div>"
      ],
      "text/plain": [
       "                             AA   AC   AG   AT   CA   CC  CG   CT   GA   GC  \\\n",
       "0                                                                             \n",
       ">chr10:100009350-100011350  335  246  281  131  327  194  37  281  225  105   \n",
       ">chr10:100018062-100020062  447  208  269  141  280  193  26  269  231   80   \n",
       ">chr10:100018734-100020734  404  229  300  116  284  189  31  300  247   85   \n",
       ">chr10:100019262-100021262  419  232  289  107  289  205  31  289  242   83   \n",
       ">chr10:100021578-100023578  275  236  323   96  339  265  23  323  250  111   \n",
       "\n",
       "                            ...  TTTCG  TTTCT  TTTGA  TTTGC  TTTGG  TTTGT  \\\n",
       "0                           ...                                             \n",
       ">chr10:100009350-100011350  ...    1.0    5.0    6.0   11.0    5.0    7.0   \n",
       ">chr10:100018062-100020062  ...    1.0   13.0   10.0    7.0    6.0   12.0   \n",
       ">chr10:100018734-100020734  ...    2.0   13.0    6.0    4.0    8.0   12.0   \n",
       ">chr10:100019262-100021262  ...    3.0   11.0    6.0    5.0   10.0   21.0   \n",
       ">chr10:100021578-100023578  ...    1.0    9.0    4.0    9.0    3.0   10.0   \n",
       "\n",
       "                            TTTTA  TTTTC  TTTTG  TTTTT  \n",
       "0                                                       \n",
       ">chr10:100009350-100011350    7.0    6.0    9.0   19.0  \n",
       ">chr10:100018062-100020062   17.0   12.0    9.0   46.0  \n",
       ">chr10:100018734-100020734   13.0    9.0    5.0   44.0  \n",
       ">chr10:100019262-100021262    8.0   10.0   13.0   34.0  \n",
       ">chr10:100021578-100023578    2.0    7.0    9.0    7.0  \n",
       "\n",
       "[5 rows x 1360 columns]"
      ]
     },
     "execution_count": 145,
     "metadata": {},
     "output_type": "execute_result"
    }
   ],
   "source": [
    "enhancer_kmers.head()"
   ]
  },
  {
   "cell_type": "code",
   "execution_count": 146,
   "metadata": {},
   "outputs": [
    {
     "data": {
      "text/html": [
       "<div>\n",
       "<style scoped>\n",
       "    .dataframe tbody tr th:only-of-type {\n",
       "        vertical-align: middle;\n",
       "    }\n",
       "\n",
       "    .dataframe tbody tr th {\n",
       "        vertical-align: top;\n",
       "    }\n",
       "\n",
       "    .dataframe thead th {\n",
       "        text-align: right;\n",
       "    }\n",
       "</style>\n",
       "<table border=\"1\" class=\"dataframe\">\n",
       "  <thead>\n",
       "    <tr style=\"text-align: right;\">\n",
       "      <th></th>\n",
       "      <th>0</th>\n",
       "      <th>1</th>\n",
       "      <th>2</th>\n",
       "      <th>3</th>\n",
       "      <th>kmer_format</th>\n",
       "      <th>paired_gene</th>\n",
       "    </tr>\n",
       "  </thead>\n",
       "  <tbody>\n",
       "    <tr>\n",
       "      <th>214679</th>\n",
       "      <td>chr8</td>\n",
       "      <td>115140570</td>\n",
       "      <td>115142570</td>\n",
       "      <td>NaN</td>\n",
       "      <td>&gt;chr8:115140570-115142570</td>\n",
       "      <td>ENSMUSG00000055435</td>\n",
       "    </tr>\n",
       "    <tr>\n",
       "      <th>166307</th>\n",
       "      <td>chr4</td>\n",
       "      <td>150939276</td>\n",
       "      <td>150941276</td>\n",
       "      <td>NaN</td>\n",
       "      <td>&gt;chr4:150939276-150941276</td>\n",
       "      <td>ENSMUSG00000028957</td>\n",
       "    </tr>\n",
       "    <tr>\n",
       "      <th>148681</th>\n",
       "      <td>chr3</td>\n",
       "      <td>121735451</td>\n",
       "      <td>121737451</td>\n",
       "      <td>NaN</td>\n",
       "      <td>&gt;chr3:121735451-121737451</td>\n",
       "      <td>ENSMUSG00000028128</td>\n",
       "    </tr>\n",
       "    <tr>\n",
       "      <th>125010</th>\n",
       "      <td>chr2</td>\n",
       "      <td>45041961</td>\n",
       "      <td>45043961</td>\n",
       "      <td>NaN</td>\n",
       "      <td>&gt;chr2:45041961-45043961</td>\n",
       "      <td>ENSMUSG00000026872</td>\n",
       "    </tr>\n",
       "    <tr>\n",
       "      <th>7727</th>\n",
       "      <td>chr1</td>\n",
       "      <td>87475062</td>\n",
       "      <td>87477062</td>\n",
       "      <td>NaN</td>\n",
       "      <td>&gt;chr1:87475062-87477062</td>\n",
       "      <td>ENSMUSG00000079434</td>\n",
       "    </tr>\n",
       "  </tbody>\n",
       "</table>\n",
       "</div>"
      ],
      "text/plain": [
       "           0          1          2   3                kmer_format  \\\n",
       "214679  chr8  115140570  115142570 NaN  >chr8:115140570-115142570   \n",
       "166307  chr4  150939276  150941276 NaN  >chr4:150939276-150941276   \n",
       "148681  chr3  121735451  121737451 NaN  >chr3:121735451-121737451   \n",
       "125010  chr2   45041961   45043961 NaN    >chr2:45041961-45043961   \n",
       "7727    chr1   87475062   87477062 NaN    >chr1:87475062-87477062   \n",
       "\n",
       "               paired_gene  \n",
       "214679  ENSMUSG00000055435  \n",
       "166307  ENSMUSG00000028957  \n",
       "148681  ENSMUSG00000028128  \n",
       "125010  ENSMUSG00000026872  \n",
       "7727    ENSMUSG00000079434  "
      ]
     },
     "execution_count": 146,
     "metadata": {},
     "output_type": "execute_result"
    }
   ],
   "source": [
    "atac_enhs.head()"
   ]
  },
  {
   "cell_type": "code",
   "execution_count": 147,
   "metadata": {},
   "outputs": [],
   "source": [
    "use_enhs_atac = enhancer_kmers.loc[atac_enhs.kmer_format.values]"
   ]
  },
  {
   "cell_type": "code",
   "execution_count": 148,
   "metadata": {},
   "outputs": [],
   "source": [
    "use_enhs_atac['paired_gene'] = atac_enhs['paired_gene'].values"
   ]
  },
  {
   "cell_type": "code",
   "execution_count": null,
   "metadata": {},
   "outputs": [],
   "source": []
  },
  {
   "cell_type": "code",
   "execution_count": 149,
   "metadata": {},
   "outputs": [],
   "source": [
    "use_promoter_atac = []\n",
    "missing_genes = []\n",
    "for i in use_enhs_atac.paired_gene:\n",
    "    if i in promoter_kmers.index.tolist():\n",
    "        use_promoter_atac.append(promoter_kmers.loc[i])\n",
    "    else: \n",
    "        missing_genes.append(i)"
   ]
  },
  {
   "cell_type": "code",
   "execution_count": 150,
   "metadata": {},
   "outputs": [
    {
     "data": {
      "text/plain": [
       "512"
      ]
     },
     "execution_count": 150,
     "metadata": {},
     "output_type": "execute_result"
    }
   ],
   "source": [
    "len(missing_genes)"
   ]
  },
  {
   "cell_type": "code",
   "execution_count": 151,
   "metadata": {},
   "outputs": [],
   "source": [
    "use_enhs_atac = use_enhs_atac.loc[~(use_enhs_atac.paired_gene.isin(missing_genes))]"
   ]
  },
  {
   "cell_type": "code",
   "execution_count": 153,
   "metadata": {},
   "outputs": [
    {
     "data": {
      "text/plain": [
       "(4312, 1360)"
      ]
     },
     "execution_count": 153,
     "metadata": {},
     "output_type": "execute_result"
    }
   ],
   "source": [
    "use_promoter_atac= np.array(use_promoter_atac)\n",
    "use_promoter_atac.shape"
   ]
  },
  {
   "cell_type": "code",
   "execution_count": 155,
   "metadata": {},
   "outputs": [],
   "source": [
    "atac_enh, atac_prom = cca.fit_transform(use_enhs_atac.drop('paired_gene', axis=1).values, use_promoter_atac)"
   ]
  },
  {
   "cell_type": "code",
   "execution_count": 157,
   "metadata": {},
   "outputs": [
    {
     "data": {
      "text/plain": [
       "SpearmanrResult(correlation=0.7283263581154479, pvalue=0.0)"
      ]
     },
     "execution_count": 157,
     "metadata": {},
     "output_type": "execute_result"
    }
   ],
   "source": [
    "spearmanr(atac_enh[:, 1], atac_prom[:, 1])"
   ]
  },
  {
   "cell_type": "code",
   "execution_count": 162,
   "metadata": {},
   "outputs": [
    {
     "data": {
      "text/plain": [
       "Text(0.5, 1.0, 'Second cannonical component')"
      ]
     },
     "execution_count": 162,
     "metadata": {},
     "output_type": "execute_result"
    },
    {
     "data": {
      "image/png": "[encoded data removed]",
      "text/plain": [
       "<Figure size 432x288 with 1 Axes>"
      ]
     },
     "metadata": {
      "needs_background": "light"
     },
     "output_type": "display_data"
    }
   ],
   "source": [
    "plt.scatter(atac_enh[:, 1], atac_prom[:, 1], s=1)\n",
    "plt.xlabel('Enhancer kmers')\n",
    "plt.ylabel('Promoter kmers')\n",
    "plt.title('Second cannonical component')"
   ]
  },
  {
   "cell_type": "code",
   "execution_count": 165,
   "metadata": {},
   "outputs": [
    {
     "data": {
      "text/plain": [
       "Text(0.5, 1.0, 'First cannonical component')"
      ]
     },
     "execution_count": 165,
     "metadata": {},
     "output_type": "execute_result"
    },
    {
     "data": {
      "image/png": "[encoded data removed]",
      "text/plain": [
       "<Figure size 432x288 with 1 Axes>"
      ]
     },
     "metadata": {
      "needs_background": "light"
     },
     "output_type": "display_data"
    }
   ],
   "source": [
    "plt.scatter(atac_enh[:, 0], atac_prom[:, 0], s=1)\n",
    "plt.xlabel('Enhancer kmers')\n",
    "plt.ylabel('Promoter kmers')\n",
    "plt.title('First cannonical component')"
   ]
  },
  {
   "cell_type": "code",
   "execution_count": 164,
   "metadata": {},
   "outputs": [
    {
     "data": {
      "text/plain": [
       "SpearmanrResult(correlation=0.8081861544378635, pvalue=0.0)"
      ]
     },
     "execution_count": 164,
     "metadata": {},
     "output_type": "execute_result"
    }
   ],
   "source": [
    "spearmanr(atac_enh[:, 0], atac_prom[:, 0])"
   ]
  },
  {
   "cell_type": "code",
   "execution_count": 167,
   "metadata": {},
   "outputs": [
    {
     "data": {
      "text/plain": [
       "(1693,)"
      ]
     },
     "execution_count": 167,
     "metadata": {},
     "output_type": "execute_result"
    }
   ],
   "source": [
    "atac_enhs.paired_gene.unique().shape"
   ]
  },
  {
   "cell_type": "code",
   "execution_count": 170,
   "metadata": {},
   "outputs": [
    {
     "data": {
      "text/plain": [
       "972"
      ]
     },
     "execution_count": 170,
     "metadata": {},
     "output_type": "execute_result"
    }
   ],
   "source": [
    "np.sum(pd.Series(use_enhs.paired_gene.unique()).isin(atac_enhs.paired_gene.unique()))"
   ]
  },
  {
   "cell_type": "code",
   "execution_count": 249,
   "metadata": {},
   "outputs": [],
   "source": [
    "use_enh_array = use_enhs_atac.drop('paired_gene', axis=1).values\n",
    "kmer_names = use_enhs_atac.columns.to_list()[:-1]\n",
    "promoter_loadings = []\n",
    "enhancer_loadings = []\n",
    "for i in range(use_enh_array.shape[1]):\n",
    "    enhancer_loadings.append(spearmanr(use_enh_array[:, i], atac_enh[:, 0])[0])\n",
    "    promoter_loadings.append(spearmanr(use_promoter_atac[:, i], atac_prom[:, 0])[0])"
   ]
  },
  {
   "cell_type": "code",
   "execution_count": 250,
   "metadata": {},
   "outputs": [
    {
     "data": {
      "text/plain": [
       "<matplotlib.collections.PathCollection at 0x7f5a15beb588>"
      ]
     },
     "execution_count": 250,
     "metadata": {},
     "output_type": "execute_result"
    },
    {
     "data": {
      "image/png": "[encoded data removed]",
      "text/plain": [
       "<Figure size 432x288 with 1 Axes>"
      ]
     },
     "metadata": {
      "needs_background": "light"
     },
     "output_type": "display_data"
    }
   ],
   "source": [
    "plt.scatter(enhancer_loadings, promoter_loadings)"
   ]
  },
  {
   "cell_type": "code",
   "execution_count": 251,
   "metadata": {},
   "outputs": [
    {
     "data": {
      "text/plain": [
       "SpearmanrResult(correlation=0.9190527890386494, pvalue=0.0)"
      ]
     },
     "execution_count": 251,
     "metadata": {},
     "output_type": "execute_result"
    }
   ],
   "source": [
    "spearmanr(enhancer_loadings, promoter_loadings)"
   ]
  },
  {
   "cell_type": "code",
   "execution_count": null,
   "metadata": {},
   "outputs": [],
   "source": []
  }
 ],
 "metadata": {
  "kernelspec": {
   "display_name": "Python 3",
   "language": "python",
   "name": "python3"
  },
  "language_info": {
   "codemirror_mode": {
    "name": "ipython",
    "version": 3
   },
   "file_extension": ".py",
   "mimetype": "text/x-python",
   "name": "python",
   "nbconvert_exporter": "python",
   "pygments_lexer": "ipython3",
   "version": "3.6.6"
  }
 },
 "nbformat": 4,
 "nbformat_minor": 2
}
