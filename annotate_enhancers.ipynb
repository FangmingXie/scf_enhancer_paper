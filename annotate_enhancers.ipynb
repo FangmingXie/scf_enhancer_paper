{
 "cells": [
  {
   "cell_type": "markdown",
   "metadata": {},
   "source": [
    "# Annotate enhancers by\n",
    "- distance to the nearest gene\n",
    "- GC content"
   ]
  },
  {
   "cell_type": "code",
   "execution_count": 2,
   "metadata": {},
   "outputs": [
    {
     "data": {
      "text/plain": [
       "<module 'enhancer_gene_utils' from '/cndd2/fangming/projects/scf_enhancers/scripts/scf_enhancer_paper/enhancer_gene_utils.py'>"
      ]
     },
     "execution_count": 2,
     "metadata": {},
     "output_type": "execute_result"
    }
   ],
   "source": [
    "import sys\n",
    "import importlib\n",
    "sys.path.insert(0, '/cndd/fangming/CEMBA/snmcseq_dev')\n",
    "sys.path.insert(0, '/cndd2/fangming/projects/scf_enhancers/scripts/scf_enhancer_paper')\n",
    "from __init__ import *\n",
    "import __init__jupyterlab\n",
    "importlib.reload(__init__jupyterlab)\n",
    "from __init__jupyterlab import *\n",
    "\n",
    "import re \n",
    "import tqdm\n",
    "import pickle\n",
    "import collections\n",
    "import itertools\n",
    "import tables\n",
    "\n",
    "from scipy import sparse\n",
    "from scipy import stats\n",
    "from scipy import optimize \n",
    "import scipy.cluster.hierarchy as sch\n",
    "from statsmodels.stats.multitest import multipletests\n",
    "\n",
    "import snmcseq_utils\n",
    "importlib.reload(snmcseq_utils)\n",
    "import CEMBA_clst_utils\n",
    "importlib.reload(CEMBA_clst_utils)\n",
    "import enhancer_gene_utils \n",
    "importlib.reload(enhancer_gene_utils)"
   ]
  },
  {
   "cell_type": "code",
   "execution_count": 3,
   "metadata": {},
   "outputs": [
    {
     "name": "stdout",
     "output_type": "stream",
     "text": [
      "(31053, 11)\n"
     ]
    },
    {
     "name": "stderr",
     "output_type": "stream",
     "text": [
      "/cndd2/fangming/venvs/routine/lib/python3.8/site-packages/IPython/core/interactiveshell.py:3071: DtypeWarning: Columns (5) have mixed types.Specify dtype option on import or set low_memory=False.\n",
      "  has_raised = await self.run_ast_nodes(code_ast.body, cell_name,\n"
     ]
    },
    {
     "name": "stdout",
     "output_type": "stream",
     "text": [
      "(233514, 7)\n",
      "(2589994, 4)\n"
     ]
    }
   ],
   "source": [
    "# genes\n",
    "# enhs\n",
    "# to_evals\n",
    "f = '/cndd2/fangming/projects/scf_enhancers/enhancer_metacells_r100_n935/organized_for_jupyter/genes_list.tsv'\n",
    "genes_list = pd.read_csv(f, sep='\\t', index_col=False)\n",
    "print(genes_list.shape)\n",
    "\n",
    "# enh list\n",
    "f = '/cndd2/fangming/projects/scf_enhancers/enhancer_metacells_r100_n935/organized_for_jupyter/enhs_list.tsv'\n",
    "enh_list = pd.read_csv(f, sep='\\t', index_col=False)\n",
    "print(enh_list.shape)\n",
    "\n",
    "# pair list\n",
    "f = '/cndd2/fangming/projects/scf_enhancers/results/200521_to_evals_appended_201212.tsv' \n",
    "to_evals = pd.read_csv(f, sep='\\t', index_col=False)\n",
    "to_evals = to_evals.astype({'dist': np.int, 'enh': np.int, 'is_in_genebody': np.bool_})\n",
    "\n",
    "print(to_evals.shape)"
   ]
  },
  {
   "cell_type": "code",
   "execution_count": 4,
   "metadata": {},
   "outputs": [],
   "source": [
    "gid_to_gname = genes_list.groupby('gid').first()['gene_name'] \n",
    "gname_to_gid = genes_list.groupby('gene_name').first()['gid']\n",
    "\n",
    "def gname_to_gid_nan(name):\n",
    "    try:\n",
    "        return gname_to_gid[name]\n",
    "    except:\n",
    "        return np.nan"
   ]
  },
  {
   "cell_type": "markdown",
   "metadata": {},
   "source": [
    "### nearest gene"
   ]
  },
  {
   "cell_type": "code",
   "execution_count": 5,
   "metadata": {},
   "outputs": [
    {
     "name": "stdout",
     "output_type": "stream",
     "text": [
      "(233514, 12)\n",
      "(233514, 7)\n",
      "(233514, 16)\n"
     ]
    },
    {
     "data": {
      "text/html": [
       "<div>\n",
       "<style scoped>\n",
       "    .dataframe tbody tr th:only-of-type {\n",
       "        vertical-align: middle;\n",
       "    }\n",
       "\n",
       "    .dataframe tbody tr th {\n",
       "        vertical-align: top;\n",
       "    }\n",
       "\n",
       "    .dataframe thead th {\n",
       "        text-align: right;\n",
       "    }\n",
       "</style>\n",
       "<table border=\"1\" class=\"dataframe\">\n",
       "  <thead>\n",
       "    <tr style=\"text-align: right;\">\n",
       "      <th></th>\n",
       "      <th>index</th>\n",
       "      <th>chr</th>\n",
       "      <th>start</th>\n",
       "      <th>end</th>\n",
       "      <th>length</th>\n",
       "      <th>chrom</th>\n",
       "      <th>center</th>\n",
       "      <th>trpt_chr</th>\n",
       "      <th>trpt_start</th>\n",
       "      <th>trpt_end</th>\n",
       "      <th>strand</th>\n",
       "      <th>trpt_id</th>\n",
       "      <th>trpt_name</th>\n",
       "      <th>gene_id</th>\n",
       "      <th>gene_name</th>\n",
       "      <th>dist</th>\n",
       "    </tr>\n",
       "  </thead>\n",
       "  <tbody>\n",
       "    <tr>\n",
       "      <th>0</th>\n",
       "      <td>0</td>\n",
       "      <td>chr1</td>\n",
       "      <td>3083769</td>\n",
       "      <td>3083816</td>\n",
       "      <td>47</td>\n",
       "      <td>1</td>\n",
       "      <td>3083792</td>\n",
       "      <td>chr1</td>\n",
       "      <td>3073253</td>\n",
       "      <td>3073254</td>\n",
       "      <td>+</td>\n",
       "      <td>ENSMUST00000193812.1</td>\n",
       "      <td>4933401J01Rik-201</td>\n",
       "      <td>ENSMUSG00000102693.1</td>\n",
       "      <td>4933401J01Rik</td>\n",
       "      <td>10516</td>\n",
       "    </tr>\n",
       "    <tr>\n",
       "      <th>1</th>\n",
       "      <td>1</td>\n",
       "      <td>chr1</td>\n",
       "      <td>3112234</td>\n",
       "      <td>3112467</td>\n",
       "      <td>233</td>\n",
       "      <td>1</td>\n",
       "      <td>3112350</td>\n",
       "      <td>chr1</td>\n",
       "      <td>3102016</td>\n",
       "      <td>3102017</td>\n",
       "      <td>+</td>\n",
       "      <td>ENSMUST00000082908.1</td>\n",
       "      <td>Gm26206-201</td>\n",
       "      <td>ENSMUSG00000064842.1</td>\n",
       "      <td>Gm26206</td>\n",
       "      <td>10218</td>\n",
       "    </tr>\n",
       "    <tr>\n",
       "      <th>2</th>\n",
       "      <td>2</td>\n",
       "      <td>chr1</td>\n",
       "      <td>3112770</td>\n",
       "      <td>3112986</td>\n",
       "      <td>216</td>\n",
       "      <td>1</td>\n",
       "      <td>3112878</td>\n",
       "      <td>chr1</td>\n",
       "      <td>3102016</td>\n",
       "      <td>3102017</td>\n",
       "      <td>+</td>\n",
       "      <td>ENSMUST00000082908.1</td>\n",
       "      <td>Gm26206-201</td>\n",
       "      <td>ENSMUSG00000064842.1</td>\n",
       "      <td>Gm26206</td>\n",
       "      <td>10754</td>\n",
       "    </tr>\n",
       "    <tr>\n",
       "      <th>3</th>\n",
       "      <td>3</td>\n",
       "      <td>chr1</td>\n",
       "      <td>3113717</td>\n",
       "      <td>3114035</td>\n",
       "      <td>318</td>\n",
       "      <td>1</td>\n",
       "      <td>3113876</td>\n",
       "      <td>chr1</td>\n",
       "      <td>3102016</td>\n",
       "      <td>3102017</td>\n",
       "      <td>+</td>\n",
       "      <td>ENSMUST00000082908.1</td>\n",
       "      <td>Gm26206-201</td>\n",
       "      <td>ENSMUSG00000064842.1</td>\n",
       "      <td>Gm26206</td>\n",
       "      <td>11701</td>\n",
       "    </tr>\n",
       "    <tr>\n",
       "      <th>4</th>\n",
       "      <td>4</td>\n",
       "      <td>chr1</td>\n",
       "      <td>3118790</td>\n",
       "      <td>3118935</td>\n",
       "      <td>145</td>\n",
       "      <td>1</td>\n",
       "      <td>3118862</td>\n",
       "      <td>chr1</td>\n",
       "      <td>3102016</td>\n",
       "      <td>3102017</td>\n",
       "      <td>+</td>\n",
       "      <td>ENSMUST00000082908.1</td>\n",
       "      <td>Gm26206-201</td>\n",
       "      <td>ENSMUSG00000064842.1</td>\n",
       "      <td>Gm26206</td>\n",
       "      <td>16774</td>\n",
       "    </tr>\n",
       "  </tbody>\n",
       "</table>\n",
       "</div>"
      ],
      "text/plain": [
       "   index   chr    start      end  length chrom   center trpt_chr trpt_start  \\\n",
       "0      0  chr1  3083769  3083816      47     1  3083792     chr1    3073253   \n",
       "1      1  chr1  3112234  3112467     233     1  3112350     chr1    3102016   \n",
       "2      2  chr1  3112770  3112986     216     1  3112878     chr1    3102016   \n",
       "3      3  chr1  3113717  3114035     318     1  3113876     chr1    3102016   \n",
       "4      4  chr1  3118790  3118935     145     1  3118862     chr1    3102016   \n",
       "\n",
       "   trpt_end strand               trpt_id          trpt_name  \\\n",
       "0   3073254      +  ENSMUST00000193812.1  4933401J01Rik-201   \n",
       "1   3102017      +  ENSMUST00000082908.1        Gm26206-201   \n",
       "2   3102017      +  ENSMUST00000082908.1        Gm26206-201   \n",
       "3   3102017      +  ENSMUST00000082908.1        Gm26206-201   \n",
       "4   3102017      +  ENSMUST00000082908.1        Gm26206-201   \n",
       "\n",
       "                gene_id      gene_name   dist  \n",
       "0  ENSMUSG00000102693.1  4933401J01Rik  10516  \n",
       "1  ENSMUSG00000064842.1        Gm26206  10218  \n",
       "2  ENSMUSG00000064842.1        Gm26206  10754  \n",
       "3  ENSMUSG00000064842.1        Gm26206  11701  \n",
       "4  ENSMUSG00000064842.1        Gm26206  16774  "
      ]
     },
     "execution_count": 5,
     "metadata": {},
     "output_type": "execute_result"
    }
   ],
   "source": [
    "f = '/cndd2/fangming/projects/scf_enhancers/enhancer_metacells_r100_n935/organized_for_jupyter/enhancer_nearest_genes.bed'\n",
    "regions_info = pd.read_csv(f, sep='\\t', header=None, dtype={0: str, 4: str}, \n",
    "                           names=['chr', 'start', 'end', \n",
    "                                  'trpt_chr', 'trpt_start', 'trpt_end', \n",
    "                                  'strand', \n",
    "                                  'trpt_id', 'trpt_name',\n",
    "                                  'gene_id', 'gene_name',\n",
    "                                  'dist',\n",
    "                                 ]\n",
    "                          )\n",
    "\n",
    "print(regions_info.shape)\n",
    "print(enh_list.shape)\n",
    "# expand enh_list\n",
    "enh_list_expand = pd.merge(enh_list, regions_info, on=['chr', 'start', 'end'], how='left')\n",
    "print(enh_list_expand.shape)\n",
    "enh_list_expand.head()"
   ]
  },
  {
   "cell_type": "code",
   "execution_count": 9,
   "metadata": {},
   "outputs": [
    {
     "data": {
      "image/png": "[encoded data removed]",
      "text/plain": [
       "<Figure size 432x288 with 1 Axes>"
      ]
     },
     "metadata": {
      "image/png": {
       "height": 281,
       "width": 408
      }
     },
     "output_type": "display_data"
    }
   ],
   "source": [
    "fig, ax = plt.subplots()\n",
    "sns.distplot(np.log10(enh_list_expand['dist'].values))\n",
    "ax.set_xlabel('log10(distance to the nearest gene)')\n",
    "ax.set_ylabel('Density')\n",
    "plt.show()"
   ]
  },
  {
   "cell_type": "markdown",
   "metadata": {},
   "source": [
    "### GC content \n",
    "- get sequences\n",
    "- compute number of gc's\n",
    "- normalize by length"
   ]
  },
  {
   "cell_type": "code",
   "execution_count": 36,
   "metadata": {},
   "outputs": [],
   "source": [
    "# get sequences\n",
    "!bedtools getfasta \\\n",
    "    -tab \\\n",
    "    -fi \"/cndd/fangming/iGenome/mm10/genome.fa\" \\\n",
    "    -bed \"/cndd2/fangming/projects/scf_enhancers/enhancer_metacells_allresolutions/organized_for_jupyter/enhs_list.bed\" \\\n",
    "    -fo \"/cndd2/fangming/projects/scf_enhancers/enhancer_metacells_allresolutions/organized_for_jupyter/enhs_sequences.tsv\""
   ]
  },
  {
   "cell_type": "code",
   "execution_count": 40,
   "metadata": {},
   "outputs": [
    {
     "data": {
      "text/html": [
       "<div>\n",
       "<style scoped>\n",
       "    .dataframe tbody tr th:only-of-type {\n",
       "        vertical-align: middle;\n",
       "    }\n",
       "\n",
       "    .dataframe tbody tr th {\n",
       "        vertical-align: top;\n",
       "    }\n",
       "\n",
       "    .dataframe thead th {\n",
       "        text-align: right;\n",
       "    }\n",
       "</style>\n",
       "<table border=\"1\" class=\"dataframe\">\n",
       "  <thead>\n",
       "    <tr style=\"text-align: right;\">\n",
       "      <th></th>\n",
       "      <th>enh</th>\n",
       "      <th>seq</th>\n",
       "    </tr>\n",
       "  </thead>\n",
       "  <tbody>\n",
       "    <tr>\n",
       "      <th>0</th>\n",
       "      <td>chr1:3083769-3083816</td>\n",
       "      <td>ggtggtggtgcatgcctttaattccagcacttgggaggcatagccac</td>\n",
       "    </tr>\n",
       "    <tr>\n",
       "      <th>1</th>\n",
       "      <td>chr1:3112234-3112467</td>\n",
       "      <td>ggcttttctgcttccctaattaatgcagtctcgggtcccaagtgat...</td>\n",
       "    </tr>\n",
       "    <tr>\n",
       "      <th>2</th>\n",
       "      <td>chr1:3112770-3112986</td>\n",
       "      <td>gcacaatcttgtgaccatagtaCAGATATTCAACAGATAAATTTTG...</td>\n",
       "    </tr>\n",
       "    <tr>\n",
       "      <th>3</th>\n",
       "      <td>chr1:3113717-3114035</td>\n",
       "      <td>gaggtggagataaacagcttgcttctgccatgttctgcagaacagc...</td>\n",
       "    </tr>\n",
       "    <tr>\n",
       "      <th>4</th>\n",
       "      <td>chr1:3118790-3118935</td>\n",
       "      <td>gagagggccataggacgagcctgagggagagacagctgaaatgtac...</td>\n",
       "    </tr>\n",
       "  </tbody>\n",
       "</table>\n",
       "</div>"
      ],
      "text/plain": [
       "                    enh                                                seq\n",
       "0  chr1:3083769-3083816    ggtggtggtgcatgcctttaattccagcacttgggaggcatagccac\n",
       "1  chr1:3112234-3112467  ggcttttctgcttccctaattaatgcagtctcgggtcccaagtgat...\n",
       "2  chr1:3112770-3112986  gcacaatcttgtgaccatagtaCAGATATTCAACAGATAAATTTTG...\n",
       "3  chr1:3113717-3114035  gaggtggagataaacagcttgcttctgccatgttctgcagaacagc...\n",
       "4  chr1:3118790-3118935  gagagggccataggacgagcctgagggagagacagctgaaatgtac..."
      ]
     },
     "execution_count": 40,
     "metadata": {},
     "output_type": "execute_result"
    }
   ],
   "source": [
    "# compute the number of sequences\n",
    "f = '/cndd2/fangming/projects/scf_enhancers/enhancer_metacells_allresolutions/organized_for_jupyter/enhs_sequences.tsv'\n",
    "enh_seqs = pd.read_csv(f, sep='\\t', header=None, names=['enh', 'seq']) \n",
    "enh_seqs.head()"
   ]
  },
  {
   "cell_type": "code",
   "execution_count": 41,
   "metadata": {},
   "outputs": [],
   "source": [
    "# get GC content; proper normalization\n",
    "def get_gc_content(seq):\n",
    "    \"\"\"\n",
    "    \"\"\"\n",
    "    return"
   ]
  },
  {
   "cell_type": "code",
   "execution_count": null,
   "metadata": {},
   "outputs": [],
   "source": []
  }
 ],
 "metadata": {
  "kernelspec": {
   "display_name": "Python 3",
   "language": "python",
   "name": "python3"
  },
  "language_info": {
   "codemirror_mode": {
    "name": "ipython",
    "version": 3
   },
   "file_extension": ".py",
   "mimetype": "text/x-python",
   "name": "python",
   "nbconvert_exporter": "python",
   "pygments_lexer": "ipython3",
   "version": "3.8.1"
  }
 },
 "nbformat": 4,
 "nbformat_minor": 4
}
