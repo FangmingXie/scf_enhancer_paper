{
 "cells": [
  {
   "cell_type": "code",
   "execution_count": 6,
   "metadata": {},
   "outputs": [
    {
     "data": {
      "text/plain": [
       "False"
      ]
     },
     "execution_count": 6,
     "metadata": {},
     "output_type": "execute_result"
    }
   ],
   "source": [
    "# Train a CNN regression to predict the mCG level of all DMRs\n",
    "import pandas as pd\n",
    "import csv\n",
    "import numpy as np\n",
    "import time\n",
    "import matplotlib.pyplot as plt\n",
    "# import seqlogo\n",
    "# from IPython.display import clear_output\n",
    "# import datetime\n",
    "# from scipy.stats import spearmanr\n",
    "\n",
    "import torch\n",
    "import torch.nn as nn\n",
    "import torch.nn.functional as F\n",
    "import torch.optim as optim\n",
    "\n",
    "torch.cuda.is_available()"
   ]
  },
  {
   "cell_type": "code",
   "execution_count": null,
   "metadata": {},
   "outputs": [],
   "source": [
    "# Define the neural net architecture\n",
    "nfilt = 10;\n",
    "filt_width = 10\n",
    "pool_size = 600\n",
    "C = 29 # Number of cell types\n",
    "K = # Number of K-mers\n",
    "\n",
    "# Define a class for the NN architecture\n",
    "class Net(nn.Module):\n",
    "    def __init__(self):\n",
    "        super(Net, self).__init__()\n",
    "        \n",
    "        self.fc1 = nn.Linear(2+K, N1);\n",
    "        self.pool1 = nn.MaxPool1d(Eg)\n",
    "        self.fc2 = nn.Linear(N1, N2);\n",
    "        self.fc2 = nn.Linear(N1, N2);\n",
    "        self.fc3 = nn.Linear(N2, C);\n",
    "        \n",
    "    def forward(self, x): \n",
    "#         x should be mcg, atac, kmers\n",
    "#         In: [mcg, atac, kmers] = N x Eg x (2+K)\n",
    "        x = F.relu(self.fc1(x)) # In: N x Eg x (2+K), Out: N x Eg x N1\n",
    "        x = x.permute([0,2,1])  # Out: N x N1 x Eg\n",
    "        x = self.pool1(x)       # Out: N x N1 x 1\n",
    "        x = F.relu(self.fc2(x))       # Out: N x N1 x 1\n",
    "        x = self.pool1(x)       # Out: N x N1 x 1\n",
    "        x = self.fc3(x)\n",
    "        \n",
    "        return x\n",
    "\n",
    "net = Net()"
   ]
  },
  {
   "cell_type": "code",
   "execution_count": null,
   "metadata": {},
   "outputs": [],
   "source": []
  }
 ],
 "metadata": {
  "kernelspec": {
   "display_name": "Python 3",
   "language": "python",
   "name": "python3"
  },
  "language_info": {
   "codemirror_mode": {
    "name": "ipython",
    "version": 3
   },
   "file_extension": ".py",
   "mimetype": "text/x-python",
   "name": "python",
   "nbconvert_exporter": "python",
   "pygments_lexer": "ipython3",
   "version": "3.7.1"
  }
 },
 "nbformat": 4,
 "nbformat_minor": 4
}
