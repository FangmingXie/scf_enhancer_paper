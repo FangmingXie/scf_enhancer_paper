{
 "cells": [
  {
   "cell_type": "code",
   "execution_count": 1,
   "metadata": {},
   "outputs": [],
   "source": [
    "import sys, os, time\n",
    "import numpy as np\n",
    "from scipy import sparse\n",
    "from matplotlib import pyplot as plt"
   ]
  },
  {
   "cell_type": "code",
   "execution_count": 2,
   "metadata": {},
   "outputs": [],
   "source": [
    "def revcomp(x):\n",
    "    d = {'A':'T','T':'A','C':'G','G':'C','N':'N'};\n",
    "    out = [d[xi] for xi in x];\n",
    "    out = out[::-1];\n",
    "    out = ''.join(out);\n",
    "    return out\n",
    "    \n",
    "def list_kmers(K):\n",
    "    # Make a list of all K-mers\n",
    "    acgt='ACGT';\n",
    "    kmers = ['']\n",
    "    for k in range(K):\n",
    "        kmers_base=kmers.copy();\n",
    "        kmers = []\n",
    "        for kmer in kmers_base:\n",
    "            for n in acgt:\n",
    "                kmers.append(kmer+n)\n",
    "                \n",
    "    return kmers\n",
    "\n",
    "def prune_kmers(kmers):\n",
    "    # For each kmer, return the index\n",
    "    # Map the seq and its reverse complement to the same index\n",
    "    kmers_revcomp = [revcomp(x) for x in kmers];\n",
    "    kd1 = {kmer: i for i,kmer in enumerate(kmers)}\n",
    "    kd2 = {revcomp(kmer): i for i,kmer in enumerate(kmers)}\n",
    "    kmer_index = [np.min((kd1[kmer],kd2[kmer])) for kmer in kmers]\n",
    "    _, kmer_orig_index, kmer_index = np.unique(kmer_index, \n",
    "                                               return_index=True, return_inverse=True)\n",
    "    return kmer_index, kmer_orig_index\n",
    "\n",
    "def kmer_dict(K):\n",
    "    kmers = list_kmers(K)\n",
    "    kmer_index, kmer_orig_index  = prune_kmers(kmers)\n",
    "    mydict = {kmer: kmer_index[i] for i,kmer in enumerate(kmers)}\n",
    "    return mydict\n",
    "\n",
    "def seq2kmers(seq):\n",
    "    n = len(seq)\n",
    "    mykmers = np.empty((n,K),dtype=str)\n",
    "    for k in range(K): \n",
    "        mykmers[:len(seq)-k,k] = list(seq[k:])\n",
    "    mykmers = mykmers[:-K,:]\n",
    "    \n",
    "    # Remove kmers that contain N or other unwanted letters\n",
    "    good_kmers = [\n",
    "        np.all([a in ['A','C','G','T'] for a in mykmer]) \n",
    "                 for mykmer in mykmers\n",
    "    ]\n",
    "    mykmers = mykmers[good_kmers,:]\n",
    "\n",
    "    # Map k-mers to index\n",
    "    kmer_indices = [mydict[''.join(x)] for x in mykmers]\n",
    "    \n",
    "    return kmer_indices\n"
   ]
  },
  {
   "cell_type": "code",
   "execution_count": 3,
   "metadata": {},
   "outputs": [],
   "source": [
    "K=6\n",
    "kdict = kmer_dict(K)"
   ]
  },
  {
   "cell_type": "code",
   "execution_count": 33,
   "metadata": {},
   "outputs": [
    {
     "name": "stdout",
     "output_type": "stream",
     "text": [
      "10000, t=13.588\n",
      "20000, t=27.070\n",
      "30000, t=40.849\n",
      "40000, t=54.395\n",
      "50000, t=68.089\n",
      "60000, t=81.756\n",
      "70000, t=95.296\n",
      "80000, t=109.169\n",
      "90000, t=122.901\n",
      "100000, t=136.573\n",
      "110000, t=150.247\n",
      "120000, t=163.679\n",
      "130000, t=177.362\n",
      "140000, t=191.203\n",
      "150000, t=204.804\n",
      "160000, t=218.629\n",
      "170000, t=232.534\n",
      "180000, t=246.120\n",
      "190000, t=259.889\n",
      "200000, t=273.602\n",
      "210000, t=287.057\n",
      "220000, t=300.950\n",
      "230000, t=314.761\n",
      "240000, t=328.466\n",
      "250000, t=342.299\n",
      "260000, t=355.868\n",
      "270000, t=369.675\n",
      "280000, t=383.300\n",
      "290000, t=397.102\n",
      "300000, t=410.778\n"
     ]
    },
    {
     "ename": "ValueError",
     "evalue": "not enough values to unpack (expected 4, got 1)",
     "output_type": "error",
     "traceback": [
      "\u001b[0;31m---------------------------------------------------------------------------\u001b[0m",
      "\u001b[0;31mValueError\u001b[0m                                Traceback (most recent call last)",
      "\u001b[0;32m<ipython-input-33-b3c1b5ff28ea>\u001b[0m in \u001b[0;36m<module>\u001b[0;34m\u001b[0m\n\u001b[1;32m     14\u001b[0m     \u001b[0;32mwhile\u001b[0m \u001b[0;34m(\u001b[0m\u001b[0mline\u001b[0m\u001b[0;34m)\u001b[0m\u001b[0;34m:\u001b[0m\u001b[0;34m\u001b[0m\u001b[0;34m\u001b[0m\u001b[0m\n\u001b[1;32m     15\u001b[0m         \u001b[0mline\u001b[0m\u001b[0;34m=\u001b[0m\u001b[0mf\u001b[0m\u001b[0;34m.\u001b[0m\u001b[0mreadline\u001b[0m\u001b[0;34m(\u001b[0m\u001b[0;34m)\u001b[0m\u001b[0;34m\u001b[0m\u001b[0;34m\u001b[0m\u001b[0m\n\u001b[0;32m---> 16\u001b[0;31m         \u001b[0;34m(\u001b[0m\u001b[0mchrom\u001b[0m\u001b[0;34m,\u001b[0m\u001b[0mstart\u001b[0m\u001b[0;34m,\u001b[0m\u001b[0mend\u001b[0m\u001b[0;34m,\u001b[0m\u001b[0mcounts\u001b[0m\u001b[0;34m)\u001b[0m \u001b[0;34m=\u001b[0m \u001b[0mline\u001b[0m\u001b[0;34m.\u001b[0m\u001b[0mstrip\u001b[0m\u001b[0;34m(\u001b[0m\u001b[0;34m)\u001b[0m\u001b[0;34m.\u001b[0m\u001b[0msplit\u001b[0m\u001b[0;34m(\u001b[0m\u001b[0;34m'\\t'\u001b[0m\u001b[0;34m)\u001b[0m\u001b[0;34m\u001b[0m\u001b[0;34m\u001b[0m\u001b[0m\n\u001b[0m\u001b[1;32m     17\u001b[0m     \u001b[0;31m#     kmers = dict((kdict[k],int(v)) for (k,v) in [d.split(':') for d in counts.split(' ')])\u001b[0m\u001b[0;34m\u001b[0m\u001b[0;34m\u001b[0m\u001b[0;34m\u001b[0m\u001b[0m\n\u001b[1;32m     18\u001b[0m         \u001b[0mkmers\u001b[0m \u001b[0;34m=\u001b[0m \u001b[0mnp\u001b[0m\u001b[0;34m.\u001b[0m\u001b[0marray\u001b[0m\u001b[0;34m(\u001b[0m\u001b[0;34m[\u001b[0m\u001b[0;34m[\u001b[0m\u001b[0mkdict\u001b[0m\u001b[0;34m[\u001b[0m\u001b[0mk\u001b[0m\u001b[0;34m]\u001b[0m\u001b[0;34m,\u001b[0m\u001b[0mint\u001b[0m\u001b[0;34m(\u001b[0m\u001b[0mv\u001b[0m\u001b[0;34m)\u001b[0m\u001b[0;34m]\u001b[0m \u001b[0;32mfor\u001b[0m \u001b[0;34m(\u001b[0m\u001b[0mk\u001b[0m\u001b[0;34m,\u001b[0m\u001b[0mv\u001b[0m\u001b[0;34m)\u001b[0m \u001b[0;32min\u001b[0m \u001b[0;34m[\u001b[0m\u001b[0md\u001b[0m\u001b[0;34m.\u001b[0m\u001b[0msplit\u001b[0m\u001b[0;34m(\u001b[0m\u001b[0;34m':'\u001b[0m\u001b[0;34m)\u001b[0m \u001b[0;32mfor\u001b[0m \u001b[0md\u001b[0m \u001b[0;32min\u001b[0m \u001b[0mcounts\u001b[0m\u001b[0;34m.\u001b[0m\u001b[0msplit\u001b[0m\u001b[0;34m(\u001b[0m\u001b[0;34m' '\u001b[0m\u001b[0;34m)\u001b[0m\u001b[0;34m]\u001b[0m\u001b[0;34m]\u001b[0m\u001b[0;34m)\u001b[0m\u001b[0;34m\u001b[0m\u001b[0;34m\u001b[0m\u001b[0m\n",
      "\u001b[0;31mValueError\u001b[0m: not enough values to unpack (expected 4, got 1)"
     ]
    }
   ],
   "source": [
    "# Load K-mers that were counted by kmer-counter: https://www.biostars.org/p/268007/\n",
    "# This seems to be ~5x faster than counting the k-mers directly in Python\n",
    "fn='enhancer_data/kmers_6mers/count.bed'\n",
    "nenh=302106\n",
    "NK=np.max([i for i in kdict.values()])+1\n",
    "# kmer_counts = sparse.lil_matrix((nenh,NK), dtype=np.int16)\n",
    "kmer_counts = np.zeros((nenh,NK), dtype=np.int16)\n",
    "\n",
    "rowvec = np.zeros((NK,1))\n",
    "i=0;\n",
    "tstart=time.time()\n",
    "with open(fn,'r') as f:\n",
    "    line='asdf'\n",
    "    while (line):\n",
    "        line=f.readline()\n",
    "        (chrom,start,end,counts) = line.strip().split('\\t')\n",
    "    #     kmers = dict((kdict[k],int(v)) for (k,v) in [d.split(':') for d in counts.split(' ')])\n",
    "        kmers = np.array([[kdict[k],int(v)] for (k,v) in [d.split(':') for d in counts.split(' ')]])\n",
    "\n",
    "#         kmer_counts[i,:] = sparse.csr_matrix((kmers[:,1], (np.zeros(kmers.shape[0]),kmers[:,0])), shape=(1,NK))        \n",
    "        kmer_counts[i,kmers[:,0]] = kmers[:,1]\n",
    "    \n",
    "        i+=1\n",
    "        if (i % 10000 == 0):\n",
    "            print('%d, t=%3.3f' % (i, time.time()-tstart))"
   ]
  },
  {
   "cell_type": "code",
   "execution_count": 40,
   "metadata": {},
   "outputs": [],
   "source": [
    "np.save('enhancer_data/kmers_6mers/count.npy',kmer_counts)"
   ]
  },
  {
   "cell_type": "code",
   "execution_count": 42,
   "metadata": {},
   "outputs": [],
   "source": [
    "np.save('enhancer_data/kmers_6mers/kmer_dict.npy',kdict)"
   ]
  },
  {
   "cell_type": "code",
   "execution_count": null,
   "metadata": {},
   "outputs": [],
   "source": []
  }
 ],
 "metadata": {
  "kernelspec": {
   "display_name": "Python 3",
   "language": "python",
   "name": "python3"
  },
  "language_info": {
   "codemirror_mode": {
    "name": "ipython",
    "version": 3
   },
   "file_extension": ".py",
   "mimetype": "text/x-python",
   "name": "python",
   "nbconvert_exporter": "python",
   "pygments_lexer": "ipython3",
   "version": "3.7.1"
  }
 },
 "nbformat": 4,
 "nbformat_minor": 4
}
