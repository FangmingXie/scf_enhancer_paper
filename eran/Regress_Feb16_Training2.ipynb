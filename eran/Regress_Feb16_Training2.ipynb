{
 "cells": [
  {
   "cell_type": "code",
   "execution_count": 24,
   "metadata": {},
   "outputs": [
    {
     "name": "stdout",
     "output_type": "stream",
     "text": [
      "cuda:0\n"
     ]
    }
   ],
   "source": [
    "# Train a CNN regression to predict the mCG level of all DMRs\n",
    "import pandas as pd\n",
    "import numpy as np\n",
    "import time, re\n",
    "import matplotlib.pyplot as plt\n",
    "from IPython import display\n",
    "import timeit\n",
    "\n",
    "import torch\n",
    "import torch.nn as nn\n",
    "import torch.nn.functional as F\n",
    "import torch.optim as optim\n",
    "\n",
    "device = torch.device(\"cuda:0\" if torch.cuda.is_available() else \"cpu\")\n",
    "print(device)"
   ]
  },
  {
   "cell_type": "code",
   "execution_count": 25,
   "metadata": {},
   "outputs": [
    {
     "name": "stdout",
     "output_type": "stream",
     "text": [
      "The line_profiler extension is already loaded. To reload it, use:\n",
      "  %reload_ext line_profiler\n"
     ]
    }
   ],
   "source": [
    "%load_ext line_profiler"
   ]
  },
  {
   "cell_type": "code",
   "execution_count": 26,
   "metadata": {},
   "outputs": [],
   "source": [
    "use_kmers = True\n",
    "N1 = 32\n",
    "N2 = 8\n",
    "lr = 0.05"
   ]
  },
  {
   "cell_type": "code",
   "execution_count": 27,
   "metadata": {},
   "outputs": [
    {
     "name": "stdout",
     "output_type": "stream",
     "text": [
      "Loaded RegressData/Regress_Feb16_data_rnau.pkl\n",
      "Loaded RegressData/Regress_Feb16_data_genes.pkl\n"
     ]
    },
    {
     "data": {
      "text/plain": [
       "(62698, 2080)"
      ]
     },
     "execution_count": 27,
     "metadata": {},
     "output_type": "execute_result"
    }
   ],
   "source": [
    "fn_save_prefix = 'RegressData/Regress_Feb16_data_'\n",
    "# save_vars = ['genes2enhu', 'rnau', 'df_mlevelu', 'df_atacu', 'genes']\n",
    "save_vars = ['rnau','genes']\n",
    "for var in save_vars:\n",
    "    fn_save = fn_save_prefix+var+'.pkl'\n",
    "    cmd = '%s=pd.read_pickle(\"%s\")' % (var, fn_save)\n",
    "    exec(cmd)\n",
    "    print('Loaded %s' % fn_save)\n",
    "\n",
    "if use_kmers:\n",
    "    with np.load('RegressData/Regress_Feb16_data_kmer_countsu.npz', allow_pickle=True) as x:\n",
    "        kmer_countsu=x['kmer_countsu']\n",
    "    K=kmer_countsu.shape[1]\n",
    "else:\n",
    "    K=0\n",
    "    \n",
    "kmer_countsu.shape"
   ]
  },
  {
   "cell_type": "code",
   "execution_count": 28,
   "metadata": {},
   "outputs": [],
   "source": [
    "with np.load('RegressData/Regress_Feb16_data_AllLookups.npz',allow_pickle=True) as data:\n",
    "    ml_lookup=data['ml_lookup']\n",
    "    atac_lookup=data['atac_lookup']\n",
    "    rna_lookup=data['rna_lookup']\n",
    "    kmeri_lookup=data['kmeri_lookup']"
   ]
  },
  {
   "cell_type": "code",
   "execution_count": 29,
   "metadata": {},
   "outputs": [],
   "source": [
    "# def get_data(ensid):\n",
    "#     # For a list of ensids, return the x and y features\n",
    "#     x = []\n",
    "#     for i,ens in enumerate(ensid):\n",
    "#         curr_enh = genes2enhu.loc[ens,['enh_pos','enh_num']]\n",
    "# #         curr_enh = curr_enh[:1]\n",
    "# #         E = curr_enh.groupby('ensid').count().max(axis=0);\n",
    "#         mlu = df_mlevelu.loc[curr_enh['enh_pos']]\n",
    "#         atacu = df_atacu.loc[curr_enh['enh_pos']]\n",
    "#         Ne,Nc = mlu.shape\n",
    "#         if use_kmers:\n",
    "#             kmeru = kmer_countsu[curr_enh['enh_num']]\n",
    "#             Ne,Nk = kmeru.shape\n",
    "#             kmeru = kmeru[:,np.newaxis,:]\n",
    "#             kmeru = np.broadcast_to(kmeru,(Ne,Nc,Nk))\n",
    "#             x1 = np.dstack((mlu,atacu,kmeru))\n",
    "#         else:\n",
    "#             x1 = np.dstack((mlu,atacu))\n",
    "#         x1 = x1[np.newaxis,:,:,:]\n",
    "#         x.append(x1)\n",
    "    \n",
    "#     # Pad the dimensions\n",
    "#     max_nenh = np.max([xi.shape[1] for xi in x])\n",
    "#     xpad = []\n",
    "#     for xi in x:\n",
    "#         xpad.append(np.pad(xi, ((0,0),(0,max_nenh-xi.shape[1]),(0,0),(0,0))))\n",
    "#     x = np.concatenate(xpad, axis=0)\n",
    "\n",
    "#     y = rnau.loc[ensid].to_numpy().reshape((-1,Nc))\n",
    "    \n",
    "#     # Testing:\n",
    "#     for c in range(Nc):\n",
    "#         y[:,c] = y[:,c]*0+c+0.123\n",
    "    \n",
    "#     x = torch.tensor(x, dtype=torch.float)\n",
    "#     y = torch.tensor(y, dtype=torch.float)\n",
    "    \n",
    "#     return {'x': x, 'y': y}\n",
    "\n",
    "\n",
    "Nkmers = kmer_countsu.shape[1]\n",
    "Nc = ml_lookup.shape[2]\n",
    "def get_data_index(ensid_index):\n",
    "    # For a list of ensids, return the x and y features\n",
    "    Ng = len(ensid_index)\n",
    "    mlu = ml_lookup[ensid_index,:,:] # Ngenes x Ne x Nc\n",
    "    atacu = atac_lookup[ensid_index,:,:]\n",
    "    if use_kmers:\n",
    "        nz = np.max([len(kmeri_lookup[x]) for x in ensid_index])\n",
    "        kmeru = np.zeros((Ng,nz,1,Nkmers))\n",
    "        for i,ens in enumerate(ensid_index):\n",
    "            kmeru[i,:len(kmeri_lookup[ens]),0,:] = kmer_countsu[kmeri_lookup[ens],:]\n",
    "    else:\n",
    "        nz = (np.sum(atacu>0,axis=(0,2))+np.sum(mlu>0,axis=(0,2)))>0\n",
    "        kmeru = []\n",
    "\n",
    "    # Keep only the enhancers that have data\n",
    "    mlu = mlu[:,:nz,:,np.newaxis]\n",
    "    atacu = atacu[:,:nz,:,np.newaxis]\n",
    "\n",
    "    kmeru = np.broadcast_to(kmeru, (Ng,nz,Nc,Nkmers))\n",
    "    x = np.concatenate((mlu,atacu,kmeru),axis=3)\n",
    "    y = rna_lookup[ensid_index,:]\n",
    "    \n",
    "#     # Testing:\n",
    "#     for c in range(Nc):\n",
    "#         y[:,c] = y[:,c]*0+c+0.123\n",
    "    \n",
    "    kmeru = torch.tensor(kmeru, dtype=torch.float)\n",
    "    x = torch.tensor(x, dtype=torch.float)\n",
    "    y = torch.tensor(y, dtype=torch.float)\n",
    "    \n",
    "    return {'x': x, 'kmeru': kmeru, 'y': y}"
   ]
  },
  {
   "cell_type": "code",
   "execution_count": 30,
   "metadata": {},
   "outputs": [
    {
     "data": {
      "text/plain": [
       "torch.Size([1, 21, 28, 2082])"
      ]
     },
     "execution_count": 30,
     "metadata": {},
     "output_type": "execute_result"
    }
   ],
   "source": [
    "data=get_data_index([10])\n",
    "data['x'].shape"
   ]
  },
  {
   "cell_type": "code",
   "execution_count": 31,
   "metadata": {},
   "outputs": [],
   "source": [
    "Nc = ml_lookup.shape[2]\n",
    "\n",
    "# Define a class for the NN architecture\n",
    "class Net(nn.Module):\n",
    "    def __init__(self):\n",
    "        super(Net, self).__init__()\n",
    "        \n",
    "        self.fc1 = nn.Linear(2+K, N1);\n",
    "        self.fc2 = nn.Linear(3*N1, N2);\n",
    "        self.fc3 = nn.Linear(N2*Nc, Nc);\n",
    "    def forward(self, x): \n",
    "        x = F.relu(self.fc1(x)) # In: N x Eg x C x (2+K), Out: N x Eg x C x N1\n",
    "        \n",
    "        # Collapse across enhancers in different ways\n",
    "        xmax = torch.max(x, 1)[0]       # Out: N x C x N1\n",
    "        xmean = torch.mean(x, 1)       # Out: N x C x N1\n",
    "        xsum = torch.sum(x, 1)       # Out: N x C x N1\n",
    "        \n",
    "        x = torch.cat((xmax,xmean,xsum),2) # Out: N x C x 3*N1\n",
    "\n",
    "        x = F.relu(self.fc2(x))       # Out: N x C x N2\n",
    "        x = torch.reshape(x,(-1,N2*Nc)) # Out: N x C\n",
    "        x = self.fc3(x)\n",
    "        \n",
    "        return x"
   ]
  },
  {
   "cell_type": "code",
   "execution_count": 32,
   "metadata": {},
   "outputs": [
    {
     "data": {
      "text/plain": [
       "device(type='cuda', index=0)"
      ]
     },
     "execution_count": 32,
     "metadata": {},
     "output_type": "execute_result"
    }
   ],
   "source": [
    "net = Net()\n",
    "if device is not \"cpu\":\n",
    "    net.to(torch.device(device))\n",
    "device"
   ]
  },
  {
   "cell_type": "code",
   "execution_count": 33,
   "metadata": {},
   "outputs": [
    {
     "data": {
      "text/plain": [
       "torch.Size([5, 28])"
      ]
     },
     "execution_count": 33,
     "metadata": {},
     "output_type": "execute_result"
    }
   ],
   "source": [
    "ensids = rnau.index.values\n",
    "net(get_data_index(np.arange(5))['x'].to(device)).shape\n",
    "# get_data(ensids[:15])['x'].shape, get_data(ensids[:2])['y'].shape"
   ]
  },
  {
   "cell_type": "code",
   "execution_count": 34,
   "metadata": {},
   "outputs": [],
   "source": [
    "mseloss=nn.MSELoss()\n",
    "optimizer = optim.Adam(net.parameters(), lr=lr)\n",
    "scheduler = optim.lr_scheduler.ReduceLROnPlateau(optimizer, factor=0.1)\n",
    "\n",
    "running_time = 0\n",
    "loss_vec = corr_vec = []\n",
    "nepochs = 0\n",
    "\n",
    "loss_test=np.array([])\n",
    "loss_train = np.array([])\n",
    "nparams = np.array([])\n",
    "l1params = np.array([])\n",
    "\n",
    "# Train/Test split\n",
    "test = [c in ['chr10','chr12','chr14'] for c in rnau.join(genes)['chr']];\n",
    "train = [not i for i in test]\n",
    "\n",
    "test = np.random.permutation(np.nonzero(test)[0]).squeeze()\n",
    "train = np.random.permutation(np.nonzero(train)[0]).squeeze()\n",
    "\n",
    "ensids = rnau.index.values"
   ]
  },
  {
   "cell_type": "code",
   "execution_count": 35,
   "metadata": {},
   "outputs": [
    {
     "data": {
      "text/plain": [
       "'Regress_pytorch_N_32_8.20-02-2020.torch'"
      ]
     },
     "execution_count": 35,
     "metadata": {},
     "output_type": "execute_result"
    }
   ],
   "source": [
    "import datetime\n",
    "today=datetime.datetime.today().strftime('%d-%m-%Y')\n",
    "fn_save = 'Regress_pytorch_N_%d_%d.%s.torch' % (N1,N2,today)\n",
    "fn_save"
   ]
  },
  {
   "cell_type": "code",
   "execution_count": 36,
   "metadata": {},
   "outputs": [],
   "source": [
    "batch_size = 10\n",
    "i = 10\n",
    "def testfn():\n",
    "    indices = train[i:i+batch_size]\n",
    "    print(indices)\n",
    "\n",
    "    # Input should be of size: (batch, channels, samples)\n",
    "#     batch_data = get_data(ensids[indices])\n",
    "    batch_data = get_data_index(indices)\n",
    "    batch_X = batch_data['x']\n",
    "    batch_y = batch_data['y']\n",
    "#         print(batch_X.shape, batch_y.shape)\n",
    "\n",
    "    # Send training data to CUDA\n",
    "    if device is not \"cpu\":\n",
    "        batch_X = batch_X.to(device)\n",
    "        batch_y = batch_y.to(device)\n",
    "\n",
    "    # zero the parameter gradients\n",
    "    optimizer.zero_grad()\n",
    "\n",
    "    # forward + backward + optimize\n",
    "    outputs = net(batch_X)\n",
    "    loss = criterion(outputs, batch_y)\n",
    "    loss.backward()\n",
    "    optimizer.step()"
   ]
  },
  {
   "cell_type": "code",
   "execution_count": 37,
   "metadata": {},
   "outputs": [],
   "source": [
    "loss_train, loss_test = np.array([]), np.array([])"
   ]
  },
  {
   "cell_type": "code",
   "execution_count": null,
   "metadata": {
    "scrolled": false
   },
   "outputs": [
    {
     "data": {
      "image/png": "[encoded data removed]",
      "text/plain": [
       "<Figure size 432x288 with 1 Axes>"
      ]
     },
     "metadata": {},
     "output_type": "display_data"
    },
    {
     "name": "stdout",
     "output_type": "stream",
     "text": [
      "**** Epoch 13, LR=0.005, loss_train=0.23527392, loss_test=0.22294795, time = 1.57113 s/epoch\n",
      "tensor([0.5784, 0.7040, 0.5780, 0.6657, 0.5604, 0.6436, 0.6663, 0.7529, 0.5129,\n",
      "        0.4528, 0.5520, 0.7101, 0.6111, 0.5809, 0.6815, 0.6254, 0.7084, 0.6545,\n",
      "        0.6379, 0.8029, 0.7519, 0.5434, 0.4388, 0.7367, 0.7813, 0.7099, 0.4996,\n",
      "        0.5874], device='cuda:0', grad_fn=<SliceBackward>)\n",
      "Saved data: Regress_pytorch_N_32_8.20-02-2020.torch\n",
      "Epoch 14, i=913/3491, loss=0.23344054, t=5.005, 0.00548 s/sample\n",
      "tensor([0.6575, 0.7864, 0.6676, 0.7439, 0.6546, 0.7356, 0.7454, 0.8472, 0.6151,\n",
      "        0.5527, 0.6433, 0.8142, 0.7199, 0.6658, 0.7728, 0.6937, 0.8057, 0.7339,\n",
      "        0.7332, 0.8747, 0.8360, 0.6604, 0.5561, 0.8125, 0.8485, 0.8074, 0.6058,\n",
      "        0.7036], device='cuda:0', grad_fn=<SliceBackward>)\n"
     ]
    }
   ],
   "source": [
    "criterion = nn.MSELoss()\n",
    "num_epochs = 1000;\n",
    "batch_size = 1;\n",
    "\n",
    "t0 = time.time()\n",
    "for epoch in range(num_epochs):  # loop over the dataset multiple times\n",
    "    nsamp = 0\n",
    "    running_loss = 0.0\n",
    "    running_time = 0.0\n",
    "    net.train()\n",
    "    t0train = time.time()\n",
    "    for i in range(0, len(train), batch_size):\n",
    "        tstart = time.time()\n",
    "        indices = train[i:i+batch_size]\n",
    "\n",
    "        # Input should be of size: (batch, channels, samples)\n",
    "        batch_data = get_data_index(indices)\n",
    "        batch_X = batch_data['x']\n",
    "        batch_y = batch_data['y']\n",
    "#         print(batch_X.shape, batch_y.shape)\n",
    "\n",
    "        # Send training data to CUDA\n",
    "        if device is not \"cpu\":\n",
    "            batch_X = batch_X.to(device)\n",
    "            batch_y = batch_y.to(device)\n",
    "\n",
    "        # zero the parameter gradients\n",
    "        optimizer.zero_grad()\n",
    "\n",
    "        # forward + backward + optimize\n",
    "        outputs = net(batch_X)\n",
    "        loss = criterion(outputs, batch_y)\n",
    "        loss.backward()\n",
    "        optimizer.step()\n",
    "        \n",
    "        running_loss += loss.item()\n",
    "        if np.isnan(running_loss):\n",
    "            break\n",
    "        running_time += time.time()-tstart\n",
    "        nsamp += len(indices)\n",
    "        if (time.time()-t0train)>5:\n",
    "            print('Epoch %d, i=%d/%d, loss=%3.8f, t=%3.3f, %3.5f s/sample' % (epoch, i, len(train), \n",
    "                                                                              running_loss/nsamp, running_time, running_time/nsamp))\n",
    "            t0train=time.time()\n",
    "            print(outputs[0,:])\n",
    "\n",
    "    loss_train = np.append(loss_train,running_loss/nsamp)\n",
    "    scheduler.step(running_loss/nsamp)\n",
    "\n",
    "    net.eval()\n",
    "    running_loss_test = 0.0\n",
    "    nsamp = 0\n",
    "    for i in range(0, len(test), batch_size):\n",
    "        indices = test[i:i+batch_size]\n",
    "\n",
    "        # Input should be of size: (batch, channels, samples)\n",
    "        batch_data = get_data_index(indices)\n",
    "        batch_X = batch_data['x']\n",
    "        batch_y = batch_data['y']\n",
    "\n",
    "        # Send training data to CUDA\n",
    "        if device is not \"cpu\":\n",
    "            batch_X = batch_X.to(device)\n",
    "            batch_y = batch_y.to(device)\n",
    "\n",
    "        outputs = net(batch_X)\n",
    "        loss = criterion(outputs, batch_y)\n",
    "        running_loss_test += loss.item()\n",
    "        nsamp += len(indices)\n",
    "    loss_test = np.append(loss_test,running_loss_test/nsamp)\n",
    "\n",
    "    if (time.time()-t0)>5 and epoch>3:\n",
    "plt.clf()\n",
    "plt.plot(loss_train[2:],'o-',label='Train')\n",
    "plt.plot(loss_test[2:],'o-',label='Test')\n",
    "plt.legend()\n",
    "plt.xlabel('Epochs')\n",
    "plt.ylabel('Loss')\n",
    "plt.title(fn_save)\n",
    "plt.savefig('Plots/'+fn_save.replace('.torch','')+'_loss.png')\n",
    "        \n",
    "        display.clear_output(wait=True)\n",
    "        display.display(plt.gcf())\n",
    "        print('**** Epoch %d, LR=%3.3f, loss_train=%3.8f, loss_test=%3.8f, time = %3.5f s/epoch' % (epoch, \n",
    "                                                                                                    optimizer.state_dict()['param_groups'][0]['lr'], \n",
    "                                                                                                    loss_train[-1], \n",
    "                                                                                                    loss_test[-1], \n",
    "                                                                                                    (time.time()-t0)/epoch))\n",
    "        print(outputs[0,:])\n",
    "        t0=time.time()\n",
    "\n",
    "    torch.save({\n",
    "            'epoch': epoch,\n",
    "            'model_state_dict': net.state_dict(),\n",
    "            'optimizer_state_dict': optimizer.state_dict(),\n",
    "            'loss_train': loss_train,\n",
    "            'loss_test': loss_test,\n",
    "            }, fn_save)\n",
    "    print('Saved data: %s' % fn_save)"
   ]
  },
  {
   "cell_type": "code",
   "execution_count": 60,
   "metadata": {},
   "outputs": [
    {
     "data": {
      "image/png": "[encoded data removed]",
      "text/plain": [
       "<Figure size 432x288 with 1 Axes>"
      ]
     },
     "metadata": {
      "needs_background": "light"
     },
     "output_type": "display_data"
    }
   ],
   "source": []
  },
  {
   "cell_type": "code",
   "execution_count": 49,
   "metadata": {},
   "outputs": [],
   "source": [
    "net.eval()\n",
    "indices = test\n",
    "\n",
    "yyhat = {'y':[], 'yhat':[]}\n",
    "for i in range(0, len(test), batch_size):\n",
    "    indices = test[i:i+batch_size]\n",
    "    # Input should be of size: (batch, channels, samples)\n",
    "    batch_data = get_data_index(indices)\n",
    "    batch_X = batch_data['x']\n",
    "    batch_y = batch_data['y']\n",
    "\n",
    "    # Send training data to CUDA\n",
    "    if device is not \"cpu\":\n",
    "        batch_X = batch_X.to(device)\n",
    "\n",
    "    outputs = net(batch_X)\n",
    "    yyhat['yhat'].append(outputs.detach().cpu().numpy())\n",
    "    yyhat['y'].append(batch_y.numpy())\n",
    "yyhat['yhat'] = np.concatenate(yyhat['yhat'],axis=0)\n",
    "yyhat['y'] = np.concatenate(yyhat['y'],axis=0)"
   ]
  },
  {
   "cell_type": "code",
   "execution_count": 52,
   "metadata": {},
   "outputs": [
    {
     "data": {
      "text/plain": [
       "[<matplotlib.lines.Line2D at 0x7fa7f53779b0>]"
      ]
     },
     "execution_count": 52,
     "metadata": {},
     "output_type": "execute_result"
    },
    {
     "data": {
      "image/png": "[encoded data removed]",
      "text/plain": [
       "<Figure size 432x288 with 1 Axes>"
      ]
     },
     "metadata": {
      "needs_background": "light"
     },
     "output_type": "display_data"
    }
   ],
   "source": [
    "plt.plot(yyhat['y'].T, yyhat['yhat'].T,'.');\n",
    "plt.plot([0,3],[0,3],'k--')"
   ]
  },
  {
   "cell_type": "code",
   "execution_count": 51,
   "metadata": {},
   "outputs": [
    {
     "data": {
      "text/plain": [
       "[<matplotlib.lines.Line2D at 0x7fa7f4dad5f8>]"
      ]
     },
     "execution_count": 51,
     "metadata": {},
     "output_type": "execute_result"
    },
    {
     "data": {
      "image/png": "[encoded data removed]",
      "text/plain": [
       "<Figure size 432x288 with 1 Axes>"
      ]
     },
     "metadata": {
      "needs_background": "light"
     },
     "output_type": "display_data"
    }
   ],
   "source": [
    "plt.plot(yyhat['y'].mean(axis=0), yyhat['yhat'].mean(axis=0),'.')"
   ]
  },
  {
   "cell_type": "code",
   "execution_count": null,
   "metadata": {},
   "outputs": [],
   "source": []
  }
 ],
 "metadata": {
  "kernelspec": {
   "display_name": "Python 3",
   "language": "python",
   "name": "python3"
  },
  "language_info": {
   "codemirror_mode": {
    "name": "ipython",
    "version": 3
   },
   "file_extension": ".py",
   "mimetype": "text/x-python",
   "name": "python",
   "nbconvert_exporter": "python",
   "pygments_lexer": "ipython3",
   "version": "3.7.1"
  }
 },
 "nbformat": 4,
 "nbformat_minor": 4
}
