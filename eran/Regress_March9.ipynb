{
 "cells": [
  {
   "cell_type": "markdown",
   "metadata": {},
   "source": [
    "# Stage 1: Correlation for individual enhancers"
   ]
  },
  {
   "cell_type": "code",
   "execution_count": 1,
   "metadata": {},
   "outputs": [
    {
     "name": "stdout",
     "output_type": "stream",
     "text": [
      "Starting analysis; 40 processors; 2020-06-15 14:01:31.491367\n"
     ]
    }
   ],
   "source": [
    "import pandas as pd\n",
    "import numpy as np\n",
    "import time, re, datetime\n",
    "import matplotlib.pyplot as plt\n",
    "from matplotlib.colors import ListedColormap\n",
    "from scipy.stats import zscore\n",
    "\n",
    "from multiprocessing import Pool,cpu_count\n",
    "num_processors = cpu_count()\n",
    "\n",
    "print('Starting analysis; %d processors; %s' % (num_processors, datetime.datetime.today()))\n",
    "t00 =time.time()\n",
    "\n",
    "# np.random.seed(0)"
   ]
  },
  {
   "cell_type": "code",
   "execution_count": 2,
   "metadata": {},
   "outputs": [],
   "source": [
    "use_kmers = False\n",
    "corr_type = 'Spearman';\n",
    "corr_type = 'Pearson'\n",
    "features_use = 'mCG'"
   ]
  },
  {
   "cell_type": "code",
   "execution_count": 3,
   "metadata": {},
   "outputs": [
    {
     "data": {
      "text/plain": [
       "'Pearson'"
      ]
     },
     "execution_count": 3,
     "metadata": {},
     "output_type": "execute_result"
    }
   ],
   "source": [
    "corr_type"
   ]
  },
  {
   "cell_type": "code",
   "execution_count": 4,
   "metadata": {
    "scrolled": true
   },
   "outputs": [
    {
     "name": "stdout",
     "output_type": "stream",
     "text": [
      "Loaded genes2enhu from RegressData/Regress_data_9811genes_24cells_genes2enhu.pkl\n",
      "Loaded rnau from RegressData/Regress_data_9811genes_24cells_rnau.pkl\n",
      "Loaded df_mlevelu from RegressData/Regress_data_9811genes_24cells_df_mlevelu.pkl\n",
      "Loaded df_atacu from RegressData/Regress_data_9811genes_24cells_df_atacu.pkl\n",
      "Loaded genes from RegressData/Regress_data_9811genes_24cells_genes.pkl\n"
     ]
    }
   ],
   "source": [
    "today=datetime.datetime.today().strftime('%d-%m-%Y')\n",
    "# fn_load_prefix = 'RegressData/Regress_data_6143genes_19cells_'\n",
    "# fn_load_prefix = 'RegressData/Regress_data_6174genes_20cells_'\n",
    "fn_load_prefix = 'RegressData/Regress_data_9811genes_24cells_'\n",
    "\n",
    "# Load datasets\n",
    "save_vars = ['genes2enhu', 'rnau', 'df_mlevelu', 'df_atacu', 'genes']\n",
    "# save_vars = ['rnau','genes']\n",
    "for var in save_vars:\n",
    "    fn = fn_load_prefix+var+'.pkl'\n",
    "    cmd = '%s=pd.read_pickle(\"%s\")' % (var, fn)\n",
    "    exec(cmd)\n",
    "    print('Loaded %s from %s' % (var, fn))\n",
    "\n",
    "if use_kmers:\n",
    "    with np.load(fn_load_prefix+'kmer_countsu.npz', allow_pickle=True) as x:\n",
    "        kmer_countsu=x['kmer_countsu']\n",
    "    kmer_countsu = kmer_countsu/kmer_countsu.shape[1]/100\n",
    "    \n",
    "    # Testing:\n",
    "    kmer_countsu = kmer_countsu[:,:2]\n",
    "    \n",
    "    print('Kmers shape: ', kmer_countsu.shape)\n",
    "    Nk=kmer_countsu.shape[1]\n",
    "    print('Loaded kmers')\n",
    "else:\n",
    "    Nk=0\n",
    "    \n",
    "# Cell type names\n",
    "df_cellnames = pd.read_csv('/cndd/Public_Datasets/CEMBA/BICCN_minibrain_data/data_freeze/supp_info/clusters_final/cluster_annotation_scf_round2.tsv',\n",
    "                       sep='\\t', index_col='cluster')"
   ]
  },
  {
   "cell_type": "code",
   "execution_count": 5,
   "metadata": {},
   "outputs": [],
   "source": [
    "# ngenes_use = 500000000\n",
    "# genes = genes.iloc[np.random.permutation(genes.shape[0])[:ngenes_use],:]"
   ]
  },
  {
   "cell_type": "code",
   "execution_count": 6,
   "metadata": {},
   "outputs": [],
   "source": [
    "genes2enhu = genes2enhu.iloc[[i in genes.index for i in genes2enhu['ensid']],:]\n",
    "genes2enhu.shape, genes2enhu.index.unique().shape\n",
    "\n",
    "celltypes = df_mlevelu.columns"
   ]
  },
  {
   "cell_type": "code",
   "execution_count": 7,
   "metadata": {},
   "outputs": [],
   "source": [
    "if (features_use=='mCG'):\n",
    "    x = df_mlevelu.loc[genes2enhu['enh_pos'],:].to_numpy()\n",
    "elif (features_use=='ATAC'):\n",
    "    x = df_atacu.loc[genes2enhu['enh_pos'],:].to_numpy()\n",
    "elif (features_use=='mCG_ATAC'):\n",
    "    x1 = df_mlevelu.loc[genes2enhu['enh_pos'],:].to_numpy()\n",
    "    x2 = df_atacu.loc[genes2enhu['enh_pos'],:].to_numpy()\n",
    "    x = f_mcg(x1) * f_atac(x2)\n",
    "else:\n",
    "    x = []\n",
    "    \n",
    "y = rnau.loc[genes2enhu['ensid'],:].to_numpy()"
   ]
  },
  {
   "cell_type": "code",
   "execution_count": 8,
   "metadata": {},
   "outputs": [],
   "source": [
    "def my_cc(x,y,ensid,doshuff=False,jshuff=0,corr_type='Pearson',use_abs=True):\n",
    "    t0=time.time()\n",
    "    ngenes,ncells = y.shape\n",
    "    print('Computing correlations for %d gene-enhancer pairs; jshuff=%d; ' % (ngenes,jshuff))\n",
    "    if doshuff:\n",
    "        y = y[:,np.random.permutation(ncells)]\n",
    "#         y = y[np.random.permutation(ngenes),:]\n",
    "\n",
    "    if (corr_type=='Spearman'):\n",
    "        y = np.argsort(y,axis=1)\n",
    "        x = np.argsort(x,axis=1)\n",
    "    xz = zscore(x, axis=1, nan_policy='omit', ddof=0)\n",
    "    yz = zscore(y, axis=1, nan_policy='omit', ddof=0)\n",
    "#     xy_cc = [np.abs(np.corrcoef(x1,y1)[0,1]) for (x1,y1) in zip(x,y)]\n",
    "    xy_cc = np.nanmean(xz*yz, axis=1)\n",
    "\n",
    "    xy_cc_df = pd.DataFrame(data=xy_cc, columns=['cc'])\n",
    "    xy_cc_df['enh_num'] = np.arange(ngenes)\n",
    "    xy_cc_df['ensid'] = ensid.values\n",
    "    xy_cc_df['cc_abs'] = np.abs(xy_cc_df['cc'])\n",
    "    if use_abs:\n",
    "        xy_cc_df = xy_cc_df.sort_values(['ensid','cc_abs'],ascending=[True,False]).drop_duplicates(['ensid'])\n",
    "    else:\n",
    "        xy_cc_df = xy_cc_df.sort_values(['ensid','cc'],ascending=[True,False]).drop_duplicates(['ensid'])\n",
    "    best_cc    = xy_cc_df['cc']\n",
    "    best_enh   = xy_cc_df['enh_num']\n",
    "    best_ensid = xy_cc_df['ensid']\n",
    "    print('t=%3.3f' % (time.time()-t0))\n",
    "    \n",
    "    return best_cc,best_enh,best_ensid,xy_cc"
   ]
  },
  {
   "cell_type": "code",
   "execution_count": 9,
   "metadata": {},
   "outputs": [
    {
     "name": "stdout",
     "output_type": "stream",
     "text": [
      "Computing correlations for 468604 gene-enhancer pairs; jshuff=0; \n"
     ]
    },
    {
     "name": "stderr",
     "output_type": "stream",
     "text": [
      "/cndd/fangming/venvs/conda_dobro/lib/python3.6/site-packages/scipy/stats/stats.py:2419: RuntimeWarning: invalid value encountered in true_divide\n",
      "  return (a - mns) / sstd\n",
      "/cndd/fangming/venvs/conda_dobro/lib/python3.6/site-packages/ipykernel_launcher.py:15: RuntimeWarning: Mean of empty slice\n",
      "  from ipykernel import kernelapp as app\n"
     ]
    },
    {
     "name": "stdout",
     "output_type": "stream",
     "text": [
      "t=0.880\n"
     ]
    }
   ],
   "source": [
    "best_cc,best_enh,best_ensid,all_cc = my_cc(x,y,genes2enhu['ensid'],False,0,corr_type)"
   ]
  },
  {
   "cell_type": "code",
   "execution_count": 10,
   "metadata": {},
   "outputs": [
    {
     "name": "stdout",
     "output_type": "stream",
     "text": [
      "Computing correlations for 468604 gene-enhancer pairs; jshuff=0; \n"
     ]
    },
    {
     "name": "stderr",
     "output_type": "stream",
     "text": [
      "/cndd/fangming/venvs/conda_dobro/lib/python3.6/site-packages/scipy/stats/stats.py:2419: RuntimeWarning: invalid value encountered in true_divide\n",
      "  return (a - mns) / sstd\n"
     ]
    },
    {
     "name": "stdout",
     "output_type": "stream",
     "text": [
      "Computing correlations for 468604 gene-enhancer pairs; jshuff=1; \n",
      "Computing correlations for 468604 gene-enhancer pairs; jshuff=2; \n"
     ]
    },
    {
     "name": "stderr",
     "output_type": "stream",
     "text": [
      "/cndd/fangming/venvs/conda_dobro/lib/python3.6/site-packages/scipy/stats/stats.py:2419: RuntimeWarning: invalid value encountered in true_divide\n",
      "  return (a - mns) / sstd\n"
     ]
    },
    {
     "name": "stdout",
     "output_type": "stream",
     "text": [
      "Computing correlations for 468604 gene-enhancer pairs; jshuff=3; \n"
     ]
    },
    {
     "name": "stderr",
     "output_type": "stream",
     "text": [
      "/cndd/fangming/venvs/conda_dobro/lib/python3.6/site-packages/ipykernel_launcher.py:15: RuntimeWarning: Mean of empty slice\n",
      "  from ipykernel import kernelapp as app\n"
     ]
    },
    {
     "name": "stdout",
     "output_type": "stream",
     "text": [
      "Computing correlations for 468604 gene-enhancer pairs; jshuff=4; \n"
     ]
    },
    {
     "name": "stderr",
     "output_type": "stream",
     "text": [
      "/cndd/fangming/venvs/conda_dobro/lib/python3.6/site-packages/scipy/stats/stats.py:2419: RuntimeWarning: invalid value encountered in true_divide\n",
      "  return (a - mns) / sstd\n"
     ]
    },
    {
     "name": "stdout",
     "output_type": "stream",
     "text": [
      "t=1.225\n",
      "Computing correlations for 468604 gene-enhancer pairs; jshuff=5; \n"
     ]
    },
    {
     "name": "stderr",
     "output_type": "stream",
     "text": [
      "/cndd/fangming/venvs/conda_dobro/lib/python3.6/site-packages/scipy/stats/stats.py:2419: RuntimeWarning: invalid value encountered in true_divide\n",
      "  return (a - mns) / sstd\n"
     ]
    },
    {
     "name": "stdout",
     "output_type": "stream",
     "text": [
      "Computing correlations for 468604 gene-enhancer pairs; jshuff=6; \n"
     ]
    },
    {
     "name": "stderr",
     "output_type": "stream",
     "text": [
      "/cndd/fangming/venvs/conda_dobro/lib/python3.6/site-packages/ipykernel_launcher.py:15: RuntimeWarning: Mean of empty slice\n",
      "  from ipykernel import kernelapp as app\n",
      "/cndd/fangming/venvs/conda_dobro/lib/python3.6/site-packages/scipy/stats/stats.py:2419: RuntimeWarning: invalid value encountered in true_divide\n",
      "  return (a - mns) / sstd\n"
     ]
    },
    {
     "name": "stdout",
     "output_type": "stream",
     "text": [
      "Computing correlations for 468604 gene-enhancer pairs; jshuff=7; \n",
      "Computing correlations for 468604 gene-enhancer pairs; jshuff=8; \n"
     ]
    },
    {
     "name": "stderr",
     "output_type": "stream",
     "text": [
      "/cndd/fangming/venvs/conda_dobro/lib/python3.6/site-packages/ipykernel_launcher.py:15: RuntimeWarning: Mean of empty slice\n",
      "  from ipykernel import kernelapp as app\n",
      "/cndd/fangming/venvs/conda_dobro/lib/python3.6/site-packages/scipy/stats/stats.py:2419: RuntimeWarning: invalid value encountered in true_divide\n",
      "  return (a - mns) / sstd\n",
      "/cndd/fangming/venvs/conda_dobro/lib/python3.6/site-packages/scipy/stats/stats.py:2419: RuntimeWarning: invalid value encountered in true_divide\n",
      "  return (a - mns) / sstd\n"
     ]
    },
    {
     "name": "stdout",
     "output_type": "stream",
     "text": [
      "Computing correlations for 468604 gene-enhancer pairs; jshuff=9; \n",
      "t=1.975\n",
      "t=3.760\n"
     ]
    },
    {
     "name": "stderr",
     "output_type": "stream",
     "text": [
      "/cndd/fangming/venvs/conda_dobro/lib/python3.6/site-packages/ipykernel_launcher.py:15: RuntimeWarning: Mean of empty slice\n",
      "  from ipykernel import kernelapp as app\n",
      "/cndd/fangming/venvs/conda_dobro/lib/python3.6/site-packages/ipykernel_launcher.py:15: RuntimeWarning: Mean of empty slice\n",
      "  from ipykernel import kernelapp as app\n",
      "/cndd/fangming/venvs/conda_dobro/lib/python3.6/site-packages/ipykernel_launcher.py:15: RuntimeWarning: Mean of empty slice\n",
      "  from ipykernel import kernelapp as app\n"
     ]
    },
    {
     "name": "stdout",
     "output_type": "stream",
     "text": [
      "Computing correlations for 468604 gene-enhancer pairs; jshuff=10; \n",
      "t=3.521\n",
      "t=3.108\n",
      "Computing correlations for 468604 gene-enhancer pairs; jshuff=12; \n"
     ]
    },
    {
     "name": "stderr",
     "output_type": "stream",
     "text": [
      "/cndd/fangming/venvs/conda_dobro/lib/python3.6/site-packages/scipy/stats/stats.py:2419: RuntimeWarning: invalid value encountered in true_divide\n",
      "  return (a - mns) / sstd\n"
     ]
    },
    {
     "name": "stdout",
     "output_type": "stream",
     "text": [
      "Computing correlations for 468604 gene-enhancer pairs; jshuff=11; \n"
     ]
    },
    {
     "name": "stderr",
     "output_type": "stream",
     "text": [
      "/cndd/fangming/venvs/conda_dobro/lib/python3.6/site-packages/ipykernel_launcher.py:15: RuntimeWarning: Mean of empty slice\n",
      "  from ipykernel import kernelapp as app\n",
      "/cndd/fangming/venvs/conda_dobro/lib/python3.6/site-packages/scipy/stats/stats.py:2419: RuntimeWarning: invalid value encountered in true_divide\n",
      "  return (a - mns) / sstd\n",
      "/cndd/fangming/venvs/conda_dobro/lib/python3.6/site-packages/ipykernel_launcher.py:15: RuntimeWarning: Mean of empty slice\n",
      "  from ipykernel import kernelapp as app\n"
     ]
    },
    {
     "name": "stdout",
     "output_type": "stream",
     "text": [
      "Computing correlations for 468604 gene-enhancer pairs; jshuff=13; \n"
     ]
    },
    {
     "name": "stderr",
     "output_type": "stream",
     "text": [
      "/cndd/fangming/venvs/conda_dobro/lib/python3.6/site-packages/scipy/stats/stats.py:2419: RuntimeWarning: invalid value encountered in true_divide\n",
      "  return (a - mns) / sstd\n"
     ]
    },
    {
     "name": "stdout",
     "output_type": "stream",
     "text": [
      "t=2.209\n"
     ]
    },
    {
     "name": "stderr",
     "output_type": "stream",
     "text": [
      "/cndd/fangming/venvs/conda_dobro/lib/python3.6/site-packages/ipykernel_launcher.py:15: RuntimeWarning: Mean of empty slice\n",
      "  from ipykernel import kernelapp as app\n",
      "/cndd/fangming/venvs/conda_dobro/lib/python3.6/site-packages/scipy/stats/stats.py:2419: RuntimeWarning: invalid value encountered in true_divide\n",
      "  return (a - mns) / sstd\n",
      "/cndd/fangming/venvs/conda_dobro/lib/python3.6/site-packages/ipykernel_launcher.py:15: RuntimeWarning: Mean of empty slice\n",
      "  from ipykernel import kernelapp as app\n"
     ]
    },
    {
     "name": "stdout",
     "output_type": "stream",
     "text": [
      "Computing correlations for 468604 gene-enhancer pairs; jshuff=14; \n",
      "t=3.514\n"
     ]
    },
    {
     "name": "stderr",
     "output_type": "stream",
     "text": [
      "/cndd/fangming/venvs/conda_dobro/lib/python3.6/site-packages/scipy/stats/stats.py:2419: RuntimeWarning: invalid value encountered in true_divide\n",
      "  return (a - mns) / sstd\n"
     ]
    },
    {
     "name": "stdout",
     "output_type": "stream",
     "text": [
      "Computing correlations for 468604 gene-enhancer pairs; jshuff=15; \n"
     ]
    },
    {
     "name": "stderr",
     "output_type": "stream",
     "text": [
      "/cndd/fangming/venvs/conda_dobro/lib/python3.6/site-packages/ipykernel_launcher.py:15: RuntimeWarning: Mean of empty slice\n",
      "  from ipykernel import kernelapp as app\n",
      "/cndd/fangming/venvs/conda_dobro/lib/python3.6/site-packages/scipy/stats/stats.py:2419: RuntimeWarning: invalid value encountered in true_divide\n",
      "  return (a - mns) / sstd\n"
     ]
    },
    {
     "name": "stdout",
     "output_type": "stream",
     "text": [
      "t=3.617\n",
      "t=6.639\n",
      "Computing correlations for 468604 gene-enhancer pairs; jshuff=16; \n"
     ]
    },
    {
     "name": "stderr",
     "output_type": "stream",
     "text": [
      "/cndd/fangming/venvs/conda_dobro/lib/python3.6/site-packages/ipykernel_launcher.py:15: RuntimeWarning: Mean of empty slice\n",
      "  from ipykernel import kernelapp as app\n",
      "/cndd/fangming/venvs/conda_dobro/lib/python3.6/site-packages/scipy/stats/stats.py:2419: RuntimeWarning: invalid value encountered in true_divide\n",
      "  return (a - mns) / sstd\n"
     ]
    },
    {
     "name": "stdout",
     "output_type": "stream",
     "text": [
      "Computing correlations for 468604 gene-enhancer pairs; jshuff=17; \n",
      "t=2.200\n"
     ]
    },
    {
     "name": "stderr",
     "output_type": "stream",
     "text": [
      "/cndd/fangming/venvs/conda_dobro/lib/python3.6/site-packages/scipy/stats/stats.py:2419: RuntimeWarning: invalid value encountered in true_divide\n",
      "  return (a - mns) / sstd\n",
      "/cndd/fangming/venvs/conda_dobro/lib/python3.6/site-packages/scipy/stats/stats.py:2419: RuntimeWarning: invalid value encountered in true_divide\n",
      "  return (a - mns) / sstd\n",
      "/cndd/fangming/venvs/conda_dobro/lib/python3.6/site-packages/scipy/stats/stats.py:2419: RuntimeWarning: invalid value encountered in true_divide\n",
      "  return (a - mns) / sstd\n"
     ]
    },
    {
     "name": "stdout",
     "output_type": "stream",
     "text": [
      "t=1.537\n"
     ]
    },
    {
     "name": "stderr",
     "output_type": "stream",
     "text": [
      "/cndd/fangming/venvs/conda_dobro/lib/python3.6/site-packages/scipy/stats/stats.py:2419: RuntimeWarning: invalid value encountered in true_divide\n",
      "  return (a - mns) / sstd\n"
     ]
    },
    {
     "name": "stdout",
     "output_type": "stream",
     "text": [
      "Computing correlations for 468604 gene-enhancer pairs; jshuff=18; \n"
     ]
    },
    {
     "name": "stderr",
     "output_type": "stream",
     "text": [
      "/cndd/fangming/venvs/conda_dobro/lib/python3.6/site-packages/ipykernel_launcher.py:15: RuntimeWarning: Mean of empty slice\n",
      "  from ipykernel import kernelapp as app\n",
      "/cndd/fangming/venvs/conda_dobro/lib/python3.6/site-packages/scipy/stats/stats.py:2419: RuntimeWarning: invalid value encountered in true_divide\n",
      "  return (a - mns) / sstd\n",
      "/cndd/fangming/venvs/conda_dobro/lib/python3.6/site-packages/ipykernel_launcher.py:15: RuntimeWarning: Mean of empty slice\n",
      "  from ipykernel import kernelapp as app\n"
     ]
    },
    {
     "name": "stdout",
     "output_type": "stream",
     "text": [
      "Computing correlations for 468604 gene-enhancer pairs; jshuff=19; \n"
     ]
    },
    {
     "name": "stderr",
     "output_type": "stream",
     "text": [
      "/cndd/fangming/venvs/conda_dobro/lib/python3.6/site-packages/ipykernel_launcher.py:15: RuntimeWarning: Mean of empty slice\n",
      "  from ipykernel import kernelapp as app\n",
      "/cndd/fangming/venvs/conda_dobro/lib/python3.6/site-packages/scipy/stats/stats.py:2419: RuntimeWarning: invalid value encountered in true_divide\n",
      "  return (a - mns) / sstd\n"
     ]
    },
    {
     "name": "stdout",
     "output_type": "stream",
     "text": [
      "t=2.038\n",
      "t=4.185\n"
     ]
    },
    {
     "name": "stderr",
     "output_type": "stream",
     "text": [
      "/cndd/fangming/venvs/conda_dobro/lib/python3.6/site-packages/ipykernel_launcher.py:15: RuntimeWarning: Mean of empty slice\n",
      "  from ipykernel import kernelapp as app\n"
     ]
    },
    {
     "name": "stdout",
     "output_type": "stream",
     "text": [
      "t=3.409\n",
      "Computing correlations for 468604 gene-enhancer pairs; jshuff=20; \n",
      "t=1.235\n"
     ]
    },
    {
     "name": "stderr",
     "output_type": "stream",
     "text": [
      "/cndd/fangming/venvs/conda_dobro/lib/python3.6/site-packages/scipy/stats/stats.py:2419: RuntimeWarning: invalid value encountered in true_divide\n",
      "  return (a - mns) / sstd\n"
     ]
    },
    {
     "name": "stdout",
     "output_type": "stream",
     "text": [
      "Computing correlations for 468604 gene-enhancer pairs; jshuff=21; \n"
     ]
    },
    {
     "name": "stderr",
     "output_type": "stream",
     "text": [
      "/cndd/fangming/venvs/conda_dobro/lib/python3.6/site-packages/scipy/stats/stats.py:2419: RuntimeWarning: invalid value encountered in true_divide\n",
      "  return (a - mns) / sstd\n",
      "/cndd/fangming/venvs/conda_dobro/lib/python3.6/site-packages/ipykernel_launcher.py:15: RuntimeWarning: Mean of empty slice\n",
      "  from ipykernel import kernelapp as app\n"
     ]
    },
    {
     "name": "stdout",
     "output_type": "stream",
     "text": [
      "Computing correlations for 468604 gene-enhancer pairs; jshuff=22; \n"
     ]
    },
    {
     "name": "stderr",
     "output_type": "stream",
     "text": [
      "/cndd/fangming/venvs/conda_dobro/lib/python3.6/site-packages/ipykernel_launcher.py:15: RuntimeWarning: Mean of empty slice\n",
      "  from ipykernel import kernelapp as app\n",
      "/cndd/fangming/venvs/conda_dobro/lib/python3.6/site-packages/ipykernel_launcher.py:15: RuntimeWarning: Mean of empty slice\n",
      "  from ipykernel import kernelapp as app\n",
      "/cndd/fangming/venvs/conda_dobro/lib/python3.6/site-packages/ipykernel_launcher.py:15: RuntimeWarning: Mean of empty slice\n",
      "  from ipykernel import kernelapp as app\n"
     ]
    },
    {
     "name": "stdout",
     "output_type": "stream",
     "text": [
      "Computing correlations for 468604 gene-enhancer pairs; jshuff=23; \n",
      "t=2.606\n",
      "t=4.346\n",
      "t=1.129\n"
     ]
    },
    {
     "name": "stderr",
     "output_type": "stream",
     "text": [
      "/cndd/fangming/venvs/conda_dobro/lib/python3.6/site-packages/scipy/stats/stats.py:2419: RuntimeWarning: invalid value encountered in true_divide\n",
      "  return (a - mns) / sstd\n"
     ]
    },
    {
     "name": "stdout",
     "output_type": "stream",
     "text": [
      "Computing correlations for 468604 gene-enhancer pairs; jshuff=24; \n"
     ]
    },
    {
     "name": "stderr",
     "output_type": "stream",
     "text": [
      "/cndd/fangming/venvs/conda_dobro/lib/python3.6/site-packages/ipykernel_launcher.py:15: RuntimeWarning: Mean of empty slice\n",
      "  from ipykernel import kernelapp as app\n"
     ]
    },
    {
     "name": "stdout",
     "output_type": "stream",
     "text": [
      "t=6.503\n"
     ]
    },
    {
     "name": "stderr",
     "output_type": "stream",
     "text": [
      "/cndd/fangming/venvs/conda_dobro/lib/python3.6/site-packages/ipykernel_launcher.py:15: RuntimeWarning: Mean of empty slice\n",
      "  from ipykernel import kernelapp as app\n"
     ]
    },
    {
     "name": "stdout",
     "output_type": "stream",
     "text": [
      "Computing correlations for 468604 gene-enhancer pairs; jshuff=25; \n",
      "t=2.169\n",
      "t=1.263\n",
      "t=4.114\n",
      "Computing correlations for 468604 gene-enhancer pairs; jshuff=26; \n"
     ]
    },
    {
     "name": "stderr",
     "output_type": "stream",
     "text": [
      "/cndd/fangming/venvs/conda_dobro/lib/python3.6/site-packages/scipy/stats/stats.py:2419: RuntimeWarning: invalid value encountered in true_divide\n",
      "  return (a - mns) / sstd\n"
     ]
    },
    {
     "name": "stdout",
     "output_type": "stream",
     "text": [
      "Computing correlations for 468604 gene-enhancer pairs; jshuff=27; \n"
     ]
    },
    {
     "name": "stderr",
     "output_type": "stream",
     "text": [
      "/cndd/fangming/venvs/conda_dobro/lib/python3.6/site-packages/ipykernel_launcher.py:15: RuntimeWarning: Mean of empty slice\n",
      "  from ipykernel import kernelapp as app\n",
      "/cndd/fangming/venvs/conda_dobro/lib/python3.6/site-packages/ipykernel_launcher.py:15: RuntimeWarning: Mean of empty slice\n",
      "  from ipykernel import kernelapp as app\n"
     ]
    },
    {
     "name": "stdout",
     "output_type": "stream",
     "text": [
      "Computing correlations for 468604 gene-enhancer pairs; jshuff=28; \n"
     ]
    },
    {
     "name": "stderr",
     "output_type": "stream",
     "text": [
      "/cndd/fangming/venvs/conda_dobro/lib/python3.6/site-packages/scipy/stats/stats.py:2419: RuntimeWarning: invalid value encountered in true_divide\n",
      "  return (a - mns) / sstd\n"
     ]
    },
    {
     "name": "stdout",
     "output_type": "stream",
     "text": [
      "t=4.034\n",
      "t=1.141\n",
      "Computing correlations for 468604 gene-enhancer pairs; jshuff=29; \n"
     ]
    },
    {
     "name": "stderr",
     "output_type": "stream",
     "text": [
      "/cndd/fangming/venvs/conda_dobro/lib/python3.6/site-packages/ipykernel_launcher.py:15: RuntimeWarning: Mean of empty slice\n",
      "  from ipykernel import kernelapp as app\n",
      "/cndd/fangming/venvs/conda_dobro/lib/python3.6/site-packages/scipy/stats/stats.py:2419: RuntimeWarning: invalid value encountered in true_divide\n",
      "  return (a - mns) / sstd\n",
      "/cndd/fangming/venvs/conda_dobro/lib/python3.6/site-packages/scipy/stats/stats.py:2419: RuntimeWarning: invalid value encountered in true_divide\n",
      "  return (a - mns) / sstd\n",
      "/cndd/fangming/venvs/conda_dobro/lib/python3.6/site-packages/scipy/stats/stats.py:2419: RuntimeWarning: invalid value encountered in true_divide\n",
      "  return (a - mns) / sstd\n"
     ]
    },
    {
     "name": "stdout",
     "output_type": "stream",
     "text": [
      "Computing correlations for 468604 gene-enhancer pairs; jshuff=30; \n"
     ]
    },
    {
     "name": "stderr",
     "output_type": "stream",
     "text": [
      "/cndd/fangming/venvs/conda_dobro/lib/python3.6/site-packages/ipykernel_launcher.py:15: RuntimeWarning: Mean of empty slice\n",
      "  from ipykernel import kernelapp as app\n",
      "/cndd/fangming/venvs/conda_dobro/lib/python3.6/site-packages/ipykernel_launcher.py:15: RuntimeWarning: Mean of empty slice\n",
      "  from ipykernel import kernelapp as app\n",
      "/cndd/fangming/venvs/conda_dobro/lib/python3.6/site-packages/ipykernel_launcher.py:15: RuntimeWarning: Mean of empty slice\n",
      "  from ipykernel import kernelapp as app\n",
      "/cndd/fangming/venvs/conda_dobro/lib/python3.6/site-packages/scipy/stats/stats.py:2419: RuntimeWarning: invalid value encountered in true_divide\n",
      "  return (a - mns) / sstd\n"
     ]
    },
    {
     "name": "stdout",
     "output_type": "stream",
     "text": [
      "t=1.169\n"
     ]
    },
    {
     "name": "stderr",
     "output_type": "stream",
     "text": [
      "/cndd/fangming/venvs/conda_dobro/lib/python3.6/site-packages/scipy/stats/stats.py:2419: RuntimeWarning: invalid value encountered in true_divide\n",
      "  return (a - mns) / sstd\n"
     ]
    },
    {
     "name": "stdout",
     "output_type": "stream",
     "text": [
      "Computing correlations for 468604 gene-enhancer pairs; jshuff=31; \n",
      "t=1.146\n"
     ]
    },
    {
     "name": "stderr",
     "output_type": "stream",
     "text": [
      "/cndd/fangming/venvs/conda_dobro/lib/python3.6/site-packages/scipy/stats/stats.py:2419: RuntimeWarning: invalid value encountered in true_divide\n",
      "  return (a - mns) / sstd\n"
     ]
    },
    {
     "name": "stdout",
     "output_type": "stream",
     "text": [
      "t=4.065\n",
      "t=3.288\n",
      "Computing correlations for 468604 gene-enhancer pairs; jshuff=32; \n"
     ]
    },
    {
     "name": "stderr",
     "output_type": "stream",
     "text": [
      "/cndd/fangming/venvs/conda_dobro/lib/python3.6/site-packages/ipykernel_launcher.py:15: RuntimeWarning: Mean of empty slice\n",
      "  from ipykernel import kernelapp as app\n",
      "/cndd/fangming/venvs/conda_dobro/lib/python3.6/site-packages/scipy/stats/stats.py:2419: RuntimeWarning: invalid value encountered in true_divide\n",
      "  return (a - mns) / sstd\n"
     ]
    },
    {
     "name": "stdout",
     "output_type": "stream",
     "text": [
      "Computing correlations for 468604 gene-enhancer pairs; jshuff=33; \n"
     ]
    },
    {
     "name": "stderr",
     "output_type": "stream",
     "text": [
      "/cndd/fangming/venvs/conda_dobro/lib/python3.6/site-packages/ipykernel_launcher.py:15: RuntimeWarning: Mean of empty slice\n",
      "  from ipykernel import kernelapp as app\n"
     ]
    },
    {
     "name": "stdout",
     "output_type": "stream",
     "text": [
      "Computing correlations for 468604 gene-enhancer pairs; jshuff=34; \n"
     ]
    },
    {
     "name": "stderr",
     "output_type": "stream",
     "text": [
      "/cndd/fangming/venvs/conda_dobro/lib/python3.6/site-packages/scipy/stats/stats.py:2419: RuntimeWarning: invalid value encountered in true_divide\n",
      "  return (a - mns) / sstd\n"
     ]
    },
    {
     "name": "stdout",
     "output_type": "stream",
     "text": [
      "t=4.070\n",
      "Computing correlations for 468604 gene-enhancer pairs; jshuff=35; \n",
      "t=3.441\n"
     ]
    },
    {
     "name": "stderr",
     "output_type": "stream",
     "text": [
      "/cndd/fangming/venvs/conda_dobro/lib/python3.6/site-packages/ipykernel_launcher.py:15: RuntimeWarning: Mean of empty slice\n",
      "  from ipykernel import kernelapp as app\n"
     ]
    },
    {
     "name": "stdout",
     "output_type": "stream",
     "text": [
      "Computing correlations for 468604 gene-enhancer pairs; jshuff=36; \n"
     ]
    },
    {
     "name": "stderr",
     "output_type": "stream",
     "text": [
      "/cndd/fangming/venvs/conda_dobro/lib/python3.6/site-packages/scipy/stats/stats.py:2419: RuntimeWarning: invalid value encountered in true_divide\n",
      "  return (a - mns) / sstd\n"
     ]
    },
    {
     "name": "stdout",
     "output_type": "stream",
     "text": [
      "Computing correlations for 468604 gene-enhancer pairs; jshuff=37; \n"
     ]
    },
    {
     "name": "stderr",
     "output_type": "stream",
     "text": [
      "/cndd/fangming/venvs/conda_dobro/lib/python3.6/site-packages/ipykernel_launcher.py:15: RuntimeWarning: Mean of empty slice\n",
      "  from ipykernel import kernelapp as app\n",
      "/cndd/fangming/venvs/conda_dobro/lib/python3.6/site-packages/ipykernel_launcher.py:15: RuntimeWarning: Mean of empty slice\n",
      "  from ipykernel import kernelapp as app\n"
     ]
    },
    {
     "name": "stdout",
     "output_type": "stream",
     "text": [
      "t=3.210\n",
      "Computing correlations for 468604 gene-enhancer pairs; jshuff=38; \n",
      "t=1.212\n"
     ]
    },
    {
     "name": "stderr",
     "output_type": "stream",
     "text": [
      "/cndd/fangming/venvs/conda_dobro/lib/python3.6/site-packages/scipy/stats/stats.py:2419: RuntimeWarning: invalid value encountered in true_divide\n",
      "  return (a - mns) / sstd\n"
     ]
    },
    {
     "name": "stdout",
     "output_type": "stream",
     "text": [
      "Computing correlations for 468604 gene-enhancer pairs; jshuff=39; \n",
      "t=2.360\n"
     ]
    },
    {
     "name": "stderr",
     "output_type": "stream",
     "text": [
      "/cndd/fangming/venvs/conda_dobro/lib/python3.6/site-packages/scipy/stats/stats.py:2419: RuntimeWarning: invalid value encountered in true_divide\n",
      "  return (a - mns) / sstd\n",
      "/cndd/fangming/venvs/conda_dobro/lib/python3.6/site-packages/ipykernel_launcher.py:15: RuntimeWarning: Mean of empty slice\n",
      "  from ipykernel import kernelapp as app\n",
      "/cndd/fangming/venvs/conda_dobro/lib/python3.6/site-packages/ipykernel_launcher.py:15: RuntimeWarning: Mean of empty slice\n",
      "  from ipykernel import kernelapp as app\n",
      "/cndd/fangming/venvs/conda_dobro/lib/python3.6/site-packages/ipykernel_launcher.py:15: RuntimeWarning: Mean of empty slice\n",
      "  from ipykernel import kernelapp as app\n"
     ]
    },
    {
     "name": "stdout",
     "output_type": "stream",
     "text": [
      "t=3.938\n",
      "t=4.407\n",
      "t=3.924\n",
      "Computing correlations for 468604 gene-enhancer pairs; jshuff=42; \n",
      "Computing correlations for 468604 gene-enhancer pairs; jshuff=40; \n",
      "Computing correlations for 468604 gene-enhancer pairs; jshuff=43; \n",
      "Computing correlations for 468604 gene-enhancer pairs; jshuff=44; \n",
      "t=1.182\n"
     ]
    },
    {
     "name": "stderr",
     "output_type": "stream",
     "text": [
      "/cndd/fangming/venvs/conda_dobro/lib/python3.6/site-packages/scipy/stats/stats.py:2419: RuntimeWarning: invalid value encountered in true_divide\n",
      "  return (a - mns) / sstd\n",
      "/cndd/fangming/venvs/conda_dobro/lib/python3.6/site-packages/scipy/stats/stats.py:2419: RuntimeWarning: invalid value encountered in true_divide\n",
      "  return (a - mns) / sstd\n"
     ]
    },
    {
     "name": "stdout",
     "output_type": "stream",
     "text": [
      "Computing correlations for 468604 gene-enhancer pairs; jshuff=41; \n",
      "t=1.427\n"
     ]
    },
    {
     "name": "stderr",
     "output_type": "stream",
     "text": [
      "/cndd/fangming/venvs/conda_dobro/lib/python3.6/site-packages/ipykernel_launcher.py:15: RuntimeWarning: Mean of empty slice\n",
      "  from ipykernel import kernelapp as app\n"
     ]
    },
    {
     "name": "stdout",
     "output_type": "stream",
     "text": [
      "t=1.459\n"
     ]
    },
    {
     "name": "stderr",
     "output_type": "stream",
     "text": [
      "/cndd/fangming/venvs/conda_dobro/lib/python3.6/site-packages/scipy/stats/stats.py:2419: RuntimeWarning: invalid value encountered in true_divide\n",
      "  return (a - mns) / sstd\n",
      "/cndd/fangming/venvs/conda_dobro/lib/python3.6/site-packages/scipy/stats/stats.py:2419: RuntimeWarning: invalid value encountered in true_divide\n",
      "  return (a - mns) / sstd\n"
     ]
    },
    {
     "name": "stdout",
     "output_type": "stream",
     "text": [
      "t=1.175\n"
     ]
    },
    {
     "name": "stderr",
     "output_type": "stream",
     "text": [
      "/cndd/fangming/venvs/conda_dobro/lib/python3.6/site-packages/ipykernel_launcher.py:15: RuntimeWarning: Mean of empty slice\n",
      "  from ipykernel import kernelapp as app\n"
     ]
    },
    {
     "name": "stdout",
     "output_type": "stream",
     "text": [
      "Computing correlations for 468604 gene-enhancer pairs; jshuff=45; \n",
      "t=3.898\n",
      "Computing correlations for 468604 gene-enhancer pairs; jshuff=46; \n",
      "Computing correlations for 468604 gene-enhancer pairs; jshuff=47; \n",
      "t=1.404\n",
      "t=4.846\n",
      "Computing correlations for 468604 gene-enhancer pairs; jshuff=48; \n",
      "t=1.277\n",
      "t=1.302\n",
      "t=1.135\n",
      "t=0.951\n",
      "Computing correlations for 468604 gene-enhancer pairs; jshuff=49; \n",
      "Computing correlations for 468604 gene-enhancer pairs; jshuff=52; \n",
      "t=1.177\n",
      "Computing correlations for 468604 gene-enhancer pairs; jshuff=53; \n",
      "Computing correlations for 468604 gene-enhancer pairs; jshuff=50; \n",
      "t=1.127\n",
      "Computing correlations for 468604 gene-enhancer pairs; jshuff=51; \n",
      "Computing correlations for 468604 gene-enhancer pairs; jshuff=54; \n",
      "t=1.085\n",
      "Computing correlations for 468604 gene-enhancer pairs; jshuff=56; \n",
      "t=1.193\n",
      "Computing correlations for 468604 gene-enhancer pairs; jshuff=55; \n",
      "Computing correlations for 468604 gene-enhancer pairs; jshuff=57; \n",
      "t=1.226\n"
     ]
    },
    {
     "name": "stderr",
     "output_type": "stream",
     "text": [
      "/cndd/fangming/venvs/conda_dobro/lib/python3.6/site-packages/ipykernel_launcher.py:15: RuntimeWarning: Mean of empty slice\n",
      "  from ipykernel import kernelapp as app\n"
     ]
    },
    {
     "name": "stdout",
     "output_type": "stream",
     "text": [
      "Computing correlations for 468604 gene-enhancer pairs; jshuff=59; \n",
      "t=1.202\n",
      "t=1.213\n",
      "t=1.115\n",
      "Computing correlations for 468604 gene-enhancer pairs; jshuff=60; \n",
      "Computing correlations for 468604 gene-enhancer pairs; jshuff=58; \n",
      "Computing correlations for 468604 gene-enhancer pairs; jshuff=61; \n",
      "Computing correlations for 468604 gene-enhancer pairs; jshuff=62; \n",
      "t=12.888\n",
      "t=1.208\n",
      "t=1.313\n"
     ]
    },
    {
     "name": "stderr",
     "output_type": "stream",
     "text": [
      "/cndd/fangming/venvs/conda_dobro/lib/python3.6/site-packages/ipykernel_launcher.py:15: RuntimeWarning: Mean of empty slice\n",
      "  from ipykernel import kernelapp as app\n"
     ]
    },
    {
     "name": "stdout",
     "output_type": "stream",
     "text": [
      "t=3.105\n",
      "Computing correlations for 468604 gene-enhancer pairs; jshuff=64; \n",
      "t=1.128\n",
      "Computing correlations for 468604 gene-enhancer pairs; jshuff=65; \n",
      "t=2.701\n",
      "Computing correlations for 468604 gene-enhancer pairs; jshuff=66; \n",
      "t=13.642\n",
      "Computing correlations for 468604 gene-enhancer pairs; jshuff=63; \n",
      "Computing correlations for 468604 gene-enhancer pairs; jshuff=67; \n",
      "t=2.579\n",
      "t=1.162\n",
      "Computing correlations for 468604 gene-enhancer pairs; jshuff=69; \n",
      "t=1.151\n",
      "t=1.108\n",
      "Computing correlations for 468604 gene-enhancer pairs; jshuff=70; \n",
      "Computing correlations for 468604 gene-enhancer pairs; jshuff=68; \n",
      "t=1.196\n",
      "t=3.228\n",
      "t=1.129\n",
      "t=3.186\n",
      "t=1.151\n",
      "Computing correlations for 468604 gene-enhancer pairs; jshuff=71; \n",
      "Computing correlations for 468604 gene-enhancer pairs; jshuff=73; \n",
      "Computing correlations for 468604 gene-enhancer pairs; jshuff=72; \n",
      "Computing correlations for 468604 gene-enhancer pairs; jshuff=74; \n",
      "t=1.068\n",
      "Computing correlations for 468604 gene-enhancer pairs; jshuff=75; \n",
      "Computing correlations for 468604 gene-enhancer pairs; jshuff=76; \n",
      "t=1.168\n",
      "t=1.222\n",
      "t=1.115\n",
      "Computing correlations for 468604 gene-enhancer pairs; jshuff=77; \n",
      "t=1.094\n",
      "t=1.017\n",
      "Computing correlations for 468604 gene-enhancer pairs; jshuff=78; \n",
      "Computing correlations for 468604 gene-enhancer pairs; jshuff=79; \n",
      "Computing correlations for 468604 gene-enhancer pairs; jshuff=80; \n",
      "t=1.088\n",
      "t=1.105\n",
      "Computing correlations for 468604 gene-enhancer pairs; jshuff=81; \n",
      "t=1.108\n",
      "Computing correlations for 468604 gene-enhancer pairs; jshuff=82; \n",
      "t=1.047\n",
      "Computing correlations for 468604 gene-enhancer pairs; jshuff=83; \n",
      "t=1.042\n",
      "Computing correlations for 468604 gene-enhancer pairs; jshuff=84; \n",
      "t=1.058\n",
      "Computing correlations for 468604 gene-enhancer pairs; jshuff=85; \n",
      "t=1.114\n",
      "Computing correlations for 468604 gene-enhancer pairs; jshuff=86; \n",
      "t=1.036\n",
      "Computing correlations for 468604 gene-enhancer pairs; jshuff=87; \n",
      "t=1.082\n",
      "Computing correlations for 468604 gene-enhancer pairs; jshuff=88; \n",
      "t=1.046\n",
      "Computing correlations for 468604 gene-enhancer pairs; jshuff=89; \n",
      "t=1.099\n",
      "Computing correlations for 468604 gene-enhancer pairs; jshuff=90; \n",
      "t=1.052\n",
      "Computing correlations for 468604 gene-enhancer pairs; jshuff=91; \n",
      "t=1.043\n",
      "Computing correlations for 468604 gene-enhancer pairs; jshuff=92; \n",
      "t=1.025\n",
      "Computing correlations for 468604 gene-enhancer pairs; jshuff=93; \n",
      "t=1.041\n",
      "Computing correlations for 468604 gene-enhancer pairs; jshuff=94; \n",
      "Computing correlations for 468604 gene-enhancer pairs; jshuff=96; \n",
      "t=1.970\n",
      "t=1.288\n",
      "Computing correlations for 468604 gene-enhancer pairs; jshuff=97; \n",
      "Computing correlations for 468604 gene-enhancer pairs; jshuff=98; \n",
      "t=1.101\n",
      "t=1.135\n",
      "Computing correlations for 468604 gene-enhancer pairs; jshuff=99; \n",
      "t=1.181\n",
      "Computing correlations for 468604 gene-enhancer pairs; jshuff=100; \n",
      "t=1.117\n",
      "Computing correlations for 468604 gene-enhancer pairs; jshuff=95; \n",
      "t=1.016\n",
      "t=0.951\n",
      "t=1.136\n",
      "Computing correlations for 468604 gene-enhancer pairs; jshuff=101; \n",
      "Computing correlations for 468604 gene-enhancer pairs; jshuff=102; \n",
      "Computing correlations for 468604 gene-enhancer pairs; jshuff=103; \n",
      "Computing correlations for 468604 gene-enhancer pairs; jshuff=104; \n",
      "t=1.058\n",
      "Computing correlations for 468604 gene-enhancer pairs; jshuff=105; \n",
      "t=1.052\n",
      "Computing correlations for 468604 gene-enhancer pairs; jshuff=106; \n",
      "t=0.990\n",
      "Computing correlations for 468604 gene-enhancer pairs; jshuff=107; \n",
      "Computing correlations for 468604 gene-enhancer pairs; jshuff=108; \n",
      "t=1.065\n",
      "Computing correlations for 468604 gene-enhancer pairs; jshuff=109; \n",
      "t=1.641\n",
      "Computing correlations for 468604 gene-enhancer pairs; jshuff=110; \n",
      "t=1.129\n",
      "t=1.710\n",
      "Computing correlations for 468604 gene-enhancer pairs; jshuff=111; \n",
      "t=1.186\n",
      "Computing correlations for 468604 gene-enhancer pairs; jshuff=112; \n",
      "t=1.252\n",
      "Computing correlations for 468604 gene-enhancer pairs; jshuff=113; \n",
      "t=1.149\n",
      "Computing correlations for 468604 gene-enhancer pairs; jshuff=114; \n",
      "t=1.130\n",
      "Computing correlations for 468604 gene-enhancer pairs; jshuff=115; \n",
      "t=1.110\n",
      "Computing correlations for 468604 gene-enhancer pairs; jshuff=116; \n",
      "Computing correlations for 468604 gene-enhancer pairs; jshuff=117; \n",
      "t=1.246\n",
      "t=1.115\n",
      "Computing correlations for 468604 gene-enhancer pairs; jshuff=118; \n",
      "t=1.182\n",
      "Computing correlations for 468604 gene-enhancer pairs; jshuff=119; \n",
      "t=1.127\n",
      "Computing correlations for 468604 gene-enhancer pairs; jshuff=120; \n",
      "t=1.024\n",
      "Computing correlations for 468604 gene-enhancer pairs; jshuff=121; \n",
      "t=1.030\n",
      "Computing correlations for 468604 gene-enhancer pairs; jshuff=122; \n",
      "t=1.026\n",
      "Computing correlations for 468604 gene-enhancer pairs; jshuff=123; \n",
      "Computing correlations for 468604 gene-enhancer pairs; jshuff=124; \n",
      "t=1.037\n",
      "Computing correlations for 468604 gene-enhancer pairs; jshuff=125; \n",
      "t=1.064\n",
      "Computing correlations for 468604 gene-enhancer pairs; jshuff=126; \n",
      "t=1.101\n",
      "Computing correlations for 468604 gene-enhancer pairs; jshuff=127; \n",
      "t=1.129\n",
      "t=10.738\n",
      "t=2.937\n",
      "t=1.078\n",
      "t=0.897\n",
      "All done, t=59.708 s\n"
     ]
    }
   ],
   "source": [
    "nshuff = np.min((num_processors*16,128))\n",
    "np.random.seed(0)\n",
    "\n",
    "t0=time.time()\n",
    "with Pool(processes = num_processors) as p:\n",
    "    best_cc_shuff_list = p.starmap(my_cc, [(x,y,genes2enhu['ensid'],True,jshuff,corr_type) for jshuff in range(nshuff)])\n",
    "print('All done, t=%3.3f s' % (time.time()-t0))"
   ]
  },
  {
   "cell_type": "code",
   "execution_count": 11,
   "metadata": {},
   "outputs": [
    {
     "name": "stdout",
     "output_type": "stream",
     "text": [
      "0.0125492453313 7818 9811 0.01\n"
     ]
    }
   ],
   "source": [
    "alpha = 0.01;\n",
    "best_cc_shuff = np.hstack([b[0][:,np.newaxis] for b in best_cc_shuff_list])\n",
    "best_cc_shuff_max = np.percentile(np.abs(best_cc_shuff), 100*(1-alpha), axis=1)\n",
    "best_cc_shuff_mean = np.abs(best_cc_shuff).mean(axis=1)\n",
    "sig = np.abs(best_cc).squeeze()>best_cc_shuff_max\n",
    "\n",
    "# alpha = 0.005;\n",
    "# sig = best_cc.squeeze()>np.percentile(best_cc_shuff,100*(1-alpha))\n",
    "fdr = (alpha*len(sig))/np.sum(sig)\n",
    "print(fdr, np.sum(sig), len(sig), alpha)"
   ]
  },
  {
   "cell_type": "code",
   "execution_count": 12,
   "metadata": {
    "scrolled": false
   },
   "outputs": [
    {
     "ename": "ValueError",
     "evalue": "range parameter must be finite.",
     "output_type": "error",
     "traceback": [
      "\u001b[0;31m---------------------------------------------------------------------------\u001b[0m",
      "\u001b[0;31mValueError\u001b[0m                                Traceback (most recent call last)",
      "\u001b[0;32m<ipython-input-12-227b7694275d>\u001b[0m in \u001b[0;36m<module>\u001b[0;34m()\u001b[0m\n\u001b[1;32m     17\u001b[0m \u001b[0;34m\u001b[0m\u001b[0m\n\u001b[1;32m     18\u001b[0m \u001b[0mplt\u001b[0m\u001b[0;34m.\u001b[0m\u001b[0msca\u001b[0m\u001b[0;34m(\u001b[0m\u001b[0maxs\u001b[0m\u001b[0;34m[\u001b[0m\u001b[0;36m1\u001b[0m\u001b[0;34m]\u001b[0m\u001b[0;34m)\u001b[0m\u001b[0;34m\u001b[0m\u001b[0m\n\u001b[0;32m---> 19\u001b[0;31m \u001b[0mplt\u001b[0m\u001b[0;34m.\u001b[0m\u001b[0mhist\u001b[0m\u001b[0;34m(\u001b[0m\u001b[0mnp\u001b[0m\u001b[0;34m.\u001b[0m\u001b[0mabs\u001b[0m\u001b[0;34m(\u001b[0m\u001b[0mall_cc\u001b[0m\u001b[0;34m)\u001b[0m\u001b[0;34m,\u001b[0m \u001b[0mbins\u001b[0m\u001b[0;34m=\u001b[0m\u001b[0mnp\u001b[0m\u001b[0;34m.\u001b[0m\u001b[0marange\u001b[0m\u001b[0;34m(\u001b[0m\u001b[0;36m0\u001b[0m\u001b[0;34m,\u001b[0m\u001b[0;36m1\u001b[0m\u001b[0;34m,\u001b[0m\u001b[0;36m0.02\u001b[0m\u001b[0;34m)\u001b[0m\u001b[0;34m,\u001b[0m\u001b[0mdensity\u001b[0m\u001b[0;34m=\u001b[0m\u001b[0;32mTrue\u001b[0m\u001b[0;34m,\u001b[0m\u001b[0mcolor\u001b[0m\u001b[0;34m=\u001b[0m\u001b[0;34m'green'\u001b[0m\u001b[0;34m,\u001b[0m\u001b[0mlabel\u001b[0m\u001b[0;34m=\u001b[0m\u001b[0;34m'All enh-gene pairs'\u001b[0m\u001b[0;34m,\u001b[0m\u001b[0malpha\u001b[0m\u001b[0;34m=\u001b[0m\u001b[0;36m0.5\u001b[0m\u001b[0;34m)\u001b[0m\u001b[0;34m\u001b[0m\u001b[0m\n\u001b[0m\u001b[1;32m     20\u001b[0m \u001b[0mplt\u001b[0m\u001b[0;34m.\u001b[0m\u001b[0mhist\u001b[0m\u001b[0;34m(\u001b[0m\u001b[0mbest_cc_shuff\u001b[0m\u001b[0;34m.\u001b[0m\u001b[0mreshape\u001b[0m\u001b[0;34m(\u001b[0m\u001b[0;34m-\u001b[0m\u001b[0;36m1\u001b[0m\u001b[0;34m,\u001b[0m\u001b[0;36m1\u001b[0m\u001b[0;34m)\u001b[0m\u001b[0;34m,\u001b[0m \u001b[0mbins\u001b[0m\u001b[0;34m=\u001b[0m\u001b[0mnp\u001b[0m\u001b[0;34m.\u001b[0m\u001b[0marange\u001b[0m\u001b[0;34m(\u001b[0m\u001b[0;36m0\u001b[0m\u001b[0;34m,\u001b[0m\u001b[0;36m1\u001b[0m\u001b[0;34m,\u001b[0m\u001b[0;36m0.02\u001b[0m\u001b[0;34m)\u001b[0m\u001b[0;34m,\u001b[0m\u001b[0mdensity\u001b[0m\u001b[0;34m=\u001b[0m\u001b[0;32mTrue\u001b[0m\u001b[0;34m,\u001b[0m\u001b[0mcolor\u001b[0m\u001b[0;34m=\u001b[0m\u001b[0;34m'gray'\u001b[0m\u001b[0;34m,\u001b[0m\u001b[0mlabel\u001b[0m\u001b[0;34m=\u001b[0m\u001b[0;34m'Best (all shuffles)'\u001b[0m\u001b[0;34m,\u001b[0m\u001b[0malpha\u001b[0m\u001b[0;34m=\u001b[0m\u001b[0;36m0.5\u001b[0m\u001b[0;34m)\u001b[0m\u001b[0;34m;\u001b[0m\u001b[0;34m\u001b[0m\u001b[0m\n\u001b[1;32m     21\u001b[0m \u001b[0mplt\u001b[0m\u001b[0;34m.\u001b[0m\u001b[0mhist\u001b[0m\u001b[0;34m(\u001b[0m\u001b[0mbest_cc_shuff_max\u001b[0m\u001b[0;34m,\u001b[0m \u001b[0mbins\u001b[0m\u001b[0;34m=\u001b[0m\u001b[0mnp\u001b[0m\u001b[0;34m.\u001b[0m\u001b[0marange\u001b[0m\u001b[0;34m(\u001b[0m\u001b[0;36m0\u001b[0m\u001b[0;34m,\u001b[0m\u001b[0;36m1\u001b[0m\u001b[0;34m,\u001b[0m\u001b[0;36m0.02\u001b[0m\u001b[0;34m)\u001b[0m\u001b[0;34m,\u001b[0m\u001b[0mdensity\u001b[0m\u001b[0;34m=\u001b[0m\u001b[0;32mTrue\u001b[0m\u001b[0;34m,\u001b[0m\u001b[0mcolor\u001b[0m\u001b[0;34m=\u001b[0m\u001b[0;34m'r'\u001b[0m\u001b[0;34m,\u001b[0m\u001b[0mlabel\u001b[0m\u001b[0;34m=\u001b[0m\u001b[0;34m'Best (max. shuffle)'\u001b[0m\u001b[0;34m,\u001b[0m\u001b[0malpha\u001b[0m\u001b[0;34m=\u001b[0m\u001b[0;36m0.5\u001b[0m\u001b[0;34m)\u001b[0m\u001b[0;34m;\u001b[0m\u001b[0;34m\u001b[0m\u001b[0m\n",
      "\u001b[0;32m/cndd/fangming/venvs/conda_dobro/lib/python3.6/site-packages/matplotlib/pyplot.py\u001b[0m in \u001b[0;36mhist\u001b[0;34m(x, bins, range, density, weights, cumulative, bottom, histtype, align, orientation, rwidth, log, color, label, stacked, normed, hold, data, **kwargs)\u001b[0m\n\u001b[1;32m   3130\u001b[0m                       \u001b[0mhisttype\u001b[0m\u001b[0;34m=\u001b[0m\u001b[0mhisttype\u001b[0m\u001b[0;34m,\u001b[0m \u001b[0malign\u001b[0m\u001b[0;34m=\u001b[0m\u001b[0malign\u001b[0m\u001b[0;34m,\u001b[0m \u001b[0morientation\u001b[0m\u001b[0;34m=\u001b[0m\u001b[0morientation\u001b[0m\u001b[0;34m,\u001b[0m\u001b[0;34m\u001b[0m\u001b[0m\n\u001b[1;32m   3131\u001b[0m                       \u001b[0mrwidth\u001b[0m\u001b[0;34m=\u001b[0m\u001b[0mrwidth\u001b[0m\u001b[0;34m,\u001b[0m \u001b[0mlog\u001b[0m\u001b[0;34m=\u001b[0m\u001b[0mlog\u001b[0m\u001b[0;34m,\u001b[0m \u001b[0mcolor\u001b[0m\u001b[0;34m=\u001b[0m\u001b[0mcolor\u001b[0m\u001b[0;34m,\u001b[0m \u001b[0mlabel\u001b[0m\u001b[0;34m=\u001b[0m\u001b[0mlabel\u001b[0m\u001b[0;34m,\u001b[0m\u001b[0;34m\u001b[0m\u001b[0m\n\u001b[0;32m-> 3132\u001b[0;31m                       stacked=stacked, normed=normed, data=data, **kwargs)\n\u001b[0m\u001b[1;32m   3133\u001b[0m     \u001b[0;32mfinally\u001b[0m\u001b[0;34m:\u001b[0m\u001b[0;34m\u001b[0m\u001b[0m\n\u001b[1;32m   3134\u001b[0m         \u001b[0max\u001b[0m\u001b[0;34m.\u001b[0m\u001b[0m_hold\u001b[0m \u001b[0;34m=\u001b[0m \u001b[0mwashold\u001b[0m\u001b[0;34m\u001b[0m\u001b[0m\n",
      "\u001b[0;32m/cndd/fangming/venvs/conda_dobro/lib/python3.6/site-packages/matplotlib/__init__.py\u001b[0m in \u001b[0;36minner\u001b[0;34m(ax, *args, **kwargs)\u001b[0m\n\u001b[1;32m   1853\u001b[0m                         \u001b[0;34m\"the Matplotlib list!)\"\u001b[0m \u001b[0;34m%\u001b[0m \u001b[0;34m(\u001b[0m\u001b[0mlabel_namer\u001b[0m\u001b[0;34m,\u001b[0m \u001b[0mfunc\u001b[0m\u001b[0;34m.\u001b[0m\u001b[0m__name__\u001b[0m\u001b[0;34m)\u001b[0m\u001b[0;34m,\u001b[0m\u001b[0;34m\u001b[0m\u001b[0m\n\u001b[1;32m   1854\u001b[0m                         RuntimeWarning, stacklevel=2)\n\u001b[0;32m-> 1855\u001b[0;31m             \u001b[0;32mreturn\u001b[0m \u001b[0mfunc\u001b[0m\u001b[0;34m(\u001b[0m\u001b[0max\u001b[0m\u001b[0;34m,\u001b[0m \u001b[0;34m*\u001b[0m\u001b[0margs\u001b[0m\u001b[0;34m,\u001b[0m \u001b[0;34m**\u001b[0m\u001b[0mkwargs\u001b[0m\u001b[0;34m)\u001b[0m\u001b[0;34m\u001b[0m\u001b[0m\n\u001b[0m\u001b[1;32m   1856\u001b[0m \u001b[0;34m\u001b[0m\u001b[0m\n\u001b[1;32m   1857\u001b[0m         inner.__doc__ = _add_data_doc(inner.__doc__,\n",
      "\u001b[0;32m/cndd/fangming/venvs/conda_dobro/lib/python3.6/site-packages/matplotlib/axes/_axes.py\u001b[0m in \u001b[0;36mhist\u001b[0;34m(***failed resolving arguments***)\u001b[0m\n\u001b[1;32m   6528\u001b[0m             \u001b[0;31m# this will automatically overwrite bins,\u001b[0m\u001b[0;34m\u001b[0m\u001b[0;34m\u001b[0m\u001b[0m\n\u001b[1;32m   6529\u001b[0m             \u001b[0;31m# so that each histogram uses the same bins\u001b[0m\u001b[0;34m\u001b[0m\u001b[0;34m\u001b[0m\u001b[0m\n\u001b[0;32m-> 6530\u001b[0;31m             \u001b[0mm\u001b[0m\u001b[0;34m,\u001b[0m \u001b[0mbins\u001b[0m \u001b[0;34m=\u001b[0m \u001b[0mnp\u001b[0m\u001b[0;34m.\u001b[0m\u001b[0mhistogram\u001b[0m\u001b[0;34m(\u001b[0m\u001b[0mx\u001b[0m\u001b[0;34m[\u001b[0m\u001b[0mi\u001b[0m\u001b[0;34m]\u001b[0m\u001b[0;34m,\u001b[0m \u001b[0mbins\u001b[0m\u001b[0;34m,\u001b[0m \u001b[0mweights\u001b[0m\u001b[0;34m=\u001b[0m\u001b[0mw\u001b[0m\u001b[0;34m[\u001b[0m\u001b[0mi\u001b[0m\u001b[0;34m]\u001b[0m\u001b[0;34m,\u001b[0m \u001b[0;34m**\u001b[0m\u001b[0mhist_kwargs\u001b[0m\u001b[0;34m)\u001b[0m\u001b[0;34m\u001b[0m\u001b[0m\n\u001b[0m\u001b[1;32m   6531\u001b[0m             \u001b[0mm\u001b[0m \u001b[0;34m=\u001b[0m \u001b[0mm\u001b[0m\u001b[0;34m.\u001b[0m\u001b[0mastype\u001b[0m\u001b[0;34m(\u001b[0m\u001b[0mfloat\u001b[0m\u001b[0;34m)\u001b[0m  \u001b[0;31m# causes problems later if it's an int\u001b[0m\u001b[0;34m\u001b[0m\u001b[0m\n\u001b[1;32m   6532\u001b[0m             \u001b[0;32mif\u001b[0m \u001b[0mmlast\u001b[0m \u001b[0;32mis\u001b[0m \u001b[0;32mNone\u001b[0m\u001b[0;34m:\u001b[0m\u001b[0;34m\u001b[0m\u001b[0m\n",
      "\u001b[0;32m/cndd/fangming/venvs/conda_dobro/lib/python3.6/site-packages/numpy/lib/function_base.py\u001b[0m in \u001b[0;36mhistogram\u001b[0;34m(a, bins, range, normed, weights, density)\u001b[0m\n\u001b[1;32m    668\u001b[0m     \u001b[0;32mif\u001b[0m \u001b[0;32mnot\u001b[0m \u001b[0mnp\u001b[0m\u001b[0;34m.\u001b[0m\u001b[0mall\u001b[0m\u001b[0;34m(\u001b[0m\u001b[0mnp\u001b[0m\u001b[0;34m.\u001b[0m\u001b[0misfinite\u001b[0m\u001b[0;34m(\u001b[0m\u001b[0;34m[\u001b[0m\u001b[0mmn\u001b[0m\u001b[0;34m,\u001b[0m \u001b[0mmx\u001b[0m\u001b[0;34m]\u001b[0m\u001b[0;34m)\u001b[0m\u001b[0;34m)\u001b[0m\u001b[0;34m:\u001b[0m\u001b[0;34m\u001b[0m\u001b[0m\n\u001b[1;32m    669\u001b[0m         raise ValueError(\n\u001b[0;32m--> 670\u001b[0;31m             'range parameter must be finite.')\n\u001b[0m\u001b[1;32m    671\u001b[0m     \u001b[0;32mif\u001b[0m \u001b[0mmn\u001b[0m \u001b[0;34m==\u001b[0m \u001b[0mmx\u001b[0m\u001b[0;34m:\u001b[0m\u001b[0;34m\u001b[0m\u001b[0m\n\u001b[1;32m    672\u001b[0m         \u001b[0mmn\u001b[0m \u001b[0;34m-=\u001b[0m \u001b[0;36m0.5\u001b[0m\u001b[0;34m\u001b[0m\u001b[0m\n",
      "\u001b[0;31mValueError\u001b[0m: range parameter must be finite."
     ]
    },
    {
     "name": "stderr",
     "output_type": "stream",
     "text": [
      "/cndd/fangming/venvs/conda_dobro/lib/python3.6/site-packages/matplotlib/font_manager.py:1328: UserWarning: findfont: Font family ['sans-serif'] not found. Falling back to DejaVu Sans\n",
      "  (prop.get_family(), self.defaultFamily[fontext]))\n"
     ]
    },
    {
     "data": {
      "image/png": "[encoded data removed]",
      "text/plain": [
       "<Figure size 360x720 with 3 Axes>"
      ]
     },
     "metadata": {},
     "output_type": "display_data"
    }
   ],
   "source": [
    "ngenes = best_cc.shape[0]\n",
    "\n",
    "fig,axs=plt.subplots(3,1,figsize=(5,10))\n",
    "plt.sca(axs[0])\n",
    "# sig = best_cc>(best_cc_shuff_mean+3*best_cc_shuff_sd).squeeze()\n",
    "plt.scatter(best_cc, best_cc_shuff_mean,\n",
    "            s=2,c=sig,\n",
    "            cmap = ListedColormap([\"gray\",'red']))\n",
    "plt.plot([-1,0,1],[1,0,1],'k--')\n",
    "plt.grid()\n",
    "plt.xlabel('Max %s correlation' % corr_type)\n",
    "plt.ylabel('Max %s correlation\\n(Mean of shuffles)' % corr_type)\n",
    "plt.title('%s\\n%d/%d=%3.1f%% sig. genes (p<%3.2g, FDR=%3.1f%%)' % (features_use, \n",
    "                                                                 sig.sum(),ngenes,\n",
    "                                                                 100*sig.sum()/ngenes,\n",
    "                                                                 alpha, fdr*100))\n",
    "\n",
    "plt.sca(axs[1])\n",
    "plt.hist(np.abs(all_cc), bins=np.arange(0,1,0.02),density=True,color='green',label='All enh-gene pairs',alpha=0.5)\n",
    "plt.hist(best_cc_shuff.reshape(-1,1), bins=np.arange(0,1,0.02),density=True,color='gray',label='Best (all shuffles)',alpha=0.5);\n",
    "plt.hist(best_cc_shuff_max, bins=np.arange(0,1,0.02),density=True,color='r',label='Best (max. shuffle)',alpha=0.5);\n",
    "plt.hist(best_cc.squeeze(), bins=np.arange(0,1,0.02),density=True,color='blue',label='Best (data)',alpha=0.5);\n",
    "# plt.hist(best_cc[sig], bins=np.arange(0,1,0.01),density=True,color='r',label='Significant');\n",
    "plt.legend()\n",
    "plt.xlabel(corr_type+' correlation')\n",
    "plt.ylabel('Density of genes')\n",
    "\n",
    "\n",
    "plt.sca(axs[2])\n",
    "plt.hist(best_cc.squeeze()/best_cc_shuff_mean.squeeze(), bins=np.arange(0,5,0.1),density=False,color='gray',\n",
    "        label='All genes');\n",
    "plt.hist(best_cc.squeeze()[sig]/best_cc_shuff_mean.squeeze()[sig], bins=np.arange(0,5,0.1),density=False,color='red',\n",
    "        label='Significant');\n",
    "# plt.hist(best_cc, bins=np.arange(0,1,0.02),density=True,color='red',label='Data',alpha=0.5);\n",
    "# plt.hist(best_cc[sig], bins=np.arange(0,1,0.01),density=True,color='r',label='Significant');\n",
    "plt.xlabel(corr_type+' correlation/(Mean. of shuffles)')\n",
    "plt.ylabel('Density of genes')\n",
    "plt.legend()\n",
    "\n",
    "fn_plot = 'Plots/GenesCorr_%s_%s_%s' % (features_use, today, corr_type)\n",
    "plt.savefig(fn_plot)\n",
    "print('Saved %s' % fn_plot)"
   ]
  },
  {
   "cell_type": "code",
   "execution_count": null,
   "metadata": {},
   "outputs": [],
   "source": [
    "np.savez('RegressData/GenesCorr_%s_%s.npz' % (features_use, today),\n",
    "         best_cc=best_cc,best_enh=best_enh,best_ensid=best_ensid,\n",
    "         sig=sig, best_cc_shuff=best_cc_shuff)\n",
    "print('Saved data; t=%3.3f; %s' % (time.time()-t00, datetime.datetime.today()))"
   ]
  },
  {
   "cell_type": "code",
   "execution_count": null,
   "metadata": {},
   "outputs": [],
   "source": [
    "all_cc.shape, genes2enhu.shape, best_cc.shape\n",
    "genes2enhu['cc'] = all_cc\n",
    "genes2enhu"
   ]
  },
  {
   "cell_type": "code",
   "execution_count": null,
   "metadata": {},
   "outputs": [],
   "source": [
    "best_ensid_inv = pd.Series(best_ensid.index.values, index=best_ensid)\n",
    "i = best_ensid_inv.loc[genes2enhu.index].values\n",
    "genes2enhu['best_cc'] = genes2enhu.iloc[i,:]['cc']\n",
    "\n",
    "i = pd.Series(np.arange(best_ensid.shape[0]), index=best_ensid)\n",
    "genes2enhu['best_cc_shuff_max'] = best_cc_shuff_max[i.loc[genes2enhu.index]]\n",
    "isig = sig[best_ensid_inv.loc[genes2enhu.index]].values\n",
    "genes2enhu['sig'] = (genes2enhu['cc'].abs() >= genes2enhu['best_cc_shuff_max'].abs()) \n",
    "genes2enhu['nonsig'] = (genes2enhu['cc'].abs() < genes2enhu['best_cc_shuff_max'].abs())"
   ]
  },
  {
   "cell_type": "code",
   "execution_count": null,
   "metadata": {},
   "outputs": [],
   "source": [
    "# How many enhancers are \n",
    "# best_cc_shuff_max\n",
    "nsig = genes2enhu.groupby(level=0).sum()[['sig','nonsig']]\n",
    "nsig['best_cc'] = best_cc.values\n",
    "plt.semilogy(nsig['best_cc'], nsig['sig'],  '.',\n",
    "            markersize=5);"
   ]
  },
  {
   "cell_type": "code",
   "execution_count": null,
   "metadata": {},
   "outputs": [],
   "source": [
    "nsig['gene_name'] = genes2enhu.loc[nsig.index,:]['gene_name'].drop_duplicates()\n",
    "nsig.sort_values('sig').iloc[-10:,:]"
   ]
  },
  {
   "cell_type": "code",
   "execution_count": null,
   "metadata": {},
   "outputs": [],
   "source": [
    "def my_cdfplot(x, label=''):\n",
    "    plt.semilogx(np.sort(np.abs(x)), np.arange(0,1,1/len(x)), label='%s (%d)\\nd=%3.1f±%3.1f kb' %\n",
    "                 (label, len(x), x.mean()/1000, x.std()/1000/np.sqrt(len(x))))\n",
    "\n",
    "fig,axs=plt.subplots(2,1,sharex=False,figsize=(5,8))\n",
    "\n",
    "plt.sca(axs[0])\n",
    "plt.hist(nsig['sig'].values, bins=np.arange(200),density=False)\n",
    "plt.xlabel('Number of significant enhancers')\n",
    "plt.ylabel('Number of genes')\n",
    "# plt.xscale('log ')\n",
    "plt.yscale('log')\n",
    "\n",
    "plt.sca(axs[1])\n",
    "my_cdfplot(nsig['sig'].values)\n",
    "plt.xlabel('Number of significant enhancers')\n",
    "plt.ylabel('Cumulative fraction of genes')\n",
    "\n",
    "# fn_plot = 'Plots/GenesCorr_NumSigEnh_%s_%s_%s.pdf' % (features_use, today, corr_type)\n",
    "# plt.savefig(fn_plot)\n"
   ]
  },
  {
   "cell_type": "markdown",
   "metadata": {},
   "source": [
    "# Stage 2: Regression modeling across all genes"
   ]
  },
  {
   "cell_type": "code",
   "execution_count": null,
   "metadata": {},
   "outputs": [],
   "source": [
    "# Are there any duplicate enhancers?\n",
    "nenh_sig = genes2enhu.iloc[(best_enh[sig].values),:]['enh_pos'].shape[0]\n",
    "nenh_sig_unique = genes2enhu.iloc[(best_enh[sig].values),:]['enh_pos'].unique().shape[0]\n",
    "nenh_sig_genes_unique = genes2enhu.iloc[(best_enh[sig].values),:]['ensid'].unique().shape[0]"
   ]
  },
  {
   "cell_type": "code",
   "execution_count": null,
   "metadata": {
    "scrolled": true
   },
   "outputs": [],
   "source": [
    "mc_u   = df_mlevelu.loc[genes2enhu['enh_pos'],:].to_numpy()[best_enh[sig],:]\n",
    "atac_u = df_atacu.loc[genes2enhu['enh_pos'],:].to_numpy()[best_enh[sig],:]\n",
    "genes2enhu_u = genes2enhu.iloc[best_enh[sig],:].copy()\n",
    "genes2enhu_u = genes2enhu_u.drop('ensid',axis=1).reset_index()\n",
    "\n",
    "rna_u = rnau.loc[genes2enhu['ensid'],:].to_numpy()\n",
    "rna_u = rna_u[best_enh[sig],:].copy()"
   ]
  },
  {
   "cell_type": "code",
   "execution_count": null,
   "metadata": {},
   "outputs": [],
   "source": [
    "genes2enhu.iloc[(best_enh[sig].values),:]['enh_pos'].shape"
   ]
  },
  {
   "cell_type": "code",
   "execution_count": null,
   "metadata": {},
   "outputs": [],
   "source": [
    "cc_mc_rna = np.array([np.corrcoef(x1,y1)[0,1] for (x1,y1) in zip(mc_u,rna_u)])\n",
    "cc_atac_rna = np.array([np.corrcoef(x1,y1)[0,1] for (x1,y1) in zip(atac_u,rna_u)])"
   ]
  },
  {
   "cell_type": "code",
   "execution_count": null,
   "metadata": {
    "scrolled": false
   },
   "outputs": [],
   "source": [
    "genes2enhu_u.loc[:,'cc_mc_rna'] = cc_mc_rna\n",
    "genes2enhu_u.loc[:,'cc_atac_rna'] = cc_atac_rna\n",
    "genes2enhu_u.sort_values('cc_mc_rna')\n",
    "# genes2enhu_u['cc_atac_rna'] = cc_atac_rna"
   ]
  },
  {
   "cell_type": "code",
   "execution_count": null,
   "metadata": {
    "scrolled": true
   },
   "outputs": [],
   "source": [
    "# plt.hist(cc_mc_rna,bins=100,density=True);\n",
    "# plt.hist(cc_atac_rna,bins=100,density=True);\n",
    "sig_pos = (genes2enhu_u['cc_mc_rna']<0) & (genes2enhu_u['cc_atac_rna']>0)\n",
    "sig_neg = (genes2enhu_u['cc_mc_rna']>0) & (genes2enhu_u['cc_atac_rna']<-0)\n",
    "\n",
    "plt.plot(cc_mc_rna, cc_atac_rna, '.', color='gray', label='%d significnat pairs' % np.sum(sig))\n",
    "plt.plot(cc_mc_rna[sig_pos], cc_atac_rna[sig_pos], 'r.', label='%d corr pairs' % np.sum(sig_pos))\n",
    "plt.plot(cc_mc_rna[sig_neg], cc_atac_rna[sig_neg], 'g.', label='%d anti-corr pairs' % np.sum(sig_neg))\n",
    "# plt.plot(cc_mc_rna[[gshow_pos]], cc_atac_rna[[gshow_pos]], 'g.')\n",
    "plt.xlabel('Correlation mCG vs. RNA')\n",
    "plt.ylabel('Correlation ATAC vs. RNA')\n",
    "plt.grid()\n",
    "plt.legend()\n",
    "\n",
    "print('We found %d significant enhancer-gene links, covering %d unique enhancers and %d unique genes' %\n",
    "     (nenh_sig, nenh_sig_unique, nenh_sig_genes_unique))\n",
    "print('%d of these have the expected correlation (negative for mCG, positive for ATAC)' %\n",
    "     (np.sum(sig_pos)))\n",
    "print('%d of these have the opposite correlation (positive for mCG, negative for ATAC)' %\n",
    "     (np.sum(sig_neg)))\n",
    "plt.savefig('Plots/EnhancerRegression_SigEnhancers_scatter_mCG_ATAC_corr_%dGenes_%dCelltypes_%s' % \n",
    "           (genes2enhu.ensid.unique().shape[0], len(celltypes), today))"
   ]
  },
  {
   "cell_type": "code",
   "execution_count": null,
   "metadata": {
    "scrolled": false
   },
   "outputs": [],
   "source": [
    "def my_cdfplot(x, label=''):\n",
    "    plt.semilogx(np.sort(np.abs(x)), np.arange(0,1,1/len(x)), label='%s (%d)\\nd=%3.1f±%3.1f kb' %\n",
    "                 (label, len(x), x.mean()/1000, x.std()/1000/np.sqrt(len(x))))\n",
    "\n",
    "plt.figure(figsize=(7,4))\n",
    "my_cdfplot(genes2enhu['dtss'], label='All pairs')\n",
    "my_cdfplot(genes2enhu_u['dtss'], label='Best pair for each gene')\n",
    "my_cdfplot(genes2enhu_u['dtss'][sig_pos], label='Positive corr')\n",
    "my_cdfplot(genes2enhu_u['dtss'][sig_neg], label='Negative corr')\n",
    "plt.legend(bbox_to_anchor=(1.01, 0.5))\n",
    "plt.grid()\n",
    "plt.xlim([1e3,3e5])\n",
    "plt.xlabel('Distance of enhancer from TSS')\n",
    "plt.ylabel('Cumulative fraction')\n",
    "plt.yticks(ticks=[0,.25,.5,.75,1]);\n",
    "plt.tight_layout()\n",
    "plt.savefig('Plots/EnhancerRegression_SigEnhancers_dTSS_cdf_%dGenes_%dCelltypes_%s' % \n",
    "           (genes2enhu.ensid.unique().shape[0], len(celltypes), today))"
   ]
  },
  {
   "cell_type": "code",
   "execution_count": null,
   "metadata": {},
   "outputs": [],
   "source": [
    "sig.shape, mc_u.shape"
   ]
  },
  {
   "cell_type": "code",
   "execution_count": null,
   "metadata": {},
   "outputs": [],
   "source": [
    "# Ordinary linear regression with CV\n",
    "from sklearn.linear_model import LinearRegression\n",
    "from sklearn.model_selection import cross_validate\n",
    "from sklearn.metrics import r2_score, make_scorer\n",
    "from sklearn.preprocessing import PolynomialFeatures\n",
    "\n",
    "mdl = LinearRegression(fit_intercept=True, normalize=True)\n",
    "X = np.concatenate((mc_u,atac_u),axis=1).copy()\n",
    "y = np.log10(rna_u+1).copy()\n",
    "\n",
    "X = zscore(X, axis=0)\n",
    "y = zscore(y, axis=0)\n",
    "y = y - np.mean(y,axis=1,keepdims=True)\n",
    "\n",
    "# X = X[sig_pos,:]\n",
    "# y = y[sig_pos,:]\n",
    "\n",
    "ngenes,ncells = y.shape\n",
    "print('%d genes, %d celltypes' % (ngenes,ncells))\n",
    "\n",
    "intxn_order = 4\n",
    "\n",
    "my_r2 = make_scorer(r2_score)\n",
    "res_cv = {}\n",
    "cv = 5\n",
    "for i,yi in enumerate(y.T):\n",
    "    # Regression using only mCG and ATAC from the same cell type\n",
    "    Xu = X[:,[i,i+ncells]]\n",
    "    Xu = np.concatenate((X[:,[i,i+ncells]],\n",
    "#                      np.mean(X[:,:ncells],axis=1,keepdims=True),\n",
    "#                      np.mean(X[:,ncells:],axis=1,keepdims=True),\n",
    "                    ),axis=1)\n",
    "#     Xu = PolynomialFeatures(degree=3, include_bias=False).fit_transform(Xu)\n",
    "\n",
    "    res_cvi = cross_validate(mdl,Xu,yi,cv=cv,\n",
    "                            scoring=my_r2,\n",
    "                            return_train_score=True,\n",
    "                            verbose=0)\n",
    "    if i==0:\n",
    "        print('Simple model: %d parameters' % Xu.shape[1])\n",
    "        dof_simple=Xu.shape[1]\n",
    "    for m in res_cvi:\n",
    "        if (m in res_cv):\n",
    "            res_cv[m] = np.vstack((res_cv[m], res_cvi[m]))\n",
    "        else:\n",
    "            res_cv[m]=res_cvi[m]\n",
    "            \n",
    "    # Regression using mCG and ATAC from the same cell type, as well as the mean across all cell types\n",
    "\n",
    "#     res_cvi = cross_validate(mdl,X,yi,cv=cv,\n",
    "#                             scoring=my_r2,\n",
    "#                             return_train_score=True,\n",
    "#                             verbose=0)\n",
    "    Xu = np.concatenate((X[:,[i,i+ncells]],\n",
    "                         np.mean(X[:,:ncells],axis=1,keepdims=True),\n",
    "                         np.mean(X[:,ncells:],axis=1,keepdims=True),\n",
    "                        ),axis=1)\n",
    "    Xu = PolynomialFeatures(degree=intxn_order, include_bias=False).fit_transform(Xu)\n",
    "\n",
    "    res_cvi = cross_validate(mdl, Xu, yi,\n",
    "                            cv=cv,\n",
    "                            scoring=my_r2,\n",
    "                            return_train_score=True,\n",
    "                            verbose=0)\n",
    "    if i==0:\n",
    "        print('Complex model: %d parameters' % Xu.shape[1])\n",
    "        dof_complex=Xu.shape[1]\n",
    "\n",
    "    for m1 in res_cvi:\n",
    "        m = m1+'_all'\n",
    "        if (m in res_cv):\n",
    "            res_cv[m] = np.vstack((res_cv[m], res_cvi[m1]))\n",
    "        else:\n",
    "            res_cv[m]=res_cvi[m1]\n"
   ]
  },
  {
   "cell_type": "code",
   "execution_count": null,
   "metadata": {
    "scrolled": false
   },
   "outputs": [],
   "source": [
    "cellnames = df_cellnames.loc[celltypes]['annot']\n",
    "\n",
    "# Show the OLS results\n",
    "def myplot(x, label='', fmt=''):\n",
    "    x[x<0] = 0\n",
    "    xu = np.sqrt(x)\n",
    "    plt.errorbar(cellnames, xu.mean(axis=1), xu.std(axis=1)/np.sqrt(cv),\n",
    "            label=label, fmt=fmt)\n",
    "\n",
    "myplot(res_cv['train_score'],fmt='rs-', label='Train simple model:\\nRNA~mCG+ATAC\\n(%d params)' % dof_simple)\n",
    "myplot(res_cv['test_score'],fmt='ro-', label='Test')\n",
    "myplot(res_cv['train_score_all'],fmt='bs--', label='Train complex model:\\nRNA~mCG+ATAC+mean(mCG)+mean(ATAC)+%dth order intxn\\n(%d params)' % \n",
    "          (intxn_order, dof_complex))\n",
    "myplot(res_cv['test_score_all'],fmt='bo--', label='Test')\n",
    "plt.legend(bbox_to_anchor=(1.01, 0.7))\n",
    "plt.xlabel('Cell type')\n",
    "plt.ylabel('Score (R^2)')\n",
    "plt.xticks(rotation=90);\n",
    "plt.grid(axis='y')\n",
    "plt.title('%d genes, separate model for each of %d celltypes' % y.shape)\n",
    "plt.savefig('Plots/EnhancerRegression_SigEnhancers_OLS_%dGenes_%dCelltypes_%s' % \n",
    "           (genes2enhu.ensid.unique().shape[0], len(celltypes), today))"
   ]
  },
  {
   "cell_type": "code",
   "execution_count": null,
   "metadata": {},
   "outputs": [],
   "source": [
    "# # Multi-task LASSO regression with CV\n",
    "# from sklearn.linear_model import MultiTaskLassoCV\n",
    "\n",
    "# t0=time.time()\n",
    "# mdl = MultiTaskLassoCV(fit_intercept=True, normalize=True, cv=cv, \n",
    "#                        selection='random',\n",
    "#                        random_state=0)\n",
    "\n",
    "# X = np.concatenate((mc_u,atac_u),axis=1).copy()\n",
    "# y = np.log10(rna_u+1).copy()\n",
    "\n",
    "# X = zscore(X[sig_pos,:], axis=0)\n",
    "# y = zscore(np.log10(y[sig_pos,:]+1), axis=0)\n",
    "\n",
    "# reg = mdl.fit(X,y)\n",
    "# print('Done fitting LASSO, t=%3.3f s' % (time.time()-t0))"
   ]
  },
  {
   "cell_type": "code",
   "execution_count": null,
   "metadata": {},
   "outputs": [],
   "source": [
    "# plt.errorbar(reg.alphas_, reg.mse_path_.mean(axis=1), reg.mse_path_.std(axis=1))\n",
    "# plt.vlines(reg.alpha_, plt.ylim()[0], plt.ylim()[1], 'k')\n",
    "# plt.xscale('log')"
   ]
  },
  {
   "cell_type": "code",
   "execution_count": null,
   "metadata": {},
   "outputs": [],
   "source": [
    "# Single task LASSO with CV, interaction terms\n",
    "from sklearn.linear_model import LassoCV\n",
    "\n",
    "Xu_all = []\n",
    "for i,yi in enumerate(y.T):\n",
    "    Xu = np.concatenate((X[:,[i,i+ncells]],\n",
    "                         np.mean(X[:,:ncells],axis=1,keepdims=True),\n",
    "                         np.mean(X[:,ncells:],axis=1,keepdims=True),\n",
    "                        ),axis=1)\n",
    "    Xu_all.append(Xu.T)\n",
    "\n",
    "Xu_all = np.dstack(Xu_all).reshape(4,-1).T\n",
    "Xu_fit = PolynomialFeatures(degree=intxn_order, include_bias=False).fit(Xu_all)\n",
    "feature_names = Xu_fit.get_feature_names(input_features=['mC','A','mCm','Am'])\n",
    "Xu_all = PolynomialFeatures(degree=intxn_order, include_bias=False).fit_transform(Xu_all)"
   ]
  },
  {
   "cell_type": "code",
   "execution_count": null,
   "metadata": {},
   "outputs": [],
   "source": [
    "print(Xu_all.shape, y.shape)\n",
    "yu = y.ravel()\n",
    "print(Xu_all.shape, yu.shape)\n",
    "\n",
    "t0=time.time()\n",
    "mdl = LassoCV(fit_intercept=True, normalize=True, cv=cv, \n",
    "              selection='random',\n",
    "              random_state=0,\n",
    "              n_jobs=8)\n",
    "reg = mdl.fit(Xu_all,yu)\n",
    "print('Done fitting LASSO, t=%3.3f s' % (time.time()-t0))"
   ]
  },
  {
   "cell_type": "code",
   "execution_count": null,
   "metadata": {},
   "outputs": [],
   "source": [
    "plt.errorbar(reg.alphas_, reg.mse_path_.mean(axis=1), reg.mse_path_.std(axis=1))\n",
    "plt.vlines(reg.alpha_, plt.ylim()[0], plt.ylim()[1], 'k')\n",
    "plt.xscale('log')\n",
    "plt.xlabel('LASSO Regularization (lambda)')\n",
    "plt.ylabel('R-squared')"
   ]
  },
  {
   "cell_type": "code",
   "execution_count": null,
   "metadata": {},
   "outputs": [],
   "source": [
    "yhat = reg.predict(Xu_all).reshape(y.shape)\n",
    "cc = [np.corrcoef(y1,y1hat)[0,1] for (y1,y1hat) in zip(y.T,yhat.T)]\n",
    "\n",
    "plt.figure(figsize=(10,5))\n",
    "plt.plot(cellnames, cc, 'o-', label='LASSO fit, single model for all cell types')\n",
    "myplot(res_cv['test_score_all'], label='Test (RNA~mCG+ATAC+mean(mCG)+mean(ATAC)+Intxn)', fmt='o--')\n",
    "plt.legend(bbox_to_anchor=(1.01, 0.5))\n",
    "\n",
    "plt.xlabel('Cell type')\n",
    "plt.ylabel('Corr. coeff (r)')\n",
    "plt.xticks(rotation=90);\n",
    "plt.grid(axis='y')\n",
    "plt.tight_layout()\n",
    "plt.ylim([0,.75])\n",
    "plt.savefig('Plots/EnhancerRegression_SigEnhancers_CompareLASSO_%dGenes_%dCelltypes_%s' % \n",
    "           (genes2enhu.ensid.unique().shape[0], len(celltypes), today))\n",
    "plt.title('Model for %d genes across %d celltypes' % y.shape)\n",
    "plt.savefig('Plots/EnhancerRegression_SigEnhancers_LASSO_CorrCoef_%dGenes_%dCelltypes_%s' % \n",
    "           (genes2enhu.ensid.unique().shape[0], len(celltypes), today))"
   ]
  },
  {
   "cell_type": "code",
   "execution_count": null,
   "metadata": {},
   "outputs": [],
   "source": [
    "plt.figure(figsize=(10,5))\n",
    "show = np.abs(reg.coef_)>0.01\n",
    "show = np.argsort(np.abs(reg.coef_))[-30:][::-1]\n",
    "plt.bar(np.array(feature_names)[show], reg.coef_[show])\n",
    "plt.xticks(rotation=90);\n",
    "plt.ylabel('Regression coefficient')\n",
    "plt.grid(axis='y')\n",
    "plt.savefig('Plots/EnhancerRegression_SigEnhancers_LASSO_Coefficients_%dGenes_%dCelltypes_%s' % \n",
    "           (genes2enhu.ensid.unique().shape[0], len(celltypes), today))"
   ]
  },
  {
   "cell_type": "markdown",
   "metadata": {},
   "source": [
    "# Apply the nonlinear model to all enhancer"
   ]
  },
  {
   "cell_type": "code",
   "execution_count": null,
   "metadata": {},
   "outputs": [],
   "source": [
    "mc_u   = df_mlevelu.loc[genes2enhu['enh_pos'],:].to_numpy()\n",
    "\n",
    "atac_u = df_atacu.loc[genes2enhu['enh_pos'],:].to_numpy()\n",
    "genes2enhu_u = genes2enhu.copy()\n",
    "genes2enhu_u = genes2enhu_u.drop('ensid',axis=1).reset_index()\n",
    "\n",
    "rna_u = rnau.loc[genes2enhu['ensid'],:].to_numpy()\n",
    "\n",
    "rna_u.shape, mc_u.shape, atac_u.shape"
   ]
  },
  {
   "cell_type": "code",
   "execution_count": null,
   "metadata": {},
   "outputs": [],
   "source": [
    "X = np.concatenate((mc_u,atac_u),axis=1).copy()\n",
    "y = np.log10(rna_u+1).copy()\n",
    "\n",
    "X = zscore(X, axis=0)\n",
    "y = zscore(y, axis=0)\n",
    "y = y - np.mean(y,axis=1,keepdims=True)\n",
    "\n",
    "X.shape, y.shape"
   ]
  },
  {
   "cell_type": "code",
   "execution_count": null,
   "metadata": {},
   "outputs": [],
   "source": [
    "Xu_all = []\n",
    "for i,yi in enumerate(y.T):\n",
    "    Xu = np.concatenate((X[:,[i,i+ncells]],\n",
    "                         np.mean(X[:,:ncells],axis=1,keepdims=True),\n",
    "                         np.mean(X[:,ncells:],axis=1,keepdims=True),\n",
    "                        ),axis=1)\n",
    "    Xu_all.append(Xu.T)\n",
    "\n",
    "Xu_all = np.dstack(Xu_all).reshape(4,-1).T\n",
    "Xu_fit = PolynomialFeatures(degree=intxn_order, include_bias=False).fit(Xu_all)\n",
    "feature_names = Xu_fit.get_feature_names(input_features=['mC','A','mCm','Am'])\n",
    "Xu_all = PolynomialFeatures(degree=intxn_order, include_bias=False).fit_transform(Xu_all)\n",
    "Xu_all.shape, y.shape"
   ]
  },
  {
   "cell_type": "code",
   "execution_count": null,
   "metadata": {},
   "outputs": [],
   "source": [
    "yhat = reg.predict(Xu_all).reshape(y.shape)"
   ]
  },
  {
   "cell_type": "code",
   "execution_count": null,
   "metadata": {},
   "outputs": [],
   "source": [
    "x = df_mlevelu.loc[genes2enhu['enh_pos'],:].to_numpy()\n",
    "best_cc,best_enh,best_ensid,all_cc = my_cc(-x,y,genes2enhu['ensid'],False,0,corr_type)"
   ]
  },
  {
   "cell_type": "code",
   "execution_count": null,
   "metadata": {},
   "outputs": [],
   "source": [
    "best_cc2,best_enh2,best_ensid2,all_cc2 = my_cc(yhat,y,genes2enhu['ensid'],False,0,corr_type)"
   ]
  },
  {
   "cell_type": "code",
   "execution_count": null,
   "metadata": {},
   "outputs": [],
   "source": [
    "plt.figure(figsize=(10,10))\n",
    "# plt.scatter(all_cc[::10], all_cc2[::10], s=0.1)\n",
    "plt.plot(np.abs(all_cc[best_enh]), np.abs(all_cc2[best_enh]), '.', markersize=1)\n",
    "plt.plot(np.abs(all_cc[best_enh2]), np.abs(all_cc2[best_enh2]), '.', markersize=1)\n",
    "plt.plot([0,1],[0,1],'k')\n",
    "plt.grid()"
   ]
  },
  {
   "cell_type": "code",
   "execution_count": null,
   "metadata": {},
   "outputs": [],
   "source": [
    "plt.hist(np.abs(best_cc2)/np.abs(best_cc), bins=np.arange(0.7,1.3,0.01));\n",
    "print((np.abs(best_cc2)/np.abs(best_cc)).mean())"
   ]
  },
  {
   "cell_type": "code",
   "execution_count": null,
   "metadata": {},
   "outputs": [],
   "source": [
    "# For each gene, find all enhancers with significant cc\n",
    "df = pd.DataFrame(data=all_cc, columns=['cc'], index=genes2enhu[['ensid','enh_pos']])\n",
    "df['ensid'] = genes2enhu['ensid'].values\n",
    "df['enh_pos'] = genes2enhu['enh_pos'].values\n",
    "df['cc2'] = all_cc2"
   ]
  },
  {
   "cell_type": "code",
   "execution_count": null,
   "metadata": {},
   "outputs": [],
   "source": [
    "df['good_pairs'] = df['cc']>0.6\n",
    "df['good_pairs2'] = df['cc2']>0.6\n",
    "\n",
    "npairs_df=df.groupby('ensid')[['good_pairs','good_pairs2']].sum()"
   ]
  },
  {
   "cell_type": "code",
   "execution_count": null,
   "metadata": {},
   "outputs": [],
   "source": [
    "plt.loglog(npairs_df['good_pairs']+1,npairs_df['good_pairs2']+1,'.')\n",
    "plt.plot([1,1e3],[1,1e3],'k')\n",
    "plt.grid()"
   ]
  },
  {
   "cell_type": "code",
   "execution_count": null,
   "metadata": {},
   "outputs": [],
   "source": [
    "np.mean((npairs_df['good_pairs2']+1)/(npairs_df['good_pairs']+1))"
   ]
  },
  {
   "cell_type": "markdown",
   "metadata": {},
   "source": [
    "# Average over all the enhancers linked to a single gene"
   ]
  },
  {
   "cell_type": "code",
   "execution_count": null,
   "metadata": {},
   "outputs": [],
   "source": [
    "df_mlevelu"
   ]
  },
  {
   "cell_type": "code",
   "execution_count": null,
   "metadata": {},
   "outputs": [],
   "source": [
    "def myz(x):\n",
    "    z = zscore(x, axis=1, nan_policy='omit', ddof=0)\n",
    "    return z\n",
    "def make_df(z):\n",
    "    z_df = pd.DataFrame(data=z, columns=df_mlevelu.columns, index=rnau.index)\n",
    "    return z_df\n",
    "\n",
    "multiEnh = {}\n",
    "multiEnh['rna'] = myz(rnau.values);\n",
    "multiEnh['rna_hat_1Enh'] = myz(yhat[best_enh2,:])\n",
    "multiEnh['rna_hat_AllEnh'] = myz(yhat[best_enh2,:])\n",
    "multiEnh['rna_hat_AllSigEnh'] = np.zeros(yhat[best_enh2,:].shape)+np.nan;\n",
    "t0=time.time()\n",
    "for i,c in enumerate(celltypes):\n",
    "    df = pd.DataFrame(data=yhat[:,i], columns=['yhat'])\n",
    "    df['ensid'] = genes2enhu.loc[:,'ensid'].values\n",
    "    multiEnh['rna_hat_AllEnh'][:,i] = df.groupby('ensid')['yhat'].mean()\n",
    "    df = df.loc[genes2enhu.sig.values,:]\n",
    "    multiEnh['rna_hat_AllSigEnh'][sig,i] = df.groupby('ensid')['yhat'].mean()\n",
    "    \n",
    "multiEnh['rna'] = make_df(multiEnh['rna']);\n",
    "multiEnh['rna_hat_1Enh'] = make_df(multiEnh['rna_hat_1Enh']);\n",
    "multiEnh['rna_hat_AllEnh'] = make_df(multiEnh['rna_hat_AllEnh'])\n",
    "multiEnh['rna_hat_AllSigEnh'] = make_df(multiEnh['rna_hat_AllSigEnh'])\n",
    "print(time.time()-t0)"
   ]
  },
  {
   "cell_type": "code",
   "execution_count": null,
   "metadata": {
    "scrolled": true
   },
   "outputs": [],
   "source": [
    "cc_1Enh = np.diag(np.corrcoef(multiEnh['rna'].values, multiEnh['rna_hat_1Enh'].values, rowvar=False)[:ncells,ncells:])\n",
    "cc_AllEnh = np.diag(np.corrcoef(multiEnh['rna'].values, multiEnh['rna_hat_AllEnh'].values, rowvar=False)[:ncells,ncells:])\n",
    "cc_AllSigEnh = np.diag(np.corrcoef(multiEnh['rna'].values[sig,:], multiEnh['rna_hat_AllSigEnh'].values[sig,:], rowvar=False)[:ncells,ncells:])\n",
    "\n",
    "plt.plot(cellnames, cc_1Enh, label='1 enhancer')\n",
    "plt.plot(cellnames, cc_AllEnh, label='All enhancers')\n",
    "plt.plot(cellnames, cc_AllSigEnh, label='Significant enhancers')\n",
    "plt.legend()\n",
    "plt.xticks(rotation=90);\n",
    "plt.ylabel('Correlation across genes')"
   ]
  },
  {
   "cell_type": "code",
   "execution_count": null,
   "metadata": {},
   "outputs": [],
   "source": [
    "def cc_gene(x,y):\n",
    "    c = [np.corrcoef(x1,y1)[0,1] for (x1,y1) in zip(x,y)]\n",
    "    return c\n",
    "\n",
    "cc_1Enh = cc_gene(multiEnh['rna'].values, multiEnh['rna_hat_1Enh'].values)\n",
    "cc_AllEnh = cc_gene(multiEnh['rna'].values, multiEnh['rna_hat_AllEnh'].values)\n",
    "cc_AllSigEnh = cc_gene(multiEnh['rna'].values, multiEnh['rna_hat_AllSigEnh'].values)\n",
    "\n",
    "plt.figure(figsize=(10,10))\n",
    "plt.subplot(2,2,1)\n",
    "plt.plot(np.abs(cc_1Enh), np.abs(cc_AllEnh), '.', markersize=1)\n",
    "plt.xlabel('Correlation with 1 best enhancer')\n",
    "plt.ylabel('Correlation with avg. prediction based on all enhancers')\n",
    "\n",
    "plt.subplot(2,2,2)\n",
    "plt.plot(np.abs(cc_1Enh), np.abs(cc_AllSigEnh), '.', markersize=1)\n",
    "plt.xlabel('Correlation with 1 best enhancer')\n",
    "plt.ylabel('Correlation with avg. prediction based on significant enhancers')\n",
    "\n",
    "plt.subplot(2,1,2)\n",
    "plt.hist(np.abs(cc_AllEnh)-np.abs(cc_1Enh), bins=np.arange(-1,1,1/100), alpha=0.7, label='All enhancers-Best enhancer')\n",
    "plt.hist(np.abs(cc_AllSigEnh)-np.abs(cc_1Enh), bins=np.arange(-1,1,1/100), alpha=0.7, label='Sig enhancers-Best enhancer');\n",
    "plt.xlabel('Difference in correlation')\n",
    "plt.ylabel('Number of genes')\n",
    "\n",
    "plt.savefig('Plots/EnhancerRegression_Correlation_1Enh_vs_AllEnh_%dGenes_%dCelltypes_%s' % \n",
    "           (genes2enhu.ensid.unique().shape[0], len(celltypes), today))"
   ]
  },
  {
   "cell_type": "markdown",
   "metadata": {},
   "source": [
    "# Nonlinear model fitting"
   ]
  },
  {
   "cell_type": "code",
   "execution_count": null,
   "metadata": {},
   "outputs": [],
   "source": [
    "import torch\n",
    "import torch.nn as nn\n",
    "import torch.nn.functional as F\n",
    "import torch.optim as optim\n",
    "\n",
    "device = torch.device(\"cuda:0\" if torch.cuda.is_available() else \"cpu\")\n",
    "print(device)"
   ]
  },
  {
   "cell_type": "code",
   "execution_count": null,
   "metadata": {},
   "outputs": [],
   "source": [
    "X = np.concatenate((mc_u,atac_u),axis=1).copy()\n",
    "y = np.log10(rna_u+1).copy()\n",
    "ngenes,ncells = y.shape\n",
    "\n",
    "X.shape, y.shape"
   ]
  },
  {
   "cell_type": "code",
   "execution_count": null,
   "metadata": {},
   "outputs": [],
   "source": [
    "# Define a class for the NN architecture\n",
    "Ngenes, Nc = y.shape\n",
    "Nx = X.shape[1]\n",
    "N1 = 128\n",
    "N2 = 32\n",
    "N3 = 0\n",
    "\n",
    "class Net(nn.Module):\n",
    "    def __init__(self):\n",
    "        super(Net, self).__init__()\n",
    "        \n",
    "        self.fc1 = nn.Linear(Nx, N1);\n",
    "        self.fc2 = nn.Linear(N1, N2);\n",
    "#         self.fc3 = nn.Linear(N2, N3);\n",
    "        self.fc4 = nn.Linear(N2, Nc);\n",
    "        \n",
    "    def forward(self, x):\n",
    "\n",
    "        x = F.relu(self.fc1(x))       # Out: N x N1\n",
    "        x = F.relu(self.fc2(x))       # Out: N x N2\n",
    "#         x = F.relu(self.fc3(x))       # Out: N x N3\n",
    "        x = self.fc4(x)               # Out: N x C\n",
    "        \n",
    "        return x"
   ]
  },
  {
   "cell_type": "code",
   "execution_count": null,
   "metadata": {},
   "outputs": [],
   "source": [
    "# Initialize\n",
    "def myinit():\n",
    "    global net, optimizer, criterion, scheduler, loss_test, loss_train, test, train, ensids\n",
    "    net = Net()\n",
    "    net.to(device)\n",
    "\n",
    "#     # Initialize the kmer weights to 0 and turn off learning\n",
    "#     net.fc1_kmers.requires_grad_(False)\n",
    "#     net.fc1_kmers.weight.fill_(0)\n",
    "#     net.fc1_kmers.bias.fill_(0)\n",
    "    \n",
    "    criterion = nn.MSELoss(reduction='sum')\n",
    "    optimizer = optim.Adam(net.parameters(), lr=lr)\n",
    "    scheduler = optim.lr_scheduler.ReduceLROnPlateau(optimizer, factor=0.25)\n",
    "    \n",
    "    loss_test=np.array([])\n",
    "    loss_train = np.array([])\n",
    "\n",
    "    # Train/Test split\n",
    "    test = (np.random.rand(Ngenes,1)<0.2)\n",
    "    train = [not i for i in test]\n",
    "\n",
    "    test = np.random.permutation(np.nonzero(test)[0]).squeeze()\n",
    "    train = np.random.permutation(np.nonzero(train)[0]).squeeze()\n",
    "    ensids = rnau.index.values\n",
    "    return\n",
    "\n",
    "def train_epoch(epoch):\n",
    "    nsamp = 0\n",
    "    running_loss = 0.0\n",
    "    running_time = 0.0\n",
    "    net.train()\n",
    "    t0train = time.time()\n",
    "    for i in range(0, len(train), batch_size):\n",
    "        tstart = time.time()\n",
    "        indices = train[i:i+batch_size]\n",
    "\n",
    "        # Input should be of size: (batch, channels, samples)\n",
    "        batch_X = torch.tensor(X[indices,:],dtype=torch.float)\n",
    "        batch_y = torch.tensor(y[indices,:],dtype=torch.float)\n",
    "\n",
    "        # Send training data to CUDA\n",
    "        if device is not \"cpu\":\n",
    "            batch_X = batch_X.to(device)\n",
    "            batch_y = batch_y.to(device)\n",
    "\n",
    "        # zero the parameter gradients\n",
    "        optimizer.zero_grad()\n",
    "\n",
    "        # forward + backward + optimize\n",
    "        outputs = net(batch_X)\n",
    "        loss = criterion(outputs, batch_y)\n",
    "        loss.backward()\n",
    "        optimizer.step()\n",
    "        \n",
    "        running_loss += loss.item()\n",
    "        running_time += time.time()-tstart\n",
    "        nsamp += len(indices)\n",
    "        if (time.time()-t0train)>5:\n",
    "            print('Epoch %d, i=%d/%d, LR=%3.5g, loss=%3.8f, t=%3.3f, %3.5f s/sample' % (epoch, i, len(train), \n",
    "                                                                                        optimizer.state_dict()['param_groups'][0]['lr'],\n",
    "                                                                                        running_loss/nsamp, running_time, running_time/nsamp))\n",
    "            t0train=time.time()\n",
    "\n",
    "    return running_loss/nsamp\n",
    "\n",
    "def test_epoch(epoch):\n",
    "    \n",
    "    net.eval()\n",
    "    running_loss_test = 0.0\n",
    "    nsamp = 0\n",
    "    yyhat = {'y':[], 'yhat':[]}\n",
    "    for i in range(0, len(test), batch_size):\n",
    "        indices = test[i:i+batch_size]\n",
    "\n",
    "        # Input should be of size: (batch, channels, samples)\n",
    "        batch_X = torch.tensor(X[indices,:],dtype=torch.float)\n",
    "        batch_y = torch.tensor(y[indices,:],dtype=torch.float)\n",
    "\n",
    "        # Send training data to CUDA\n",
    "        if device is not \"cpu\":\n",
    "            batch_X = batch_X.to(device)\n",
    "            batch_y = batch_y.to(device)\n",
    "\n",
    "        # forward + backward + optimize\n",
    "        outputs = net(batch_X)\n",
    "        loss = criterion(outputs, batch_y)\n",
    "        running_loss_test += loss.item()\n",
    "        nsamp += len(indices)\n",
    "\n",
    "        yyhat['yhat'].append(outputs.detach().cpu().numpy())\n",
    "        yyhat['y'].append(batch_y.detach().cpu().numpy())\n",
    "\n",
    "    return running_loss_test/nsamp\n"
   ]
  },
  {
   "cell_type": "code",
   "execution_count": null,
   "metadata": {
    "scrolled": true
   },
   "outputs": [],
   "source": [
    "lr = 0.0002\n",
    "myinit()\n",
    "train.shape, test.shape"
   ]
  },
  {
   "cell_type": "code",
   "execution_count": null,
   "metadata": {},
   "outputs": [],
   "source": [
    "import glob\n",
    "from IPython import display\n",
    "\n",
    "def test_net(indices):\n",
    "    net.eval()\n",
    "    yyhat = {'y':[], 'yhat':[]}\n",
    "    for i in range(0, len(indices), batch_size):\n",
    "        i = indices[i:i+batch_size]\n",
    "\n",
    "        # Input should be of size: (batch, channels, samples)\n",
    "        batch_X = torch.tensor(X[indices,:],dtype=torch.float)\n",
    "        batch_y = torch.tensor(y[indices,:],dtype=torch.float)\n",
    "\n",
    "        # Send training data to CUDA\n",
    "        if device is not \"cpu\":\n",
    "            batch_X = batch_X.to(device)\n",
    "\n",
    "        outputs = net(batch_X)\n",
    "        \n",
    "        yyhat['yhat'].append(outputs.detach().cpu().numpy())\n",
    "        yyhat['y'].append(batch_y.numpy())\n",
    "    yyhat['yhat'] = np.concatenate(yyhat['yhat'],axis=0)\n",
    "    yyhat['y'] = np.concatenate(yyhat['y'],axis=0)\n",
    "    \n",
    "    cc = np.zeros((Nc,1))\n",
    "    for i in range(yyhat['y'].shape[1]):\n",
    "        cc[i,0] = np.corrcoef(yyhat['y'][:,i], yyhat['yhat'][:,i])[0,1]    \n",
    "\n",
    "    return yyhat, cc\n",
    "\n",
    "def make_plot1(save=False):\n",
    "    plt.figure(figsize=(15,4))\n",
    "    plt.clf()\n",
    "    plt.subplot(1,3,1)\n",
    "    plt.semilogx(loss_train[2:],'o-',label='Train')\n",
    "    plt.plot(loss_test[2:],'o-',label='Test')\n",
    "    plt.legend()\n",
    "    plt.xlabel('Epochs')\n",
    "    plt.ylabel('Loss')\n",
    "    plt.title(fn_save)\n",
    "\n",
    "    plt.subplot(1,3,2)\n",
    "    plt.plot(yyhat_test['y'].T, yyhat_test['yhat'].T,'.');\n",
    "    plt.plot([0,3],[0,3],'k--')\n",
    "    plt.xlabel('True RNA expression')\n",
    "    plt.ylabel('Estimated RNA expression')\n",
    "\n",
    "    plt.subplot(1,3,3)\n",
    "    plt.plot(np.arange(Nc), cc)\n",
    "    plt.ylabel('Correlation coef.')\n",
    "    plt.xlabel('Cell type')\n",
    "    plt.legend(['Train','Test'])\n",
    "    if save:\n",
    "        fn_plot = 'Plots/'+fn_save.replace('.torch','')+'_corrcoef.png'\n",
    "        plt.savefig(fn_plot)\n",
    "        print('Saved plot: '+fn_plot)\n",
    "    plt.show();\n",
    "\n",
    "def make_plot2(save=False):\n",
    "    plt.figure(figsize=(20,20))\n",
    "    for i in range(Nc):\n",
    "        plt.subplot(5,6,i+1)\n",
    "        plt.plot([0,2],[0,2],'k--')\n",
    "        plt.plot(yyhat_train['y'][:,i], yyhat_train['yhat'][:,i],'.');\n",
    "        plt.plot(yyhat_test['y'][:,i], yyhat_test['yhat'][:,i],'.');\n",
    "    #     cc = np.corrcoef(yyhat['y'][:,i], yyhat['yhat'][:,i])[0,1]\n",
    "        plt.title('r=%3.3f train/%3.3f test' % (cc[i,0], cc[i,1]))\n",
    "    if save:\n",
    "        fn_plot='Plots/'+fn_save.replace('.torch','')+'_scatter.png'\n",
    "        plt.savefig(fn_plot)\n",
    "        print('Saved plot: '+fn_plot)\n",
    "    plt.show();\n",
    "        \n",
    "        "
   ]
  },
  {
   "cell_type": "code",
   "execution_count": null,
   "metadata": {},
   "outputs": [],
   "source": [
    "num_epochs1 = 1000\n",
    "\n",
    "fn_id = len(glob.glob('./RegressEnh*.pt'))+1 # Generate a unique ID for this run\n",
    "fn_save = 'RegressEnh%0.4d_%s_N_%d_%d_%d.%s.pt' % (fn_id, ('UseKmers' if use_kmers else 'NoKmers'), N1,N2,N3,today)\n",
    "\n",
    "t0 = time.time()\n",
    "batch_size = 16\n",
    "for epoch in range(num_epochs1):  # loop over the dataset multiple times\n",
    "# while epoch<num_epochs1:\n",
    "    new_loss_train = train_epoch(epoch);\n",
    "    loss_train = np.append(loss_train, new_loss_train)\n",
    "    \n",
    "    new_loss_test = test_epoch(epoch);\n",
    "    loss_test = np.append(loss_test,new_loss_test)\n",
    "    scheduler.step(new_loss_test)\n",
    "\n",
    "    print('**** Phase1 epoch %d, LR=%3.5g, loss_train=%3.8f, loss_test=%3.8f, time = %3.5f s/epoch' % (\n",
    "        len(loss_train), \n",
    "        optimizer.param_groups[0]['lr'],\n",
    "        loss_train[-1], \n",
    "        loss_test[-1], \n",
    "        (time.time()-t0))\n",
    "         )\n",
    "\n",
    "    if (time.time()-t0)>60 or (epoch==num_epochs1-1):        \n",
    "        if (epoch>0):            \n",
    "            cc = np.zeros((Nc,2))\n",
    "            yyhat_train, cc[:,[0]] = test_net(random.sample(train.tolist(), 500))\n",
    "            yyhat_test, cc[:,[1]] = test_net(random.sample(test.tolist(), 500))\n",
    "\n",
    "            display.clear_output(wait=True)\n",
    "            display.display(plt.gcf())\n",
    "            make_plot1(save=True)\n",
    "#             make_plot2(save=True)  \n",
    "            display.display(plt.gcf())\n",
    "        t0=time.time()\n",
    "        torch.save({\n",
    "                'epoch': epoch,\n",
    "                'model_state_dict': net.state_dict(),\n",
    "                'optimizer_state_dict': optimizer.state_dict(),\n",
    "                'loss_train': loss_train,\n",
    "                'loss_test': loss_test,\n",
    "                }, fn_save)\n",
    "        print('Saved data: %s' % fn_save)\n"
   ]
  },
  {
   "cell_type": "code",
   "execution_count": null,
   "metadata": {},
   "outputs": [],
   "source": [
    "test.max()"
   ]
  },
  {
   "cell_type": "code",
   "execution_count": null,
   "metadata": {},
   "outputs": [],
   "source": []
  },
  {
   "cell_type": "code",
   "execution_count": null,
   "metadata": {},
   "outputs": [],
   "source": []
  },
  {
   "cell_type": "code",
   "execution_count": null,
   "metadata": {},
   "outputs": [],
   "source": []
  },
  {
   "cell_type": "code",
   "execution_count": null,
   "metadata": {},
   "outputs": [],
   "source": []
  },
  {
   "cell_type": "code",
   "execution_count": null,
   "metadata": {},
   "outputs": [],
   "source": []
  },
  {
   "cell_type": "code",
   "execution_count": null,
   "metadata": {},
   "outputs": [],
   "source": []
  },
  {
   "cell_type": "code",
   "execution_count": null,
   "metadata": {},
   "outputs": [],
   "source": []
  },
  {
   "cell_type": "code",
   "execution_count": null,
   "metadata": {},
   "outputs": [],
   "source": []
  },
  {
   "cell_type": "code",
   "execution_count": null,
   "metadata": {},
   "outputs": [],
   "source": []
  },
  {
   "cell_type": "code",
   "execution_count": null,
   "metadata": {},
   "outputs": [],
   "source": []
  },
  {
   "cell_type": "code",
   "execution_count": null,
   "metadata": {},
   "outputs": [],
   "source": []
  },
  {
   "cell_type": "code",
   "execution_count": null,
   "metadata": {},
   "outputs": [],
   "source": []
  },
  {
   "cell_type": "code",
   "execution_count": null,
   "metadata": {},
   "outputs": [],
   "source": []
  },
  {
   "cell_type": "code",
   "execution_count": null,
   "metadata": {},
   "outputs": [],
   "source": [
    "plt.hist2d(df['log_rna'], mdl.predict(), bins=(50,50), cmap=plt.cm.Reds);"
   ]
  },
  {
   "cell_type": "code",
   "execution_count": null,
   "metadata": {},
   "outputs": [],
   "source": [
    "plt.hist(np.log(rnau.loc[genes2enhu['ensid'][best_enh],:].iloc[:,3]+1), bins=100);"
   ]
  },
  {
   "cell_type": "code",
   "execution_count": null,
   "metadata": {},
   "outputs": [],
   "source": [
    "plt.scatter(df['log_rna'], mdl.predict(),s=1)"
   ]
  },
  {
   "cell_type": "code",
   "execution_count": null,
   "metadata": {},
   "outputs": [],
   "source": []
  }
 ],
 "metadata": {
  "kernelspec": {
   "display_name": "Python 3",
   "language": "python",
   "name": "python3"
  },
  "language_info": {
   "codemirror_mode": {
    "name": "ipython",
    "version": 3
   },
   "file_extension": ".py",
   "mimetype": "text/x-python",
   "name": "python",
   "nbconvert_exporter": "python",
   "pygments_lexer": "ipython3",
   "version": "3.6.6"
  }
 },
 "nbformat": 4,
 "nbformat_minor": 4
}
