{
 "cells": [
  {
   "cell_type": "code",
   "execution_count": 295,
   "metadata": {},
   "outputs": [
    {
     "name": "stdout",
     "output_type": "stream",
     "text": [
      "Starting analysis; 8 processors; 2020-03-10 20:13:22.618666\n"
     ]
    }
   ],
   "source": [
    "# Train a CNN regression to predict the mCG level of all DMRs\n",
    "import pandas as pd\n",
    "import numpy as np\n",
    "import time, re, datetime\n",
    "import matplotlib.pyplot as plt\n",
    "from matplotlib.colors import ListedColormap\n",
    "from scipy.stats import zscore\n",
    "\n",
    "from multiprocessing import Pool,cpu_count\n",
    "num_processors = cpu_count()\n",
    "\n",
    "print('Starting analysis; %d processors; %s' % (num_processors, datetime.datetime.today()))\n",
    "t00 =time.time()\n",
    "\n",
    "np.random.seed(0)"
   ]
  },
  {
   "cell_type": "code",
   "execution_count": 296,
   "metadata": {},
   "outputs": [],
   "source": [
    "use_kmers = False\n",
    "corr_type = 'Spearman';\n",
    "corr_type = 'Pearson'"
   ]
  },
  {
   "cell_type": "code",
   "execution_count": 297,
   "metadata": {
    "scrolled": true
   },
   "outputs": [
    {
     "name": "stdout",
     "output_type": "stream",
     "text": [
      "Loaded RegressData/Regress_data_9811genes_21cells_genes2enhu.pkl\n",
      "Loaded RegressData/Regress_data_9811genes_21cells_rnau.pkl\n",
      "Loaded RegressData/Regress_data_9811genes_21cells_df_mlevelu.pkl\n",
      "Loaded RegressData/Regress_data_9811genes_21cells_df_atacu.pkl\n",
      "Loaded RegressData/Regress_data_9811genes_21cells_genes.pkl\n"
     ]
    }
   ],
   "source": [
    "today=datetime.datetime.today().strftime('%d-%m-%Y')\n",
    "# fn_load_prefix = 'RegressData/Regress_data_6143genes_19cells_'\n",
    "# fn_load_prefix = 'RegressData/Regress_data_6174genes_20cells_'\n",
    "fn_load_prefix = 'RegressData/Regress_data_9811genes_21cells_'\n",
    "\n",
    "# Load datasets\n",
    "save_vars = ['genes2enhu', 'rnau', 'df_mlevelu', 'df_atacu', 'genes']\n",
    "# save_vars = ['rnau','genes']\n",
    "for var in save_vars:\n",
    "    fn = fn_load_prefix+var+'.pkl'\n",
    "    cmd = '%s=pd.read_pickle(\"%s\")' % (var, fn)\n",
    "    exec(cmd)\n",
    "    print('Loaded %s' % fn)\n",
    "\n",
    "if use_kmers:\n",
    "    with np.load(fn_load_prefix+'kmer_countsu.npz', allow_pickle=True) as x:\n",
    "        kmer_countsu=x['kmer_countsu']\n",
    "    kmer_countsu = kmer_countsu/kmer_countsu.shape[1]/100\n",
    "    \n",
    "    # Testing:\n",
    "    kmer_countsu = kmer_countsu[:,:2]\n",
    "    \n",
    "    print('Kmers shape: ', kmer_countsu.shape)\n",
    "    Nk=kmer_countsu.shape[1]\n",
    "    print('Loaded kmers')\n",
    "else:\n",
    "    Nk=0"
   ]
  },
  {
   "cell_type": "code",
   "execution_count": 298,
   "metadata": {},
   "outputs": [
    {
     "data": {
      "text/plain": [
       "(1916,)"
      ]
     },
     "execution_count": 298,
     "metadata": {},
     "output_type": "execute_result"
    }
   ],
   "source": [
    "ngenes_use = 10000\n",
    "genes = genes.iloc[np.random.permutation(genes.shape[0])[:ngenes_use],:]\n",
    "genes2enhu = genes2enhu.iloc[[i in genes.index for i in genes2enhu['ensid']],:]\n",
    "genes2enhu.index.unique().shape"
   ]
  },
  {
   "cell_type": "code",
   "execution_count": 299,
   "metadata": {},
   "outputs": [],
   "source": [
    "features_use = 'mCG'\n",
    "if (features_use=='mCG'):\n",
    "    x = df_mlevelu.loc[genes2enhu['enh_pos'],:].to_numpy()\n",
    "elif (features_use=='ATAC'):\n",
    "    x = df_atacu.loc[genes2enhu['enh_pos'],:].to_numpy()\n",
    "elif (features_use=='mCG_ATAC'):\n",
    "    x1 = df_mlevelu.loc[genes2enhu['enh_pos'],:].to_numpy()\n",
    "    x2 = df_atacu.loc[genes2enhu['enh_pos'],:].to_numpy()\n",
    "    x = f_mcg(x1) * f_atac(x2)\n",
    "else:\n",
    "    x = []\n",
    "    \n",
    "y = rnau.loc[genes2enhu['ensid'],:].to_numpy()"
   ]
  },
  {
   "cell_type": "code",
   "execution_count": 300,
   "metadata": {},
   "outputs": [],
   "source": [
    "def my_cc(x,y,ensid,doshuff=False,jshuff=0,corr_type='Pearson'):\n",
    "    t0=time.time()\n",
    "    ngenes,ncells = y.shape\n",
    "    print('Computing correlations for %d gene-enhancer pairs; jshuff=%d; ' % (ngenes,jshuff))\n",
    "    if doshuff:\n",
    "#         y = y[:,np.random.permutation(ncells)]\n",
    "        y = y[np.random.permutation(ngenes),:]\n",
    "    if (corr_type=='Spearman'):\n",
    "        y = np.argsort(y,axis=1)\n",
    "        x = np.argsort(x,axis=1)\n",
    "#     xy_cc = [np.abs(np.corrcoef(x1,y1)[0,1]) for (x1,y1) in zip(x,y)]\n",
    "    xz = zscore(x, axis=1, nan_policy='omit', ddof=0)\n",
    "    yz = zscore(y, axis=1, nan_policy='omit', ddof=0)\n",
    "    xy_cc = np.abs(np.nanmean(xz*yz, axis=1))\n",
    "\n",
    "    xy_cc_df = pd.DataFrame(data=xy_cc, index=ensid).groupby(by='ensid')\n",
    "#     xy_cc_df['enh_num'] = np.arange(ngenes)\n",
    "    best_cc = xy_cc_df.max().squeeze()\n",
    "    if not doshuff:\n",
    "        best_enh = xy_cc_df.idxmax()\n",
    "    else:\n",
    "        best_enh = []\n",
    "    print('t=%3.3f' % (time.time()-t0))\n",
    "    \n",
    "    return best_cc,best_enh"
   ]
  },
  {
   "cell_type": "code",
   "execution_count": 301,
   "metadata": {},
   "outputs": [
    {
     "name": "stdout",
     "output_type": "stream",
     "text": [
      "Computing correlations for 90478 gene-enhancer pairs; jshuff=0; \n"
     ]
    },
    {
     "name": "stderr",
     "output_type": "stream",
     "text": [
      "/cndd/emukamel/conda_envs/scanpy/lib/python3.7/site-packages/scipy/stats/stats.py:2419: RuntimeWarning: invalid value encountered in true_divide\n",
      "  return (a - mns) / sstd\n",
      "/cndd/emukamel/conda_envs/scanpy/lib/python3.7/site-packages/ipykernel_launcher.py:14: RuntimeWarning: Mean of empty slice\n",
      "  \n"
     ]
    },
    {
     "name": "stdout",
     "output_type": "stream",
     "text": [
      "t=0.580\n"
     ]
    }
   ],
   "source": [
    "best_cc,best_enh = my_cc(x,y,genes2enhu['ensid'],False,0,corr_type)"
   ]
  },
  {
   "cell_type": "code",
   "execution_count": 302,
   "metadata": {},
   "outputs": [
    {
     "name": "stdout",
     "output_type": "stream",
     "text": [
      "Computing correlations for 90478 gene-enhancer pairs; jshuff=0; \n"
     ]
    },
    {
     "name": "stderr",
     "output_type": "stream",
     "text": [
      "/cndd/emukamel/conda_envs/scanpy/lib/python3.7/site-packages/ipykernel_launcher.py:14: RuntimeWarning: Mean of empty slice\n",
      "  \n"
     ]
    },
    {
     "name": "stdout",
     "output_type": "stream",
     "text": [
      "Computing correlations for 90478 gene-enhancer pairs; jshuff=4; \n",
      "t=0.103\n",
      "Computing correlations for 90478 gene-enhancer pairs; jshuff=1; \n"
     ]
    },
    {
     "name": "stderr",
     "output_type": "stream",
     "text": [
      "/cndd/emukamel/conda_envs/scanpy/lib/python3.7/site-packages/ipykernel_launcher.py:14: RuntimeWarning: Mean of empty slice\n",
      "  \n"
     ]
    },
    {
     "name": "stdout",
     "output_type": "stream",
     "text": [
      "Computing correlations for 90478 gene-enhancer pairs; jshuff=8; \n",
      "t=0.106\n",
      "Computing correlations for 90478 gene-enhancer pairs; jshuff=5; \n",
      "t=0.124\n",
      "Computing correlations for 90478 gene-enhancer pairs; jshuff=2; \n",
      "Computing correlations for 90478 gene-enhancer pairs; jshuff=12; \n"
     ]
    },
    {
     "name": "stderr",
     "output_type": "stream",
     "text": [
      "/cndd/emukamel/conda_envs/scanpy/lib/python3.7/site-packages/ipykernel_launcher.py:14: RuntimeWarning: Mean of empty slice\n",
      "  \n"
     ]
    },
    {
     "name": "stdout",
     "output_type": "stream",
     "text": [
      "t=0.113\n",
      "Computing correlations for 90478 gene-enhancer pairs; jshuff=6; \n",
      "t=0.135\n",
      "Computing correlations for 90478 gene-enhancer pairs; jshuff=9; \n",
      "t=0.119\n",
      "Computing correlations for 90478 gene-enhancer pairs; jshuff=3; \n",
      "Computing correlations for 90478 gene-enhancer pairs; jshuff=16; \n"
     ]
    },
    {
     "name": "stderr",
     "output_type": "stream",
     "text": [
      "/cndd/emukamel/conda_envs/scanpy/lib/python3.7/site-packages/ipykernel_launcher.py:14: RuntimeWarning: Mean of empty slice\n",
      "  \n"
     ]
    },
    {
     "name": "stdout",
     "output_type": "stream",
     "text": [
      "t=0.136\n",
      "Computing correlations for 90478 gene-enhancer pairs; jshuff=13; \n",
      "t=0.107\n",
      "Computing correlations for 90478 gene-enhancer pairs; jshuff=7; \n",
      "Computing correlations for 90478 gene-enhancer pairs; jshuff=20; \n",
      "t=0.158\n",
      "t=0.180\n",
      "Computing correlations for 90478 gene-enhancer pairs; jshuff=10; \n"
     ]
    },
    {
     "name": "stderr",
     "output_type": "stream",
     "text": [
      "/cndd/emukamel/conda_envs/scanpy/lib/python3.7/site-packages/ipykernel_launcher.py:14: RuntimeWarning: Mean of empty slice\n",
      "  \n"
     ]
    },
    {
     "name": "stdout",
     "output_type": "stream",
     "text": [
      "t=0.152\n",
      "Computing correlations for 90478 gene-enhancer pairs; jshuff=14; \n",
      "t=0.181\n",
      "Computing correlations for 90478 gene-enhancer pairs; jshuff=17; \n",
      "t=0.144\n"
     ]
    },
    {
     "name": "stderr",
     "output_type": "stream",
     "text": [
      "/cndd/emukamel/conda_envs/scanpy/lib/python3.7/site-packages/ipykernel_launcher.py:14: RuntimeWarning: Mean of empty slice\n",
      "  \n"
     ]
    },
    {
     "name": "stdout",
     "output_type": "stream",
     "text": [
      "Computing correlations for 90478 gene-enhancer pairs; jshuff=24; \n",
      "t=0.120\n",
      "Computing correlations for 90478 gene-enhancer pairs; jshuff=21; \n",
      "t=0.187\n",
      "Computing correlations for 90478 gene-enhancer pairs; jshuff=11; \n",
      "t=0.147\n",
      "Computing correlations for 90478 gene-enhancer pairs; jshuff=18; \n",
      "t=0.156\n",
      "Computing correlations for 90478 gene-enhancer pairs; jshuff=28; \n",
      "Computing correlations for 90478 gene-enhancer pairs; jshuff=15; \n",
      "t=0.116\n",
      "Computing correlations for 90478 gene-enhancer pairs; jshuff=22; \n"
     ]
    },
    {
     "name": "stderr",
     "output_type": "stream",
     "text": [
      "/cndd/emukamel/conda_envs/scanpy/lib/python3.7/site-packages/ipykernel_launcher.py:14: RuntimeWarning: Mean of empty slice\n",
      "  \n"
     ]
    },
    {
     "name": "stdout",
     "output_type": "stream",
     "text": [
      "Computing correlations for 90478 gene-enhancer pairs; jshuff=32; \n",
      "t=0.193\n",
      "Computing correlations for 90478 gene-enhancer pairs; jshuff=25; \n",
      "t=0.182\n",
      "t=0.164\n",
      "t=0.181\n"
     ]
    },
    {
     "name": "stderr",
     "output_type": "stream",
     "text": [
      "/cndd/emukamel/conda_envs/scanpy/lib/python3.7/site-packages/ipykernel_launcher.py:14: RuntimeWarning: Mean of empty slice\n",
      "  \n"
     ]
    },
    {
     "name": "stdout",
     "output_type": "stream",
     "text": [
      "Computing correlations for 90478 gene-enhancer pairs; jshuff=19; \n",
      "Computing correlations for 90478 gene-enhancer pairs; jshuff=36; \n",
      "t=0.185\n",
      "Computing correlations for 90478 gene-enhancer pairs; jshuff=23; \n",
      "t=0.203\n",
      "Computing correlations for 90478 gene-enhancer pairs; jshuff=29; \n",
      "t=0.183\n",
      "Computing correlations for 90478 gene-enhancer pairs; jshuff=33; \n",
      "t=0.184\n",
      "Computing correlations for 90478 gene-enhancer pairs; jshuff=26; \n",
      "Computing correlations for 90478 gene-enhancer pairs; jshuff=40; \n",
      "t=0.145\n",
      "Computing correlations for 90478 gene-enhancer pairs; jshuff=37; \n",
      "t=0.173\n",
      "t=0.154\n",
      "t=0.174\n",
      "Computing correlations for 90478 gene-enhancer pairs; jshuff=30; \n",
      "Computing correlations for 90478 gene-enhancer pairs; jshuff=44; \n",
      "t=0.172\n",
      "Computing correlations for 90478 gene-enhancer pairs; jshuff=34; \n",
      "t=0.188\n",
      "Computing correlations for 90478 gene-enhancer pairs; jshuff=27; \n",
      "t=0.166\n",
      "Computing correlations for 90478 gene-enhancer pairs; jshuff=41; \n",
      "Computing correlations for 90478 gene-enhancer pairs; jshuff=48; \n",
      "t=0.180\n",
      "Computing correlations for 90478 gene-enhancer pairs; jshuff=38; \n",
      "t=0.165\n",
      "Computing correlations for 90478 gene-enhancer pairs; jshuff=31; \n",
      "t=0.165\n",
      "t=0.157\n",
      "Computing correlations for 90478 gene-enhancer pairs; jshuff=35; \n",
      "Computing correlations for 90478 gene-enhancer pairs; jshuff=45; \n",
      "t=0.172\n",
      "Computing correlations for 90478 gene-enhancer pairs; jshuff=52; \n",
      "t=0.174\n",
      "Computing correlations for 90478 gene-enhancer pairs; jshuff=42; \n",
      "t=0.182\n",
      "Computing correlations for 90478 gene-enhancer pairs; jshuff=49; \n",
      "t=0.167\n",
      "t=0.165\n",
      "Computing correlations for 90478 gene-enhancer pairs; jshuff=39; \n",
      "t=0.170\n",
      "Computing correlations for 90478 gene-enhancer pairs; jshuff=56; \n",
      "t=0.197\n",
      "Computing correlations for 90478 gene-enhancer pairs; jshuff=46; \n",
      "t=0.172\n",
      "t=0.180\n",
      "Computing correlations for 90478 gene-enhancer pairs; jshuff=43; \n",
      "Computing correlations for 90478 gene-enhancer pairs; jshuff=53; \n",
      "Computing correlations for 90478 gene-enhancer pairs; jshuff=60; \n",
      "t=0.176\n",
      "Computing correlations for 90478 gene-enhancer pairs; jshuff=50; \n",
      "t=0.179\n",
      "t=0.154\n",
      "Computing correlations for 90478 gene-enhancer pairs; jshuff=57; \n",
      "t=0.168\n",
      "Computing correlations for 90478 gene-enhancer pairs; jshuff=47; \n",
      "Computing correlations for 90478 gene-enhancer pairs; jshuff=64; \n",
      "t=0.159\n",
      "t=0.171\n",
      "Computing correlations for 90478 gene-enhancer pairs; jshuff=54; \n",
      "t=0.181\n",
      "Computing correlations for 90478 gene-enhancer pairs; jshuff=61; \n",
      "t=0.174\n",
      "Computing correlations for 90478 gene-enhancer pairs; jshuff=51; \n",
      "t=0.173\n",
      "Computing correlations for 90478 gene-enhancer pairs; jshuff=58; \n",
      "Computing correlations for 90478 gene-enhancer pairs; jshuff=68; \n",
      "t=0.143\n",
      "t=0.159\n",
      "Computing correlations for 90478 gene-enhancer pairs; jshuff=65; \n",
      "t=0.163\n",
      "Computing correlations for 90478 gene-enhancer pairs; jshuff=62; \n",
      "Computing correlations for 90478 gene-enhancer pairs; jshuff=72; \n",
      "t=0.170\n",
      "Computing correlations for 90478 gene-enhancer pairs; jshuff=55; \n",
      "t=0.177\n",
      "t=0.165\n",
      "Computing correlations for 90478 gene-enhancer pairs; jshuff=59; \n",
      "t=0.192\n",
      "t=0.175\n",
      "Computing correlations for 90478 gene-enhancer pairs; jshuff=66; \n",
      "Computing correlations for 90478 gene-enhancer pairs; jshuff=76; \n",
      "Computing correlations for 90478 gene-enhancer pairs; jshuff=69; \n",
      "t=0.175\n",
      "t=0.167\n",
      "Computing correlations for 90478 gene-enhancer pairs; jshuff=63; \n",
      "t=0.194\n",
      "Computing correlations for 90478 gene-enhancer pairs; jshuff=73; \n",
      "Computing correlations for 90478 gene-enhancer pairs; jshuff=80; \n",
      "t=0.171\n",
      "t=0.170\n",
      "Computing correlations for 90478 gene-enhancer pairs; jshuff=67; \n",
      "t=0.168\n",
      "t=0.177\n",
      "Computing correlations for 90478 gene-enhancer pairs; jshuff=77; \n",
      "Computing correlations for 90478 gene-enhancer pairs; jshuff=70; \n",
      "Computing correlations for 90478 gene-enhancer pairs; jshuff=84; \n",
      "t=0.168\n",
      "Computing correlations for 90478 gene-enhancer pairs; jshuff=74; \n",
      "t=0.173\n",
      "t=0.172\n",
      "Computing correlations for 90478 gene-enhancer pairs; jshuff=81; \n",
      "Computing correlations for 90478 gene-enhancer pairs; jshuff=88; \n",
      "t=0.181\n",
      "t=0.192\n",
      "Computing correlations for 90478 gene-enhancer pairs; jshuff=71; \n",
      "t=0.192\n",
      "Computing correlations for 90478 gene-enhancer pairs; jshuff=78; \n",
      "t=0.180\n",
      "Computing correlations for 90478 gene-enhancer pairs; jshuff=85; \n",
      "Computing correlations for 90478 gene-enhancer pairs; jshuff=92; \n",
      "t=0.174\n",
      "Computing correlations for 90478 gene-enhancer pairs; jshuff=75; \n",
      "t=0.173\n",
      "t=0.178\n",
      "Computing correlations for 90478 gene-enhancer pairs; jshuff=82; \n",
      "Computing correlations for 90478 gene-enhancer pairs; jshuff=89; \n",
      "t=0.178\n",
      "Computing correlations for 90478 gene-enhancer pairs; jshuff=96; \n",
      "Computing correlations for 90478 gene-enhancer pairs; jshuff=79; \n",
      "t=0.188\n",
      "t=0.164\n",
      "t=0.189\n",
      "Computing correlations for 90478 gene-enhancer pairs; jshuff=93; \n",
      "Computing correlations for 90478 gene-enhancer pairs; jshuff=86; \n",
      "t=0.182\n",
      "Computing correlations for 90478 gene-enhancer pairs; jshuff=100; \n",
      "t=0.182\n",
      "Computing correlations for 90478 gene-enhancer pairs; jshuff=83; \n",
      "t=0.185\n",
      "Computing correlations for 90478 gene-enhancer pairs; jshuff=97; \n",
      "t=0.165\n",
      "t=0.209\n",
      "Computing correlations for 90478 gene-enhancer pairs; jshuff=90; \n",
      "Computing correlations for 90478 gene-enhancer pairs; jshuff=104; \n",
      "t=0.186\n",
      "Computing correlations for 90478 gene-enhancer pairs; jshuff=94; \n",
      "t=0.198\n",
      "Computing correlations for 90478 gene-enhancer pairs; jshuff=87; \n",
      "t=0.161\n",
      "t=0.230\n",
      "Computing correlations for 90478 gene-enhancer pairs; jshuff=108; \n",
      "t=0.182\n",
      "Computing correlations for 90478 gene-enhancer pairs; jshuff=98; \n",
      "t=0.181\n",
      "Computing correlations for 90478 gene-enhancer pairs; jshuff=101; \n",
      "Computing correlations for 90478 gene-enhancer pairs; jshuff=91; \n",
      "t=0.168\n",
      "Computing correlations for 90478 gene-enhancer pairs; jshuff=105; \n",
      "t=0.182\n",
      "Computing correlations for 90478 gene-enhancer pairs; jshuff=95; \n",
      "t=0.180\n",
      "Computing correlations for 90478 gene-enhancer pairs; jshuff=112; \n",
      "t=0.180\n",
      "t=0.192\n",
      "Computing correlations for 90478 gene-enhancer pairs; jshuff=102; \n",
      "t=0.185\n",
      "Computing correlations for 90478 gene-enhancer pairs; jshuff=109; \n",
      "Computing correlations for 90478 gene-enhancer pairs; jshuff=99; \n",
      "t=0.184\n",
      "Computing correlations for 90478 gene-enhancer pairs; jshuff=116; \n",
      "Computing correlations for 90478 gene-enhancer pairs; jshuff=106; \n",
      "t=0.175\n",
      "t=0.187\n",
      "t=0.187\n",
      "Computing correlations for 90478 gene-enhancer pairs; jshuff=113; \n",
      "t=0.178\n",
      "Computing correlations for 90478 gene-enhancer pairs; jshuff=120; \n",
      "Computing correlations for 90478 gene-enhancer pairs; jshuff=110; \n",
      "t=0.185\n",
      "t=0.174\n",
      "Computing correlations for 90478 gene-enhancer pairs; jshuff=103; \n",
      "t=0.172\n",
      "Computing correlations for 90478 gene-enhancer pairs; jshuff=107; \n",
      "t=0.159\n",
      "Computing correlations for 90478 gene-enhancer pairs; jshuff=117; \n",
      "Computing correlations for 90478 gene-enhancer pairs; jshuff=124; \n",
      "t=0.178\n",
      "Computing correlations for 90478 gene-enhancer pairs; jshuff=114; \n",
      "t=0.120\n",
      "Computing correlations for 90478 gene-enhancer pairs; jshuff=111; \n",
      "t=0.164\n",
      "Computing correlations for 90478 gene-enhancer pairs; jshuff=121; \n",
      "t=0.168\n",
      "t=0.177\n",
      "t=0.195\n",
      "Computing correlations for 90478 gene-enhancer pairs; jshuff=118; \n",
      "t=0.120\n",
      "t=0.153\n",
      "Computing correlations for 90478 gene-enhancer pairs; jshuff=125; \n",
      "t=0.139\n",
      "Computing correlations for 90478 gene-enhancer pairs; jshuff=115; \n",
      "t=0.146\n",
      "Computing correlations for 90478 gene-enhancer pairs; jshuff=122; \n",
      "t=0.100\n",
      "Computing correlations for 90478 gene-enhancer pairs; jshuff=126; \n",
      "t=0.100\n",
      "t=0.149\n",
      "Computing correlations for 90478 gene-enhancer pairs; jshuff=119; \n",
      "t=0.096\n",
      "Computing correlations for 90478 gene-enhancer pairs; jshuff=127; \n",
      "t=0.132\n",
      "Computing correlations for 90478 gene-enhancer pairs; jshuff=123; \n",
      "t=0.112\n",
      "t=0.095\n",
      "t=0.093\n",
      "All done, t=4.259 s\n"
     ]
    }
   ],
   "source": [
    "nshuff = num_processors*16\n",
    "np.random.seed(0)\n",
    "\n",
    "t0=time.time()\n",
    "with Pool(processes = num_processors) as p:\n",
    "    best_cc_shuff_list = p.starmap(my_cc, [(x,y,genes2enhu['ensid'],True,jshuff,corr_type) for jshuff in range(nshuff)])\n",
    "print('All done, t=%3.3f s' % (time.time()-t0))"
   ]
  },
  {
   "cell_type": "code",
   "execution_count": 303,
   "metadata": {},
   "outputs": [
    {
     "data": {
      "text/plain": [
       "(0.4455813953488373, 215, 1916)"
      ]
     },
     "execution_count": 303,
     "metadata": {},
     "output_type": "execute_result"
    }
   ],
   "source": [
    "alpha = 0.05;\n",
    "best_cc_shuff = np.hstack([b[0][:,np.newaxis] for b in best_cc_shuff_list])\n",
    "best_cc_shuff_max = np.percentile(best_cc_shuff, 100*(1-alpha), axis=1)\n",
    "best_cc_shuff_mean = best_cc_shuff.mean(axis=1)\n",
    "sig = best_cc.squeeze()>best_cc_shuff_max\n",
    "\n",
    "# alpha = 0.005;\n",
    "# sig = best_cc.squeeze()>np.percentile(best_cc_shuff,100*(1-alpha))\n",
    "fdr = (alpha*len(sig))/np.sum(sig)\n",
    "fdr, np.sum(sig), len(sig)"
   ]
  },
  {
   "cell_type": "code",
   "execution_count": 304,
   "metadata": {
    "scrolled": false
   },
   "outputs": [
    {
     "name": "stdout",
     "output_type": "stream",
     "text": [
      "Saved Plots/GenesCorr_mCG_10-03-2020_Pearson\n"
     ]
    },
    {
     "data": {
      "image/png": "[encoded data removed]",
      "text/plain": [
       "<Figure size 360x720 with 3 Axes>"
      ]
     },
     "metadata": {
      "needs_background": "light"
     },
     "output_type": "display_data"
    }
   ],
   "source": [
    "ngenes = best_cc.shape[0]\n",
    "\n",
    "fig,axs=plt.subplots(3,1,figsize=(5,10))\n",
    "plt.sca(axs[0])\n",
    "# sig = best_cc>(best_cc_shuff_mean+3*best_cc_shuff_sd).squeeze()\n",
    "plt.scatter(best_cc, best_cc_shuff_max,\n",
    "            s=2,c=sig,\n",
    "            cmap = ListedColormap([\"gray\",'red']))\n",
    "plt.plot([0,1],[0,1],'k--')\n",
    "plt.grid()\n",
    "plt.xlabel('Max %s correlation' % corr_type)\n",
    "plt.ylabel('Max %s correlation - shuffled' % corr_type)\n",
    "plt.title('%s\\n%d/%d=%3.1f%% significant genes (p<1/%d)' % (features_use, \n",
    "                                                            sig.sum(),ngenes,\n",
    "                                                            100*sig.sum()/ngenes, nshuff))\n",
    "\n",
    "plt.sca(axs[1])\n",
    "plt.hist(best_cc_shuff.reshape(-1,1), bins=np.arange(0,1,0.02),density=True,color='gray',label='Shuffled');\n",
    "plt.hist(best_cc.squeeze(), bins=np.arange(0,1,0.02),density=True,color='blue',label='Data',alpha=0.5);\n",
    "# plt.hist(best_cc[sig], bins=np.arange(0,1,0.01),density=True,color='r',label='Significant');\n",
    "plt.legend()\n",
    "plt.xlabel(corr_type+' correlation')\n",
    "plt.ylabel('Density of genes')\n",
    "\n",
    "\n",
    "plt.sca(axs[2])\n",
    "plt.hist(best_cc.squeeze()/best_cc_shuff_max.squeeze(), bins=np.arange(0,5,0.1),density=False,color='gray',\n",
    "        label='All genes');\n",
    "plt.hist(best_cc.squeeze()[sig]/best_cc_shuff_max.squeeze()[sig], bins=np.arange(0,5,0.1),density=False,color='red',\n",
    "        label='Significant');\n",
    "# plt.hist(best_cc, bins=np.arange(0,1,0.02),density=True,color='red',label='Data',alpha=0.5);\n",
    "# plt.hist(best_cc[sig], bins=np.arange(0,1,0.01),density=True,color='r',label='Significant');\n",
    "plt.xlabel(corr_type+' correlation/(Mean of shuffled)')\n",
    "plt.ylabel('Density of genes')\n",
    "plt.legend()\n",
    "\n",
    "fn_plot = 'Plots/GenesCorr_%s_%s_%s' % (features_use, today, corr_type)\n",
    "plt.savefig(fn_plot)\n",
    "print('Saved %s' % fn_plot)"
   ]
  },
  {
   "cell_type": "code",
   "execution_count": 305,
   "metadata": {},
   "outputs": [
    {
     "ename": "SyntaxError",
     "evalue": "'break' outside loop (<ipython-input-305-6aaf1f276005>, line 4)",
     "output_type": "error",
     "traceback": [
      "\u001b[0;36m  File \u001b[0;32m\"<ipython-input-305-6aaf1f276005>\"\u001b[0;36m, line \u001b[0;32m4\u001b[0m\n\u001b[0;31mSyntaxError\u001b[0m\u001b[0;31m:\u001b[0m 'break' outside loop\n"
     ]
    }
   ],
   "source": [
    "break"
   ]
  },
  {
   "cell_type": "code",
   "execution_count": null,
   "metadata": {},
   "outputs": [],
   "source": [
    "np.savez('RegressData/GenesCorr_%s_%s.npz' % (features_use, today),\n",
    "         best_cc=best_cc, best_cc_shuff=best_cc_shuff)\n",
    "print('Saved data; t=%3.3f; %s' % (time.time()-t00, datetime.datetime.today()))"
   ]
  },
  {
   "cell_type": "code",
   "execution_count": null,
   "metadata": {},
   "outputs": [],
   "source": [
    "today"
   ]
  },
  {
   "cell_type": "code",
   "execution_count": null,
   "metadata": {},
   "outputs": [],
   "source": [
    "exit()"
   ]
  },
  {
   "cell_type": "code",
   "execution_count": null,
   "metadata": {},
   "outputs": [],
   "source": [
    "# 1. Simplest model. Find the most predictive single enhancer for each gene.\n",
    "from scipy.stats import zscore\n",
    "\n",
    "ngenes = rna_lookup.shape[0]\n",
    "ncells = rna_lookup.shape[1]\n",
    "W_enh_gene = np.zeros((ngenes,ncells))\n",
    "\n",
    "y = rna_lookup.copy()\n",
    "\n",
    "def f_mcg(x):\n",
    "    m0 = 0.2\n",
    "    out = np.exp(-x/m0)\n",
    "    return out\n",
    "\n",
    "def f_atac(x):\n",
    "    a0 = 0.1\n",
    "    return x + a0\n",
    "\n",
    "features_use = 'mCG_ATAC'\n",
    "if (features_use=='mCG'):\n",
    "    x = ml_lookup.copy()\n",
    "elif (features_use=='ATAC'):\n",
    "    x = atac_lookup.copy()\n",
    "elif (features_use=='mCG_ATAC'):\n",
    "    x=f_mcg(ml_lookup) * f_atac(atac_lookup)\n",
    "else:\n",
    "    x = []"
   ]
  },
  {
   "cell_type": "code",
   "execution_count": null,
   "metadata": {},
   "outputs": [],
   "source": [
    "# For each gene find the correlation with each enhancer\n",
    "from scipy.stats import spearmanr\n",
    "\n",
    "def myCorr(x,y,doshuff=False,jshuff=0):    \n",
    "    t0 = time.time()\n",
    "    tot_time = 0;\n",
    "    ngenes,nenh,ncells = x.shape\n",
    "    xy_cc = np.zeros((ngenes, nenh))+np.nan\n",
    "    use_enh = np.sum(x!=0,axis=2)\n",
    "    \n",
    "    if doshuff:\n",
    "        # Randomize both the cell order and the gene order\n",
    "        y=y[:,np.random.permutation(ncells)]\n",
    "        y=y[np.random.permutation(ngenes),:]\n",
    "\n",
    "    for j in range(nenh):\n",
    "        curr_genes = use_enh[:,j]>0\n",
    "        xy_cc[curr_genes,j] = [np.corrcoef(x1,y1)[0,1] for (x1,y1) in zip(x[curr_genes,j,:], y[curr_genes,:])]\n",
    "#         xy_cc[curr_genes,j] = [spearmanr(x1,y1)[0] for (x1,y1) in zip(x[curr_genes,j,:], y[curr_genes,:])]\n",
    "        \n",
    "#         if ((time.time()-t0)>5) or (j==nenh-1):\n",
    "    \n",
    "    tot_time+=(time.time()-t0)\n",
    "    print('%d/%d. Shuff %d. %d enhancers. t=%3.3f s' % (j,nenh,jshuff,np.sum(curr_genes),tot_time))\n",
    "    t0=time.time()\n",
    "\n",
    "    return xy_cc"
   ]
  },
  {
   "cell_type": "code",
   "execution_count": null,
   "metadata": {},
   "outputs": [],
   "source": [
    "# Get correlation for real data\n",
    "xy_cc = myCorr(x,y)"
   ]
  },
  {
   "cell_type": "code",
   "execution_count": null,
   "metadata": {},
   "outputs": [],
   "source": [
    "# Get correlation for shuffled data. Run in parallel\n",
    "nshuff = 50\n",
    "np.random.seed(0)\n",
    "\n",
    "#Create a pool of processors\n",
    "t0=time.time()\n",
    "with Pool(processes = num_processors) as p:\n",
    "    xy_cc_shuff = p.starmap(myCorr, [(x,y,True,jshuff) for jshuff in range(nshuff)])\n",
    "print('All done, t=%3.3f s' % (time.time()-t0))"
   ]
  },
  {
   "cell_type": "code",
   "execution_count": null,
   "metadata": {},
   "outputs": [],
   "source": [
    "xy_cc_shuff = np.dstack(xy_cc_shuff)"
   ]
  },
  {
   "cell_type": "code",
   "execution_count": null,
   "metadata": {
    "scrolled": true
   },
   "outputs": [],
   "source": [
    "best_enh = np.argmax(np.abs(xy_cc),axis=1)\n",
    "best_cc = np.nanmax(np.abs(xy_cc),axis=1)\n",
    "\n",
    "best_cc_shuff = np.nanmax(np.abs(xy_cc_shuff),axis=1,keepdims=True)\n",
    "best_cc_shuff_mean = best_cc_shuff.mean(axis=2)\n",
    "best_cc_shuff_sd = best_cc_shuff.std(axis=2)\n",
    "best_cc_shuff_max = best_cc_shuff.max(axis=2)"
   ]
  },
  {
   "cell_type": "code",
   "execution_count": null,
   "metadata": {},
   "outputs": [],
   "source": [
    "from matplotlib.colors import ListedColormap\n",
    "\n",
    "fig,axs=plt.subplots(3,1,figsize=(5,10))\n",
    "plt.sca(axs[0])\n",
    "# sig = best_cc>(best_cc_shuff_mean+3*best_cc_shuff_sd).squeeze()\n",
    "sig = best_cc>best_cc_shuff_max.squeeze()\n",
    "plt.scatter(best_cc, best_cc_shuff_mean,\n",
    "            s=2,c=sig,\n",
    "            cmap = ListedColormap([\"gray\",'red']))\n",
    "plt.plot([0,1],[0,1],'k--')\n",
    "plt.grid()\n",
    "plt.xlabel('Max correlation')\n",
    "plt.ylabel('Max correlation - shuffled')\n",
    "plt.title('%s\\n%d/%d=%3.1f%% significant genes (p<1/%d)' % (features_use, \n",
    "                                                            sig.sum(),ngenes,\n",
    "                                                            100*sig.sum()/ngenes, nshuff))\n",
    "\n",
    "plt.sca(axs[1])\n",
    "plt.hist(best_cc_shuff_max, bins=np.arange(0,1,0.02),density=True,color='gray',label='Shuffled');\n",
    "plt.hist(best_cc, bins=np.arange(0,1,0.02),density=True,color='blue',label='Data',alpha=0.5);\n",
    "# plt.hist(best_cc[sig], bins=np.arange(0,1,0.01),density=True,color='r',label='Significant');\n",
    "plt.legend()\n",
    "plt.xlabel('Correlation')\n",
    "plt.ylabel('Density of genes')\n",
    "\n",
    "\n",
    "plt.sca(axs[2])\n",
    "plt.hist(best_cc.squeeze()/best_cc_shuff_mean.squeeze(), bins=100,density=False,color='gray',\n",
    "        label='All genes');\n",
    "plt.hist(best_cc.squeeze()[sig]/best_cc_shuff_mean.squeeze()[sig], bins=100,density=False,color='red',\n",
    "        label='Significant');\n",
    "# plt.hist(best_cc, bins=np.arange(0,1,0.02),density=True,color='red',label='Data',alpha=0.5);\n",
    "# plt.hist(best_cc[sig], bins=np.arange(0,1,0.01),density=True,color='r',label='Significant');\n",
    "plt.xlabel('Correlation/(Mean of shuffled)')\n",
    "plt.ylabel('Density of genes')\n",
    "plt.legend()\n",
    "\n",
    "plt.savefig('Plots/GenesCorr_%s_%s' % (features_use, today))"
   ]
  },
  {
   "cell_type": "code",
   "execution_count": null,
   "metadata": {},
   "outputs": [],
   "source": [
    "# Show examples of most correlated genes\n",
    "show = np.argsort(best_cc)[:10]\n",
    "sig[show]"
   ]
  },
  {
   "cell_type": "code",
   "execution_count": null,
   "metadata": {},
   "outputs": [],
   "source": [
    "def f_mcg(x):\n",
    "    m0 = 0.2\n",
    "    out = np.exp(-x/m0)\n",
    "    return out\n",
    "\n",
    "def f_atac(x):\n",
    "    a0 = 0.1\n",
    "    return x + a0"
   ]
  },
  {
   "cell_type": "code",
   "execution_count": null,
   "metadata": {},
   "outputs": [],
   "source": [
    "ml_best = ml_lookup.reshape((ngenes*nenh, ncells))\n",
    "ind = np.ravel_multi_index((np.arange(ngenes), best_enh), (ngenes,nenh))\n",
    "ml_best = ml_best[ind,:]\n",
    "# ml_bestz = zscore(ml_best,axis=1)\n",
    "# yz = zscore(y,axis=1)\n",
    "\n",
    "# plt.plot(ml_bestz[:100,:], yz[:100,:],'.');\n",
    "ml_best.shape, best_enh\n",
    "ml_lookup[0,7,:]"
   ]
  },
  {
   "cell_type": "code",
   "execution_count": null,
   "metadata": {},
   "outputs": [],
   "source": [
    "x = np.random.randn(5,10)\n",
    "x = np.pad(x,((0,0),(0,0),(1,0)),constant_values=1)\n",
    "y = np.random.randn(5,10)\n",
    "\n",
    "def my_regress(x,y):\n",
    "#     b =  np.dot(np.linalg.pinv(np.dot(x,x.T)),np.dot(x,y.T))\n",
    "    b =  np.linalg.pinv(np.dot(x,x.T)) * np.dot(x,y.T)\n",
    "    print(x.shape, np.dot(x,x.T).shape, np.dot(x,y.T).shape)\n",
    "    return b\n",
    "\n",
    "my_regress(x,y)\n",
    "?np.tensordot"
   ]
  },
  {
   "cell_type": "code",
   "execution_count": null,
   "metadata": {},
   "outputs": [],
   "source": [
    "N_enh = np.zeros((ngenes,1))\n",
    "mdl_score = np.zeros((ngenes,1))\n",
    "mdl_score_shuff = np.zeros((ngenes,1))\n",
    "y = np.zeros((ngenes,ncells))\n",
    "yhat = np.zeros((ngenes,ncells))\n",
    "yhat_shuff = np.zeros((ngenes,ncells))\n",
    "t0 = time.time()\n",
    "rand_cells = np.random.permutation(np.arange(ncells))\n",
    "\n",
    "do_shuffle = False\n",
    "for ensid in np.arange(ngenes):\n",
    "#     try:\n",
    "    data = get_data_index([ensid])\n",
    "    x = data['epi'].copy()\n",
    "#     x = f_atac(x[:,:,:,1]) \n",
    "#     x += np.random.randn(*x.shape)*0.00001 # Add a small noise term to avoid NaN in the zscore\n",
    "    x = f_mcg(x[:,:,:,0]) * f_atac(x[:,:,:,1])\n",
    "    x = x.squeeze().T\n",
    "\n",
    "    x = zscore(x, axis=0)\n",
    "    data['y'] = zscore(data['y'].T).T\n",
    "\n",
    "    # Regress rna against x\n",
    "    mdlf = mdl.fit(x, data['y'].T)\n",
    "    nenh = x.shape[1]\n",
    "    W_enh_gene[ensid,:nenh] = mdlf.coef_\n",
    "    N_enh[ensid] = nenh\n",
    "    mdl_score[ensid] = mdlf.score(x, data['y'].T)\n",
    "    y[ensid,:] = data['y']\n",
    "    yhat[ensid,:] = mdlf.predict(x)\n",
    "\n",
    "    # Shuffled\n",
    "    data['y'] = data['y'][0,rand_cells]\n",
    "    mdlf = mdl.fit(x, data['y'].T)\n",
    "    mdl_score_shuff[ensid] = mdlf.score(x, data['y'].T)\n",
    "    yhat_shuff[ensid,:] = mdlf.predict(x)\n",
    "#     except:\n",
    "#         print('Failed %d' % ensid)\n",
    "    \n",
    "print(time.time()-t0)"
   ]
  },
  {
   "cell_type": "code",
   "execution_count": null,
   "metadata": {},
   "outputs": [],
   "source": [
    "# LASSO\n",
    "from sklearn import linear_model\n",
    "from scipy.stats import zscore\n",
    "\n",
    "ngenes = rna_lookup.shape[0]\n",
    "ncells = rna_lookup.shape[1]\n",
    "lasso_alpha = 0.02\n",
    "mdl = linear_model.Lasso(alpha=lasso_alpha, random_state=0)\n",
    "W_enh_gene = np.zeros((ngenes,ml_lookup.shape[1]))\n",
    "N_enh = np.zeros((ngenes,1))\n",
    "mdl_score = np.zeros((ngenes,1))\n",
    "mdl_score_shuff = np.zeros((ngenes,1))\n",
    "y = np.zeros((ngenes,ncells))\n",
    "yhat = np.zeros((ngenes,ncells))\n",
    "yhat_shuff = np.zeros((ngenes,ncells))\n",
    "t0 = time.time()\n",
    "rand_cells = np.random.permutation(np.arange(ncells))\n",
    "\n",
    "do_shuffle = False\n",
    "for ensid in np.arange(ngenes):\n",
    "#     try:\n",
    "    data = get_data_index([ensid])\n",
    "    x = data['epi'].copy()\n",
    "#     x = f_atac(x[:,:,:,1]) \n",
    "#     x += np.random.randn(*x.shape)*0.00001 # Add a small noise term to avoid NaN in the zscore\n",
    "    x = f_mcg(x[:,:,:,0]) * f_atac(x[:,:,:,1])\n",
    "    x = x.squeeze().T\n",
    "\n",
    "    x = zscore(x, axis=0)\n",
    "    data['y'] = zscore(data['y'].T).T\n",
    "\n",
    "    # Regress rna against x\n",
    "    mdlf = mdl.fit(x, data['y'].T)\n",
    "    nenh = x.shape[1]\n",
    "    W_enh_gene[ensid,:nenh] = mdlf.coef_\n",
    "    N_enh[ensid] = nenh\n",
    "    mdl_score[ensid] = mdlf.score(x, data['y'].T)\n",
    "    y[ensid,:] = data['y']\n",
    "    yhat[ensid,:] = mdlf.predict(x)\n",
    "\n",
    "    # Shuffled\n",
    "    data['y'] = data['y'][0,rand_cells]\n",
    "    mdlf = mdl.fit(x, data['y'].T)\n",
    "    mdl_score_shuff[ensid] = mdlf.score(x, data['y'].T)\n",
    "    yhat_shuff[ensid,:] = mdlf.predict(x)\n",
    "#     except:\n",
    "#         print('Failed %d' % ensid)\n",
    "    \n",
    "print(time.time()-t0)"
   ]
  },
  {
   "cell_type": "code",
   "execution_count": null,
   "metadata": {},
   "outputs": [],
   "source": [
    "# plt.hist(mdl_score, bins=100);\n",
    "W_nenh = (np.abs(W_enh_gene)>0).sum(axis=1)\n",
    "W_pct_nenh = W_nenh / N_enh.squeeze()\n",
    "W_nenh.shape, N_enh.shape, W_pct_nenh.shape\n",
    "\n",
    "fig, axs = plt.subplots(1,3, figsize=(20,5), sharey=False)\n",
    "plt.sca(axs[0])\n",
    "plt.plot(W_pct_nenh, mdl_score, '.')\n",
    "plt.xlabel('Fraction of enhancers used')\n",
    "plt.ylabel('Model score')\n",
    "\n",
    "plt.sca(axs[1])\n",
    "plt.plot(W_nenh+0.1, mdl_score, '.')\n",
    "# plt.xscale('log')\n",
    "plt.xlabel('Num. of enhancers used')\n",
    "\n",
    "plt.sca(axs[2])\n",
    "plt.loglog(y+1e-5, yhat+1e-5, '.');\n",
    "plt.grid()"
   ]
  },
  {
   "cell_type": "code",
   "execution_count": null,
   "metadata": {
    "scrolled": true
   },
   "outputs": [],
   "source": [
    "plt.plot(mdl_score, mdl_score_shuff, '.')\n",
    "plt.plot([0,1],[0,1],'k')\n",
    "plt.xlabel('R-squared for data')\n",
    "plt.ylabel('R-squared for shuffled data')\n",
    "plt.grid()"
   ]
  },
  {
   "cell_type": "code",
   "execution_count": null,
   "metadata": {},
   "outputs": [],
   "source": [
    "from scipy.stats import spearmanr \n",
    "cc = [spearmanr(y[:,i], yhat[:,i])[0] for i in range(ncells)]\n",
    "cc_shuff = [spearmanr(y[:,i], yhat_shuff[:,i])[0] for i in range(ncells)]\n",
    "plt.plot(cc)\n",
    "plt.plot(cc_shuff)\n",
    "plt.xlabel('Cell type')\n",
    "plt.ylabel('Spearman correlation')"
   ]
  },
  {
   "cell_type": "code",
   "execution_count": null,
   "metadata": {},
   "outputs": [],
   "source": [
    "from scipy.stats import spearmanr \n",
    "cc = [spearmanr(y[:,i], yhat[:,i])[0] for i in range(ncells)]\n",
    "plt.plot(cc)"
   ]
  },
  {
   "cell_type": "code",
   "execution_count": null,
   "metadata": {},
   "outputs": [],
   "source": [
    "mdl_scorei = np.argsort(mdl_score.squeeze())[::-1]\n",
    "mdl_scorei[:5]\n",
    "for ensid in mdl_scorei[:5]:\n",
    "    data = get_data_index([ensid])\n",
    "    x = data['epi'].copy()\n",
    "    x = f_mcg(x[:,:,:,0]) * f_atac(x[:,:,:,1])\n",
    "    x = x.squeeze().T\n",
    "    \n",
    "    # Regress rna against x\n",
    "    mdlf = mdl.fit(x, data['y'].T)\n",
    "    yhat = mdlf.predict(x)\n",
    "    curr_nw = (mdlf.coef_!=0).sum()\n",
    "    curr_gene = genes.loc[rnau.index[ensid],'gene']\n",
    "    plt.loglog(data['y'].T, yhat, '.', label='%s (%d)' % (curr_gene,curr_nw))\n",
    "plt.grid()\n",
    "plt.legend()"
   ]
  },
  {
   "cell_type": "code",
   "execution_count": null,
   "metadata": {},
   "outputs": [],
   "source": [
    "mdlf.coef_.shape"
   ]
  },
  {
   "cell_type": "code",
   "execution_count": null,
   "metadata": {},
   "outputs": [],
   "source": []
  },
  {
   "cell_type": "code",
   "execution_count": null,
   "metadata": {},
   "outputs": [],
   "source": []
  },
  {
   "cell_type": "code",
   "execution_count": null,
   "metadata": {},
   "outputs": [],
   "source": []
  },
  {
   "cell_type": "code",
   "execution_count": null,
   "metadata": {},
   "outputs": [],
   "source": []
  },
  {
   "cell_type": "code",
   "execution_count": null,
   "metadata": {},
   "outputs": [],
   "source": [
    "today=datetime.datetime.today().strftime('%d-%m-%Y')\n",
    "fn_load_prefix = 'RegressData/Regress_data_9868genes_21cells_'\n",
    "fn_id = len(glob.glob('./RegressEnh*.pt'))+1 # Generate a unique ID for this run\n",
    "fn_save = 'RegressEnh%0.4d_%s_N_%d_%d.%s.pt' % (fn_id, ('UseKmers' if use_kmers else 'NoKmers'), N1,N2,today)\n",
    "fn_save, fn_id"
   ]
  },
  {
   "cell_type": "code",
   "execution_count": null,
   "metadata": {},
   "outputs": [],
   "source": [
    "Nc = ml_lookup.shape[2]\n",
    "def get_data_index(ensid_index):\n",
    "    # For a list of ensids, return the x and y features\n",
    "    Ng = len(ensid_index)\n",
    "    mlu = ml_lookup[ensid_index,:,:] # Ngenes x Ne x Nc\n",
    "    atacu = atac_lookup[ensid_index,:,:]\n",
    "    if use_kmers:\n",
    "        nz = np.max([len(kmeri_lookup[x]) for x in ensid_index])\n",
    "        kmeru = np.zeros((Ng,nz,1,Nk))\n",
    "        for i,ens in enumerate(ensid_index):\n",
    "            kmeru[i,:len(kmeri_lookup[ens]),0,:] = kmer_countsu[kmeri_lookup[ens],:]\n",
    "        kmeru = np.broadcast_to(kmeru, (Ng,nz,Nc,Nk))\n",
    "    else:\n",
    "        nz = np.sum((np.sum(atacu>0,axis=(0,2))+np.sum(mlu>0,axis=(0,2)))>0)\n",
    "        kmeru = None\n",
    "\n",
    "    # Keep only the enhancers that have data\n",
    "    mlu = mlu[:,:nz,:,np.newaxis]\n",
    "    atacu = atacu[:,:nz,:,np.newaxis]\n",
    "\n",
    "    epi = np.concatenate((mlu,atacu),axis=3)\n",
    "    y = rna_lookup[ensid_index,:]\n",
    "\n",
    "#     # Test: add y to the input features\n",
    "#     x[:,:,:,0] = y[:,np.newaxis,:]\n",
    "    \n",
    "#     # Testing:\n",
    "#     for c in range(Nc):\n",
    "#         y[:,c] = y[:,c]*0+c+0.123\n",
    "    \n",
    "    epi = torch.tensor(epi, dtype=torch.float)\n",
    "    kmeru = torch.tensor(kmeru, dtype=torch.float)\n",
    "    y = torch.tensor(y, dtype=torch.float)\n",
    "    \n",
    "    return {'epi': epi, 'kmers': kmeru, 'y': y}"
   ]
  },
  {
   "cell_type": "code",
   "execution_count": null,
   "metadata": {},
   "outputs": [],
   "source": [
    "Nc = ml_lookup.shape[2]\n",
    "\n",
    "# Define a class for the NN architecture\n",
    "class Net(nn.Module):\n",
    "    def __init__(self):\n",
    "        super(Net, self).__init__()\n",
    "        \n",
    "        self.fc1_kmers = nn.Linear(Nk, N1);\n",
    "        self.fc1_epi = nn.Linear(2, N1);\n",
    "        self.fc2 = nn.Linear(3*N1, N2);\n",
    "        self.fc3 = nn.Linear(N2, 1);\n",
    "        \n",
    "    def forward(self, epi, kmers):\n",
    "        if kmers.shape[0]>1:\n",
    "            x = F.relu(self.fc1_kmers(kmers) + self.fc1_epi(epi)) # In: N x Eg x C x (2+K), Out: N x Eg x C x N1\n",
    "        else:\n",
    "            x = F.relu(self.fc1_epi(epi))\n",
    "\n",
    "        # Collapse across enhancers in different ways\n",
    "        xmax = torch.max(x, 1)[0]       # Out: N x C x N1\n",
    "        xmean = torch.mean(x, 1)       # Out: N x C x N1\n",
    "        xsum = torch.sum(x, 1)/10000       # Out: N x C x N1\n",
    "        x = torch.cat((xmax,xmean,xsum),2) # Out: N x C x 3*N1\n",
    "\n",
    "        x = F.relu(self.fc2(x))       # Out: N x C x N2\n",
    "#         x = torch.reshape(x,(-1,N2*Nc)) # Out: N x C\n",
    "#         x = self.fc3(x)\n",
    "        x = self.fc3(x)\n",
    "        x = torch.reshape(x,(-1,Nc))\n",
    "        \n",
    "        return x"
   ]
  },
  {
   "cell_type": "code",
   "execution_count": null,
   "metadata": {},
   "outputs": [],
   "source": [
    "# Initialize\n",
    "def myinit():\n",
    "    global net, optimizer, criterion, scheduler, loss_test, loss_train, test, train, ensids\n",
    "    net = Net()\n",
    "    net.to(device)\n",
    "\n",
    "    # Initialize the kmer weights to 0 and turn off learning\n",
    "    net.fc1_kmers.requires_grad_(False)\n",
    "    net.fc1_kmers.weight.fill_(0)\n",
    "    net.fc1_kmers.bias.fill_(0)\n",
    "    \n",
    "    criterion = nn.MSELoss(reduction='sum')\n",
    "    optimizer = optim.Adam(net.parameters(), lr=lr)\n",
    "    scheduler = optim.lr_scheduler.ReduceLROnPlateau(optimizer, factor=0.25)\n",
    "    \n",
    "    loss_test=np.array([])\n",
    "    loss_train = np.array([])\n",
    "\n",
    "    # Train/Test split\n",
    "    test = [c in ['chr10','chr12','chr14'] for c in rnau.join(genes)['chr']];\n",
    "    train = [not i for i in test]\n",
    "\n",
    "    test = np.random.permutation(np.nonzero(test)[0]).squeeze()\n",
    "    train = np.random.permutation(np.nonzero(train)[0]).squeeze()\n",
    "    ensids = rnau.index.values\n",
    "    return\n",
    "\n",
    "def train_epoch(epoch, phase=2):\n",
    "    nsamp = 0\n",
    "    running_loss = 0.0\n",
    "    running_time = 0.0\n",
    "    net.train()\n",
    "    t0train = time.time()\n",
    "    for i in range(0, len(train), batch_size):\n",
    "        tstart = time.time()\n",
    "        indices = train[i:i+batch_size]\n",
    "\n",
    "        # Input should be of size: (batch, channels, samples)\n",
    "        batch_data = get_data_index(indices)\n",
    "        batch_epi = batch_data['epi']\n",
    "        batch_kmers = batch_data['kmers'] if phase==2 else torch.tensor([0.0])\n",
    "        batch_y = batch_data['y']\n",
    "\n",
    "        # Send training data to CUDA\n",
    "        if device is not \"cpu\":\n",
    "            batch_epi = batch_epi.to(device)\n",
    "            batch_kmers = batch_kmers.to(device)\n",
    "            batch_y = batch_y.to(device)\n",
    "\n",
    "        # zero the parameter gradients\n",
    "        optimizer.zero_grad()\n",
    "\n",
    "        # forward + backward + optimize\n",
    "        outputs = net(batch_epi, batch_kmers)\n",
    "        loss = criterion(outputs, batch_y)\n",
    "        loss.backward()\n",
    "        optimizer.step()\n",
    "        \n",
    "        running_loss += loss.item()\n",
    "        running_time += time.time()-tstart\n",
    "        nsamp += len(indices)\n",
    "        if (time.time()-t0train)>5:\n",
    "            print('Epoch %d, i=%d/%d, LR=%3.5g, loss=%3.8f, t=%3.3f, %3.5f s/sample' % (epoch, i, len(train), \n",
    "                                                                                        optimizer.state_dict()['param_groups'][0]['lr'],\n",
    "                                                                                        running_loss/nsamp, running_time, running_time/nsamp))\n",
    "            t0train=time.time()\n",
    "\n",
    "    return running_loss/nsamp\n",
    "\n",
    "def test_epoch(epoch, phase=2):\n",
    "    \n",
    "    net.eval()\n",
    "    running_loss_test = 0.0\n",
    "    nsamp = 0\n",
    "    yyhat = {'y':[], 'yhat':[]}\n",
    "    for i in range(0, len(test), batch_size):\n",
    "        indices = test[i:i+batch_size]\n",
    "\n",
    "        # Input should be of size: (batch, channels, samples)\n",
    "        batch_data = get_data_index(indices)\n",
    "        batch_epi = batch_data['epi']\n",
    "        batch_kmers = batch_data['kmers'] if phase==2 else torch.tensor([0.0])\n",
    "        batch_y = batch_data['y']\n",
    "\n",
    "        # Send training data to CUDA\n",
    "        if device is not \"cpu\":\n",
    "            batch_epi = batch_epi.to(device)\n",
    "            batch_kmers = batch_kmers.to(device)\n",
    "            batch_y = batch_y.to(device)\n",
    "\n",
    "        # forward + backward + optimize\n",
    "        outputs = net(batch_epi, batch_kmers)\n",
    "        loss = criterion(outputs, batch_y)\n",
    "        running_loss_test += loss.item()\n",
    "        nsamp += len(indices)\n",
    "\n",
    "        yyhat['yhat'].append(outputs.detach().cpu().numpy())\n",
    "        yyhat['y'].append(batch_y.detach().cpu().numpy())\n",
    "\n",
    "    return running_loss_test/nsamp\n"
   ]
  },
  {
   "cell_type": "code",
   "execution_count": null,
   "metadata": {},
   "outputs": [],
   "source": [
    "# %load_ext line_profiler\n",
    "# batch_size = 2\n",
    "# %lprun -f get_data_index testfn()"
   ]
  },
  {
   "cell_type": "code",
   "execution_count": null,
   "metadata": {
    "scrolled": true
   },
   "outputs": [],
   "source": [
    "# # %lprun -f get_data_index testfn()\n",
    "# for batch_size in 2**np.arange(0,10):\n",
    "#     print(batch_size)\n",
    "#     myinit()\n",
    "    \n",
    "#     net.train()\n",
    "#     %time testfn()"
   ]
  },
  {
   "cell_type": "code",
   "execution_count": null,
   "metadata": {},
   "outputs": [],
   "source": [
    "def test_net(indices):\n",
    "    net.eval()\n",
    "    yyhat = {'y':[], 'yhat':[]}\n",
    "    for i in range(0, len(indices), batch_size):\n",
    "        i = indices[i:i+batch_size]\n",
    "\n",
    "        # Input should be of size: (batch, channels, samples)\n",
    "        batch_data = get_data_index(i)\n",
    "        batch_epi = batch_data['epi']\n",
    "        batch_kmers = batch_data['kmers']\n",
    "        batch_y = batch_data['y']\n",
    "\n",
    "        # Send training data to CUDA\n",
    "        if device is not \"cpu\":\n",
    "            batch_epi = batch_epi.to(device)\n",
    "            batch_kmers = batch_kmers.to(device)\n",
    "\n",
    "        outputs = net(batch_epi, batch_kmers)\n",
    "        \n",
    "        yyhat['yhat'].append(outputs.detach().cpu().numpy())\n",
    "        yyhat['y'].append(batch_y.numpy())\n",
    "    yyhat['yhat'] = np.concatenate(yyhat['yhat'],axis=0)\n",
    "    yyhat['y'] = np.concatenate(yyhat['y'],axis=0)\n",
    "    \n",
    "    cc = np.zeros((Nc,1))\n",
    "    for i in range(yyhat['y'].shape[1]):\n",
    "        cc[i,0] = np.corrcoef(yyhat['y'][:,i], yyhat['yhat'][:,i])[0,1]    \n",
    "\n",
    "    return yyhat, cc\n",
    "\n",
    "def make_plot1(save=False):\n",
    "    plt.figure(figsize=(15,4))\n",
    "    plt.clf()\n",
    "    plt.subplot(1,3,1)\n",
    "    plt.semilogx(loss_train[2:],'o-',label='Train')\n",
    "    plt.plot(loss_test[2:],'o-',label='Test')\n",
    "    plt.legend()\n",
    "    plt.xlabel('Epochs')\n",
    "    plt.ylabel('Loss')\n",
    "    plt.title(fn_save)\n",
    "\n",
    "    plt.subplot(1,3,2)\n",
    "    plt.plot(yyhat_test['y'].T, yyhat_test['yhat'].T,'.');\n",
    "    plt.plot([0,3],[0,3],'k--')\n",
    "    plt.xlabel('True RNA expression')\n",
    "    plt.ylabel('Estimated RNA expression')\n",
    "\n",
    "    plt.subplot(1,3,3)\n",
    "    try:\n",
    "        ccu = np.stack(train_hist['cc'],axis=2)\n",
    "        plt.plot(train_hist['epoch'], ccu[:,0,:].mean(axis=0), 'ko-', label='train')\n",
    "        plt.plot(train_hist['epoch'], ccu[:,1,:].mean(axis=0), 'ro-', label='test')\n",
    "\n",
    "        plt.ylabel('Correlation coef.')\n",
    "        plt.xlabel('Epoch')\n",
    "        plt.legend()\n",
    "    except:\n",
    "        print('Skipping cc plot')\n",
    "        \n",
    "    if save:\n",
    "        fn_plot = 'Plots/'+fn_save.replace('.torch','')+'_corrcoef.png'\n",
    "        plt.savefig(fn_plot)\n",
    "        print('Saved plot: '+fn_plot)\n",
    "    plt.show();\n",
    "        \n",
    "def make_plot2(save=False):\n",
    "    plt.figure(figsize=(20,20))\n",
    "    for i in range(Nc):\n",
    "        plt.subplot(5,6,i+1)\n",
    "        plt.plot([0,2],[0,2],'k--')\n",
    "        plt.plot(yyhat_train['y'][:,i], yyhat_train['yhat'][:,i],'.');\n",
    "        plt.plot(yyhat_test['y'][:,i], yyhat_test['yhat'][:,i],'.');\n",
    "    #     cc = np.corrcoef(yyhat['y'][:,i], yyhat['yhat'][:,i])[0,1]\n",
    "        plt.title('r=%3.3f train/%3.3f test' % (cc[i,0], cc[i,1]))\n",
    "    if save:\n",
    "        fn_plot='Plots/'+fn_save.replace('.torch','')+'_scatter.png'\n",
    "        plt.savefig(fn_plot)\n",
    "        print('Saved plot: '+fn_plot)\n",
    "    plt.show();\n"
   ]
  },
  {
   "cell_type": "code",
   "execution_count": null,
   "metadata": {},
   "outputs": [],
   "source": [
    "myinit()"
   ]
  },
  {
   "cell_type": "code",
   "execution_count": null,
   "metadata": {},
   "outputs": [],
   "source": [
    "num_epochs1, num_epochs2 = 0, 200;\n",
    "\n",
    "t0 = time.time()\n",
    "batch_size = 2\n",
    "train_hist = {'epoch': [], 'cc': []}\n",
    "train_sample = random.sample(train.tolist(), 500)\n",
    "\n",
    "for epoch in range(num_epochs1):  # loop over the dataset multiple times\n",
    "    new_loss_train = train_epoch(epoch, phase=1);\n",
    "    loss_train = np.append(loss_train, new_loss_train)\n",
    "    \n",
    "    new_loss_test = test_epoch(epoch, phase=1);\n",
    "    loss_test = np.append(loss_test,new_loss_test)\n",
    "    scheduler.step(new_loss_test)\n",
    "\n",
    "    print('**** Phase1 epoch %d, LR=%3.5g, loss_train=%3.8f, loss_test=%3.8f, time = %3.5f s/epoch' % (epoch, \n",
    "                    optimizer.param_groups[0]['lr'],\n",
    "                    loss_train[-1], \n",
    "                    loss_test[-1], \n",
    "                    (time.time()-t0))\n",
    "         )\n",
    "\n",
    "    if (time.time()-t0)>20 or (epoch==num_epochs1-1):        \n",
    "        torch.save({\n",
    "                'epoch': epoch,\n",
    "                'model_state_dict': net.state_dict(),\n",
    "                'optimizer_state_dict': optimizer.state_dict(),\n",
    "                'loss_train': loss_train,\n",
    "                'loss_test': loss_test,\n",
    "                }, fn_save)\n",
    "        print('Saved data: %s' % fn_save)\n",
    "        \n",
    "        if (epoch>0):            \n",
    "            cc = np.zeros((Nc,2))\n",
    "            yyhat_train, cc[:,[0]] = test_net(train_sample)\n",
    "            yyhat_test, cc[:,[1]] = test_net(test)\n",
    "            display.clear_output(wait=True)\n",
    "            make_plot1(save=True)\n",
    "#             make_plot2(save=True)  \n",
    "            display.display(plt.gcf())\n",
    "        t0=time.time()\n",
    "        \n",
    "        train_hist['epoch'].append(epoch)\n",
    "        train_hist['cc'].append(cc)\n"
   ]
  },
  {
   "cell_type": "code",
   "execution_count": null,
   "metadata": {},
   "outputs": [],
   "source": [
    "batch_size = 2\n",
    "t0 = time.time()\n",
    "\n",
    "# Turn on the learning for kmers\n",
    "net.fc1_kmers.requires_grad_(True)\n",
    "# Reset the learning rate for the optimizer\n",
    "optimizer = optim.Adam(net.parameters(), lr=lr) \n",
    "scheduler = optim.lr_scheduler.ReduceLROnPlateau(optimizer, factor=0.25)\n",
    "\n",
    "for epoch in np.arange(num_epochs1, num_epochs2+num_epochs1):  # loop over the dataset multiple times\n",
    "    new_loss_train = train_epoch(epoch);\n",
    "    loss_train = np.append(loss_train,new_loss_train)\n",
    "    \n",
    "    new_loss_test = test_epoch(epoch);\n",
    "    loss_test = np.append(loss_test,new_loss_test)\n",
    "    scheduler.step(new_loss_test)\n",
    "\n",
    "\n",
    "    print('**** Phase2 epoch %d, LR=%3.5g, loss_train=%3.8f, loss_test=%3.8f, time = %3.5f s/epoch' % (epoch, \n",
    "                    optimizer.param_groups[0]['lr'],\n",
    "                    loss_train[-1], \n",
    "                    loss_test[-1], \n",
    "                    (time.time()-t0))\n",
    "         )\n",
    "\n",
    "    if (time.time()-t0)>20 or (epoch==num_epochs2-1):        \n",
    "        if (epoch>1):            \n",
    "            cc = np.zeros((Nc,2))\n",
    "            yyhat_train, cc[:,[0]] = test_net(train_sample)\n",
    "            yyhat_test, cc[:,[1]] = test_net(test)\n",
    "            display.clear_output(wait=True)\n",
    "            display.clear_output(wait=True)\n",
    "            make_plot1(save=True)\n",
    "#             make_plot2(save=True)  \n",
    "            display.display(plt.gcf())\n",
    "            t0=time.time()\n",
    "        torch.save({\n",
    "                'epoch': epoch,\n",
    "                'model_state_dict': net.state_dict(),\n",
    "                'optimizer_state_dict': optimizer.state_dict(),\n",
    "                'loss_train': loss_train,\n",
    "                'loss_test': loss_test,\n",
    "                }, fn_save)\n",
    "        print('Saved data: %s' % fn_save)  \n",
    "        \n",
    "        train_hist['epoch'].append(epoch)\n",
    "        train_hist['cc'].append(cc)\n"
   ]
  },
  {
   "cell_type": "code",
   "execution_count": null,
   "metadata": {},
   "outputs": [],
   "source": [
    "break"
   ]
  },
  {
   "cell_type": "code",
   "execution_count": null,
   "metadata": {},
   "outputs": [],
   "source": [
    "batch_size = 2;\n",
    "cc = np.zeros((Nc,2))\n",
    "yyhat_train, cc[:,[0]] = test_net(random.sample(train.tolist(), 500))\n",
    "yyhat_test, cc[:,[1]] = test_net(test)\n",
    "make_plot1(save=True)\n",
    "make_plot2(save=True)  "
   ]
  },
  {
   "cell_type": "code",
   "execution_count": null,
   "metadata": {},
   "outputs": [],
   "source": [
    "break\n",
    "# N = 64 x 32\n",
    "# **** Epoch 39, LR=1e-05, loss_train=0.00182151, loss_test=0.00199540, time = 0.15510 s/epoch\n",
    "# **** Epoch 0, LR=0.002, loss_train=6.51633886, loss_test=5.99391724, time = 19.92587 s/epoch\n",
    "\n",
    "# N = 32 x 8\n",
    "# **** Epoch 53, LR=1e-07, loss_train=0.00180459, loss_test=0.00203680, time = 0.12214 s/epoch\n",
    "# **** Epoch 71, LR=0.00025, loss_train=0.00172845, loss_test=0.00188889, time = 0.09076 s/epoch\n",
    "\n",
    "\n",
    "# N = 32 x 16\n",
    "# **** Epoch 85, LR=0.000, loss_train=0.00167278, loss_test=0.00183274, time = 0.07683 s/epoch\n",
    "# **** Epoch 65, LR=1e-06, loss_train=0.00168914, loss_test=0.00189639, time = 0.09208 s/epoch\n",
    "# **** Epoch 53, LR=5e-07, loss_train=0.00172672, loss_test=0.00198197, time = 0.10991 s/epoch\n",
    "# **** Epoch 58, LR=0.0005, loss_train=0.00167136, loss_test=0.00189098, time = 0.11401 s/epoch\n",
    "\n",
    "# N = 16 x 8\n",
    "# **** Epoch 53, LR=1e-05, loss_train=0.00177558, loss_test=0.00194236, time = 0.11628 s/epoch\n",
    "\n",
    "# N = 4 x 4\n",
    "# **** Epoch 66, LR=1.5625e-05, loss_train=0.00180230, loss_test=0.00197317, time = 0.09088 s/epoch\n"
   ]
  },
  {
   "cell_type": "code",
   "execution_count": null,
   "metadata": {},
   "outputs": [],
   "source": [
    "optimizer.param_groups[0]['lr']"
   ]
  },
  {
   "cell_type": "code",
   "execution_count": null,
   "metadata": {},
   "outputs": [],
   "source": [
    "2"
   ]
  },
  {
   "cell_type": "code",
   "execution_count": null,
   "metadata": {},
   "outputs": [],
   "source": []
  }
 ],
 "metadata": {
  "kernelspec": {
   "display_name": "Python 3",
   "language": "python",
   "name": "python3"
  },
  "language_info": {
   "codemirror_mode": {
    "name": "ipython",
    "version": 3
   },
   "file_extension": ".py",
   "mimetype": "text/x-python",
   "name": "python",
   "nbconvert_exporter": "python",
   "pygments_lexer": "ipython3",
   "version": "3.7.1"
  }
 },
 "nbformat": 4,
 "nbformat_minor": 4
}
