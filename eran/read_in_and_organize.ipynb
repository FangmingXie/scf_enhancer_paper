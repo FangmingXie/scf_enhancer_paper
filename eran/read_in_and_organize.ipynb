{
 "cells": [
  {
   "cell_type": "markdown",
   "metadata": {},
   "source": [
    "# Data Files\n",
    "enhancer_by_clstatac_by_gene.pkl : 10 nearest enhancers, by 28 clusters, by 19736 genes\n"
   ]
  },
  {
   "cell_type": "markdown",
   "metadata": {},
   "source": [
    "enhancer_by_clstmcg_by_gene.pkl - "
   ]
  },
  {
   "cell_type": "markdown",
   "metadata": {},
   "source": [
    "enhancer_by_kmer_by_gene.pkl - "
   ]
  },
  {
   "cell_type": "markdown",
   "metadata": {},
   "source": [
    "rna_for_y_values.tsv - "
   ]
  },
  {
   "cell_type": "markdown",
   "metadata": {},
   "source": [
    "### Packages for reading files"
   ]
  },
  {
   "cell_type": "code",
   "execution_count": 1,
   "metadata": {},
   "outputs": [],
   "source": [
    "import pandas as pd\n",
    "import numpy as np\n",
    "import pickle"
   ]
  },
  {
   "cell_type": "code",
   "execution_count": null,
   "metadata": {},
   "outputs": [],
   "source": []
  }
 ],
 "metadata": {
  "kernelspec": {
   "display_name": "Python 3",
   "language": "python",
   "name": "python3"
  },
  "language_info": {
   "codemirror_mode": {
    "name": "ipython",
    "version": 3
   },
   "file_extension": ".py",
   "mimetype": "text/x-python",
   "name": "python",
   "nbconvert_exporter": "python",
   "pygments_lexer": "ipython3",
   "version": "3.7.3"
  }
 },
 "nbformat": 4,
 "nbformat_minor": 2
}
